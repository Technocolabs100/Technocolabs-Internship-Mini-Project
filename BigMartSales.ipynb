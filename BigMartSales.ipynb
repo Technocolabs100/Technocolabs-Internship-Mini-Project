{
  "cells": [
    {
      "cell_type": "markdown",
      "metadata": {
        "id": "z5FeJvRPDenK"
      },
      "source": [
        "# Big Mart Sales Dataset"
      ]
    },
    {
      "cell_type": "markdown",
      "source": [
        "**Source** : [Big Mark Sales Prediction](https://shahyaseen71.gitbook.io/technocolabs-mini-project/your-task)\n",
        "\n",
        "![image](data:image/jpeg;base64,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)"
      ],
      "metadata": {
        "id": "USu-EyM6hftv"
      }
    },
    {
      "cell_type": "markdown",
      "metadata": {
        "id": "8Tu7obQODenW"
      },
      "source": [
        "## Objective: To find out the properties of a product, and store which impacts the sales of a product."
      ]
    },
    {
      "cell_type": "markdown",
      "source": [
        "### Problem Statement\n",
        "The data scientists at BigMart have collected 2013 sales data for 1559 products across 10 stores in different cities. Also, certain attributes of each product and store have been defined. The aim of this data science project is to build a predictive model and find out the sales of each product at a particular store.\n",
        "Using this model, BigMart will try to understand the properties of products and stores which play a key role in increasing sales."
      ],
      "metadata": {
        "id": "ZfKTfRuzfFTJ"
      }
    },
    {
      "cell_type": "markdown",
      "source": [
        "### Importing Libraries\n",
        "\n"
      ],
      "metadata": {
        "id": "2BFCwAeWixmD"
      }
    },
    {
      "cell_type": "code",
      "execution_count": 59,
      "metadata": {
        "id": "MG3rpCMSDenX"
      },
      "outputs": [],
      "source": [
        "import pandas as pd\n",
        "import numpy as np\n",
        "import matplotlib.pyplot as plt\n",
        "%matplotlib inline\n",
        "import seaborn as sns\n",
        "import plotly.express as px"
      ]
    },
    {
      "cell_type": "code",
      "execution_count": 4,
      "metadata": {
        "id": "XP4H65CvDenc"
      },
      "outputs": [],
      "source": [
        "train = pd.read_csv(\"Train.csv\")\n",
        "test = pd.read_csv(\"Test.csv\")"
      ]
    },
    {
      "cell_type": "code",
      "execution_count": 5,
      "metadata": {
        "colab": {
          "base_uri": "https://localhost:8080/"
        },
        "id": "N5Z1jktvDend",
        "outputId": "f2cf9870-ead6-4117-e78e-da0614b17e61"
      },
      "outputs": [
        {
          "output_type": "stream",
          "name": "stdout",
          "text": [
            "(8523, 13) (5681, 19) (14204, 20)\n"
          ]
        }
      ],
      "source": [
        "#Combine test and train into one file\n",
        "train['source']='train'\n",
        "test['source']='test'\n",
        "data = pd.concat([train, test],ignore_index=True)\n",
        "print(train.shape, test.shape, data.shape)"
      ]
    },
    {
      "cell_type": "code",
      "execution_count": 6,
      "metadata": {
        "colab": {
          "base_uri": "https://localhost:8080/",
          "height": 374
        },
        "id": "T5Py0B_tDeng",
        "outputId": "6ed58e7d-a3ab-471a-d969-ca6f95685c42"
      },
      "outputs": [
        {
          "output_type": "execute_result",
          "data": {
            "text/plain": [
              "  Item_Identifier  Item_Weight Item_Fat_Content  Item_Visibility  \\\n",
              "0           FDA15         9.30          Low Fat         0.016047   \n",
              "1           DRC01         5.92          Regular         0.019278   \n",
              "2           FDN15        17.50          Low Fat         0.016760   \n",
              "3           FDX07        19.20          Regular         0.000000   \n",
              "4           NCD19         8.93          Low Fat         0.000000   \n",
              "\n",
              "               Item_Type  Item_MRP Outlet_Identifier  \\\n",
              "0                  Dairy  249.8092            OUT049   \n",
              "1            Soft Drinks   48.2692            OUT018   \n",
              "2                   Meat  141.6180            OUT049   \n",
              "3  Fruits and Vegetables  182.0950            OUT010   \n",
              "4              Household   53.8614            OUT013   \n",
              "\n",
              "   Outlet_Establishment_Year Outlet_Size Outlet_Location_Type  \\\n",
              "0                       1999      Medium               Tier 1   \n",
              "1                       2009      Medium               Tier 3   \n",
              "2                       1999      Medium               Tier 1   \n",
              "3                       1998         NaN               Tier 3   \n",
              "4                       1987        High               Tier 3   \n",
              "\n",
              "         Outlet_Type  Item_Outlet_Sales source  Unnamed: 11  Unnamed: 12  \\\n",
              "0  Supermarket Type1          3735.1380  train          NaN          NaN   \n",
              "1  Supermarket Type2           443.4228  train          NaN          NaN   \n",
              "2  Supermarket Type1          2097.2700  train          NaN          NaN   \n",
              "3      Grocery Store           732.3800  train          NaN          NaN   \n",
              "4  Supermarket Type1           994.7052  train          NaN          NaN   \n",
              "\n",
              "   Unnamed: 13  Unnamed: 14  Unnamed: 15  Unnamed: 16 Unnamed: 17  \n",
              "0          NaN          NaN          NaN          NaN         NaN  \n",
              "1          NaN          NaN          NaN          NaN         NaN  \n",
              "2          NaN          NaN          NaN          NaN         NaN  \n",
              "3          NaN          NaN          NaN          NaN         NaN  \n",
              "4          NaN          NaN          NaN          NaN         NaN  "
            ],
            "text/html": [
              "\n",
              "  <div id=\"df-199bca95-c1cf-4feb-bb15-a67efdd331f7\">\n",
              "    <div class=\"colab-df-container\">\n",
              "      <div>\n",
              "<style scoped>\n",
              "    .dataframe tbody tr th:only-of-type {\n",
              "        vertical-align: middle;\n",
              "    }\n",
              "\n",
              "    .dataframe tbody tr th {\n",
              "        vertical-align: top;\n",
              "    }\n",
              "\n",
              "    .dataframe thead th {\n",
              "        text-align: right;\n",
              "    }\n",
              "</style>\n",
              "<table border=\"1\" class=\"dataframe\">\n",
              "  <thead>\n",
              "    <tr style=\"text-align: right;\">\n",
              "      <th></th>\n",
              "      <th>Item_Identifier</th>\n",
              "      <th>Item_Weight</th>\n",
              "      <th>Item_Fat_Content</th>\n",
              "      <th>Item_Visibility</th>\n",
              "      <th>Item_Type</th>\n",
              "      <th>Item_MRP</th>\n",
              "      <th>Outlet_Identifier</th>\n",
              "      <th>Outlet_Establishment_Year</th>\n",
              "      <th>Outlet_Size</th>\n",
              "      <th>Outlet_Location_Type</th>\n",
              "      <th>Outlet_Type</th>\n",
              "      <th>Item_Outlet_Sales</th>\n",
              "      <th>source</th>\n",
              "      <th>Unnamed: 11</th>\n",
              "      <th>Unnamed: 12</th>\n",
              "      <th>Unnamed: 13</th>\n",
              "      <th>Unnamed: 14</th>\n",
              "      <th>Unnamed: 15</th>\n",
              "      <th>Unnamed: 16</th>\n",
              "      <th>Unnamed: 17</th>\n",
              "    </tr>\n",
              "  </thead>\n",
              "  <tbody>\n",
              "    <tr>\n",
              "      <th>0</th>\n",
              "      <td>FDA15</td>\n",
              "      <td>9.30</td>\n",
              "      <td>Low Fat</td>\n",
              "      <td>0.016047</td>\n",
              "      <td>Dairy</td>\n",
              "      <td>249.8092</td>\n",
              "      <td>OUT049</td>\n",
              "      <td>1999</td>\n",
              "      <td>Medium</td>\n",
              "      <td>Tier 1</td>\n",
              "      <td>Supermarket Type1</td>\n",
              "      <td>3735.1380</td>\n",
              "      <td>train</td>\n",
              "      <td>NaN</td>\n",
              "      <td>NaN</td>\n",
              "      <td>NaN</td>\n",
              "      <td>NaN</td>\n",
              "      <td>NaN</td>\n",
              "      <td>NaN</td>\n",
              "      <td>NaN</td>\n",
              "    </tr>\n",
              "    <tr>\n",
              "      <th>1</th>\n",
              "      <td>DRC01</td>\n",
              "      <td>5.92</td>\n",
              "      <td>Regular</td>\n",
              "      <td>0.019278</td>\n",
              "      <td>Soft Drinks</td>\n",
              "      <td>48.2692</td>\n",
              "      <td>OUT018</td>\n",
              "      <td>2009</td>\n",
              "      <td>Medium</td>\n",
              "      <td>Tier 3</td>\n",
              "      <td>Supermarket Type2</td>\n",
              "      <td>443.4228</td>\n",
              "      <td>train</td>\n",
              "      <td>NaN</td>\n",
              "      <td>NaN</td>\n",
              "      <td>NaN</td>\n",
              "      <td>NaN</td>\n",
              "      <td>NaN</td>\n",
              "      <td>NaN</td>\n",
              "      <td>NaN</td>\n",
              "    </tr>\n",
              "    <tr>\n",
              "      <th>2</th>\n",
              "      <td>FDN15</td>\n",
              "      <td>17.50</td>\n",
              "      <td>Low Fat</td>\n",
              "      <td>0.016760</td>\n",
              "      <td>Meat</td>\n",
              "      <td>141.6180</td>\n",
              "      <td>OUT049</td>\n",
              "      <td>1999</td>\n",
              "      <td>Medium</td>\n",
              "      <td>Tier 1</td>\n",
              "      <td>Supermarket Type1</td>\n",
              "      <td>2097.2700</td>\n",
              "      <td>train</td>\n",
              "      <td>NaN</td>\n",
              "      <td>NaN</td>\n",
              "      <td>NaN</td>\n",
              "      <td>NaN</td>\n",
              "      <td>NaN</td>\n",
              "      <td>NaN</td>\n",
              "      <td>NaN</td>\n",
              "    </tr>\n",
              "    <tr>\n",
              "      <th>3</th>\n",
              "      <td>FDX07</td>\n",
              "      <td>19.20</td>\n",
              "      <td>Regular</td>\n",
              "      <td>0.000000</td>\n",
              "      <td>Fruits and Vegetables</td>\n",
              "      <td>182.0950</td>\n",
              "      <td>OUT010</td>\n",
              "      <td>1998</td>\n",
              "      <td>NaN</td>\n",
              "      <td>Tier 3</td>\n",
              "      <td>Grocery Store</td>\n",
              "      <td>732.3800</td>\n",
              "      <td>train</td>\n",
              "      <td>NaN</td>\n",
              "      <td>NaN</td>\n",
              "      <td>NaN</td>\n",
              "      <td>NaN</td>\n",
              "      <td>NaN</td>\n",
              "      <td>NaN</td>\n",
              "      <td>NaN</td>\n",
              "    </tr>\n",
              "    <tr>\n",
              "      <th>4</th>\n",
              "      <td>NCD19</td>\n",
              "      <td>8.93</td>\n",
              "      <td>Low Fat</td>\n",
              "      <td>0.000000</td>\n",
              "      <td>Household</td>\n",
              "      <td>53.8614</td>\n",
              "      <td>OUT013</td>\n",
              "      <td>1987</td>\n",
              "      <td>High</td>\n",
              "      <td>Tier 3</td>\n",
              "      <td>Supermarket Type1</td>\n",
              "      <td>994.7052</td>\n",
              "      <td>train</td>\n",
              "      <td>NaN</td>\n",
              "      <td>NaN</td>\n",
              "      <td>NaN</td>\n",
              "      <td>NaN</td>\n",
              "      <td>NaN</td>\n",
              "      <td>NaN</td>\n",
              "      <td>NaN</td>\n",
              "    </tr>\n",
              "  </tbody>\n",
              "</table>\n",
              "</div>\n",
              "      <button class=\"colab-df-convert\" onclick=\"convertToInteractive('df-199bca95-c1cf-4feb-bb15-a67efdd331f7')\"\n",
              "              title=\"Convert this dataframe to an interactive table.\"\n",
              "              style=\"display:none;\">\n",
              "        \n",
              "  <svg xmlns=\"http://www.w3.org/2000/svg\" height=\"24px\"viewBox=\"0 0 24 24\"\n",
              "       width=\"24px\">\n",
              "    <path d=\"M0 0h24v24H0V0z\" fill=\"none\"/>\n",
              "    <path d=\"M18.56 5.44l.94 2.06.94-2.06 2.06-.94-2.06-.94-.94-2.06-.94 2.06-2.06.94zm-11 1L8.5 8.5l.94-2.06 2.06-.94-2.06-.94L8.5 2.5l-.94 2.06-2.06.94zm10 10l.94 2.06.94-2.06 2.06-.94-2.06-.94-.94-2.06-.94 2.06-2.06.94z\"/><path d=\"M17.41 7.96l-1.37-1.37c-.4-.4-.92-.59-1.43-.59-.52 0-1.04.2-1.43.59L10.3 9.45l-7.72 7.72c-.78.78-.78 2.05 0 2.83L4 21.41c.39.39.9.59 1.41.59.51 0 1.02-.2 1.41-.59l7.78-7.78 2.81-2.81c.8-.78.8-2.07 0-2.86zM5.41 20L4 18.59l7.72-7.72 1.47 1.35L5.41 20z\"/>\n",
              "  </svg>\n",
              "      </button>\n",
              "      \n",
              "  <style>\n",
              "    .colab-df-container {\n",
              "      display:flex;\n",
              "      flex-wrap:wrap;\n",
              "      gap: 12px;\n",
              "    }\n",
              "\n",
              "    .colab-df-convert {\n",
              "      background-color: #E8F0FE;\n",
              "      border: none;\n",
              "      border-radius: 50%;\n",
              "      cursor: pointer;\n",
              "      display: none;\n",
              "      fill: #1967D2;\n",
              "      height: 32px;\n",
              "      padding: 0 0 0 0;\n",
              "      width: 32px;\n",
              "    }\n",
              "\n",
              "    .colab-df-convert:hover {\n",
              "      background-color: #E2EBFA;\n",
              "      box-shadow: 0px 1px 2px rgba(60, 64, 67, 0.3), 0px 1px 3px 1px rgba(60, 64, 67, 0.15);\n",
              "      fill: #174EA6;\n",
              "    }\n",
              "\n",
              "    [theme=dark] .colab-df-convert {\n",
              "      background-color: #3B4455;\n",
              "      fill: #D2E3FC;\n",
              "    }\n",
              "\n",
              "    [theme=dark] .colab-df-convert:hover {\n",
              "      background-color: #434B5C;\n",
              "      box-shadow: 0px 1px 3px 1px rgba(0, 0, 0, 0.15);\n",
              "      filter: drop-shadow(0px 1px 2px rgba(0, 0, 0, 0.3));\n",
              "      fill: #FFFFFF;\n",
              "    }\n",
              "  </style>\n",
              "\n",
              "      <script>\n",
              "        const buttonEl =\n",
              "          document.querySelector('#df-199bca95-c1cf-4feb-bb15-a67efdd331f7 button.colab-df-convert');\n",
              "        buttonEl.style.display =\n",
              "          google.colab.kernel.accessAllowed ? 'block' : 'none';\n",
              "\n",
              "        async function convertToInteractive(key) {\n",
              "          const element = document.querySelector('#df-199bca95-c1cf-4feb-bb15-a67efdd331f7');\n",
              "          const dataTable =\n",
              "            await google.colab.kernel.invokeFunction('convertToInteractive',\n",
              "                                                     [key], {});\n",
              "          if (!dataTable) return;\n",
              "\n",
              "          const docLinkHtml = 'Like what you see? Visit the ' +\n",
              "            '<a target=\"_blank\" href=https://colab.research.google.com/notebooks/data_table.ipynb>data table notebook</a>'\n",
              "            + ' to learn more about interactive tables.';\n",
              "          element.innerHTML = '';\n",
              "          dataTable['output_type'] = 'display_data';\n",
              "          await google.colab.output.renderOutput(dataTable, element);\n",
              "          const docLink = document.createElement('div');\n",
              "          docLink.innerHTML = docLinkHtml;\n",
              "          element.appendChild(docLink);\n",
              "        }\n",
              "      </script>\n",
              "    </div>\n",
              "  </div>\n",
              "  "
            ]
          },
          "metadata": {},
          "execution_count": 6
        }
      ],
      "source": [
        "data.head()"
      ]
    },
    {
      "cell_type": "code",
      "execution_count": 7,
      "metadata": {
        "colab": {
          "base_uri": "https://localhost:8080/",
          "height": 300
        },
        "id": "Lda0opyDDenh",
        "outputId": "1df363fc-b352-44da-c519-9c47fe543364"
      },
      "outputs": [
        {
          "output_type": "execute_result",
          "data": {
            "text/plain": [
              "        Item_Weight  Item_Visibility      Item_MRP  Outlet_Establishment_Year  \\\n",
              "count  11765.000000     14204.000000  14204.000000               14204.000000   \n",
              "mean      12.792854         0.065953    141.004977                1997.830681   \n",
              "std        4.652502         0.051459     62.086938                   8.371664   \n",
              "min        4.555000         0.000000     31.290000                1985.000000   \n",
              "25%        8.710000         0.027036     94.012000                1987.000000   \n",
              "50%       12.600000         0.054021    142.247000                1999.000000   \n",
              "75%       16.750000         0.094037    185.855600                2004.000000   \n",
              "max       21.350000         0.328391    266.888400                2009.000000   \n",
              "\n",
              "       Item_Outlet_Sales  Unnamed: 11  Unnamed: 12  Unnamed: 13  Unnamed: 14  \\\n",
              "count        8523.000000          0.0          0.0          0.0          0.0   \n",
              "mean         2181.288914          NaN          NaN          NaN          NaN   \n",
              "std          1706.499616          NaN          NaN          NaN          NaN   \n",
              "min            33.290000          NaN          NaN          NaN          NaN   \n",
              "25%           834.247400          NaN          NaN          NaN          NaN   \n",
              "50%          1794.331000          NaN          NaN          NaN          NaN   \n",
              "75%          3101.296400          NaN          NaN          NaN          NaN   \n",
              "max         13086.964800          NaN          NaN          NaN          NaN   \n",
              "\n",
              "       Unnamed: 15  Unnamed: 16  \n",
              "count          0.0          0.0  \n",
              "mean           NaN          NaN  \n",
              "std            NaN          NaN  \n",
              "min            NaN          NaN  \n",
              "25%            NaN          NaN  \n",
              "50%            NaN          NaN  \n",
              "75%            NaN          NaN  \n",
              "max            NaN          NaN  "
            ],
            "text/html": [
              "\n",
              "  <div id=\"df-dd2d3eac-27be-41bc-95f2-1a98f0739266\">\n",
              "    <div class=\"colab-df-container\">\n",
              "      <div>\n",
              "<style scoped>\n",
              "    .dataframe tbody tr th:only-of-type {\n",
              "        vertical-align: middle;\n",
              "    }\n",
              "\n",
              "    .dataframe tbody tr th {\n",
              "        vertical-align: top;\n",
              "    }\n",
              "\n",
              "    .dataframe thead th {\n",
              "        text-align: right;\n",
              "    }\n",
              "</style>\n",
              "<table border=\"1\" class=\"dataframe\">\n",
              "  <thead>\n",
              "    <tr style=\"text-align: right;\">\n",
              "      <th></th>\n",
              "      <th>Item_Weight</th>\n",
              "      <th>Item_Visibility</th>\n",
              "      <th>Item_MRP</th>\n",
              "      <th>Outlet_Establishment_Year</th>\n",
              "      <th>Item_Outlet_Sales</th>\n",
              "      <th>Unnamed: 11</th>\n",
              "      <th>Unnamed: 12</th>\n",
              "      <th>Unnamed: 13</th>\n",
              "      <th>Unnamed: 14</th>\n",
              "      <th>Unnamed: 15</th>\n",
              "      <th>Unnamed: 16</th>\n",
              "    </tr>\n",
              "  </thead>\n",
              "  <tbody>\n",
              "    <tr>\n",
              "      <th>count</th>\n",
              "      <td>11765.000000</td>\n",
              "      <td>14204.000000</td>\n",
              "      <td>14204.000000</td>\n",
              "      <td>14204.000000</td>\n",
              "      <td>8523.000000</td>\n",
              "      <td>0.0</td>\n",
              "      <td>0.0</td>\n",
              "      <td>0.0</td>\n",
              "      <td>0.0</td>\n",
              "      <td>0.0</td>\n",
              "      <td>0.0</td>\n",
              "    </tr>\n",
              "    <tr>\n",
              "      <th>mean</th>\n",
              "      <td>12.792854</td>\n",
              "      <td>0.065953</td>\n",
              "      <td>141.004977</td>\n",
              "      <td>1997.830681</td>\n",
              "      <td>2181.288914</td>\n",
              "      <td>NaN</td>\n",
              "      <td>NaN</td>\n",
              "      <td>NaN</td>\n",
              "      <td>NaN</td>\n",
              "      <td>NaN</td>\n",
              "      <td>NaN</td>\n",
              "    </tr>\n",
              "    <tr>\n",
              "      <th>std</th>\n",
              "      <td>4.652502</td>\n",
              "      <td>0.051459</td>\n",
              "      <td>62.086938</td>\n",
              "      <td>8.371664</td>\n",
              "      <td>1706.499616</td>\n",
              "      <td>NaN</td>\n",
              "      <td>NaN</td>\n",
              "      <td>NaN</td>\n",
              "      <td>NaN</td>\n",
              "      <td>NaN</td>\n",
              "      <td>NaN</td>\n",
              "    </tr>\n",
              "    <tr>\n",
              "      <th>min</th>\n",
              "      <td>4.555000</td>\n",
              "      <td>0.000000</td>\n",
              "      <td>31.290000</td>\n",
              "      <td>1985.000000</td>\n",
              "      <td>33.290000</td>\n",
              "      <td>NaN</td>\n",
              "      <td>NaN</td>\n",
              "      <td>NaN</td>\n",
              "      <td>NaN</td>\n",
              "      <td>NaN</td>\n",
              "      <td>NaN</td>\n",
              "    </tr>\n",
              "    <tr>\n",
              "      <th>25%</th>\n",
              "      <td>8.710000</td>\n",
              "      <td>0.027036</td>\n",
              "      <td>94.012000</td>\n",
              "      <td>1987.000000</td>\n",
              "      <td>834.247400</td>\n",
              "      <td>NaN</td>\n",
              "      <td>NaN</td>\n",
              "      <td>NaN</td>\n",
              "      <td>NaN</td>\n",
              "      <td>NaN</td>\n",
              "      <td>NaN</td>\n",
              "    </tr>\n",
              "    <tr>\n",
              "      <th>50%</th>\n",
              "      <td>12.600000</td>\n",
              "      <td>0.054021</td>\n",
              "      <td>142.247000</td>\n",
              "      <td>1999.000000</td>\n",
              "      <td>1794.331000</td>\n",
              "      <td>NaN</td>\n",
              "      <td>NaN</td>\n",
              "      <td>NaN</td>\n",
              "      <td>NaN</td>\n",
              "      <td>NaN</td>\n",
              "      <td>NaN</td>\n",
              "    </tr>\n",
              "    <tr>\n",
              "      <th>75%</th>\n",
              "      <td>16.750000</td>\n",
              "      <td>0.094037</td>\n",
              "      <td>185.855600</td>\n",
              "      <td>2004.000000</td>\n",
              "      <td>3101.296400</td>\n",
              "      <td>NaN</td>\n",
              "      <td>NaN</td>\n",
              "      <td>NaN</td>\n",
              "      <td>NaN</td>\n",
              "      <td>NaN</td>\n",
              "      <td>NaN</td>\n",
              "    </tr>\n",
              "    <tr>\n",
              "      <th>max</th>\n",
              "      <td>21.350000</td>\n",
              "      <td>0.328391</td>\n",
              "      <td>266.888400</td>\n",
              "      <td>2009.000000</td>\n",
              "      <td>13086.964800</td>\n",
              "      <td>NaN</td>\n",
              "      <td>NaN</td>\n",
              "      <td>NaN</td>\n",
              "      <td>NaN</td>\n",
              "      <td>NaN</td>\n",
              "      <td>NaN</td>\n",
              "    </tr>\n",
              "  </tbody>\n",
              "</table>\n",
              "</div>\n",
              "      <button class=\"colab-df-convert\" onclick=\"convertToInteractive('df-dd2d3eac-27be-41bc-95f2-1a98f0739266')\"\n",
              "              title=\"Convert this dataframe to an interactive table.\"\n",
              "              style=\"display:none;\">\n",
              "        \n",
              "  <svg xmlns=\"http://www.w3.org/2000/svg\" height=\"24px\"viewBox=\"0 0 24 24\"\n",
              "       width=\"24px\">\n",
              "    <path d=\"M0 0h24v24H0V0z\" fill=\"none\"/>\n",
              "    <path d=\"M18.56 5.44l.94 2.06.94-2.06 2.06-.94-2.06-.94-.94-2.06-.94 2.06-2.06.94zm-11 1L8.5 8.5l.94-2.06 2.06-.94-2.06-.94L8.5 2.5l-.94 2.06-2.06.94zm10 10l.94 2.06.94-2.06 2.06-.94-2.06-.94-.94-2.06-.94 2.06-2.06.94z\"/><path d=\"M17.41 7.96l-1.37-1.37c-.4-.4-.92-.59-1.43-.59-.52 0-1.04.2-1.43.59L10.3 9.45l-7.72 7.72c-.78.78-.78 2.05 0 2.83L4 21.41c.39.39.9.59 1.41.59.51 0 1.02-.2 1.41-.59l7.78-7.78 2.81-2.81c.8-.78.8-2.07 0-2.86zM5.41 20L4 18.59l7.72-7.72 1.47 1.35L5.41 20z\"/>\n",
              "  </svg>\n",
              "      </button>\n",
              "      \n",
              "  <style>\n",
              "    .colab-df-container {\n",
              "      display:flex;\n",
              "      flex-wrap:wrap;\n",
              "      gap: 12px;\n",
              "    }\n",
              "\n",
              "    .colab-df-convert {\n",
              "      background-color: #E8F0FE;\n",
              "      border: none;\n",
              "      border-radius: 50%;\n",
              "      cursor: pointer;\n",
              "      display: none;\n",
              "      fill: #1967D2;\n",
              "      height: 32px;\n",
              "      padding: 0 0 0 0;\n",
              "      width: 32px;\n",
              "    }\n",
              "\n",
              "    .colab-df-convert:hover {\n",
              "      background-color: #E2EBFA;\n",
              "      box-shadow: 0px 1px 2px rgba(60, 64, 67, 0.3), 0px 1px 3px 1px rgba(60, 64, 67, 0.15);\n",
              "      fill: #174EA6;\n",
              "    }\n",
              "\n",
              "    [theme=dark] .colab-df-convert {\n",
              "      background-color: #3B4455;\n",
              "      fill: #D2E3FC;\n",
              "    }\n",
              "\n",
              "    [theme=dark] .colab-df-convert:hover {\n",
              "      background-color: #434B5C;\n",
              "      box-shadow: 0px 1px 3px 1px rgba(0, 0, 0, 0.15);\n",
              "      filter: drop-shadow(0px 1px 2px rgba(0, 0, 0, 0.3));\n",
              "      fill: #FFFFFF;\n",
              "    }\n",
              "  </style>\n",
              "\n",
              "      <script>\n",
              "        const buttonEl =\n",
              "          document.querySelector('#df-dd2d3eac-27be-41bc-95f2-1a98f0739266 button.colab-df-convert');\n",
              "        buttonEl.style.display =\n",
              "          google.colab.kernel.accessAllowed ? 'block' : 'none';\n",
              "\n",
              "        async function convertToInteractive(key) {\n",
              "          const element = document.querySelector('#df-dd2d3eac-27be-41bc-95f2-1a98f0739266');\n",
              "          const dataTable =\n",
              "            await google.colab.kernel.invokeFunction('convertToInteractive',\n",
              "                                                     [key], {});\n",
              "          if (!dataTable) return;\n",
              "\n",
              "          const docLinkHtml = 'Like what you see? Visit the ' +\n",
              "            '<a target=\"_blank\" href=https://colab.research.google.com/notebooks/data_table.ipynb>data table notebook</a>'\n",
              "            + ' to learn more about interactive tables.';\n",
              "          element.innerHTML = '';\n",
              "          dataTable['output_type'] = 'display_data';\n",
              "          await google.colab.output.renderOutput(dataTable, element);\n",
              "          const docLink = document.createElement('div');\n",
              "          docLink.innerHTML = docLinkHtml;\n",
              "          element.appendChild(docLink);\n",
              "        }\n",
              "      </script>\n",
              "    </div>\n",
              "  </div>\n",
              "  "
            ]
          },
          "metadata": {},
          "execution_count": 7
        }
      ],
      "source": [
        "#Numerical data summary:\n",
        "data.describe()"
      ]
    },
    {
      "cell_type": "markdown",
      "source": [
        "# Univariate Analysis"
      ],
      "metadata": {
        "id": "Bu8RIQKuf68o"
      }
    },
    {
      "cell_type": "code",
      "source": [
        "sns.histplot(data=data,x='Item_Weight',bins=20,kde=True)\n",
        "plt.title('Fig-1')"
      ],
      "metadata": {
        "colab": {
          "base_uri": "https://localhost:8080/",
          "height": 490
        },
        "id": "t1tGPtvff6ZW",
        "outputId": "ef2918c2-0ba0-4837-8673-4c2567c1a6da"
      },
      "execution_count": 52,
      "outputs": [
        {
          "output_type": "execute_result",
          "data": {
            "text/plain": [
              "Text(0.5, 1.0, 'Fig-1')"
            ]
          },
          "metadata": {},
          "execution_count": 52
        },
        {
          "output_type": "display_data",
          "data": {
            "text/plain": [
              "<Figure size 640x480 with 1 Axes>"
            ],
            "image/png": "[encoded data removed]"
          },
          "metadata": {}
        }
      ]
    },
    {
      "cell_type": "code",
      "source": [
        "sns.boxplot(data=data,x='Item_Weight')\n",
        "plt.title('Fig-2')"
      ],
      "metadata": {
        "colab": {
          "base_uri": "https://localhost:8080/",
          "height": 490
        },
        "id": "pLqXnyyekFgw",
        "outputId": "a74c539b-af6b-49c9-e1b7-e0888d796a38"
      },
      "execution_count": 57,
      "outputs": [
        {
          "output_type": "execute_result",
          "data": {
            "text/plain": [
              "Text(0.5, 1.0, 'Fig-2')"
            ]
          },
          "metadata": {},
          "execution_count": 57
        },
        {
          "output_type": "display_data",
          "data": {
            "text/plain": [
              "<Figure size 640x480 with 1 Axes>"
            ],
            "image/png": "[encoded data removed]"
          },
          "metadata": {}
        }
      ]
    },
    {
      "cell_type": "code",
      "source": [
        "px.histogram(x=data['Item_Visibility'],title='Fig-5')"
      ],
      "metadata": {
        "colab": {
          "base_uri": "https://localhost:8080/",
          "height": 542
        },
        "id": "mwm3Rvv9lh6j",
        "outputId": "6c596fa4-f084-4e57-9352-8b185de49fe1"
      },
      "execution_count": 78,
      "outputs": [
        {
          "output_type": "display_data",
          "data": {
            "text/html": [
              "<html>\n",
              "<head><meta charset=\"utf-8\" /></head>\n",
              "<body>\n",
              "    <div>            <script src=\"https://cdnjs.cloudflare.com/ajax/libs/mathjax/2.7.5/MathJax.js?config=TeX-AMS-MML_SVG\"></script><script type=\"text/javascript\">if (window.MathJax && window.MathJax.Hub && window.MathJax.Hub.Config) {window.MathJax.Hub.Config({SVG: {font: \"STIX-Web\"}});}</script>                <script type=\"text/javascript\">window.PlotlyConfig = {MathJaxConfig: 'local'};</script>\n",
              "        <script src=\"https://cdn.plot.ly/plotly-2.18.2.min.js\"></script>                <div id=\"a0fb9ba3-0bc3-4426-bd38-aa2c42c88a82\" class=\"plotly-graph-div\" style=\"height:525px; width:100%;\"></div>            <script type=\"text/javascript\">                                    window.PLOTLYENV=window.PLOTLYENV || {};                                    if (document.getElementById(\"a0fb9ba3-0bc3-4426-bd38-aa2c42c88a82\")) {                    Plotly.newPlot(                        \"a0fb9ba3-0bc3-4426-bd38-aa2c42c88a82\",                        [{\"alignmentgroup\":\"True\",\"bingroup\":\"x\",\"hovertemplate\":\"x=%{x}<br>count=%{y}<extra></extra>\",\"legendgroup\":\"\",\"marker\":{\"color\":\"#636efa\",\"pattern\":{\"shape\":\"\"}},\"name\":\"\",\"offsetgroup\":\"\",\"orientation\":\"v\",\"showlegend\":false,\"x\":[0.016047301,0.019278216,0.016760075,0.0,0.0,0.0,0.012741089,0.127469857,0.016687114,0.09444959,0.0,0.045463773,0.1000135,0.047257328,0.0680243,0.069088961,0.008596051,0.069196376,0.034237682,0.10249212,0.138190277,0.035399923,0.025698134,0.057556998,0.025896485,0.099887103,0.066693437,0.019356132,0.161466534,0.072221801,0.170348551,0.080829372,0.0,0.0,0.097904029,0.089291137,0.059511812,0.113123893,0.123111453,0.026480954,0.102511504,0.02681843,0.117818348,0.069102831,0.042277867,0.089498926,0.0,0.025879577,0.121632721,0.255394896,0.067779712,0.159803853,0.028696932,0.065041581,0.028760013,0.010053105,0.048157338,0.071958197,0.173481304,0.061082177,0.0,0.040071131,0.012090074,0.15028599,0.026015519,0.195068226,0.033082215,0.078946455,0.041700756,0.143422643,0.105296072,0.121531501,0.0,0.011324862,0.186357148,0.024205661,0.033230816,0.113720344,0.112556507,0.0,0.059352241,0.014087057,0.045230944,0.293417759,0.031382044,0.12639886,0.025403898,0.039057677,0.123115764,0.039624006,0.040421193,0.105274111,0.033970195,0.053212652,0.024378706,0.009714595,0.131383762,0.07461309,0.028459761,0.074627201,0.063695084,0.045797829,0.115857223,0.024832806,0.034027909,0.0467696,0.116576702,0.0,0.278974075,0.035913805,0.079806266,0.005505481,0.064625342,0.071636937,0.0,0.032677678,0.160760054,0.06911065,0.041177505,0.040081193,0.035307322,0.063017847,0.171938781,0.040197932,0.049058014,0.01161096,0.183507295,0.102349519,0.086708987,0.032835147,0.033809913,0.07266912,0.144338493,0.009163216,0.011307038,0.076855628,0.059956876,0.038532062,0.043209581,0.056816465,0.019866705,0.048331717,0.091221855,0.027622076,0.0,0.039355947,0.060836524,0.082316506,0.155350299,0.076841095,0.151419185,0.026001976,0.073209447,0.041683481,0.042560252,0.014081156,0.0,0.152918384,0.030969274,0.060376776,0.04192285,0.077367431,0.045838211,0.071077939,0.094659871,0.077608838,0.021327477,0.042485444,0.025578526,0.0489808,0.019471688,0.122918852,0.057373797,0.044155597,0.291865402,0.0,0.064750025,0.098312421,0.191013663,0.176573035,0.060134441,0.007294652,0.128478462,0.075107656,0.049381406,0.045165796,0.09415375,0.028907832,0.018059621,0.090436094,0.146399712,0.074264356,0.050186726,0.020631654,0.01561108,0.041395445,0.097313129,0.059582996,0.098663652,0.101338651,0.052146456,0.041764487,0.054344186,0.078362484,0.052339069,0.042464962,0.065732883,0.023625114,0.051643608,0.165694219,0.041878397,0.058091482,0.0,0.026903714,0.0,0.150554711,0.0,0.134975628,0.15616879,0.0,0.133700752,0.115119905,0.110030997,0.051038045,0.062837968,0.017116983,0.024129332,0.049754975,0.0,0.101561568,0.005949644,0.13956116,0.126035694,0.027164679,0.099325278,0.04357366,0.082741482,0.064565202,0.084554569,0.058451805,0.113748685,0.020603511,0.052044976,0.062764429,0.087977262,0.010010425,0.033946163,0.058414678,0.027106459,0.027022883,0.058153409,0.128937661,0.088846306,0.09357779,0.165694678,0.148392623,0.098438394,0.143303291,0.076276208,0.175103435,0.023511371,0.06105276,0.049559042,0.119418124,0.072545601,0.090486828,0.056245075,0.014618973,0.043479126,0.045166237,0.057827101,0.089394766,0.10550944,0.005234153,0.036390174,0.03292824,0.081252534,0.076552407,0.016758569,0.044248175,0.038288087,0.186032678,0.031867464,0.021370201,0.193772568,0.009866049,0.082551042,0.099729888,0.018801549,0.119721451,0.071222087,0.060371962,0.033287541,0.05858462,0.11679292,0.031452265,0.00721395,0.081196619,0.049916364,0.04627095,0.02747716,0.104704537,0.012540003,0.147023834,0.159657596,0.141398626,0.148821808,0.0,0.029691762,0.096715523,0.014790559,0.054378253,0.123428594,0.029943463,0.052368061,0.093861144,0.033968647,0.173154079,0.139735226,0.043351896,0.042086652,0.12848269,0.049357077,0.008326735,0.021362955,0.151420934,0.032511818,0.022323658,0.019292355,0.048124443,0.09261307,0.094697274,0.035984104,0.056596985,0.2047,0.020618324,0.04709821,0.087584126,0.038078899,0.095102092,0.011953902,0.062799379,0.031125709,0.026005891,0.09246392,0.107765165,0.010647477,0.015749341,0.077628053,0.0,0.056695731,0.063993068,0.069529262,0.034452949,0.06670068,0.034699737,0.058346939,0.065203103,0.078929571,0.182514881,0.016895293,0.073379745,0.08075758,0.112271498,0.153741385,0.127929521,0.07838564,0.078502143,0.047684831,0.123159656,0.0,0.053392944,0.036715907,0.065236932,0.041947547,0.082888496,0.055390121,0.012194556,0.060495243,0.0,0.014753811,0.160707489,0.085622362,0.046350909,0.102920886,0.026604781,0.0,0.031860325,0.0,0.021250002,0.159936948,0.129503146,0.142688846,0.179484411,0.089163056,0.105761491,0.056960814,0.00704098,0.011026594,0.093203257,0.026916794,0.035264298,0.015908424,0.017719277,0.035334201,0.065652494,0.056919038,0.048143292,0.022047313,0.090427268,0.027779254,0.0,0.008033611,0.033088472,0.160663021,0.178975721,0.017627888,0.0194158,0.016993225,0.027139013,0.03777249,0.036746479,0.022460102,0.0,0.05213575,0.062508438,0.007309544,0.015623754,0.142978223,0.017191055,0.143592939,0.011995271,0.15717236,0.061393095,0.264124669,0.020310046,0.054630834,0.052517969,0.047565208,0.060797393,0.041291169,0.022604051,0.056580228,0.164196823,0.022976497,0.027310252,0.141975462,0.0,0.01619866,0.014205168,0.09344495,0.019199733,0.154120252,0.089004389,0.011117041,0.103422709,0.089035961,0.102723919,0.024733134,0.044871033,0.029760052,0.078999287,0.020870744,0.031599715,0.042413704,0.072284689,0.009984847,0.052852621,0.014660821,0.076354362,0.076709639,0.005677876,0.0,0.012282366,0.026681262,0.127541722,0.119513002,0.054463442,0.0,0.015756784,0.010907967,0.07543556,0.0,0.115194717,0.066922802,0.064636203,0.103195401,0.13121032,0.035747522,0.192650072,0.098031771,0.030118338,0.016201845,0.05837308,0.087652908,0.065999008,0.088750333,0.100277876,0.099252438,0.0,0.0,0.026384672,0.228993134,0.065431917,0.026749991,0.0,0.043333912,0.089656812,0.039954281,0.087854925,0.149404057,0.0268952,0.065857092,0.161817014,0.082197959,0.015335349,0.00599072,0.013898123,0.078912473,0.059776237,0.0,0.297883712,0.022059594,0.03532494,0.124967595,0.062411404,0.032754431,0.160178832,0.104035148,0.06390019,0.062648111,0.111685868,0.233039817,0.17824575,0.140241213,0.0,0.033935576,0.016516275,0.026537206,0.015673267,0.089083914,0.131152799,0.083109455,0.045818773,0.044869794,0.0,0.04605781,0.030815427,0.01806055,0.035205866,0.076705948,0.089677773,0.132327406,0.065520388,0.012518707,0.050353695,0.110762642,0.045050674,0.083016832,0.0,0.023983258,0.075836522,0.100330684,0.051778173,0.022970468,0.066014596,0.07429945,0.131128467,0.014816356,0.049318315,0.017960492,0.035801238,0.038606365,0.008871687,0.125793938,0.058369013,0.0,0.073269336,0.049677651,0.031470832,0.024579432,0.131665479,0.015523707,0.122475364,0.107891398,0.128065918,0.045361705,0.090390357,0.087029712,0.052054819,0.051952573,0.050786366,0.067141355,0.121485195,0.080640478,0.037699254,0.0,0.034501405,0.053795154,0.044004675,0.0,0.121250374,0.0,0.100230114,0.167383061,0.034404732,0.082719632,0.041913535,0.0132043,0.041105789,0.141106202,0.036463975,0.01946418,0.0,0.123086812,0.105646853,0.118149377,0.046545786,0.065009745,0.016630303,0.134532392,0.083133128,0.039428167,0.0,0.034823127,0.148492521,0.065901299,0.041622264,0.064933297,0.0945493,0.107076832,0.128674983,0.188322664,0.0,0.052025392,0.065316099,0.01516265,0.053584207,0.020989132,0.144017405,0.115978122,0.081465335,0.041177505,0.042352822,0.074541867,0.18454121,0.114160573,0.175352413,0.083590755,0.029471408,0.028282832,0.0,0.008208342,0.03334929,0.076060037,0.014301326,0.074931201,0.080131363,0.167444431,0.03033748,0.04874969,0.014788594,0.111298111,0.05268526,0.018485511,0.184689756,0.064153845,0.092516598,0.104245198,0.041779181,0.07226985,0.179806961,0.044995631,0.053523765,0.041459372,0.036234918,0.105445801,0.0,0.05997133,0.075595405,0.210375806,0.059341019,0.18520944,0.098566832,0.11084417,0.0350152,0.023567538,0.0,0.04792722,0.036207786,0.044377096,0.034742632,0.116915909,0.062979148,0.068604503,0.03294861,0.007450258,0.093027718,0.164864915,0.083498083,0.014522363,0.025963795,0.019012262,0.059393919,0.027212058,0.013263968,0.079113947,0.03020851,0.049634817,0.047187038,0.066681333,0.185218446,0.162462044,0.031273559,0.042836778,0.114127418,0.146895866,0.013420879,0.026181893,0.012184999,0.026428924,0.045243613,0.0,0.076790922,0.045950475,0.133673087,0.060252433,0.082529704,0.082552214,0.089272253,0.072541731,0.017536671,0.072088552,0.092781435,0.008644894,0.025342692,0.031145743,0.0,0.030108283,0.044391149,0.022639471,0.0,0.139419417,0.015278899,0.039329257,0.008579863,0.028164527,0.0,0.054367971,0.0273467,0.016001434,0.165328057,0.013529884,0.030510526,0.027699863,0.09646733,0.011636708,0.141642219,0.044767801,0.028009382,0.1164455,0.013584408,0.026950104,0.054751689,0.076121831,0.058516562,0.037923509,0.058365706,0.031346387,0.015663185,0.063750302,0.07252476,0.038040837,0.049823902,0.014560297,0.026408698,0.069446588,0.03217132,0.026046138,0.121848436,0.108470504,0.0,0.038494623,0.122830885,0.038029746,0.065207559,0.037014587,0.133281968,0.045299563,0.121149472,0.094083303,0.0,0.0,0.035022503,0.016060186,0.009014978,0.096733815,0.102607233,0.024521191,0.160624116,0.052165855,0.0,0.0,0.07753654,0.024928351,0.08071118,0.080968973,0.057485328,0.149669322,0.024776026,0.061165512,0.041718456,0.06100886,0.167799329,0.167351411,0.071832909,0.041886576,0.150341867,0.020542737,0.045047439,0.091008572,0.07549348,0.156286566,0.033735909,0.078547351,0.093653464,0.036107198,0.109003832,0.073480266,0.113234914,0.037711338,0.016054884,0.021170542,0.065188619,0.117537563,0.01430324,0.137697119,0.047008497,0.0,0.060863167,0.0,0.045105407,0.076855207,0.024482644,0.0,0.020474913,0.062044506,0.220225608,0.079794329,0.114916546,0.00597362,0.146973462,0.07376631,0.049349121,0.328390948,0.13267058,0.012455787,0.058142797,0.006289291,0.04929502,0.054362695,0.110356797,0.085274988,0.164542555,0.160292264,0.112859454,0.021569566,0.073055148,0.119345629,0.072334667,0.108148913,0.07585337,0.062655235,0.022278477,0.020961192,0.025993423,0.018838681,0.105577348,0.129086113,0.113125627,0.070699313,0.151467821,0.03616416,0.062606583,0.0704378,0.079844043,0.120139206,0.032028115,0.120497266,0.023492524,0.122657336,0.070588037,0.073024401,0.159587755,0.088821765,0.136810742,0.128682722,0.109459733,0.096644015,0.013120028,0.0,0.048339408,0.08165845,0.04975339,0.030379382,0.065810045,0.0,0.025272781,0.019314961,0.071282168,0.184843579,0.122896411,0.082935004,0.161350176,0.106968096,0.159582185,0.14453827,0.038685802,0.172309903,0.037690731,0.05787008,0.026409147,0.064367627,0.173516063,0.12898088,0.048115543,0.077899109,0.13093275,0.098464979,0.037372847,0.032230526,0.040357315,0.07461309,0.160936178,0.019502354,0.065577449,0.016944719,0.065576228,0.02579577,0.010008699,0.053362086,0.064621927,0.018126724,0.0,0.049263979,0.021343732,0.110681931,0.061955439,0.076483451,0.024701262,0.02671821,0.016597651,0.0514111,0.112985849,0.11411709,0.0,0.175033524,0.020760673,0.061405051,0.026676216,0.029380407,0.025715562,0.065026434,0.066315023,0.023664054,0.154627247,0.205294827,0.152261999,0.0,0.136275173,0.174621343,0.038597077,0.029799965,0.011314423,0.072410764,0.028118435,0.163350221,0.093307713,0.105994654,0.067055339,0.107376743,0.043810028,0.118672537,0.126897925,0.014076503,0.088305478,0.090153756,0.182501773,0.108710162,0.058446424,0.054990009,0.15528831,0.018021361,0.0816559,0.010755465,0.050111641,0.048931174,0.065960909,0.036319195,0.039055756,0.049395242,0.038789271,0.012659235,0.108010006,0.061934991,0.104421237,0.053980686,0.088121336,0.126359196,0.034584356,0.031267496,0.024304264,0.040144377,0.063851475,0.079243005,0.161355122,0.02748331,0.028738058,0.073135768,0.081096613,0.063430788,0.037549969,0.016726506,0.054565932,0.029445361,0.048932713,0.118651919,0.112728355,0.156094569,0.104933928,0.12341737,0.062700289,0.139417654,0.01612717,0.077145553,0.039215075,0.089859642,0.066121873,0.026643448,0.073879939,0.08139146,0.005448005,0.028714747,0.122058364,0.125528734,0.007555176,0.077046505,0.162980276,0.029632784,0.013634468,0.064376263,0.147663025,0.029003459,0.107834541,0.146399663,0.04575559,0.063278652,0.063664998,0.122221269,0.014944614,0.025732114,0.171281641,0.024646608,0.0,0.075661985,0.126765903,0.030563449,0.078522357,0.039294854,0.089260667,0.05510153,0.013127548,0.042233642,0.081492092,0.0,0.14061104,0.072952298,0.069087481,0.075215349,0.047645037,0.122242847,0.076975118,0.070890602,0.132560174,0.044767032,0.007962273,0.058799705,0.186445212,0.098606543,0.125222705,0.062609071,0.009930514,0.099428487,0.103793399,0.0,0.111419588,0.106051405,0.04016342,0.026925385,0.099962524,0.020614212,0.050692386,0.008589133,0.023673342,0.075881475,0.061330521,0.030869612,0.024944396,0.057654132,0.143713508,0.032812669,0.045266806,0.099747488,0.0,0.089742065,0.011351778,0.081096613,0.025827199,0.0,0.148938624,0.0,0.029535852,0.011143599,0.014045832,0.014730322,0.026520107,0.083736551,0.059557164,0.028837829,0.113669629,0.012865901,0.182236555,0.176069023,0.053574075,0.044063785,0.105573769,0.030657949,0.172042892,0.064052392,0.034531702,0.028365524,0.097866209,0.01401884,0.0,0.044539371,0.0,0.0,0.050168354,0.040154087,0.009364957,0.037539164,0.026992588,0.076156245,0.026192765,0.058542509,0.089686322,0.047364617,0.156269303,0.035185588,0.247321039,0.009979271,0.054863459,0.075620262,0.02236923,0.073906461,0.032283676,0.11207602,0.087668236,0.049067877,0.026355345,0.145631695,0.029793955,0.033160417,0.035574413,0.047801883,0.083198341,0.059281315,0.171417316,0.007348286,0.0,0.170795745,0.025966531,0.161489509,0.025899245,0.039906377,0.072864869,0.079419755,0.03050705,0.073490977,0.070843019,0.053688479,0.056911107,0.014472516,0.150319469,0.032750291,0.016622448,0.014482153,0.0,0.025205909,0.037971697,0.039544237,0.111613921,0.140524691,0.045073782,0.043168763,0.020547951,0.113694957,0.097043739,0.058121214,0.07665661,0.035204319,0.089333332,0.0,0.080956792,0.03391645,0.102704495,0.163910938,0.058827383,0.044840933,0.029843736,0.061446997,0.011180713,0.038822077,0.053397989,0.043828293,0.214139786,0.109075742,0.012448294,0.064030636,0.14781046,0.071136948,0.07566089,0.16102755,0.029893094,0.027761289,0.012272797,0.174317307,0.135707553,0.068219025,0.021468792,0.163882129,0.082250143,0.046026479,0.0,0.052149675,0.040911824,0.056235142,0.062170334,0.032427039,0.099309997,0.05310896,0.044843161,0.164966345,0.032435437,0.06961884,0.08165147,0.028723187,0.020994339,0.026561057,0.100262068,0.057012606,0.041009558,0.028578012,0.0,0.045088724,0.018757586,0.056500895,0.024576875,0.188038372,0.015908485,0.075845634,0.098803088,0.227189581,0.041459804,0.032882271,0.049583899,0.02536567,0.07229836,0.022924552,0.040897932,0.127660257,0.008764786,0.011604894,0.038169783,0.018568129,0.062109174,0.038671588,0.077169841,0.041028937,0.013387211,0.017936715,0.223440258,0.0,0.060942632,0.042641788,0.021427082,0.042930789,0.047697859,0.10764721,0.039577173,0.130415118,0.082921642,0.075515154,0.046994717,0.04679836,0.143129124,0.034013539,0.022921735,0.030616757,0.06575528,0.144856342,0.267352587,0.130867413,0.123449671,0.014689006,0.037918142,0.047964395,0.105018817,0.014577412,0.143870574,0.053553794,0.075889215,0.120280989,0.182653772,0.25637539,0.107036943,0.0,0.106238768,0.055545797,0.019386057,0.064921764,0.094694278,0.019554705,0.033060937,0.078181964,0.0,0.100583009,0.136124989,0.021353642,0.115167579,0.113559058,0.038641968,0.157246634,0.010917052,0.033172957,0.058719726,0.0,0.141524348,0.035895934,0.039980644,0.0,0.0,0.054056927,0.009636821,0.086266286,0.033081389,0.043989429,0.047178116,0.074496043,0.039189221,0.115819014,0.129008866,0.160371305,0.085392428,0.038925251,0.041557653,0.060237465,0.091098018,0.117874024,0.030795085,0.063689583,0.184041545,0.13283066,0.020441939,0.037712875,0.013840784,0.060198496,0.008559557,0.061883353,0.052085615,0.039385992,0.064241345,0.006759519,0.167243769,0.01469075,0.013551445,0.105085956,0.017038777,0.038718195,0.075291577,0.0,0.0,0.082085787,0.095931002,0.011448629,0.00879232,0.049167388,0.079046992,0.049580407,0.022399592,0.033926852,0.021617397,0.0814536,0.07607772,0.135775701,0.0,0.076891526,0.128543405,0.014793357,0.066406853,0.007140468,0.020858779,0.123346085,0.159937597,0.067128641,0.042736348,0.172629683,0.007278512,0.0,0.03079807,0.12152072,0.053591345,0.035163639,0.061470858,0.043226398,0.062640143,0.06358394,0.077389797,0.00878535,0.136592891,0.054937907,0.007084185,0.027052013,0.072863893,0.244102315,0.141789197,0.035414528,0.022864238,0.054011943,0.117462619,0.11411658,0.046124444,0.075849167,0.065729039,0.097865088,0.058827583,0.061313057,0.123961415,0.014270394,0.060847634,0.0,0.014103354,0.033901442,0.024454052,0.0,0.096730427,0.097198194,0.066005186,0.030890618,0.028498354,0.033883448,0.066565644,0.169943195,0.0,0.084765192,0.027617046,0.052166995,0.0,0.038460297,0.025789175,0.161301097,0.034640466,0.0,0.064307102,0.076036381,0.071091591,0.187841082,0.043234574,0.026055106,0.109153001,0.08062523,0.0901292,0.098938169,0.0,0.032580547,0.097937252,0.0,0.020391845,0.103813029,0.031069203,0.062294473,0.022914478,0.152058281,0.044991294,0.046214971,0.13312044,0.255348289,0.036879539,0.044202545,0.137858955,0.037668051,0.224837308,0.089069748,0.053027398,0.118099673,0.0,0.137023446,0.026950104,0.0,0.119362812,0.067350054,0.0,0.049712775,0.122208091,0.138742518,0.070780558,0.037492325,0.053527105,0.076164013,0.009995002,0.08259502,0.063122753,0.105597316,0.021863506,0.063800266,0.006012413,0.063207198,0.069809115,0.011660463,0.142410775,0.024226902,0.082440705,0.066918731,0.074390007,0.005530516,0.028579565,0.038705317,0.0,0.108004532,0.023626808,0.070660449,0.078719835,0.046208155,0.012769753,0.048486801,0.132596101,0.128459481,0.161317495,0.011211251,0.114294512,0.031103357,0.085274988,0.066892471,0.078764059,0.036042939,0.04855968,0.082602127,0.064240743,0.031230059,0.100114941,0.22417463,0.035943717,0.06619442,0.071439051,0.108059141,0.026216144,0.085938463,0.008734284,0.049016517,0.111554381,0.030672457,0.077995641,0.085715273,0.056432784,0.066200667,0.245542627,0.0127517,0.077949334,0.064022881,0.182407266,0.136328794,0.016958832,0.068125756,0.02734361,0.034658144,0.0,0.065841719,0.029158763,0.063649582,0.05706009,0.11566015,0.075691713,0.167844438,0.049722335,0.14095631,0.058827557,0.093765794,0.048092816,0.018968743,0.024032484,0.070444232,0.125469442,0.01405025,0.139436695,0.016593506,0.124261614,0.011261165,0.120520818,0.015965308,0.096386227,0.073029341,0.043443753,0.049520593,0.079152918,0.048741487,0.071958197,0.162147349,0.05382735,0.069565759,0.056019324,0.109911272,0.029366813,0.055347985,0.0,0.156926608,0.039405676,0.170176516,0.033777629,0.057546914,0.160095901,0.099832728,0.012717946,0.090278634,0.0,0.009958941,0.032678839,0.0,0.077849003,0.011443222,0.031214809,0.051146565,0.015302653,0.04937018,0.0,0.236433601,0.081372267,0.18329488,0.06358934,0.060792265,0.0,0.098775709,0.270300331,0.119852889,0.034563936,0.031710329,0.074778547,0.013035609,0.046277956,0.0793795,0.073783159,0.01572192,0.033952603,0.105220024,0.095715608,0.046822808,0.0,0.04731256,0.077108099,0.106027474,0.01742908,0.073229342,0.157257637,0.039988162,0.081119484,0.052421981,0.070791391,0.069817659,0.109971578,0.091950972,0.133145617,0.046609281,0.028652919,0.136696892,0.012002075,0.025513973,0.064194304,0.013920032,0.079251097,0.121043709,0.048545853,0.091467933,0.0,0.020916223,0.0,0.104768536,0.020680499,0.123727659,0.163805509,0.065082452,0.182128363,0.01871404,0.159096908,0.103935018,0.029129907,0.128011859,0.119850541,0.073985248,0.027233781,0.079440262,0.060022526,0.02110482,0.181958524,0.058222587,0.054723717,0.066724663,0.144167934,0.052458358,0.139985583,0.099286298,0.037680711,0.168064909,0.090111173,0.136286138,0.125857678,0.067700925,0.112896669,0.173973652,0.0,0.073516952,0.119285634,0.153011599,0.04875891,0.105276162,0.122123201,0.082970667,0.029782937,0.067953506,0.03722507,0.020487625,0.179077475,0.037131628,0.017547958,0.093191195,0.079875237,0.01125332,0.125170423,0.032152004,0.056033565,0.021049215,0.023526504,0.020229757,0.131445848,0.083862625,0.18614827,0.204713036,0.036057562,0.031327839,0.055558509,0.0,0.063863551,0.0,0.0,0.016852909,0.094037241,0.085312137,0.053764023,0.010365546,0.027135522,0.0,0.116148596,0.075363922,0.021496403,0.085931544,0.096806008,0.04778563,0.105725004,0.148764535,0.066997921,0.040938155,0.014661762,0.048213766,0.032761024,0.0,0.025988508,0.026140452,0.025932408,0.098170402,0.119439636,0.059540542,0.044122209,0.081304829,0.081014461,0.006775667,0.03749705,0.086060695,0.020519478,0.061163967,0.07821891,0.14492016,0.062235983,0.030166924,0.016104504,0.01544786,0.037574137,0.106876976,0.32111501,0.061124626,0.127599399,0.029785889,0.0,0.010762387,0.108206497,0.063127333,0.02687089,0.099681705,0.072898645,0.063354531,0.082534287,0.152024355,0.045669236,0.024342578,0.028988288,0.044908404,0.168329848,0.111936685,0.005620213,0.117095014,0.248301532,0.023274107,0.091354948,0.011087128,0.099839365,0.021938404,0.090480206,0.080640478,0.040338009,0.007043008,0.069219165,0.039569689,0.180588082,0.09301462,0.274405193,0.066887123,0.042468413,0.071188446,0.191008614,0.159595473,0.086905536,0.089186387,0.112321218,0.034668802,0.0,0.072592873,0.059889718,0.112402118,0.029529474,0.105736638,0.044291251,0.100388706,0.070556945,0.054599767,0.069560905,0.0,0.021453493,0.016276741,0.056656942,0.072994847,0.165073642,0.017744999,0.047453947,0.171422166,0.021860985,0.023577298,0.043304681,0.177971115,0.106894492,0.127927931,0.081623275,0.051596927,0.067592098,0.054670967,0.012089479,0.021250528,0.05843345,0.05606697,0.029569276,0.0204332,0.055213281,0.1408005,0.047665717,0.059268885,0.084937098,0.008778413,0.0,0.013834247,0.132351411,0.082955719,0.009893817,0.0,0.067940657,0.094161662,0.067107448,0.018321361,0.038756864,0.077254736,0.08630486,0.128876537,0.061163967,0.058220302,0.025519534,0.070133177,0.025947095,0.091688111,0.0,0.165101585,0.059417055,0.036287517,0.037764269,0.024848788,0.162903525,0.016747538,0.147904328,0.079904068,0.040325274,0.06302467,0.021203509,0.098765906,0.012707362,0.04442649,0.121712459,0.030769458,0.014614357,0.076868664,0.140292495,0.070555571,0.061409711,0.066555152,0.092711708,0.017844609,0.025916883,0.053611144,0.207783483,0.122837694,0.141174838,0.069078149,0.089345074,0.058822142,0.071368699,0.068055818,0.150122794,0.030094192,0.076097035,0.025973384,0.0,0.053887301,0.024262772,0.034624104,0.044281996,0.052121825,0.135662712,0.023613955,0.082152451,0.02363057,0.164274416,0.047587685,0.079952983,0.024992442,0.115107028,0.008604657,0.083528446,0.036731658,0.129337594,0.0,0.029827665,0.157718931,0.008046275,0.068753558,0.013199737,0.023971463,0.09468096,0.014394261,0.049396364,0.024243294,0.122469209,0.017730951,0.035016754,0.019417732,0.066358426,0.105265475,0.038736754,0.044991876,0.05696122,0.147255604,0.077319079,0.089135671,0.041373331,0.04403602,0.027041859,0.056782237,0.03922186,0.021581922,0.128206001,0.071301323,0.030765898,0.053730029,0.062350672,0.068163102,0.0,0.015309885,0.106538757,0.061999648,0.051618281,0.076505799,0.013091186,0.022074764,0.079146113,0.096337184,0.142425145,0.0,0.041663111,0.019386234,0.135226962,0.0,0.036729122,0.045380404,0.069587171,0.08573655,0.076681143,0.102055777,0.071856726,0.063054947,0.142383847,0.03150851,0.123620492,0.06375108,0.04461205,0.122204371,0.037764307,0.092437711,0.137807013,0.077292302,0.045763062,0.090558833,0.041703666,0.014098693,0.042008667,0.106933748,0.012663476,0.041387618,0.012148836,0.005935001,0.014047825,0.026375082,0.0,0.052174319,0.0,0.137786856,0.066608487,0.064002068,0.06406438,0.049345425,0.11521312,0.0,0.099991245,0.015334003,0.129170642,0.051908824,0.131770922,0.028984804,0.120211747,0.02076385,0.016006626,0.015766712,0.024536199,0.008046878,0.014653896,0.073794811,0.056830682,0.054618573,0.052141447,0.017360867,0.196438668,0.074743226,0.127792701,0.024358634,0.070431235,0.082930699,0.041330512,0.235354055,0.057746382,0.045337184,0.020374875,0.035568147,0.062797771,0.018096488,0.009613854,0.026645307,0.087753682,0.037657459,0.041091215,0.095195306,0.048686689,0.117091213,0.022940826,0.119339241,0.014075334,0.046336634,0.036641589,0.101176316,0.035737373,0.079376029,0.091054989,0.043852434,0.009620042,0.054939848,0.014675574,0.14526636,0.146662938,0.071786706,0.133424184,0.115799592,0.027579198,0.241055611,0.014332439,0.027133398,0.132876847,0.03315162,0.019536981,0.085258864,0.013179388,0.033592687,0.05346916,0.126831854,0.103603094,0.104840884,0.042056944,0.040049609,0.03075661,0.0,0.03941584,0.024363939,0.131443921,0.058725131,0.122274118,0.067239404,0.021464454,0.112681821,0.039469737,0.061101383,0.014359584,0.016637301,0.159843921,0.061308889,0.055566935,0.026397141,0.034307348,0.074627201,0.041973712,0.080015028,0.10084386,0.055519561,0.012203915,0.130946374,0.041381156,0.04586701,0.036474041,0.039231652,0.013393537,0.031444357,0.014555066,0.082526478,0.080765853,0.17797002,0.03382933,0.11397026,0.038729457,0.032075379,0.196490902,0.146305498,0.026877471,0.005474515,0.064048405,0.032203667,0.017857847,0.041921462,0.024875871,0.028139761,0.073997843,0.020798905,0.052363244,0.098283459,0.012138795,0.0,0.042923652,0.009058845,0.032136417,0.065898197,0.075731322,0.101812521,0.106327251,0.080933328,0.100055601,0.054540159,0.037723476,0.14897741,0.104201019,0.076198809,0.010639596,0.025039776,0.086326707,0.041220035,0.01247354,0.079132212,0.020693809,0.10016525,0.057302606,0.048761046,0.0,0.052149675,0.050130529,0.024987903,0.109990885,0.049736267,0.117026714,0.035121963,0.017311312,0.008811818,0.025583714,0.014353174,0.054220618,0.054410179,0.033974436,0.009996872,0.030212499,0.027217468,0.038123176,0.079506434,0.021811987,0.082150145,0.036012919,0.028167478,0.029560451,0.039631495,0.04280099,0.017141985,0.056394771,0.056379439,0.129534812,0.036439878,0.0,0.090191431,0.30374337,0.022590318,0.082011521,0.122843005,0.05432142,0.049144165,0.040577878,0.067400032,0.012036432,0.073977473,0.143396175,0.03201648,0.058346234,0.14571827,0.055806016,0.072097449,0.117543713,0.048718334,0.0591756,0.031918284,0.095587976,0.019308607,0.023974769,0.100602552,0.091189915,0.077480627,0.129731747,0.103363904,0.020714523,0.062212713,0.031271134,0.026729068,0.094567181,0.05193741,0.126480422,0.055644887,0.028519419,0.027101431,0.067083367,0.020652362,0.081042136,0.021336565,0.029001987,0.069745165,0.068148886,0.144094079,0.186616421,0.105323859,0.022110425,0.019374768,0.014482278,0.087805788,0.048027043,0.055908268,0.048522793,0.032359413,0.088807455,0.046556408,0.050750977,0.035404052,0.130390458,0.074422769,0.105742544,0.046729336,0.073470234,0.058886477,0.18293775,0.020993364,0.029223424,0.068489201,0.043326511,0.136532569,0.018051091,0.23212188,0.057620562,0.045865089,0.021002171,0.029727657,0.080527065,0.0,0.0,0.056833394,0.062256921,0.089512542,0.060427062,0.216323008,0.135612397,0.085125951,0.122565413,0.0,0.077670981,0.043201813,0.088215871,0.036295834,0.186528819,0.099026525,0.0,0.063162608,0.063429818,0.139785104,0.04807227,0.112097433,0.010037996,0.012789884,0.033431669,0.03623131,0.086360962,0.046232445,0.097618234,0.046808553,0.03810738,0.093846532,0.040744057,0.022831052,0.076878416,0.021501067,0.07964724,0.068809463,0.115570552,0.143164371,0.018008071,0.015775777,0.102407778,0.003606726,0.093801337,0.0,0.033760862,0.031131455,0.082177842,0.118858866,0.0,0.105448901,0.046881328,0.078057026,0.140955857,0.107186944,0.153960209,0.093160853,0.05629192,0.15604396,0.044463491,0.00827301,0.030697825,0.0,0.101281,0.012300013,0.0,0.057313443,0.075625152,0.030568919,0.198424841,0.029578726,0.213125482,0.120137953,0.028679894,0.099804623,0.044526443,0.162882227,0.022404493,0.075975642,0.09644909,0.041816615,0.082867689,0.076214289,0.124301968,0.097201128,0.042861968,0.0713931,0.041256807,0.034746076,0.093441604,0.017024598,0.007363189,0.014484582,0.011937183,0.032862976,0.015484763,0.026163192,0.073920438,0.086352403,0.03976832,0.015950066,0.082002559,0.093307668,0.143199389,0.019965179,0.116108797,0.078339081,0.237651344,0.031102571,0.018097419,0.078041216,0.08226356,0.026880159,0.222063351,0.142589751,0.126292985,0.012260981,0.05869048,0.018982338,0.059405152,0.027059264,0.071244438,0.007455054,0.046088273,0.096185556,0.11487406,0.083643716,0.022965292,0.014584584,0.059716729,0.062224479,0.034360687,0.050708743,0.036957777,0.023530953,0.058681957,0.064728148,0.0,0.120773451,0.115911972,0.10985775,0.050853901,0.090295708,0.029084548,0.026769592,0.137580452,0.066816565,0.01179078,0.036921781,0.122742389,0.089971292,0.099186992,0.0,0.036596012,0.041821227,0.016635488,0.090084098,0.008960445,0.162418495,0.056237906,0.071498575,0.009791467,0.072820885,0.073354286,0.068010049,0.087406863,0.030198228,0.024442501,0.033436336,0.039844429,0.055805027,0.047888606,0.065735977,0.076089711,0.020908608,0.030678825,0.111381428,0.039738393,0.01903743,0.06356617,0.112553853,0.013493914,0.118102769,0.06682033,0.040205535,0.038816115,0.076348933,0.032819637,0.096249842,0.0,0.0,0.010003987,0.124452048,0.154363209,0.066551268,0.173703549,0.054025644,0.03523927,0.093385381,0.024937792,0.060654268,0.06912336,0.025953257,0.07884393,0.033851785,0.118342285,0.058121214,0.015457803,0.116152226,0.087260103,0.0111263,0.038167453,0.076547632,0.0,0.074931201,0.0,0.16758389,0.054318517,0.060800116,0.0,0.032152786,0.055840055,0.070968081,0.081996013,0.082737261,0.011206632,0.014047825,0.045982389,0.042256257,0.0,0.056424146,0.170254469,0.084749164,0.014541462,0.091763303,0.069851683,0.039004193,0.05060313,0.113195815,0.134327613,0.054584207,0.018623146,0.093278912,0.086957199,0.13689554,0.090043082,0.014251461,0.035711426,0.043655155,0.108568067,0.090480214,0.027942357,0.041730507,0.099589909,0.294939214,0.008829806,0.067722325,0.060405784,0.0,0.077193561,0.013869039,0.067290244,0.146960375,0.018632082,0.096536082,0.084008316,0.005638944,0.01601936,0.13187274,0.114863923,0.103138922,0.056191301,0.01867669,0.021578923,0.0,0.032242661,0.025962714,0.096407554,0.050256604,0.058234621,0.023931217,0.284065879,0.033692089,0.023417004,0.034647829,0.142219209,0.11089655,0.006708517,0.103419257,0.032180494,0.066717378,0.128814669,0.111500259,0.010497273,0.020653603,0.042687151,0.021705417,0.026651184,0.106968096,0.030686952,0.008191729,0.048218142,0.107036943,0.032381325,0.034043503,0.036027524,0.0,0.02498633,0.115032406,0.068765925,0.006727008,0.016087659,0.0,0.051936086,0.1442339,0.05443912,0.033059299,0.089778187,0.053372768,0.022406575,0.065896556,0.088305201,0.022566975,0.0,0.077756427,0.020609218,0.0,0.013066448,0.135118202,0.030624844,0.092705683,0.042941559,0.03748996,0.025795293,0.046115083,0.053170949,0.082915017,0.082028694,0.076975118,0.045371855,0.028642712,0.017047751,0.042562588,0.181769264,0.016812745,0.0,0.016516867,0.134960397,0.045614252,0.099136036,0.014222617,0.037457098,0.079279489,0.045835395,0.029616108,0.0,0.0576269,0.015687045,0.162960415,0.024651269,0.091195818,0.058542509,0.089608321,0.067766896,0.041355366,0.145913308,0.027748176,0.159201868,0.052274691,0.042175992,0.057933643,0.0,0.026280116,0.086916126,0.075347426,0.040410039,0.09911729,0.053439522,0.023448504,0.108030434,0.024404558,0.010961483,0.026358005,0.03627089,0.137227848,0.144832027,0.029157849,0.058756205,0.141108156,0.024325592,0.121500143,0.160653682,0.109096371,0.069574013,0.027458099,0.092226754,0.234733477,0.014144442,0.056754036,0.023999722,0.041355366,0.024655594,0.081134826,0.052608525,0.084452363,0.033899898,0.058042926,0.119692888,0.0343603,0.100922503,0.016956266,0.092576144,0.025742955,0.029812714,0.133382115,0.0,0.039484739,0.021425341,0.02624324,0.185704641,0.066668724,0.149305497,0.030688557,0.041803291,0.082861686,0.076385385,0.021498768,0.033102681,0.058676973,0.021531416,0.028592842,0.067148407,0.026552056,0.060302689,0.138269873,0.036109859,0.020579897,0.025912378,0.086077865,0.044432887,0.115346634,0.063226306,0.03366718,0.173867958,0.022936488,0.054585372,0.020913071,0.104230135,0.111923422,0.024756031,0.135375727,0.012679226,0.173483253,0.045138797,0.04282359,0.115010655,0.169776346,0.041608488,0.072608647,0.130191993,0.111931193,0.116913245,0.13511877,0.063416566,0.075943184,0.05190652,0.175060504,0.099893424,0.178923163,0.0,0.068765205,0.096906831,0.096862255,0.062528426,0.032621545,0.05190268,0.170246782,0.054610829,0.127517605,0.064271703,0.13030659,0.187841082,0.046625941,0.035410748,0.032250092,0.045378573,0.0926587,0.024222321,0.055518167,0.031946638,0.093983518,0.098822387,0.009410528,0.169139066,0.043122189,0.035769657,0.10361083,0.044974051,0.018920019,0.054142088,0.0,0.124645538,0.110459828,0.013957308,0.056386541,0.012273747,0.090473389,0.083359391,0.112161697,0.128805815,0.090596378,0.056637129,0.083059634,0.014115626,0.076866235,0.099188598,0.021010687,0.057143515,0.052607932,0.070645636,0.014568036,0.073524776,0.046559448,0.309390255,0.039247736,0.040945898,0.031331581,0.096929994,0.026840766,0.0,0.041429246,0.0,0.0,0.025978802,0.066006824,0.0,0.045492697,0.043618827,0.005963881,0.08982696,0.079431643,0.017135155,0.056005781,0.145253944,0.0383808,0.03856376,0.032625074,0.069909188,0.037491314,0.09234651,0.183879453,0.107274301,0.047570401,0.100640587,0.036111038,0.140090284,0.031225303,0.086752988,0.040369315,0.043777415,0.046631836,0.076839735,0.0,0.277459381,0.099478451,0.034369528,0.0,0.01035692,0.104488444,0.028456456,0.027271252,0.036346224,0.064984487,0.044372393,0.009934335,0.013253936,0.089884775,0.053178425,0.089660816,0.185889129,0.0,0.024503972,0.143990173,0.042891098,0.046023105,0.084179812,0.025050746,0.065515067,0.080695806,0.027222517,0.054366282,0.021232318,0.104183308,0.070856383,0.061272194,0.019107027,0.0,0.052329172,0.055103174,0.015397129,0.033271818,0.053971566,0.075713578,0.01889024,0.152364317,0.039811272,0.183774965,0.041283361,0.057422821,0.011820087,0.024891881,0.138171603,0.041599644,0.0218126,0.161740582,0.100966837,0.027183141,0.115032648,0.099442329,0.032308482,0.063246037,0.079713576,0.014679558,0.030247903,0.030297819,0.07113587,0.017322454,0.039451625,0.0,0.114609875,0.117442838,0.160852421,0.03048292,0.033314389,0.044139551,0.0,0.071106549,0.099674817,0.153806271,0.028958563,0.168780385,0.035627489,0.052657753,0.009754896,0.031151633,0.118827682,0.034501016,0.038109194,0.087791917,0.062839798,0.029595637,0.090267996,0.150248468,0.082394321,0.026451028,0.01319424,0.071257912,0.036908933,0.141475625,0.007551665,0.031338558,0.075904695,0.07760107,0.048426708,0.00636189,0.023021406,0.019378432,0.035084073,0.038604817,0.21332355,0.054514169,0.187850233,0.054455125,0.044660955,0.089120516,0.02524761,0.069707771,0.036150153,0.074245348,0.062321222,0.158441218,0.054630544,0.143419394,0.048059871,0.103894671,0.253947823,0.148737487,0.058207114,0.078957122,0.0,0.066729996,0.1107011,0.018052019,0.15643727,0.035728302,0.03717912,0.019123874,0.177354373,0.058116758,0.118915034,0.131973625,0.0,0.033555399,0.088681966,0.021623214,0.033373748,0.089917769,0.053148497,0.122470805,0.035607579,0.056819936,0.044925784,0.071699984,0.077321087,0.150806666,0.127283051,0.138008431,0.074035365,0.091723066,0.122901056,0.0,0.073077197,0.175991929,0.172365428,0.094246644,0.10203648,0.066969525,0.041071581,0.028656248,0.034693175,0.071628097,0.028516696,0.054939029,0.090130537,0.0,0.033893487,0.113908117,0.020326962,0.08509812,0.035997543,0.029686148,0.032626952,0.035057688,0.060699725,0.041063069,0.070767174,0.031598706,0.075495088,0.15277077,0.04307908,0.010652508,0.023318068,0.030819397,0.165838224,0.13575135,0.07191675,0.039653081,0.0,0.021358889,0.032652796,0.0420611,0.0,0.030645958,0.118297605,0.096709408,0.019901356,0.087221497,0.07518071,0.1422157,0.034543718,0.030751366,0.096842096,0.050808821,0.063081713,0.055451725,0.0,0.108665723,0.043322254,0.057809959,0.086132373,0.046342889,0.132590283,0.030516069,0.025473816,0.0,0.043856919,0.041904578,0.038917891,0.046707264,0.030501281,0.093574769,0.074565098,0.064014173,0.011838464,0.086837543,0.034457776,0.0,0.044091657,0.026546765,0.023951149,0.129705008,0.026563851,0.015700603,0.0,0.137366883,0.127424932,0.09384335,0.038578501,0.111727876,0.052637056,0.096790497,0.033997473,0.157149885,0.12780038,0.045291822,0.161458973,0.171093639,0.14825809,0.017821466,0.01581384,0.119959873,0.091283986,0.049066248,0.135416391,0.070510189,0.066765523,0.07575107,0.058730831,0.020460284,0.069401919,0.026579951,0.0,0.139913045,0.022093019,0.071369947,0.047482391,0.017642229,0.052625179,0.14057889,0.203510667,0.044321422,0.045525961,0.029140008,0.075878519,0.054046706,0.091954465,0.052418124,0.052058629,0.080387424,0.187523164,0.044460448,0.077882226,0.14048631,0.017979145,0.134919202,0.012447775,0.054264078,0.030219852,0.099879337,0.061226969,0.028207784,0.069491408,0.122015744,0.099120588,0.159968994,0.042949109,0.088172355,0.078831762,0.035263498,0.129889831,0.134037,0.145867347,0.121554149,0.091924311,0.236616754,0.074553522,0.075864171,0.037977917,0.031143591,0.154860353,0.028238317,0.073700837,0.008027701,0.099290166,0.180096791,0.008499464,0.177629525,0.020865797,0.026180032,0.037734334,0.127435585,0.087762922,0.153127523,0.017703044,0.096433359,0.128136346,0.008184912,0.059846975,0.122494876,0.054846706,0.022980361,0.125154452,0.011762847,0.010674255,0.041098016,0.077132215,0.145013434,0.028683422,0.008554102,0.132058566,0.017895691,0.082731751,0.058083831,0.127449031,0.097536998,0.143670179,0.139804885,0.065860323,0.0481669,0.089005769,0.105893301,0.12566436,0.047377053,0.0,0.014353676,0.0,0.025002878,0.0,0.150015234,0.014691784,0.017062427,0.019142452,0.104890428,0.019018943,0.011233126,0.081026811,0.081953387,0.060587738,0.090850115,0.071335395,0.083929569,0.086396038,0.023071504,0.012627329,0.094512029,0.013951504,0.056785183,0.06117708,0.152099033,0.02594835,0.041581725,0.103849783,0.154301621,0.010937229,0.073562475,0.125687917,0.0311868,0.167831064,0.0,0.160624116,0.050929429,0.06780958,0.026042966,0.038610722,0.019372253,0.057290978,0.097909084,0.067688124,0.035207155,0.080688663,0.033447756,0.082797778,0.026940466,0.037877202,0.141129263,0.034424278,0.060067115,0.127727102,0.05674821,0.014052469,0.122684413,0.038724612,0.09688421,0.0,0.087380432,0.072707309,0.059894378,0.037901581,0.025841875,0.081933378,0.012627478,0.030476541,0.074070351,0.063017421,0.043727261,0.104023565,0.056271701,0.080619969,0.045761855,0.078863888,0.027729547,0.170646494,0.039235527,0.02502991,0.205605116,0.085622362,0.059968347,0.049038621,0.036147029,0.212963193,0.110614538,0.142393712,0.053976156,0.03107068,0.03761584,0.054363971,0.161039887,0.040023967,0.0,0.030619301,0.054637635,0.0,0.132995494,0.050085152,0.096689673,0.026010729,0.075959623,0.021413346,0.0,0.126924095,0.103340142,0.0,0.012288171,0.142827296,0.022291121,0.061992874,0.17417636,0.037953762,0.122289654,0.128247408,0.038341654,0.038699553,0.01940856,0.137870237,0.052800258,0.06355415,0.01043823,0.020589623,0.041806702,0.012679191,0.128289285,0.009878459,0.046090204,0.046680961,0.03546967,0.047290068,0.13842353,0.027779381,0.0,0.046043736,0.007215314,0.132083542,0.083399788,0.043978369,0.008639333,0.015089965,0.140582485,0.228469522,0.0,0.123007534,0.0,0.02288328,0.087045086,0.007256127,0.024664556,0.013056494,0.180820798,0.103693024,0.021849398,0.074731477,0.154244343,0.0,0.042412572,0.072990979,0.005243282,0.034427577,0.053455158,0.0,0.037768989,0.119428052,0.013183517,0.072838381,0.128235131,0.0,0.114583922,0.054171606,0.0,0.026912667,0.100799828,0.077390746,0.191603334,0.056543464,0.009923732,0.016238512,0.156072361,0.115636723,0.030920531,0.080594133,0.167725251,0.100378096,0.070847865,0.04163619,0.025756826,0.076987408,0.079968115,0.14460413,0.047524635,0.079776075,0.023988387,0.011563024,0.089703476,0.06893834,0.169667145,0.017814518,0.027399064,0.097398254,0.232072674,0.039723999,0.05843112,0.030990354,0.108689606,0.038721734,0.103664897,0.082367244,0.105282932,0.141406394,0.071516201,0.012198395,0.132248069,0.034445116,0.088543868,0.016979063,0.304859104,0.056825065,0.1175683,0.090562192,0.019423232,0.078489577,0.054706408,0.051804278,0.012215675,0.019117392,0.090778148,0.027047774,0.043874493,0.011603492,0.291826616,0.034350673,0.183686937,0.107714834,0.146299902,0.123531974,0.030311951,0.087986599,0.019590769,0.242768664,0.067064128,0.087630566,0.075721301,0.049719026,0.065932087,0.037505332,0.092282353,0.01532563,0.047996608,0.052040539,0.097629611,0.057221177,0.045308629,0.158096128,0.055127499,0.025842905,0.122802943,0.039370913,0.096411426,0.16871476,0.082353076,0.026830586,0.183260221,0.027386122,0.0,0.0,0.105287746,0.0,0.05616476,0.0,0.092150005,0.01938106,0.071534226,0.113497001,0.030121709,0.065051586,0.029538509,0.015976249,0.098622378,0.062885197,0.162461219,0.112840108,0.298205272,0.043902087,0.018797945,0.0,0.060017128,0.16147714,0.033944698,0.020803054,0.08816538,0.034082974,0.016745264,0.083009876,0.014721719,0.046375227,0.037639672,0.04500603,0.013711274,0.032009653,0.026424424,0.134870732,0.045295529,0.097750937,0.05089667,0.052312034,0.010363586,0.012254429,0.107223632,0.101335811,0.098993139,0.026760329,0.054594957,0.082170947,0.173821519,0.131708682,0.027594064,0.12470444,0.052247806,0.030559583,0.046903482,0.163096139,0.0,0.081103929,0.071743629,0.035731825,0.119131749,0.037217847,0.038559926,0.054238448,0.075856062,0.048957533,0.059160135,0.041536962,0.0,0.070297175,0.044984874,0.167155198,0.142986863,0.0,0.162856593,0.0,0.014885998,0.128816212,0.029680868,0.036360676,0.016582833,0.112316501,0.096653315,0.021984639,0.143351652,0.041482394,0.040069806,0.052239735,0.015149955,0.09370568,0.052401766,0.063121982,0.058946687,0.171245426,0.134057426,0.050368454,0.026986367,0.120543611,0.036037952,0.006725388,0.034940979,0.094219593,0.048004263,0.066164431,0.0,0.0,0.030975716,0.039101813,0.010039493,0.117308165,0.009641375,0.113212516,0.067490036,0.037573095,0.031219108,0.032606181,0.0,0.106731895,0.0112259,0.026355345,0.01548171,0.045465958,0.041857101,0.0,0.151159243,0.056161529,0.142419608,0.031410378,0.077790204,0.014166739,0.110215444,0.016679143,0.117339056,0.112227747,0.062724117,0.037555348,0.112349962,0.093217569,0.177661246,0.11184963,0.06321435,0.077892365,0.051564827,0.070349402,0.024521239,0.021447102,0.026059557,0.015301418,0.0,0.060615254,0.066459891,0.076876046,0.14215211,0.058632705,0.024541277,0.030992735,0.036241797,0.038398937,0.011258035,0.072511335,0.101689151,0.066625843,0.162242617,0.0,0.0,0.044008347,0.025867353,0.016476619,0.031095246,0.0,0.038422076,0.061155983,0.08131178,0.125756824,0.05661033,0.073709686,0.040432954,0.046749112,0.062762374,0.045542628,0.041346469,0.036903419,0.075084457,0.026735372,0.172453254,0.035666655,0.037581243,0.122202946,0.056921876,0.063319379,0.124402507,0.108879177,0.032125561,0.076097073,0.052766297,0.020601791,0.036360386,0.140571971,0.05074138,0.015997687,0.033018559,0.022703693,0.013431109,0.0,0.023876985,0.011281018,0.015328106,0.094488071,0.047897663,0.081841136,0.072212787,0.049505857,0.02981155,0.058181585,0.037734782,0.0,0.026827052,0.072881535,0.014822802,0.046159928,0.107662745,0.038014104,0.106307146,0.066672058,0.015341139,0.171174491,0.325780807,0.112859454,0.005962753,0.047358246,0.086105815,0.026882496,0.040521714,0.020597493,0.085538477,0.0,0.0,0.10239789,0.0,0.0304697,0.021287234,0.034467286,0.1027194,0.266234421,0.129668578,0.02923013,0.176411579,0.050371508,0.036184755,0.070017381,0.030556922,0.011278535,0.0,0.027812304,0.066051758,0.053506996,0.096046304,0.049922304,0.036083537,0.005539114,0.036939673,0.037793818,0.106928681,0.138585859,0.06407717,0.037708542,0.036020711,0.049295686,0.06449461,0.026117345,0.025904648,0.080235512,0.013830218,0.076855628,0.041824524,0.12152072,0.073289899,0.022054553,0.029054046,0.006665667,0.009057132,0.045955031,0.007551607,0.023835164,0.047503318,0.160665697,0.048661041,0.208987123,0.006692529,0.136695145,0.140311123,0.031330907,0.061521569,0.176991029,0.0120098,0.072141818,0.136984147,0.0,0.052964982,0.0,0.155316936,0.048738407,0.0,0.010031539,0.036383293,0.0,0.03736783,0.087604647,0.028461453,0.034244601,0.031938828,0.014024028,0.014232071,0.023730384,0.038578846,0.108036187,0.013572808,0.06082402,0.074345142,0.075501241,0.16216286,0.081652352,0.061434045,0.017073332,0.118806857,0.092694107,0.065183228,0.005561538,0.024635077,0.126313413,0.066383907,0.066279832,0.042681522,0.0,0.038736838,0.098910759,0.049178998,0.057011062,0.003589104,0.0,0.043690499,0.10154201,0.025164132,0.119077255,0.021497594,0.025702129,0.075000682,0.118419683,0.035151215,0.044414056,0.052471995,0.020853376,0.047791878,0.02136022,0.103988736,0.114581955,0.02556185,0.046459438,0.023322478,0.175962247,0.255929096,0.082333019,0.021757269,0.0226994,0.110653377,0.065771529,0.0,0.0,0.024991056,0.013658248,0.034278413,0.0,0.185306514,0.051794958,0.027058066,0.041740902,0.035400659,0.099535996,0.175336471,0.143319995,0.01950565,0.071846495,0.0,0.017887238,0.159967845,0.020718655,0.096592065,0.074460855,0.030789914,0.030216783,0.094279004,0.04022593,0.168527463,0.077304459,0.0,0.142570104,0.043968652,0.045076878,0.030347404,0.052492122,0.077999504,0.012597384,0.023179181,0.128126825,0.097410707,0.028417272,0.049902382,0.014823358,0.061424738,0.049594299,0.113939434,0.027532258,0.045016894,0.086307051,0.104083376,0.061154604,0.184035253,0.024815024,0.106918052,0.0,0.105104552,0.087936752,0.056795923,0.176070535,0.19244045,0.051871718,0.035780177,0.104463896,0.049162885,0.072655379,0.050442528,0.177992139,0.0,0.015131684,0.031151714,0.024456797,0.192540665,0.01732573,0.127821472,0.012477512,0.028980533,0.070356805,0.057396092,0.048017962,0.071806046,0.05507343,0.0,0.0,0.014577695,0.0,0.156831826,0.0,0.057512481,0.0,0.098036903,0.0,0.042377219,0.107597879,0.082549896,0.02414202,0.057771828,0.057292529,0.124610886,0.010663189,0.091237452,0.064325351,0.020920179,0.041641933,0.173462841,0.24749009,0.087421738,0.038744606,0.124910635,0.046673494,0.048134591,0.038720852,0.12241394,0.032321608,0.026139404,0.0,0.144338493,0.034166609,0.27321283,0.03858813,0.032628111,0.133198355,0.038528228,0.016705436,0.058893461,0.050256161,0.054234197,0.12961476,0.054612768,0.030150193,0.059849153,0.034942397,0.060672263,0.102038294,0.135258515,0.120396991,0.030527166,0.099053537,0.134564284,0.030288215,0.073562475,0.048883854,0.035893143,0.014998914,0.012012071,0.045855273,0.14032811,0.019402371,0.0,0.042716709,0.081794766,0.125942816,0.0,0.011472001,0.103146658,0.012327847,0.166032929,0.04224015,0.072317217,0.139484292,0.024536636,0.085296625,0.080649685,0.0,0.054930533,0.031097948,0.016735879,0.134418705,0.168266556,0.034646067,0.021639678,0.11144608,0.013956116,0.152377658,0.037465846,0.020876485,0.0268952,0.081916124,0.163233667,0.121748174,0.132939639,0.079327367,0.065194971,0.026248606,0.131921819,0.0,0.026865809,0.046544984,0.092241348,0.052740763,0.0,0.056748659,0.017822936,0.017659068,0.07929647,0.007006883,0.026195131,0.042542484,0.054474158,0.0,0.122372504,0.037148619,0.052593952,0.012593467,0.012325122,0.131489269,0.064224789,0.060589424,0.022649893,0.128390273,0.055476238,0.008757492,0.007273831,0.144534212,0.043743689,0.062477955,0.078060601,0.026740767,0.140821917,0.068403271,0.0,0.02312394,0.047449835,0.110359004,0.054620504,0.0,0.009051307,0.160722863,0.03625493,0.064824502,0.033024328,0.143574191,0.099333217,0.12475207,0.093170838,0.007538459,0.009676286,0.141792841,0.05436436,0.031573246,0.055943697,0.0,0.066831682,0.065165046,0.0,0.069728296,0.09660879,0.007038478,0.153456703,0.043982464,0.139202085,0.086184647,0.082250863,0.034286109,0.100482186,0.049051717,0.005230786,0.08062523,0.081787519,0.010615026,0.009534758,0.056602818,0.057047756,0.05410964,0.058209079,0.083056555,0.020015391,0.102426197,0.048761223,0.0,0.056281276,0.008762556,0.139669224,0.137972993,0.0,0.121940099,0.024926013,0.039031927,0.13727,0.095989602,0.142443405,0.137410256,0.104400238,0.0,0.015750947,0.092937216,0.03828933,0.208162156,0.121936216,0.135646297,0.069240685,0.03127929,0.08186804,0.034753686,0.028476451,0.067872402,0.026420581,0.061183503,0.035247642,0.02974207,0.128397995,0.058918844,0.076791671,0.021220113,0.2004264,0.078589629,0.031261583,0.005235143,0.027032204,0.172856719,0.085617517,0.127334766,0.036641597,0.014656564,0.037864854,0.036016619,0.12953868,0.038531668,0.0,0.112119359,0.0,0.041907414,0.027556247,0.076058484,0.038729057,0.080804019,0.056884225,0.050000257,0.021207519,0.0,0.113307794,0.225476528,0.034800079,0.139301634,0.025612348,0.077290355,0.1017546,0.094265737,0.022380952,0.01575657,0.156307983,0.195688803,0.13747519,0.0,0.07962861,0.03100078,0.016202582,0.024190156,0.085308611,0.008564925,0.097457483,0.029619203,0.0,0.150872868,0.09031453,0.018930352,0.111209003,0.121153331,0.163160327,0.148163564,0.028281197,0.150853308,0.011437302,0.018024769,0.090448534,0.08175276,0.109667698,0.075735621,0.091917786,0.130127365,0.082483516,0.075507758,0.124126756,0.009425158,0.024999711,0.058545606,0.020676141,0.02346559,0.05272914,0.024630755,0.014274292,0.059313603,0.048518008,0.073349552,0.055648052,0.077129323,0.087824967,0.130031207,0.045334098,0.096333029,0.073858923,0.175047104,0.132952286,0.086145867,0.0520115,0.059790095,0.071440118,0.03395415,0.099271209,0.020769677,0.06316338,0.059846975,0.014342659,0.057667173,0.037155206,0.080417724,0.041227831,0.102226474,0.178210285,0.06904249,0.052791124,0.067607749,0.017887474,0.184440421,0.091074449,0.0,0.041951439,0.074087369,0.0,0.108679906,0.136500981,0.081361288,0.0,0.018591464,0.066952965,0.029107004,0.0,0.065872936,0.117149075,0.031994534,0.08276363,0.083004078,0.021490911,0.058835928,0.07871639,0.013869809,0.022274264,0.153618566,0.049267759,0.12826315,0.02494708,0.157154813,0.022832115,0.070900282,0.028180789,0.136497913,0.162462044,0.0,0.118080437,0.017466284,0.031073804,0.113302223,0.025968706,0.045400017,0.126958147,0.105307659,0.038500421,0.02137305,0.0,0.0,0.09297084,0.088839949,0.209600084,0.033505804,0.072986772,0.024961677,0.092433518,0.026081567,0.09079168,0.113917889,0.045928229,0.135620265,0.077709902,0.134975628,0.037955094,0.076125668,0.067039526,0.014021626,0.023358738,0.029933275,0.111777297,0.032448523,0.047266211,0.01404119,0.04917754,0.020280476,0.031962866,0.054376275,0.063850971,0.060154968,0.134441765,0.03067808,0.103758647,0.136701678,0.308145448,0.074806196,0.013926425,0.006754117,0.0,0.052209303,0.041538713,0.13064231,0.055382616,0.0,0.041970938,0.005583951,0.075757177,0.012467648,0.137368051,0.092933158,0.117593973,0.026018497,0.034410585,0.02426524,0.176175402,0.088257771,0.020750867,0.111527348,0.114318263,0.038363204,0.245483691,0.053930934,0.018942606,0.028339599,0.030151351,0.107274301,0.102670882,0.032177405,0.039734882,0.083536989,0.026225693,0.0273235,0.03747983,0.168531813,0.021293909,0.030269774,0.025822315,0.183688161,0.125579201,0.077079177,0.026074491,0.010593469,0.034357169,0.037396901,0.064011067,0.085981978,0.040318693,0.161762835,0.104878967,0.107469819,0.034868095,0.046079575,0.058083831,0.064618976,0.077178965,0.142910689,0.027682047,0.142511272,0.09557165,0.02316823,0.061045133,0.011148865,0.058091269,0.019672774,0.078678276,0.117667492,0.069902438,0.037757166,0.107021498,0.032892112,0.100477461,0.036228067,0.094488485,0.055154296,0.106907604,0.073060301,0.077439606,0.080968973,0.106492562,0.139330557,0.068822477,0.074669288,0.025834128,0.035227697,0.050901814,0.072965144,0.039492207,0.042552205,0.020587886,0.130095044,0.040747616,0.013146636,0.02176755,0.0,0.08995645,0.062665642,0.176182345,0.022843501,0.034411238,0.0,0.128861359,0.078290271,0.008539208,0.100095288,0.046447328,0.030794774,0.159081735,0.034705807,0.154487495,0.072178679,0.061686402,0.003599378,0.026832182,0.019616991,0.05226427,0.112203445,0.171761077,0.114170506,0.082266419,0.038685176,0.095795326,0.026814124,0.045203854,0.020697723,0.027827268,0.074883035,0.156298858,0.019412192,0.105324246,0.019227816,0.044093978,0.117599259,0.036140297,0.104791689,0.057021156,0.026058181,0.12829573,0.03263762,0.034765901,0.095696334,0.071371458,0.022696131,0.267565911,0.053327763,0.007145063,0.071076055,0.139426044,0.151925271,0.099479703,0.045900448,0.21799414,0.010454459,0.172641213,0.075701524,0.081914677,0.071010513,0.072444983,0.069981909,0.06457046,0.024159767,0.089210159,0.097611115,0.058975504,0.027430696,0.0,0.038815341,0.152632413,0.021618297,0.096491904,0.033568871,0.054507422,0.063079544,0.064208126,0.041974489,0.048207431,0.041065647,0.128709014,0.03596071,0.046520703,0.210596485,0.03674399,0.072238195,0.034141213,0.101500374,0.042246575,0.058105769,0.170141787,0.049579883,0.0,0.058725134,0.0,0.075695552,0.007321067,0.009463757,0.021407511,0.145669556,0.041273236,0.128090139,0.135707553,0.027774002,0.07278643,0.029640604,0.187939003,0.14492016,0.125419157,0.049121972,0.0,0.074149074,0.04604992,0.035384612,0.038340116,0.0,0.049080853,0.076183667,0.028711412,0.0,0.12517151,0.037826873,0.101747034,0.0,0.075142108,0.061424738,0.040597054,0.041556697,0.126791761,0.117484834,0.106097275,0.129395895,0.100265027,0.011557563,0.119157788,0.077622622,0.041194986,0.085135953,0.106816919,0.04421348,0.013745883,0.094308058,0.026622757,0.014234595,0.078526225,0.0249887,0.143712172,0.067373081,0.053822086,0.043011277,0.123557061,0.127968205,0.007570599,0.0,0.081996785,0.067777778,0.080362549,0.013929059,0.077169953,0.0,0.112681821,0.10080442,0.02512588,0.122519571,0.15021128,0.028357839,0.130663423,0.006335942,0.032845997,0.076735903,0.01530184,0.029377239,0.233356571,0.137053947,0.0,0.177236497,0.111830282,0.0,0.008204465,0.02439015,0.064143995,0.033275634,0.107662745,0.01115195,0.013064516,0.009954237,0.021214364,0.067859568,0.103481775,0.015358176,0.293066133,0.030981392,0.0,0.013623294,0.041098734,0.01209726,0.034382602,0.035406842,0.090374342,0.074451126,0.031467128,0.078786674,0.056032247,0.058935522,0.064577332,0.034306962,0.053586458,0.076431919,0.039090105,0.031549131,0.115233813,0.159825617,0.073080167,0.066727717,0.012146608,0.022552083,0.047036036,0.087158654,0.027756137,0.092589917,0.0,0.077427883,0.121227447,0.066284519,0.03549838,0.072131519,0.0,0.021020616,0.111902259,0.071548187,0.071540443,0.121765124,0.014609738,0.080697998,0.156802171,0.024144862,0.062297249,0.052058711,0.031402114,0.113217223,0.0,0.0,0.031139933,0.013363902,0.030952737,0.07136748,0.058192802,0.022976493,0.111220521,0.037967687,0.0,0.032158866,0.045068892,0.033176087,0.018845298,0.056375879,0.161356273,0.034605882,0.033942546,0.025740259,0.026938317,0.033754478,0.015375557,0.140458316,0.046333982,0.0,0.139228412,0.0,0.0,0.00799436,0.121767168,0.030083482,0.118025091,0.060649213,0.151931742,0.063831013,0.103091351,0.052389407,0.013355306,0.019550858,0.01005532,0.034845668,0.025162022,0.022685222,0.162571649,0.014825605,0.058034349,0.043785694,0.076798609,0.055241242,0.061102235,0.039517121,0.029565309,0.128283243,0.012332667,0.065195229,0.108253944,0.121178848,0.0,0.09698132,0.064351908,0.079419801,0.072301795,0.021719387,0.021420031,0.290430317,0.018571641,0.0,0.020952705,0.102371638,0.034278798,0.0,0.038377013,0.025325897,0.020898691,0.105881129,0.112906337,0.055216312,0.125210375,0.058185842,0.098814721,0.022058724,0.100091576,0.075876602,0.037841362,0.081943273,0.016645164,0.018061324,0.028062401,0.091857904,0.036109413,0.108633372,0.03324652,0.016720132,0.055433377,0.084966021,0.074135053,0.091745951,0.056685383,0.00552947,0.013664703,0.087310672,0.022639195,0.016531033,0.076873991,0.035863436,0.111301625,0.015193323,0.046408928,0.0,0.07494003,0.065119701,0.0,0.090456903,0.093071679,0.048292189,0.029902679,0.056547986,0.034726222,0.088908547,0.044024163,0.020568574,0.020564685,0.058226609,0.072155462,0.027253711,0.144604071,0.193477995,0.056945936,0.031288338,0.078400465,0.038976089,0.058918844,0.031176157,0.061159246,0.0,0.052550476,0.124448295,0.010808272,0.010963269,0.0,0.075035902,0.024882614,0.022878953,0.166572501,0.055081623,0.025920816,0.029500321,0.137645467,0.0,0.026818196,0.030102335,0.043740308,0.069653585,0.01785932,0.017755213,0.161875063,0.128181759,0.121250374,0.014921093,0.040434372,0.031508924,0.079094835,0.175793413,0.019495051,0.063313974,0.0674819,0.070026951,0.023496967,0.0,0.073559521,0.07626905,0.039925235,0.093883945,0.03773288,0.066400129,0.039920687,0.022351808,0.120180894,0.015900971,0.172759093,0.077454252,0.039255412,0.072252888,0.016664252,0.086187886,0.109784056,0.0,0.0,0.029023048,0.183142346,0.0,0.153857402,0.081290366,0.066935459,0.055514919,0.050657232,0.098108957,0.128405328,0.025477448,0.040969757,0.040550868,0.175545889,0.099344826,0.042276746,0.013861607,0.076387367,0.08996026,0.010480751,0.070587419,0.03387323,0.039238384,0.024331586,0.110197977,0.028048877,0.045631231,0.087559621,0.252865979,0.135306012,0.126760908,0.024201084,0.015856295,0.028411899,0.160529322,0.026771204,0.049934854,0.113045883,0.015359722,0.034049703,0.02128304,0.063462048,0.074019393,0.017666978,0.124299531,0.079739853,0.012167793,0.0,0.074338562,0.018407033,0.050369191,0.019837655,0.056465714,0.054928641,0.066829875,0.122832172,0.146692433,0.062827447,0.064464147,0.124959013,0.0,0.15911489,0.145335007,0.081168135,0.034874689,0.031898175,0.038211537,0.03874616,0.03443677,0.130261652,0.014456938,0.126383094,0.127620811,0.046878474,0.220111117,0.0471117,0.019768503,0.015858893,0.018905326,0.014280554,0.075675438,0.010381661,0.077475884,0.02705936,0.126199917,0.119462225,0.027454997,0.051928034,0.0,0.119570595,0.033725743,0.101275792,0.056077574,0.0,0.088178053,0.046608497,0.085119855,0.031418984,0.084809658,0.035350045,0.0,0.054601779,0.102188428,0.133034816,0.16817143,0.029722659,0.042733625,0.062172698,0.070704474,0.191500528,0.122065518,0.04021623,0.041737627,0.11227101,0.135075924,0.12301331,0.019238942,0.067212845,0.280164929,0.015271793,0.136512858,0.078034976,0.042649476,0.104859135,0.110202066,0.01558456,0.060805497,0.036490369,0.088025298,0.129864461,0.0,0.084176826,0.062343432,0.049942926,0.025867261,0.038817121,0.01941154,0.216478153,0.042707323,0.0,0.175898114,0.074847665,0.118180011,0.127587344,0.19780911,0.069208684,0.026963909,0.039261947,0.008533716,0.100423086,0.0,0.036353098,0.077348214,0.023548476,0.069043044,0.048010812,0.058778429,0.117607719,0.127412338,0.044945123,0.126579586,0.016802225,0.075192072,0.03786331,0.019200003,0.079791176,0.16334971,0.109265987,0.10821852,0.122392031,0.20168772,0.046259036,0.035651291,0.059835659,0.091408076,0.169405699,0.015943701,0.174232377,0.031801103,0.052749199,0.039463564,0.0,0.036159635,0.024020078,0.071104408,0.093913607,0.144006886,0.093159233,0.129425145,0.053839714,0.098629062,0.017658634,0.041282286,0.170186628,0.086781204,0.042270751,0.089186275,0.019502965,0.024650932,0.026722744,0.037516862,0.023154399,0.072284689,0.028391879,0.031866022,0.024088444,0.064409056,0.082012293,0.157075658,0.107110465,0.014459672,0.076483451,0.10234983,0.174827835,0.104591027,0.075868843,0.086764795,0.03408026,0.072655379,0.056555715,0.043402224,0.064882207,0.044764726,0.034752647,0.030631323,0.0,0.110735739,0.038657256,0.052493162,0.065890998,0.114565093,0.117065801,0.026450779,0.043863865,0.0,0.036551446,0.077630199,0.304737387,0.041180766,0.043831721,0.007503372,0.214681063,0.060649825,0.097258937,0.009763021,0.032152981,0.021439694,0.153592956,0.121231308,0.119371835,0.064607378,0.14024028,0.0,0.008296692,0.077193256,0.055075504,0.014209811,0.081879864,0.078540095,0.146540889,0.097059596,0.028478742,0.034340926,0.063532672,0.075384242,0.080131363,0.132111921,0.083547515,0.103731617,0.025309134,0.0258457,0.054223942,0.075791641,0.03928284,0.145591438,0.046824729,0.159062948,0.073966786,0.117574554,0.049617765,0.032296886,0.037340835,0.075707087,0.146635206,0.177545624,0.072693696,0.146701312,0.146999264,0.173109453,0.124410284,0.035079516,0.054763518,0.111122936,0.030330202,0.0,0.008601441,0.024407061,0.084262458,0.08644044,0.112718928,0.086619573,0.058437653,0.0,0.034504414,0.044652785,0.019184026,0.029638267,0.042180995,0.11507174,0.087437069,0.014295564,0.073251428,0.021743592,0.10527024,0.063513272,0.044151435,0.008001018,0.0828941,0.091042211,0.038011783,0.042296724,0.02695441,0.153930108,0.034376537,0.060971431,0.0,0.023831558,0.032762495,0.035347676,0.041291929,0.080747059,0.035240817,0.005557062,0.067154053,0.019362306,0.124506117,0.168871496,0.030504756,0.103142373,0.078872251,0.082120687,0.069487587,0.011180843,0.037315469,0.037835765,0.021312043,0.094218363,0.076841095,0.063805139,0.087542757,0.028871235,0.00720931,0.02286663,0.067543727,0.038549197,0.0,0.097709541,0.143283608,0.064551885,0.029173031,0.067120954,0.067020992,0.026826919,0.01665334,0.022395357,0.042113173,0.034604343,0.136774734,0.089343433,0.030250132,0.079698503,0.141360118,0.036933417,0.037449987,0.294948897,0.005525913,0.04712061,0.162248011,0.090867297,0.030264897,0.067295406,0.02827966,0.020388413,0.027644732,0.120731024,0.025429614,0.059438787,0.074059474,0.015693328,0.057850699,0.050011058,0.105225964,0.039207025,0.044489064,0.012437935,0.077350112,0.040346436,0.057585723,0.03565903,0.087629354,0.0,0.154228739,0.096943078,0.017065268,0.0,0.082178616,0.035542581,0.102171627,0.128235818,0.0552059,0.037337632,0.099242622,0.030143704,0.108412059,0.014628382,0.032454046,0.102978817,0.105498192,0.171355643,0.009585169,0.137926458,0.0,0.0,0.033076388,0.006770252,0.142393355,0.025813943,0.015548178,0.159698192,0.030634813,0.074522745,0.145200948,0.043651198,0.094366079,0.121702394,0.117613212,0.045258247,0.058485617,0.00994477,0.087894475,0.113953562,0.198316649,0.084949955,0.054549098,0.094545236,0.062359467,0.092811105,0.156679617,0.09735225,0.076113671,0.023783007,0.114771298,0.048662357,0.211539389,0.044430561,0.141860161,0.0,0.022441883,0.142370445,0.13564792,0.014602837,0.28701714,0.031112643,0.065621523,0.032573725,0.009776268,0.115353642,0.110901004,0.093214866,0.0,0.014649641,0.07603021,0.042855388,0.133144259,0.032580705,0.0,0.066865326,0.018943666,0.030371121,0.132630345,0.01001904,0.121254236,0.063764099,0.136286138,0.164391573,0.02189371,0.0,0.0,0.067624438,0.186236236,0.047037323,0.099780431,0.014488997,0.04200648,0.034575546,0.072965144,0.036530411,0.063946629,0.034551415,0.026329989,0.016009057,0.048637888,0.037852995,0.015016891,0.059160135,0.096379585,0.029008944,0.039078047,0.082536604,0.0226848,0.170152831,0.073827748,0.010864186,0.07436116,0.168901843,0.02455854,0.041949832,0.055502454,0.120663214,0.00819018,0.014098693,0.0,0.032806066,0.172446822,0.024213354,0.0,0.054685839,0.124758619,0.02586664,0.121563385,0.035999599,0.0,0.21561193,0.039381633,0.054331235,0.056338482,0.161516894,0.184359831,0.116484721,0.015302764,0.136417078,0.058707159,0.074753743,0.031251369,0.024705597,0.088693595,0.038235337,0.048980156,0.194874778,0.036611104,0.0,0.07802465,0.157190017,0.022170592,0.156797787,0.07325106,0.026289984,0.065328932,0.014296484,0.062038986,0.075908374,0.072383777,0.024363026,0.066351687,0.020823289,0.041851756,0.045239326,0.074778547,0.029583249,0.0,0.063432676,0.103406065,0.126585095,0.04896208,0.025286583,0.106752081,0.005485618,0.102932246,0.060888514,0.029662795,0.0,0.0,0.009918699,0.116520447,0.015447454,0.018098194,0.097012989,0.17514326,0.048785427,0.019476708,0.076229769,0.0,0.022190488,0.0,0.0,0.05610384,0.061381589,0.022795611,0.040323731,0.070012633,0.044591774,0.037699423,0.052040915,0.142292265,0.132521929,0.061122656,0.041942549,0.035506142,0.080573371,0.121972274,0.087436672,0.136119549,0.073396761,0.073468631,0.075132353,0.120624771,0.110888167,0.052252908,0.019046089,0.073397129,0.067011609,0.031490111,0.132621594,0.0,0.105110692,0.02976887,0.012229464,0.052176861,0.06725846,0.025257508,0.085085743,0.12163321,0.098102581,0.024047319,0.01596609,0.008792907,0.072238195,0.08849163,0.170500183,0.011134397,0.044730667,0.04179272,0.054484461,0.175849067,0.024069113,0.06953231,0.045848263,0.076160451,0.099704558,0.073735058,0.0931174,0.038446805,0.078172471,0.071992202,0.038210084,0.0824812,0.066069578,0.046848322,0.077164595,0.066833743,0.185596553,0.068925304,0.12367891,0.046348967,0.021065311,0.077849833,0.029236727,0.127929521,0.091560606,0.081605462,0.014626901,0.041837331,0.088002959,0.04551031,0.150801606,0.03495749,0.108458498,0.022155562,0.055301055,0.030816999,0.0711891,0.029821648,0.046142232,0.089735804,0.04745185,0.077150004,0.181114059,0.018562604,0.018789455,0.066674465,0.143831787,0.023402893,0.070979698,0.018847114,0.086945823,0.121438886,0.0,0.053288857,0.066431507,0.037824735,0.047936284,0.103356186,0.055067732,0.063916425,0.059063036,0.013442036,0.01724183,0.089777214,0.028418817,0.015108194,0.035780385,0.073462632,0.009816092,0.172946916,0.024892129,0.022824491,0.0,0.069229076,0.051766042,0.095140088,0.044976367,0.212293753,0.025354072,0.195721125,0.077508015,0.045009952,0.037962696,0.187443314,0.086384841,0.158947217,0.141615436,0.0,0.01484819,0.026843265,0.070154899,0.028765486,0.012656359,0.0,0.005547386,0.0,0.02575512,0.027214272,0.111666665,0.093026207,0.041189152,0.046584552,0.097280981,0.080922439,0.017780986,0.055979703,0.132645493,0.026182758,0.0,0.04688734,0.071354774,0.0,0.086320509,0.137539574,0.010467749,0.044814962,0.090913642,0.020559846,0.037681359,0.095545715,0.018395194,0.087272074,0.145464606,0.149890395,0.041634206,0.043029436,0.06594351,0.032637373,0.091096531,0.115307979,0.015873285,0.156307983,0.024790707,0.093746136,0.092158377,0.046469277,0.033144603,0.102901425,0.170663661,0.024213342,0.08279545,0.037622954,0.066155883,0.126869718,0.025409912,0.076389281,0.053113721,0.07595723,0.120986139,0.084885375,0.139795569,0.02573918,0.143591586,0.029999653,0.037901015,0.096799953,0.048830264,0.022879017,0.136314863,0.016143389,0.114246019,0.076975118,0.06216667,0.01599013,0.128728258,0.080771137,0.082568705,0.098395216,0.027714371,0.0,0.06528457,0.102999154,0.057969482,0.016804724,0.086440911,0.302478871,0.058663727,0.286344848,0.072762086,0.123264522,0.127647181,0.173206192,0.119937231,0.055379648,0.107223632,0.0,0.06464846,0.049280292,0.028842332,0.118872194,0.053924587,0.066297055,0.024264569,0.076470697,0.151827552,0.141325834,0.057538034,0.128791854,0.119436131,0.163310805,0.045878153,0.075322658,0.149753132,0.0,0.036494521,0.132183029,0.096592065,0.04188955,0.106663245,0.112249603,0.100322104,0.021602001,0.123338082,0.114085368,0.049498821,0.045425939,0.051068365,0.144241314,0.073605395,0.12770295,0.041655865,0.015859294,0.121497742,0.046844194,0.0,0.155250377,0.174450933,0.199955274,0.033830011,0.096217262,0.028674471,0.055213208,0.00676387,0.094460314,0.025130632,0.013812772,0.116673795,0.0,0.245407386,0.062597392,0.141674844,0.119361718,0.118883724,0.016876708,0.141352562,0.031397503,0.072278769,0.014497036,0.028838938,0.013951504,0.126114605,0.064938448,0.144511119,0.097294728,0.043646901,0.095746519,0.092413792,0.123307177,0.019031184,0.112668963,0.113072194,0.015708023,0.015259084,0.014622625,0.022829734,0.020833091,0.071103348,0.159720671,0.037345714,0.102949031,0.062903297,0.158715731,0.03598621,0.042102658,0.047857877,0.036590807,0.171779865,0.051544658,0.03898577,0.138868769,0.251094747,0.041112694,0.043755405,0.006351876,0.036308404,0.054428368,0.064362554,0.071538243,0.007468056,0.081562686,0.02746599,0.093652168,0.015364173,0.020442889,0.034813556,0.097862839,0.067824456,0.11173569,0.048160824,0.047197936,0.06292013,0.057385239,0.005209791,0.025527994,0.096495426,0.173574402,0.020409765,0.088888291,0.097367722,0.059275452,0.100555034,0.061775607,0.012974937,0.042614361,0.050535312,0.008944844,0.056418354,0.032227432,0.127108578,0.064441812,0.057152139,0.11147467,0.028410335,0.289522833,0.0,0.064207277,0.042463728,0.139521931,0.0,0.060768862,0.101294945,0.120474481,0.05695045,0.119351235,0.226122963,0.026620627,0.042480566,0.0,0.159720671,0.124348482,0.063684145,0.016092971,0.0,0.025552424,0.030591255,0.035336287,0.104658344,0.020198354,0.089816808,0.022954444,0.174049032,0.044024163,0.110739031,0.039008625,0.054277132,0.007160908,0.129226104,0.0,0.129479176,0.021512619,0.005958918,0.056941603,0.026491715,0.066298469,0.041360997,0.142759833,0.042792568,0.177694846,0.139552827,0.045052492,0.037581243,0.007342171,0.034945416,0.056030907,0.099553084,0.047782959,0.007180374,0.019592289,0.078758649,0.0,0.18358896,0.034623782,0.032586709,0.008519718,0.143010016,0.0,0.079624087,0.17138805,0.0,0.235859408,0.148612263,0.134393836,0.033599041,0.066311153,0.049623924,0.13893181,0.0,0.040636926,0.107940533,0.03362713,0.142436015,0.125200788,0.019407069,0.054445198,0.01040777,0.039443715,0.038042233,0.034770109,0.141862435,0.019438042,0.073012871,0.026848529,0.019033838,0.032771033,0.04026424,0.074729835,0.074601506,0.078576075,0.081719458,0.012173543,0.091318935,0.085075063,0.174644552,0.041395775,0.164679597,0.121012632,0.037563325,0.026115595,0.05848134,0.068880971,0.125964559,0.055746931,0.080804019,0.086983591,0.064547828,0.075361182,0.081651443,0.190711254,0.023585598,0.115064263,0.057909547,0.054920146,0.041291169,0.021273161,0.02758789,0.11178154,0.02960641,0.129140919,0.029555773,0.063146492,0.066352552,0.246678647,0.047977607,0.151712642,0.030174246,0.238366442,0.055603753,0.029648306,0.105812357,0.02593166,0.019671473,0.028982682,0.019153299,0.184254826,0.025169703,0.153494979,0.034093203,0.045655118,0.142732848,0.110163385,0.041934387,0.028868467,0.079312367,0.174085625,0.059732844,0.039245805,0.097510482,0.114885647,0.072295507,0.010436256,0.104257037,0.126440335,0.0,0.120965853,0.0,0.069031467,0.049823839,0.126752975,0.1062679,0.053305463,0.023820082,0.037549969,0.03525175,0.031200065,0.106538757,0.012673238,0.093307668,0.056191301,0.116542484,0.011285795,0.127308434,0.069742672,0.093010026,0.03961061,0.069514712,0.083147702,0.011106465,0.02528566,0.072851756,0.011072421,0.031494041,0.029667053,0.0,0.022099982,0.011372972,0.091310237,0.033437991,0.029117482,0.039071642,0.119362409,0.094109236,0.02299122,0.110010191,0.176748258,0.0,0.032463574,0.035222503,0.010055503,0.034363029,0.0,0.128349909,0.128760294,0.043964058,0.032470108,0.094603404,0.047743195,0.0,0.071557769,0.155105614,0.014505108,0.093909644,0.077157727,0.094957079,0.072486326,0.155694794,0.20914265,0.095298849,0.038736781,0.044000492,0.014720848,0.099090261,0.047814463,0.127066966,0.076474728,0.042860026,0.141033536,0.044607161,0.041283361,0.075444922,0.035143024,0.13725257,0.041831008,0.060967038,0.078943221,0.053837561,0.039928582,0.021617996,0.143495952,0.157701958,0.058719568,0.142618182,0.020573334,0.030208465,0.110234793,0.093991286,0.067001825,0.076314907,0.022403117,0.030944666,0.02528802,0.057058545,0.0,0.05486977,0.029006239,0.034880143,0.014713909,0.047237246,0.032306341,0.100171568,0.013130031,0.010096684,0.055015935,0.015460726,0.02346559,0.017932223,0.047420609,0.062547321,0.112410046,0.019511288,0.041789718,0.022548195,0.046599684,0.095064731,0.029283081,0.042383069,0.155706798,0.016767995,0.120961347,0.178622919,0.02633607,0.126287542,0.11350542,0.094201477,0.125224466,0.005561798,0.101980245,0.081193712,0.024369007,0.188619537,0.094037291,0.030188505,0.046578409,0.223985293,0.085763562,0.105145451,0.019382568,0.0,0.093002339,0.035549527,0.054720642,0.052708138,0.089144149,0.128011859,0.178272728,0.099024124,0.046898544,0.041994624,0.022694623,0.039467795,0.061270647,0.036686158,0.014200671,0.079806266,0.059797172,0.0,0.049381666,0.107057186,0.109274313,0.018889593,0.021369722,0.092927148,0.113139486,0.117387066,0.038730229,0.030211742,0.032924463,0.120022543,0.037388493,0.096413261,0.069405301,0.090649107,0.021649904,0.02689477,0.016679232,0.00978492,0.056429024,0.009998763,0.020757926,0.041374909,0.096756649,0.079523619,0.0,0.012167988,0.032976399,0.147492524,0.0,0.028566433,0.110479217,0.042838514,0.012264903,0.096132367,0.168780127,0.099193899,0.076721393,0.06173052,0.174934513,0.0,0.009802791,0.09942555,0.062384659,0.034745307,0.035579135,0.067569539,0.029697925,0.03525037,0.045916788,0.021539999,0.027673055,0.092997032,0.073283193,0.041049322,0.008525061,0.117201696,0.005977465,0.0,0.157528118,0.082427854,0.041802518,0.015450376,0.057527544,0.025512207,0.174110803,0.175362333,0.038367194,0.014781046,0.040268044,0.014355033,0.129766301,0.008997141,0.07784544,0.0,0.074265816,0.102422487,0.032811503,0.038477325,0.020411155,0.042552418,0.009818244,0.035572183,0.04274788,0.04572322,0.023934398,0.146527359,0.012651172,0.107507291,0.096295326,0.0,0.079613553,0.103398309,0.16767231,0.020551458,0.025961116,0.046960237,0.041533438,0.065436581,0.08126841,0.072689818,0.116723677,0.074035423,0.059751638,0.092854963,0.0,0.044606379,0.162107603,0.0,0.030060895,0.081050006,0.051783761,0.0,0.024998007,0.105208448,0.14118383,0.135692831,0.116347087,0.12150063,0.088864488,0.070912843,0.041571557,0.093454899,0.021329793,0.079299474,0.085138334,0.087175137,0.093214498,0.025458716,0.032741422,0.038560279,0.130544568,0.122629121,0.110913601,0.121635591,0.128449055,0.055098434,0.0,0.0,0.010013429,0.040187877,0.024044279,0.014007727,0.041214746,0.031663212,0.0,0.042716162,0.06479182,0.009761175,0.02295878,0.030927632,0.103752817,0.136428395,0.071904258,0.026627857,0.028393624,0.116331694,0.112893408,0.017937483,0.164438907,0.044252621,0.120060274,0.010909704,0.059055045,0.149223055,0.084404264,0.054079556,0.057655493,0.030413777,0.049496899,0.029653914,0.047912071,0.066611321,0.016611475,0.03822479,0.129016487,0.080141165,0.0480335,0.179355893,0.062510529,0.038519399,0.047827139,0.032208865,0.078874948,0.097275777,0.020664178,0.078060605,0.131714183,0.135944247,0.077478931,0.046114018,0.161030847,0.054455495,0.0,0.080257683,0.059037538,0.094916347,0.034393057,0.093261677,0.16143544,0.089479661,0.008722342,0.020988798,0.081260969,0.045308131,0.06705851,0.035930784,0.018813776,0.032099989,0.06823032,0.056592115,0.012643035,0.063529046,0.010630949,0.029490377,0.129983688,0.094300933,0.152001201,0.039113587,0.02848169,0.05271592,0.182493512,0.050562853,0.07366703,0.03322326,0.037396492,0.054015429,0.02210346,0.099274694,0.070721656,0.043554614,0.04923932,0.08114883,0.027054244,0.036773101,0.049163321,0.078168739,0.05337973,0.030418998,0.111673587,0.027341529,0.077634044,0.008835694,0.055990291,0.00799548,0.076369874,0.095351065,0.026783871,0.01520491,0.099757833,0.0,0.090896452,0.022602061,0.044250304,0.075885921,0.153177941,0.0,0.027114238,0.049634572,0.0,0.040587146,0.093008616,0.17179432,0.008828341,0.033858187,0.034841089,0.08425957,0.083444376,0.030497325,0.131179812,0.012737719,0.159165324,0.122015744,0.068091318,0.067314073,0.041249072,0.174340475,0.11454343,0.029693277,0.107057186,0.009921107,0.031583053,0.097043739,0.046762633,0.064909488,0.011305479,0.0,0.053576661,0.150947728,0.10818157,0.038749536,0.113790879,0.065313024,0.0,0.152813518,0.044771473,0.098083231,0.06121901,0.047073322,0.029953314,0.0,0.040520754,0.052554508,0.018514652,0.07871426,0.054197299,0.103442268,0.095360186,0.053031857,0.013990601,0.066237024,0.089761211,0.01863822,0.016176344,0.089196394,0.092782895,0.0358031,0.028271345,0.043238822,0.037955309,0.089186083,0.044566659,0.028638276,0.057762301,0.075711199,0.027767577,0.049865399,0.052061483,0.096387053,0.128176489,0.064110725,0.035561344,0.119647957,0.238831875,0.075676339,0.021416681,0.024766802,0.070691729,0.030693309,0.055671582,0.040507228,0.035626319,0.143688905,0.106542886,0.208662546,0.024107056,0.104058452,0.048403392,0.026391403,0.031007381,0.150672399,0.149598628,0.077290355,0.078758649,0.036359891,0.046747071,0.0,0.041865848,0.031713126,0.07044068,0.006087409,0.035456465,0.142107998,0.030064132,0.029781363,0.056387854,0.038653608,0.083172413,0.020565921,0.008609602,0.121180705,0.174703862,0.127800388,0.296713665,0.018125948,0.029859711,0.116203156,0.09264951,0.081197035,0.049070183,0.131394793,0.0,0.0,0.022526293,0.163838951,0.11349714,0.094185483,0.14113846,0.164006137,0.17314115,0.039555016,0.037580877,0.035064318,0.017678008,0.041986639,0.130955811,0.026492726,0.185130961,0.026934673,0.0,0.023866079,0.043414959,0.030554947,0.023463124,0.033951827,0.174228338,0.027169589,0.1630653,0.058444176,0.057049301,0.032960823,0.0,0.053025371,0.096306016,0.014762987,0.067446626,0.042173667,0.008578539,0.056155909,0.305305397,0.112571187,0.083221904,0.064195136,0.007055292,0.070703828,0.102941345,0.009887927,0.101231721,0.069112952,0.138846289,0.171050595,0.0,0.005496816,0.033259081,0.092095924,0.015295536,0.043526599,0.049435598,0.027610698,0.012141036,0.029949818,0.053939315,0.0,0.073541072,0.199935881,0.043033346,0.034570357,0.054739692,0.105471384,0.042610897,0.126758324,0.042524835,0.073813788,0.097251621,0.014008751,0.02442574,0.010012319,0.184454044,0.105042025,0.053589594,0.125734578,0.136705075,0.03412912,0.100319317,0.033737273,0.030569229,0.14086247,0.208397715,0.039751236,0.0,0.127416049,0.291438755,0.06112617,0.056328717,0.03901099,0.093862362,0.015485016,0.033276066,0.010781158,0.067730081,0.018410515,0.083079826,0.176244038,0.160216552,0.048676324,0.070103425,0.045556681,0.076193763,0.087187488,0.035311852,0.103080901,0.075049323,0.045463871,0.015944801,0.022974812,0.021629781,0.032516546,0.081036436,0.059472609,0.047081398,0.047260402,0.148673586,0.156012631,0.077011493,0.07614605,0.135836915,0.030062224,0.008575615,0.081096635,0.100060762,0.008834023,0.007069662,0.046161923,0.079592733,0.025776994,0.020960615,0.0,0.020715913,0.048801674,0.0,0.069605676,0.088373591,0.035853059,0.01404119,0.083473583,0.076434542,0.08073703,0.0,0.089152528,0.015863075,0.151308326,0.121609722,0.023135131,0.017714096,0.0,0.027069402,0.055226755,0.040124625,0.151376958,0.03558013,0.166513779,0.06478563,0.085223447,0.143915417,0.132275338,0.149338159,0.044823438,0.02681843,0.04407225,0.025872153,0.059835659,0.13027716,0.027653795,0.04714777,0.062882112,0.152294691,0.071064499,0.041726942,0.055121892,0.042211119,0.132500853,0.015557426,0.021409913,0.015497337,0.065612808,0.012030747,0.075603699,0.029372367,0.070096518,0.120258245,0.079281476,0.097768728,0.104786172,0.043626605,0.117839328,0.089858447,0.185008985,0.156701315,0.0,0.139087683,0.089243789,0.073721115,0.138679995,0.240268248,0.0,0.040911824,0.149974858,0.026072872,0.085482761,0.015521768,0.099101845,0.025281802,0.125675936,0.07204818,0.068263916,0.109144085,0.017425784,0.035118834,0.054066567,0.012823829,0.009883257,0.041754584,0.112036236,0.161610636,0.078909166,0.077769768,0.021951613,0.097770004,0.094817105,0.066726133,0.043809261,0.0,0.032671446,0.095378221,0.0,0.060188932,0.016135764,0.126220187,0.024286378,0.065350715,0.035071955,0.030742083,0.015949001,0.038496166,0.017746826,0.111274591,0.065272284,0.183472595,0.08918772,0.030281543,0.211306673,0.061190964,0.107307677,0.067441726,0.066338717,0.0,0.120524922,0.061192211,0.075056542,0.017556795,0.129077455,0.047896393,0.021240491,0.031743707,0.003612411,0.022796178,0.133279499,0.016132592,0.152429537,0.035348491,0.020903193,0.054853377,0.106971167,0.035482562,0.042923071,0.036174285,0.033597374,0.028320655,0.0,0.056744064,0.039990314,0.030155224,0.062541552,0.031403441,0.029845243,0.149125615,0.170382726,0.083768522,0.116793684,0.062205112,0.0463847,0.071425647,0.033929133,0.036033639,0.158337479,0.030140981,0.024515221,0.105125569,0.00547348,0.133385398,0.047098175,0.055548003,0.128614205,0.047551568,0.066879757,0.160379061,0.054861393,0.141542481,0.053397642,0.021710275,0.075688032,0.045340279,0.100149459,0.162348584,0.036341539,0.087920675,0.042087749,0.016921927,0.020423549,0.173833129,0.256152243,0.021002641,0.0,0.091780142,0.033220169,0.141234932,0.19899855,0.049709624,0.065153295,0.015087112,0.037782943,0.008782561,0.142728113,0.073493831,0.025907416,0.046280998,0.044624064,0.009898492,0.189689886,0.070189131,0.119374946,0.065215312,0.095635061,0.216107535,0.048009081,0.019533098,0.026568875,0.111127966,0.03723211,0.140603316,0.075368868,0.063962842,0.102830104,0.01031535,0.110633958,0.0,0.014721579,0.019465205,0.091895319,0.118535581,0.037646623,0.092060694,0.04765803,0.05587277,0.017295906,0.02844314,0.094296835,0.064410783,0.134684292,0.029299175,0.210021713,0.027224917,0.021184746,0.047059016,0.14526636,0.041851461,0.152262171,0.085757338,0.049954435,0.048762383,0.0,0.075996742,0.0,0.204984538,0.173573164,0.056339618,0.014262413,0.03338006,0.016024651,0.11830085,0.167552202,0.067181098,0.0,0.0,0.021431134,0.068256316,0.0,0.014143673,0.075563757,0.018439138,0.074620291,0.041370245,0.020312314,0.128532558,0.055195461,0.022065676,0.011212719,0.063925726,0.034848629,0.0,0.02050719,0.025960174,0.085020342,0.097660814,0.111654545,0.0,0.115265695,0.043133816,0.049676157,0.176834351,0.103918113,0.035644325,0.279783532,0.048738014,0.020686161,0.079342006,0.140889111,0.062245149,0.140811559,0.08152738,0.058198141,0.081446638,0.019462623,0.072317217,0.020684919,0.087604871,0.0,0.041681059,0.015676231,0.034397781,0.096880574,0.017817285,0.014909465,0.0,0.041439718,0.151405587,0.097803261,0.196659953,0.041313203,0.130657442,0.029700018,0.0,0.070312473,0.019064377,0.020605032,0.0,0.011072173,0.0,0.060342304,0.113833823,0.032615377,0.024935297,0.074345268,0.042283454,0.047387144,0.152865879,0.163148041,0.02984176,0.038511676,0.047622786,0.07554831,0.067447572,0.03187163,0.112638016,0.056192276,0.06797671,0.142189843,0.014813268,0.080442371,0.03781972,0.092145264,0.025702994,0.012483408,0.0,0.036204764,0.026238087,0.137584599,0.080741927,0.059741172,0.214423791,0.051677051,0.168455549,0.0,0.016055615,0.021619564,0.173027688,0.095045476,0.025891588,0.205484395,0.037793818,0.045002624,0.054460571,0.075736746,0.014719325,0.066828857,0.23653561,0.04903471,0.035497039,0.017638893,0.01945343,0.11326743,0.109713464,0.0,0.094952408,0.029026218,0.140123575,0.03272295,0.135836828,0.036382524,0.0,0.094201018,0.143506376,0.133347119,0.124428516,0.221856492,0.071312064,0.022425236,0.133352623,0.046079558,0.0,0.066446521,0.066979957,0.187918654,0.051924192,0.054806734,0.018813601,0.094910421,0.116722514,0.244338986,0.013863257,0.021471456,0.0,0.026067434,0.123710526,0.119547387,0.079690403,0.088691614,0.104784329,0.032024659,0.041950753,0.091018048,0.037398953,0.017845372,0.105459307,0.038032068,0.064504433,0.021306635,0.116063284,0.059336763,0.034091649,0.081955735,0.088551694,0.071230537,0.024185517,0.041163522,0.0,0.0,0.087719692,0.048677482,0.041907648,0.065783783,0.094807042,0.128778474,0.060668416,0.056067524,0.114066204,0.10039894,0.097135675,0.032610007,0.165616415,0.0,0.030362777,0.03409886,0.145951533,0.015138834,0.031069993,0.115535487,0.02454694,0.067175915,0.118674359,0.057421582,0.114022125,0.010033871,0.080765853,0.05930285,0.041753387,0.050065211,0.096020459,0.15202235,0.087383304,0.03066757,0.0,0.03321399,0.097429924,0.039120291,0.01055095,0.053480419,0.128520186,0.044444956,0.034544435,0.073678663,0.079668739,0.085447928,0.080434451,0.044978225,0.023190134,0.025967624,0.046962004,0.05233528,0.17635245,0.013692598,0.0,0.093655728,0.018275816,0.184167712,0.158954903,0.050392993,0.008558144,0.059820884,0.070149088,0.095919472,0.058092551,0.286357776,0.161798604,0.148742896,0.0,0.032022535,0.049842613,0.156304192,0.012458143,0.037201127,0.045274134,0.098603729,0.097457483,0.051661272,0.0,0.041273391,0.141997869,0.0,0.058339153,0.020544065,0.103503049,0.140342195,0.12929931,0.036031137,0.008903212,0.087669485,0.0,0.005661669,0.0,0.07198553,0.17133418,0.047329385,0.170977155,0.058298384,0.039715591,0.046824729,0.311090379,0.059611153,0.103517853,0.075834825,0.170072462,0.0,0.036399734,0.072912432,0.012567811,0.035773394,0.046382793,0.067836851,0.0,0.022434418,0.086764795,0.0,0.085437778,0.089998959,0.054288646,0.0,0.016993204,0.06908877,0.137441201,0.051970788,0.0,0.02492239,0.144924795,0.030349723,0.226284381,0.050625182,0.02371512,0.112177581,0.04774013,0.159304333,0.020989308,0.01769927,0.0,0.096658404,0.054816926,0.068511103,0.12574524,0.044023213,0.068754395,0.024660202,0.039214444,0.036344721,0.008554052,0.170000805,0.148302815,0.081914677,0.029914022,0.065771344,0.043551753,0.163941937,0.099692906,0.059834024,0.166174549,0.119930029,0.057944376,0.065649353,0.080249973,0.037952777,0.064113698,0.048841794,0.02394662,0.096000183,0.074177667,0.04368089,0.083268523,0.071832909,0.0,0.062625641,0.042646566,0.0,0.03555434,0.105068444,0.060912865,0.02488732,0.024194731,0.01141595,0.018023997,0.012499004,0.036045991,0.044607722,0.16098885,0.055793586,0.104445322,0.032687702,0.026949463,0.041909345,0.04363058,0.0,0.014793124,0.065928735,0.01583438,0.159728395,0.014925407,0.102893121,0.020951848,0.0,0.108102606,0.0,0.073697713,0.091437584,0.009581155,0.035997636,0.12332588,0.112584813,0.019930418,0.126244059,0.030905215,0.104365283,0.087387669,0.053481818,0.073306615,0.043021542,0.13169655,0.090834158,0.19875618,0.026321701,0.176215665,0.136008489,0.17174348,0.08154715,0.027570939,0.146767897,0.03467086,0.09619424,0.08511049,0.1263349,0.012592289,0.05357685,0.077168705,0.032597778,0.021583971,0.078903499,0.091411749,0.084245356,0.281509514,0.012689327,0.094741514,0.046496777,0.076005548,0.0,0.0,0.053732324,0.033807904,0.020782036,0.063173691,0.115563679,0.076278201,0.012223687,0.011419301,0.131458247,0.021883368,0.012607876,0.025041738,0.018934719,0.021392306,0.041448824,0.028395167,0.165221717,0.036127671,0.019277945,0.057629899,0.096212432,0.024387984,0.021647195,0.021573645,0.065424208,0.046866331,0.0,0.087102593,0.01774202,0.010632752,0.031116081,0.05671761,0.079931185,0.024505418,0.03830192,0.024693927,0.010590075,0.190569038,0.0,0.016826748,0.088394115,0.0,0.129783577,0.0,0.0,0.058465268,0.053765212,0.01098386,0.040245222,0.017253305,0.069231189,0.074648119,0.030542489,0.007359711,0.059940022,0.0,0.048860587,0.153419412,0.077219509,0.13504726,0.146094132,0.027157955,0.080346058,0.016596645,0.084316691,0.076791671,0.01326146,0.0,0.012528611,0.003597678,0.032438645,0.173527068,0.041112694,0.089243504,0.011539622,0.04690397,0.141686037,0.052051256,0.09627919,0.047533568,0.04499948,0.12888573,0.120256303,0.0,0.137755834,0.093913607,0.075287081,0.100055625,0.006061565,0.053667516,0.026194237,0.076002991,0.080111611,0.043141572,0.024276035,0.03093263,0.017096552,0.172357491,0.185824165,0.152988295,0.0,0.143897558,0.037845086,0.1748389,0.278730642,0.115500999,0.01478914,0.033938279,0.026299797,0.159394437,0.0,0.0,0.10377827,0.045522854,0.095331433,0.0,0.105472205,0.030938774,0.026174636,0.160671255,0.070243155,0.038313981,0.170548238,0.060794097,0.036446751,0.061188147,0.054884821,0.026064486,0.025936747,0.035949725,0.045168898,0.04767798,0.058812134,0.018667601,0.087646694,0.19033746,0.045165796,0.039385518,0.010914988,0.034203092,0.085268317,0.084354713,0.028571132,0.037383778,0.042354152,0.043410693,0.056872392,0.051573903,0.016113019,0.052295514,0.097127867,0.077284566,0.046653872,0.02775746,0.0,0.0,0.003574698,0.11733375,0.081684728,0.079261744,0.030410273,0.069938838,0.037885683,0.235183205,0.123151947,0.074565098,0.169137707,0.0,0.009429612,0.071076672,0.070234306,0.043663452,0.059110912,0.0,0.042324556,0.012657494,0.048857925,0.090185027,0.015186146,0.0,0.155541973,0.052502049,0.172596885,0.118868155,0.037639672,0.021031586,0.069968018,0.087963415,0.043885147,0.064163983,0.0,0.0,0.02592132,0.023734872,0.053921264,0.120770963,0.118791698,0.034717799,0.041823046,0.164724567,0.174336148,0.006295472,0.093463546,0.067520165,0.161182103,0.053296868,0.161474419,0.041740624,0.306542848,0.079293753,0.044472637,0.073816097,0.012080016,0.02859825,0.076944658,0.055084019,0.162093059,0.024546148,0.118783796,0.052836076,0.037889224,0.022587621,0.036213953,0.029779207,0.020693619,0.042037073,0.062516602,0.012620221,0.008615,0.137618927,0.047588696,0.050790917,0.037864721,0.070551723,0.021326471,0.018955479,0.105666833,0.040725405,0.072252888,0.061008889,0.011007815,0.0,0.070247589,0.030294931,0.210511558,0.0650227,0.173587926,0.183579854,0.113678422,0.078174543,0.027292686,0.026602089,0.116226984,0.131221393,0.035409328,0.0,0.083327693,0.08125293,0.0,0.103422709,0.125688044,0.187443314,0.04295842,0.034938717,0.045603215,0.085834992,0.048050783,0.065589906,0.173529036,0.029492018,0.121225455,0.114475357,0.0,0.060927824,0.019459164,0.050070476,0.06227604,0.046217345,0.177270016,0.080127283,0.076059648,0.026788937,0.089197963,0.151279591,0.112203445,0.039961837,0.048207017,0.064871045,0.042685217,0.105181277,0.103751236,0.035028853,0.046262201,0.060688248,0.078347922,0.088828418,0.081944045,0.123726711,0.013485235,0.077659918,0.0,0.100074524,0.037289996,0.050028809,0.077234113,0.016197216,0.051571772,0.055672032,0.066336811,0.032672263,0.047491371,0.077154417,0.087692636,0.074221559,0.092834313,0.020571083,0.005978595,0.033489979,0.166609517,0.021552357,0.130321652,0.068059156,0.027573983,0.103442268,0.0,0.168312678,0.162205516,0.076744561,0.015591925,0.067639698,0.056516756,0.140213762,0.006075007,0.022612742,0.066770664,0.186250852,0.016639482,0.040599963,0.070533748,0.01251245,0.022807826,0.041474232,0.055289464,0.083698962,0.076045655,0.116366304,0.053279839,0.021648305,0.037060755,0.224607399,0.142699588,0.103726639,0.158424516,0.08234117,0.087847141,0.158562708,0.047458754,0.015385857,0.047377447,0.120443298,0.032229348,0.127638966,0.047473135,0.149986868,0.102065622,0.114243048,0.019183756,0.112324552,0.068153091,0.071597469,0.052473797,0.076914745,0.079837509,0.024520854,0.02678995,0.024432767,0.047220268,0.045534457,0.0,0.090806457,0.033813351,0.031730739,0.102262138,0.0,0.052511611,0.056713056,0.053950661,0.044192372,0.046958533,0.055829496,0.13498355,0.0,0.032538896,0.005264755,0.121832956,0.037403973,0.10400212,0.054162439,0.023876708,0.065797601,0.047857804,0.048703432,0.006765149,0.06121988,0.0,0.041563696,0.098457814,0.108930629,0.03046847,0.073288275,0.097692448,0.135944247,0.123089128,0.034328578,0.089688978,0.121709653,0.020618957,0.163548055,0.178192864,0.048625599,0.170213676,0.044829295,0.113387677,0.058168807,0.016650191,0.151044881,0.038948125,0.020688969,0.112249781,0.046116319,0.050957715,0.053211728,0.011111714,0.077029195,0.017344679,0.019457372,0.012063121,0.079755214,0.074830794,0.044917289,0.018310142,0.041247932,0.0204702,0.161404914,0.186067862,0.057792343,0.0,0.061270647,0.087823675,0.05281112,0.112495847,0.029100745,0.019546214,0.112549008,0.0,0.019917598,0.089817198,0.121442754,0.069250192,0.159193194,0.0,0.023209537,0.148372897,0.0,0.065689432,0.061301149,0.117825569,0.04152307,0.024201905,0.066269294,0.01100413,0.250560049,0.099113429,0.140008554,0.031278532,0.05373063,0.025842951,0.052555346,0.10178199,0.021293097,0.124668026,0.050043472,0.024468806,0.01181025,0.027028323,0.172615327,0.06871772,0.032421521,0.127983545,0.070288365,0.076755106,0.052434201,0.053413906,0.083019163,0.080010553,0.069403341,0.025616191,0.036326064,0.085434195,0.010658153,0.041994899,0.011556919,0.0,0.124110349,0.139244918,0.032599801,0.157075658,0.018472714,0.0,0.020739698,0.186825823,0.09512291,0.03269312,0.013841737,0.103449993,0.089554186,0.052257982,0.170251293,0.048131556,0.026899856,0.026663778,0.0,0.109900843,0.033651278,0.075311837,0.0,0.039996021,0.010886324,0.04506213,0.041729735,0.053426165,0.083488992,0.0,0.060045008,0.10402738,0.083536071,0.015169739,0.028382853,0.061299601,0.070588621,0.023201357,0.042626422,0.108501676,0.122571209,0.093408695,0.032731074,0.043386131,0.021969896,0.183948465,0.033052168,0.054443762,0.040172077,0.175995526,0.042530668,0.274592283,0.059594017,0.136784873,0.0,0.019912606,0.04719387,0.039638705,0.074083388,0.091051579,0.02090277,0.153861181,0.161504957,0.119871307,0.069903773,0.069416467,0.02914662,0.046771477,0.092564193,0.104998144,0.119704498,0.03242518,0.052300844,0.026362624,0.0,0.187558629,0.04376368,0.0,0.080072603,0.007146415,0.096317593,0.020729902,0.15783357,0.010928678,0.036110222,0.030842963,0.0,0.089078338,0.100164204,0.045763623,0.10399676,0.057104066,0.041971264,0.114472403,0.045117476,0.0,0.02727641,0.152747503,0.060706749,0.120788077,0.076851759,0.063810405,0.081328781,0.020387989,0.113518466,0.052917345,0.018911474,0.075981306,0.018848862,0.116527666,0.0,0.070040195,0.059827007,0.051827123,0.03595391,0.017182935,0.007546808,0.105831117,0.018275994,0.027064381,0.0,0.06063976,0.051847425,0.014518575,0.159722816,0.05911748,0.020555958,0.171383506,0.090286009,0.061986574,0.160235723,0.010032624,0.116928924,0.011835436,0.097884718,0.038204311,0.014631149,0.160044589,0.02930277,0.040351229,0.042123243,0.081485126,0.149288779,0.0,0.066567121,0.068535039,0.057062186,0.027991093,0.089901774,0.0,0.038892859,0.045270426,0.020942867,0.030693756,0.015162573,0.0,0.119461188,0.095158081,0.050545502,0.093405156,0.179191782,0.160951491,0.102157958,0.017791458,0.036997104,0.116261335,0.12829573,0.069100548,0.035257037,0.065633934,0.042743728,0.129309277,0.0,0.0,0.156802171,0.103634038,0.045055587,0.031199028,0.062239081,0.06153089,0.053692878,0.01545846,0.06627464,0.030274175,0.015332872,0.10589167,0.016910914,0.128621941,0.014153743,0.013637046,0.171523928,0.009950343,0.037160705,0.148986013,0.078103689,0.140121306,0.040446145,0.093824276,0.018926773,0.021322439,0.05336162,0.138777108,0.016823566,0.083799283,0.048940428,0.02429329,0.050829881,0.0,0.024994069,0.110152524,0.060603014,0.033192524,0.121174241,0.046848053,0.05489331,0.034868095,0.070933894,0.0821398,0.117580062,0.049819857,0.030877303,0.069524391,0.076860103,0.121034655,0.092865746,0.075753207,0.103188491,0.072559351,0.122735471,0.091971856,0.056434817,0.035740763,0.125602951,0.116762173,0.030918873,0.119848041,0.139464425,0.021666335,0.066249551,0.107564024,0.085122855,0.115031783,0.014580886,0.077548732,0.022457694,0.103129612,0.023012718,0.026933321,0.149360698,0.019586115,0.0,0.0,0.049155769,0.0,0.049697923,0.081206491,0.048924811,0.082386011,0.050279604,0.080203852,0.050335829,0.178694026,0.027580163,0.04710181,0.121914662,0.047704151,0.01268995,0.06981517,0.058513255,0.042357203,0.101932076,0.062476391,0.023454399,0.037681448,0.025408702,0.039572298,0.093202196,0.016979326,0.122304725,0.010600287,0.084273286,0.055162827,0.054741627,0.051366901,0.028533032,0.032072321,0.022507877,0.072410764,0.005611367,0.051697108,0.08819473,0.020611526,0.072928316,0.0160526,0.018600249,0.04453262,0.299097859,0.039895009,0.083683243,0.012749289,0.063554289,0.016030344,0.090324849,0.03670437,0.026342897,0.017783501,0.167316771,0.071660976,0.039576776,0.049074897,0.038904624,0.01438222,0.030968306,0.0,0.0,0.099681254,0.021037197,0.279886948,0.016107549,0.108330902,0.025924623,0.008664064,0.047330801,0.024756031,0.056406129,0.0413383,0.047879864,0.021005399,0.041615224,0.07867708,0.015769693,0.102633047,0.04217956,0.028710065,0.085082648,0.140163038,0.042153502,0.15385153,0.061753511,0.042179884,0.029420857,0.066657791,0.168154574,0.097805615,0.06082246,0.107870997,0.059940022,0.035967107,0.032442388,0.0,0.045358609,0.119698523,0.150238656,0.049478259,0.010998932,0.0,0.08989642,0.063385859,0.086281593,0.128315409,0.017108186,0.051970838,0.0,0.024482433,0.047792845,0.023339367,0.009991273,0.045675104,0.173904193,0.021039273,0.027426689,0.064141866,0.037556341,0.057835325,0.076995176,0.297312685,0.104348025,0.016989991,0.023885957,0.032954044,0.047429578,0.047152554,0.157470693,0.125274674,0.053038775,0.065339802,0.05046718,0.0,0.039306822,0.110254143,0.037569401,0.069852615,0.067676056,0.149895348,0.209162936,0.080277707,0.156935553,0.044011225,0.031685529,0.015291576,0.068112874,0.020600553,0.10423592,0.081614376,0.082215187,0.021372636,0.025460232,0.029510313,0.122761775,0.066065799,0.039454924,0.036910398,0.0,0.055159054,0.034300475,0.112399145,0.040523265,0.019559746,0.043483398,0.152366659,0.047784475,0.026598474,0.039300964,0.091348964,0.010602292,0.0,0.021579162,0.03593692,0.09046564,0.0,0.054245722,0.041621987,0.044888397,0.018805105,0.049279392,0.116815953,0.020698674,0.033103556,0.090008963,0.116750407,0.061184804,0.027190917,0.120467994,0.011189235,0.013714183,0.0,0.078728915,0.26639671,0.163902159,0.067312613,0.03832122,0.016653022,0.021421289,0.102941345,0.030479118,0.031024168,0.077100381,0.038978526,0.117530851,0.008238064,0.015664229,0.039824346,0.014883661,0.038102203,0.026440214,0.017396308,0.086088353,0.092272132,0.065618434,0.052691046,0.047333044,0.167722519,0.105816753,0.214125129,0.054114924,0.042758477,0.037391881,0.104784329,0.060055757,0.048885018,0.097611115,0.007279889,0.0,0.049621701,0.08235926,0.012481638,0.045653999,0.037734334,0.038454076,0.062395455,0.042716235,0.049547993,0.037829469,0.146172453,0.08739577,0.041479396,0.031023835,0.0,0.112893431,0.054851438,0.016052446,0.094450618,0.02197698,0.074152133,0.014072399,0.034112833,0.0,0.100493148,0.092771309,0.159690469,0.044272226,0.020934413,0.0,0.142632186,0.13341564,0.020711996,0.112399145,0.139700397,0.031377308,0.058855357,0.151180862,0.09391835,0.042378864,0.064939211,0.035183156,0.021661527,0.159165324,0.0,0.084436394,0.069532901,0.039836895,0.018019662,0.015711807,0.053330653,0.227260689,0.057410724,0.062878412,0.0,0.121725411,0.031439206,0.088931701,0.0,0.032387589,0.094010215,0.173324207,0.156541861,0.071948252,0.048092778,0.107258822,0.089975294,0.123070513,0.019716846,0.054986919,0.010027885,0.024795057,0.093954022,0.127234249,0.073606829,0.029131242,0.130931048,0.074517508,0.162211939,0.065507999,0.036672107,0.053802405,0.043025208,0.045073782,0.106968577,0.057744249,0.0,0.052086085,0.019114349,0.151087845,0.048388423,0.053185208,0.035016091,0.01433033,0.080626601,0.018887088,0.099343352,0.071971918,0.039553606,0.0,0.115826834,0.051702257,0.03447406,0.0,0.04379158,0.0,0.037006076,0.09147267,0.027723342,0.102295904,0.037033223,0.174350275,0.025886443,0.0,0.029567218,0.021695674,0.049209192,0.035292855,0.037574137,0.0,0.005997615,0.070712031,0.036133463,0.124110734,0.094145821,0.084676173,0.030242184,0.04324563,0.214306131,0.056861638,0.026980351,0.04280113,0.020407296,0.054488534,0.021518435,0.118661426,0.083606565,0.056783389,0.046982429,0.035186271,0.145220646,0.04487828,0.007564836,0.038427677,0.099574908,0.015388393,0.118599314,0.063817206,0.082601537,0.015782495,0.123365446,0.005698435,0.103569075,0.10581147,0.171079215,0.092737611,0.021206464,0.0794507,0.05413521,0.037980963,0.028184344,0.196897637,0.109920138,0.182619235,0.065630844,0.027447057,0.035178935,0.038455125,0.035102094,0.091485232,0.058102469,0.022940349,0.06737681,0.022148582,0.006792707,0.024870035,0.096931426,0.008693632,0.078961284,0.050479463,0.089485918,0.01594238,0.029127115,0.069236421,0.178699961,0.015740089,0.059565107,0.126277921,0.291322397,0.053433908,0.131155007,0.075194929,0.075557965,0.122928415,0.044442342,0.100741569,0.039651481,0.011278673,0.0,0.106952661,0.129825457,0.029947409,0.035565457,0.047760002,0.015089147,0.07818366,0.086632125,0.064306056,0.08493006,0.072066634,0.041256807,0.058587558,0.015711434,0.032714163,0.047782552,0.067560171,0.029505077,0.045076104,0.299544153,0.139452413,0.246178257,0.065128984,0.024816585,0.005988175,0.034473804,0.028987582,0.032078604,0.013593151,0.015911432,0.005588601,0.139510771,0.262504325,0.0,0.056783774,0.041536279,0.079538056,0.064057374,0.017156262,0.054540968,0.045648973,0.065917194,0.058687359,0.009908113,0.094395215,0.02777326,0.006326106,0.143990546,0.09233359,0.083661793,0.042022999,0.072044336,0.0,0.024404214,0.119450639,0.121917641,0.131905128,0.179043614,0.0152302,0.082401592,0.013917468,0.038140213,0.054166556,0.03229139,0.108641498,0.015105338,0.114650377,0.115342009,0.0,0.00896468,0.082346376,0.013318,0.01325293,0.017131453,0.022925594,0.028316137,0.052562923,0.1837926,0.111296158,0.029860799,0.130617879,0.238990225,0.103186396,0.0,0.168186376,0.050255855,0.061173235,0.029881147,0.050154219,0.051837621,0.11013617,0.024086626,0.013115567,0.0,0.038764258,0.07986963,0.066057085,0.093044518,0.140771867,0.033186809,0.11139344,0.049966527,0.097212998,0.150863781,0.091900406,0.017414576,0.053866912,0.014714625,0.127140836,0.061923154,0.122417514,0.0,0.053858378,0.048784266,0.073080167,0.184602443,0.080582001,0.103856487,0.017500079,0.173275373,0.083393481,0.0450476,0.051816577,0.026297031,0.117808305,0.049270974,0.093540749,0.087105823,0.0,0.068068082,0.01761655,0.040898157,0.079791176,0.031049674,0.019112323,0.103272336,0.054001526,0.081073148,0.019774239,0.153038134,0.13720009,0.02573698,0.070354806,0.047028483,0.030857538,0.045302246,0.073341257,0.00880049,0.039562497,0.038745948,0.015193653,0.027075481,0.052068722,0.114010306,0.111641021,0.008771522,0.103304968,0.028919203,0.034136703,0.045393469,0.047199898,0.07319282,0.011287929,0.036628533,0.105057952,0.0,0.017741644,0.039225553,0.141766029,0.080236064,0.082332074,0.136085739,0.008885672,0.0,0.141355941,0.121227447,0.005975976,0.011425458,0.043961689,0.01949589,0.029523375,0.062751586,0.0,0.059175953,0.009831566,0.216762584,0.057254675,0.0,0.041598912,0.024206741,0.063862271,0.073484791,0.125983278,0.058161092,0.1092139,0.138195491,0.007595816,0.11956313,0.018020588,0.067442541,0.008239804,0.030127406,0.016014343,0.041524729,0.055926872,0.097597084,0.177107232,0.0,0.019506654,0.022936556,0.02610006,0.103974431,0.086360962,0.011298801,0.055541153,0.088720803,0.024866609,0.064129493,0.100213917,0.155621254,0.161832494,0.170283492,0.012313256,0.0,0.005689466,0.052140695,0.050579228,0.04904165,0.034806679,0.095395258,0.093530571,0.061124626,0.0,0.121624114,0.081719458,0.01336643,0.015035032,0.059557164,0.077443049,0.055470721,0.019514867,0.08228859,0.036090136,0.098645981,0.03744271,0.147933567,0.084937598,0.020601136,0.158439388,0.0,0.135072801,0.035156307,0.014509564,0.100315391,0.058420325,0.027096298,0.037912667,0.016110572,0.076158144,0.104338095,0.129998012,0.0,0.024247803,0.005483027,0.064371885,0.082684949,0.098984923,0.014016743,0.060880827,0.068511767,0.0,0.04017515,0.120441348,0.045440803,0.135906738,0.025973288,0.23372937,0.091552173,0.028883289,0.03236252,0.139835844,0.049810328,0.068466049,0.073178424,0.113535259,0.026222599,0.0,0.01361686,0.023770288,0.045720935,0.097145513,0.099858247,0.047339698,0.129596025,0.033024663,0.195963464,0.112875322,0.104930609,0.097275225,0.010623794,0.134248297,0.033139916,0.044786137,0.197679823,0.171042873,0.019764765,0.080455726,0.109540783,0.026291649,0.173299972,0.021325759,0.042441097,0.0,0.057381292,0.017277445,0.047249645,0.046408928,0.067456225,0.027315417,0.021972988,0.059270332,0.027936385,0.033958586,0.005973153,0.033968012,0.027861814,0.134564284,0.099851786,0.280083047,0.026320247,0.060665739,0.052290474,0.140447292,0.079076331,0.030599358,0.051042366,0.123745045,0.04592756,0.048975573,0.13177444,0.0,0.068788985,0.05630601,0.025864429,0.02704266,0.124994714,0.189512493,0.038737554,0.012445941,0.05740255,0.018609305,0.078327268,0.093464804,0.090702992,0.024751688,0.0667322,0.018647294,0.021603383,0.065799906,0.0,0.109890489,0.017093789,0.16898615,0.026302004,0.105155137,0.088708388,0.00632491,0.029629236,0.064924087,0.167123591,0.017813048,0.04045348,0.161370557,0.123617286,0.104021582,0.067549872,0.01441152,0.010961524,0.087294906,0.014338639,0.159834724,0.008753653,0.012061003,0.109596256,0.0,0.042047755,0.049791265,0.054086343,0.035476594,0.060534179,0.034874689,0.066403009,0.075815345,0.072915282,0.041077066,0.169808455,0.106435421,0.022749737,0.152029528,0.01214561,0.011124197,0.018834342,0.0,0.015289106,0.056394771,0.0,0.079650513,0.030359318,0.04316119,0.020721583,0.031515822,0.073858923,0.056785107,0.0,0.041908424,0.058377105,0.184169331,0.279663801,0.042042857,0.100765839,0.007291207,0.182980378,0.0,0.057175809,0.06969924,0.120667057,0.148751515,0.133296733,0.013111823,0.115052659,0.093644428,0.092971061,0.105245865,0.028664878,0.026142114,0.027635129,0.075786047,0.214306131,0.057118149,0.102967068,0.038549965,0.087945039,0.048934817,0.040945898,0.023788808,0.029861927,0.036611419,0.028589521,0.071720362,0.09203683,0.099649694,0.099274751,0.020368186,0.176712457,0.034949223,0.093315935,0.0163024,0.05704978,0.034674522,0.015470159,0.014362412,0.032224086,0.153585858,0.165013572,0.017226149,0.107041738,0.03249201,0.104509448,0.077636468,0.044598726,0.169493477,0.051427223,0.021492339,0.0,0.02304845,0.077729209,0.165611092,0.027858864,0.033408076,0.028779079,0.030557961,0.058154195,0.079666936,0.095306027,0.150455041,0.074731622,0.268966279,0.104392185,0.039104567,0.117963418,0.0,0.138305372,0.0,0.020994235,0.028297924,0.049660306,0.029637145,0.06049406,0.056146632,0.013925484,0.043574485,0.044676513,0.073025792,0.072816495,0.115772125,0.057027285,0.0,0.025780862,0.090837986,0.009991275,0.039325397,0.02156897,0.0,0.0,0.085883187,0.087615564,0.034497126,0.025800674,0.063525167,0.165907543,0.0,0.112492619,0.159906706,0.0479876,0.062282301,0.03770442,0.147355554,0.114762583,0.09659331,0.025531593,0.121586376,0.066875983,0.088344041,0.065535324,0.054317483,0.077011493,0.045448081,0.041374909,0.109005584,0.008814363,0.057348328,0.076483451,0.039407615,0.104171229,0.03854151,0.105306199,0.07624018,0.041461032,0.020228528,0.046569711,0.04146639,0.171476879,0.043345406,0.065692664,0.031944868,0.107493292,0.026170661,0.039213146,0.065296399,0.017019624,0.113443531,0.04153551,0.03863415,0.035980572,0.0,0.093485761,0.137530409,0.098056243,0.099775148,0.032902177,0.028579933,0.102883628,0.044800289,0.13023619,0.0,0.041524729,0.033607569,0.0375513,0.108158918,0.162844648,0.229678918,0.05266193,0.034447102,0.171012056,0.061050536,0.112780422,0.092209315,0.044342366,0.107614855,0.019974614,0.050163021,0.0,0.0,0.070649186,0.02733844,0.0,0.082738167,0.031583781,0.097710924,0.0,0.130662596,0.106200539,0.027144323,0.017088476,0.022731909,0.167691399,0.108192641,0.011079996,0.128985562,0.032532744,0.056932641,0.060248633,0.092575723,0.125932787,0.04992156,0.129229963,0.174222894,0.128414313,0.016243582,0.049027044,0.045451204,0.028724484,0.122125769,0.055072409,0.022772467,0.064098602,0.063972131,0.060145056,0.14616317,0.009621861,0.091501713,0.049776901,0.092042001,0.071717648,0.0,0.052315184,0.014961062,0.15679782,0.024525828,0.1196271,0.041332726,0.025195384,0.060549609,0.045652243,0.014420795,0.069567714,0.138701966,0.007312702,0.093385381,0.11125355,0.045910471,0.033780319,0.054903339,0.078332053,0.021846371,0.017715927,0.099306497,0.148682491,0.025621558,0.0914091,0.203400773,0.029329243,0.020529174,0.0,0.174459878,0.015860869,0.150824783,0.03275986,0.036879682,0.058551954,0.005469959,0.037222843,0.047337627,0.041366008,0.110461228,0.0,0.05559341,0.039796377,0.034706495,0.074128491,0.017578564,0.087901272,0.029541813,0.034722896,0.021269538,0.034043337,0.063770861,0.064426754,0.049217255,0.13827922,0.125632716,0.073906461,0.057637631,0.097237755,0.112867957,0.058425726,0.042173019,0.026007997,0.0,0.03512042,0.064521395,0.056382065,0.127386531,0.062537976,0.032414575,0.022972713,0.062949401,0.076187616,0.143078892,0.02249459,0.103652052,0.023013626,0.157470693,0.019229584,0.041001013,0.128422279,0.069287489,0.073138055,0.079189212,0.093765794,0.082129741,0.063325948,0.015799406,0.021481473,0.038696828,0.054144012,0.024903892,0.067208126,0.017746063,0.146427351,0.099539874,0.029734029,0.170628832,0.057283416,0.049481039,0.017622773,0.083668945,0.045052492,0.0,0.118770807,0.081021001,0.036790859,0.056724671,0.008853613,0.067103564,0.128557634,0.075705596,0.087351931,0.018007487,0.029618788,0.04868553,0.027318818,0.053289916,0.032441572,0.03055448,0.12537274,0.065308939,0.10739705,0.046092237,0.039801037,0.031017124,0.039657436,0.022585241,0.063428202,0.019507599,0.059430002,0.164609767,0.101729922,0.045363276,0.096368001,0.0,0.032768691,0.038675869,0.063960902,0.126468543,0.103961646,0.075170211,0.067391444,0.030899314,0.08396923,0.060788771,0.039308756,0.014652476,0.085515417,0.021492148,0.038638642,0.021224126,0.085204025,0.107230638,0.055583959,0.140896203,0.006787278,0.066997948,0.0,0.047773924,0.060683277,0.125883329,0.105705241,0.070325509,0.056455037,0.0,0.310376916,0.036531539,0.09991293,0.053324723,0.085447928,0.058264085,0.084882966,0.028999721,0.040176104,0.067071206,0.0288575,0.030239711,0.081322858,0.224472159,0.00963535,0.103603094,0.029717039,0.089334085,0.063107714,0.020748121,0.023190398,0.037709148,0.140136534,0.035786568,0.036760791,0.05716456,0.037399255,0.0,0.153243627,0.101626463,0.163640988,0.0284073,0.037973245,0.114704556,0.076012177,0.025719421,0.041558343,0.057382845,0.01522774,0.01091879,0.0662837,0.028436862,0.039805092,0.0,0.015801675,0.045846525,0.075049323,0.067795854,0.0,0.130815962,0.024689595,0.073825883,0.03152879,0.05876482,0.156831826,0.024383317,0.0082799,0.036848856,0.048445132,0.047310687,0.019416804,0.029737925,0.059064826,0.125073951,0.01542162,0.089918992,0.045986314,0.028321492,0.040733779,0.085065105,0.017669658,0.033043717,0.03213687,0.13614823,0.045198261,0.156928379,0.042629339,0.114743211,0.085261544,0.027147206,0.14783322,0.038678487,0.071498575,0.097062093,0.035483325,0.042644024,0.056705486,0.069098084,0.056030907,0.099526713,0.177935403,0.013774708,0.063258348,0.02577108,0.0578629,0.01137013,0.0,0.026587669,0.015366655,0.020577225,0.021586004,0.039240315,0.045660601,0.035086303,0.090745855,0.209684121,0.103863648,0.046195515,0.106001313,0.152387525,0.011530019,0.203536932,0.166772358,0.017627547,0.042414494,0.029740086,0.029907872,0.017730232,0.011035524,0.088322179,0.047368095,0.021585405,0.091670767,0.024693927,0.098601801,0.021070361,0.076032402,0.014816444,0.113857626,0.174016121,0.021359628,0.044690933,0.0,0.056418725,0.009936905,0.108172183,0.158562878,0.079218842,0.029890782,0.070300718,0.036278264,0.02064682,0.028931499,0.0,0.075182464,0.058133621,0.091020015,0.011284003,0.021842793,0.034426846,0.040287073,0.098263617,0.064421237,0.0,0.063717792,0.065063889,0.071394538,0.125420107,0.153589518,0.006057667,0.042828678,0.042036392,0.079523572,0.174118549,0.071025838,0.045772769,0.045229136,0.099132174,0.08983368,0.076044589,0.062890304,0.055090377,0.14310206,0.0642104,0.044183931,0.025761698,0.077743909,0.009715743,0.051547413,0.105521226,0.012388013,0.088501299,0.125771078,0.007471585,0.188151371,0.06055337,0.055027599,0.024186975,0.28704117,0.1173895,0.031292877,0.00703512,0.012202405,0.063896351,0.036779867,0.074338562,0.020637068,0.037687837,0.025448206,0.026610182,0.014212498,0.109374441,0.055352065,0.046634759,0.076281071,0.048168592,0.060162413,0.021321588,0.039886263,0.040917483,0.065577504,0.173905741,0.052989927,0.008946536,0.020448446,0.008225098,0.033994765,0.032003136,0.071246467,0.020756532,0.0,0.027119268,0.146468894,0.029886798,0.113449342,0.183024199,0.130679603,0.05606697,0.020775058,0.025915914,0.0,0.129410755,0.159195426,0.010916726,0.021845267,0.14823358,0.093891315,0.064891788,0.026515122,0.128061273,0.084073075,0.016085216,0.028574451,0.0,0.02388144,0.026411459,0.026021371,0.092322059,0.079562345,0.044500601,0.181169873,0.060545628,0.023107874,0.03752254,0.014016743,0.073293783,0.055338756,0.01602239,0.063331355,0.071402425,0.022955693,0.011310821,0.10327572,0.014877034,0.055387247,0.0,0.042646003,0.04200671,0.128640565,0.009620184,0.090220566,0.034896013,0.020477579,0.065186228,0.023500502,0.0,0.076020756,0.13618752,0.0,0.042474835,0.045108792,0.034979457,0.128153336,0.072444983,0.066541719,0.020046943,0.170932857,0.019451167,0.074369587,0.026710454,0.024488439,0.0,0.064123704,0.044214135,0.081593757,0.107208159,0.096663729,0.050491164,0.074557961,0.019049691,0.024650932,0.016730894,0.02717463,0.059497511,0.118575601,0.080277707,0.074370772,0.03514967,0.131070648,0.0,0.024591047,0.037941512,0.026719159,0.078455536,0.08486204,0.049869757,0.099263089,0.182618653,0.096958614,0.012217624,0.030749596,0.041838623,0.044141726,0.171075221,0.065912362,0.092602446,0.0,0.029714904,0.019951406,0.086916126,0.051758358,0.033431957,0.070979549,0.274592283,0.051243144,0.020814797,0.056520886,0.154640734,0.014670454,0.046484138,0.08029289,0.098970494,0.0,0.084879879,0.062337196,0.015197838,0.175778605,0.119361811,0.062112285,0.038914743,0.134982959,0.023835413,0.0,0.040009212,0.026398984,0.037856364,0.021092185,0.099109001,0.104441517,0.05006853,0.090701591,0.112131275,0.104601689,0.054330154,0.081164178,0.034793779,0.036275691,0.066861456,0.008292773,0.151379828,0.079904068,0.038295533,0.0,0.162494861,0.102480138,0.048508058,0.059432784,0.045195307,0.078847814,0.028253161,0.042648161,0.020358565,0.081356869,0.024472537,0.081129049,0.082704564,0.084332638,0.167643297,0.08648324,0.097232147,0.015952023,0.033574204,0.05501583,0.094641972,0.046532678,0.080719435,0.076107437,0.022014451,0.308258994,0.086708987,0.010068952,0.093573569,0.035256945,0.048116258,0.021950037,0.043053682,0.041564073,0.087947879,0.113780055,0.171246685,0.038852056,0.072139167,0.249342884,0.052031075,0.037921193,0.047404371,0.0,0.058650124,0.093377128,0.115581112,0.0,0.112097216,0.085204025,0.030012644,0.0470198,0.04492594,0.048449768,0.069907412,0.184132888,0.040123315,0.046575743,0.023452939,0.024896589,0.031416038,0.06912372,0.177820954,0.061900923,0.0,0.021255857,0.071948252,0.007175526,0.06239666,0.058112049,0.02970149,0.027498277,0.071180921,0.077679213,0.073685833,0.160632642,0.018914599,0.01596229,0.089322461,0.134595967,0.0,0.03879778,0.0,0.041772386,0.065886059,0.027666863,0.079416624,0.044504129,0.085915295,0.060888099,0.07707176,0.043306047,0.034081551,0.05215787,0.0,0.110532975,0.119176431,0.027038245,0.108714206,0.03538128,0.027124299,0.095344543,0.08318261,0.049405001,0.006803416,0.026073405,0.103939618,0.078231229,0.087966875,0.124214471,0.019880322,0.041829904,0.065538317,0.046729336,0.0,0.058150483,0.025517058,0.0,0.050167414,0.102015088,0.110651177,0.094352624,0.029027743,0.020494302,0.021125435,0.009830622,0.0,0.058559885,0.117169698,0.005256469,0.025860761,0.054949947,0.054457963,0.098790484,0.032289868,0.071429389,0.036876003,0.201643565,0.079978878,0.066783292,0.029347924,0.0,0.0,0.018447852,0.103725396,0.073307104,0.168661356,0.051018257,0.085258864,0.057489563,0.034446714,0.071198613,0.047857249,0.135116764,0.047357161,0.054056872,0.083854075,0.009728926,0.066756194,0.104001913,0.164018678,0.060415636,0.128931187,0.161413005,0.01594096,0.0,0.106697143,0.022562708,0.174319632,0.075295456,0.063266852,0.052525654,0.036285125,0.12471467,0.021694101,0.046366458,0.012605492,0.112498699,0.021691386,0.074046742,0.242768664,0.033401862,0.042206477,0.048019877,0.167016095,0.077664737,0.075155997,0.039816816,0.070964186,0.022040367,0.027770577,0.025735975,0.112150406,0.105748691,0.025370468,0.063508168,0.038513862,0.070362085,0.028100349,0.009661057,0.044708228,0.099297902,0.071122419,0.0,0.051920175,0.057148803,0.009820129,0.044148717,0.018148732,0.015304311,0.141816013,0.04320284,0.075727897,0.020947887,0.012480591,0.06127993,0.062399603,0.104063695,0.047708667,0.061912597,0.035611045,0.091172403,0.009963834,0.032694281,0.0,0.025302804,0.011027014,0.0,0.052280828,0.083729547,0.094064368,0.017527666,0.007055259,0.041445492,0.172726426,0.084284513,0.06448577,0.035499428,0.084343183,0.023068402,0.021450443,0.070227182,0.159334462,0.032468955,0.051227193,0.034643462,0.038956669,0.114317778,0.039725274,0.127707501,0.026573609,0.060237241,0.091949401,0.015095622,0.048881014,0.0,0.065726925,0.025636945,0.088502045,0.019073386,0.039200151,0.021344178,0.030355463,0.07027007,0.130733334,0.140584452,0.026597059,0.014365128,0.033281349,0.128309411,0.080619969,0.181092301,0.015887996,0.005559688,0.07686393,0.015431545,0.183368339,0.042751812,0.070141633,0.162626685,0.100174939,0.015513314,0.046081489,0.022456327,0.044340045,0.224830093,0.083464455,0.06337778,0.057512493,0.025926223,0.152573001,0.122550245,0.097885516,0.08454227,0.083694927,0.124555719,0.103473165,0.053372178,0.051945908,0.029172707,0.027953194,0.09060629,0.024430294,0.069695361,0.02800432,0.116651733,0.076364306,0.03258625,0.144631478,0.113564473,0.010940934,0.134597662,0.114329308,0.036268455,0.111447593,0.03305315,0.220221011,0.135767734,0.156615836,0.018556186,0.00557982,0.043756113,0.0,0.032256191,0.046625941,0.062353714,0.0,0.09698132,0.066241884,0.04302561,0.009579343,0.095341405,0.037985629,0.050071843,0.0,0.030901894,0.064663519,0.065053427,0.0,0.15121816,0.056555477,0.151688857,0.010049688,0.054944247,0.028943289,0.080417724,0.219568112,0.0,0.119952711,0.021535488,0.025479919,0.100970195,0.05250462,0.113918065,0.07157425,0.097822555,0.148381569,0.026230365,0.129972082,0.037628842,0.121893603,0.088965771,0.110885027,0.03466576,0.0,0.156014453,0.167836117,0.046989556,0.129767515,0.02665921,0.020591811,0.07961949,0.089693419,0.02438425,0.058671483,0.156072361,0.047987061,0.053579102,0.009408748,0.066713516,0.036130545,0.027036842,0.060160503,0.051953489,0.0,0.277579189,0.013338995,0.025793045,0.099125013,0.032447909,0.062869397,0.1719225,0.01270511,0.103863648,0.007583861,0.060822826,0.107320959,0.087395867,0.08429269,0.020280634,0.0,0.056474207,0.012148905,0.0,0.102986542,0.05263512,0.112731284,0.047147628,0.019088324,0.015365323,0.089765562,0.046475348,0.035144569,0.141879554,0.058279823,0.099321607,0.0148655,0.179191782,0.033265629,0.089827705,0.030169768,0.118848485,0.0,0.049612318,0.083179333,0.174497541,0.038541712,0.046123804,0.102768984,0.033179231,0.023923093,0.047390108,0.070333939,0.078832748,0.0,0.020181546,0.078153958,0.015898191,0.09851376,0.016297312,0.022183497,0.026958635,0.098331927,0.121879396,0.051758515,0.04126841,0.027947642,0.031581072,0.12578499,0.112299979,0.086417608,0.054672984,0.0693587,0.088053052,0.107801614,0.08271731,0.014580169,0.035391991,0.017153018,0.125498428,0.041346719,0.010980551,0.033355494,0.122548032,0.024232347,0.065806717,0.046707264,0.0,0.051741591,0.045643611,0.081615145,0.026989658,0.055439323,0.136300946,0.018833177,0.026211917,0.042585419,0.055671183,0.173436917,0.253421913,0.121419594,0.02858175,0.10935376,0.092114847,0.113844617,0.060763988,0.089368341,0.18413701,0.07492586,0.014890695,0.046595951,0.044697626,0.034404287,0.108844791,0.007111808,0.037643694,0.118890636,0.036358713,0.127986136,0.024477166,0.133086933,0.159690469,0.082951105,0.109992376,0.046276017,0.071244009,0.046550645,0.037649797,0.00600295,0.009876591,0.065799906,0.032909657,0.064752101,0.081651205,0.022599777,0.03788768,0.049175079,0.028543185,0.034446434,0.0,0.073581718,0.170768961,0.067208123,0.162949459,0.032232864,0.130065297,0.042922946,0.011235608,0.082412268,0.06462627,0.07404547,0.157816029,0.065767041,0.026031835,0.011868237,0.052420442,0.085446623,0.049153588,0.08757299,0.0,0.113603432,0.070058787,0.136978402,0.0,0.120932251,0.00898298,0.00673599,0.053288809,0.018957442,0.153733623,0.032925311,0.008034387,0.051902594,0.012124086,0.105799985,0.061308404,0.0,0.060090767,0.0,0.101891731,0.021413299,0.048101713,0.080455726,0.16763712,0.116932555,0.023417483,0.0,0.0,0.062140968,0.019849032,0.022316641,0.050461669,0.05017202,0.030069149,0.070394702,0.0,0.0,0.071563651,0.032284472,0.055063016,0.0,0.239568811,0.0,0.0,0.153942031,0.115592409,0.046048229,0.091720302,0.203400773,0.046870135,0.044502932,0.008735936,0.285077835,0.041465078,0.014289425,0.062851683,0.017058723,0.110580006,0.021310584,0.101598896,0.0,0.075245304,0.023951515,0.069828759,0.183403018,0.091011438,0.062868628,0.064321473,0.027080602,0.023010532,0.038520943,0.049262588,0.146272238,0.023042273,0.122281599,0.054677324,0.017089325,0.108238986,0.005987891,0.039033732,0.055806016,0.062307997,0.0,0.086808977,0.051607098,0.177546973,0.281955554,0.029061192,0.017786864,0.04513213,0.070632902,0.029175827,0.10429446,0.049239282,0.055117075,0.069961219,0.016044864,0.042145893,0.021700021,0.014423523,0.049319685,0.081387725,0.057429676,0.042794507,0.042966544,0.044984953,0.062440359,0.099960144,0.021316704,0.048782082,0.086591206,0.135282803,0.01261332,0.069557245,0.1551444,0.026174636,0.082381676,0.0,0.041629595,0.111199491,0.043941955,0.0,0.0,0.133171307,0.089452302,0.053847216,0.069382034,0.059687962,0.08789759,0.160104378,0.116404843,0.145045421,0.069207981,0.045162424,0.135733218,0.059202419,0.051424565,0.053621283,0.025181597,0.03067961,0.052782711,0.16056791,0.063175326,0.014446383,0.227609738,0.026256897,0.044764726,0.035578149,0.237725726,0.122466933,0.030944625,0.065315421,0.012546822,0.009774419,0.016210706,0.026478367,0.092492086,0.008566545,0.075485441,0.056978251,0.202948268,0.036382541,0.011423298,0.05360606,0.102972092,0.105740196,0.099912316,0.042158587,0.01936859,0.027001133,0.031623019,0.055210913,0.058512492,0.013176896,0.076720455,0.04779447,0.0,0.0,0.038474607,0.058422401,0.0,0.055422895,0.069424963,0.013027225,0.046051414,0.126255345,0.029353119,0.012743738,0.055023254,0.062225629,0.042291451,0.034652619,0.015224339,0.0,0.174402008,0.096617312,0.034182922,0.037591645,0.06991841,0.063714498,0.102835238,0.163505748,0.063451474,0.066935112,0.066809761,0.06519584,0.017704532,0.013301702,0.06057989,0.03005585,0.125079268,0.082529103,0.175359775,0.0,0.065787291,0.011043976,0.041241272,0.057311381,0.132357566,0.037243966,0.06327325,0.080257683,0.063303448,0.024531894,0.015437518,0.025867549,0.021662238,0.0122633,0.047228313,0.0,0.146972598,0.007229947,0.027611824,0.050418702,0.017061949,0.065382126,0.041857932,0.120988121,0.135620265,0.07747657,0.020239317,0.038404703,0.105023222,0.105308924,0.175184487,0.053263687,0.041738399,0.089650666,0.256919126,0.050041563,0.073025471,0.0,0.100155997,0.076841095,0.037948091,0.081787519,0.113246012,0.107368929,0.024970259,0.099524363,0.042618956,0.005503734,0.148044603,0.0,0.044982556,0.054860542,0.097258937,0.044081944,0.079061378,0.014219927,0.139336364,0.084312514,0.010712295,0.109993108,0.111904005,0.019127291,0.041668881,0.08783053,0.008681751,0.064131575,0.1432701,0.071280135,0.084623634,0.032719454,0.026353021,0.043903102,0.069892283,0.160180036,0.083310458,0.084796386,0.027064283,0.084723678,0.071452562,0.076759076,0.019196373,0.08473758,0.052302143,0.010935766,0.076591246,0.14689096,0.022516587,0.101142513,0.008695437,0.141463034,0.115178912,0.159843921,0.0,0.092104198,0.135346732,0.0,0.058032403,0.044839188,0.132777749,0.058132207,0.017035555,0.082000475,0.054979611,0.040006739,0.094443441,0.055569647,0.0,0.038468382,0.072867754,0.055831398,0.062576446,0.0,0.087272074,0.050706432,0.025993608,0.0,0.030789262,0.028463,0.015560368,0.105230981,0.046634759,0.012165821,0.005541732,0.117635456,0.094108819,0.034481025,0.0,0.174758034,0.035788153,0.046445455,0.062988626,0.131504228,0.077354192,0.042128684,0.114936679,0.057174261,0.058080284,0.106235129,0.032428906,0.044859477,0.046173643,0.015547419,0.006797978,0.071083489,0.058419856,0.017027667,0.05541758,0.031256911,0.090041548,0.037785521,0.100537777,0.041164623,0.051467395,0.0296204,0.056077574,0.053514971,0.034723727,0.099167136,0.159365721,0.103579347,0.0,0.078101381,0.052583676,0.058054117,0.030921784,0.105358689,0.034375656,0.026519826,0.031534752,0.173505976,0.048772858,0.015648745,0.076307719,0.035706979,0.012635456,0.102262749,0.054640876,0.0,0.105827874,0.138554192,0.022552069,0.007568411,0.072453062,0.038110748,0.0,0.061089829,0.031277029,0.037675391,0.042768081,0.050495866,0.033549054,0.129928494,0.018881709,0.084683076,0.294472634,0.122631339,0.044253583,0.128169935,0.067076811,0.126281351,0.0,0.167232734,0.166345741,0.117017229,0.024575567,0.048281966,0.06094699,0.022094166,0.06936719,0.052192414,0.17205066,0.038115681,0.172675804,0.025475101,0.136577368,0.066203569,0.0,0.127925684,0.059552178,0.006033353,0.020800301,0.026898064,0.0,0.056045843,0.099566768,0.0,0.024331179,0.049853714,0.053404955,0.159518279,0.024421227,0.034711182,0.022547134,0.049363153,0.0,0.032102094,0.098144795,0.041549725,0.075387039,0.032873353,0.024635077,0.025028093,0.0,0.014751632,0.0570359,0.225662275,0.028937816,0.157149885,0.033045919,0.059610971,0.031394866,0.094294233,0.156283906,0.01517532,0.026674614,0.085749906,0.043749257,0.073368159,0.013801277,0.047171435,0.066125732,0.033366906,0.039003613,0.061073374,0.025092859,0.20473381,0.072808291,0.093600196,0.019488044,0.048857794,0.029985483,0.0,0.027659984,0.027357885,0.011032225,0.082772931,0.023150021,0.044913852,0.017891302,0.047850086,0.074407062,0.047362068,0.127662026,0.168794488,0.08145081,0.062955703,0.071846495,0.052025392,0.012397814,0.14942345,0.128782548,0.03844986,0.044749173,0.01610767,0.152874661,0.027445644,0.047379258,0.041708827,0.199825987,0.01351745,0.112445562,0.059968347,0.127342972,0.0,0.0,0.106003704,0.083947142,0.03926078,0.009573182,0.037947917,0.155837612,0.032632065,0.121936216,0.047216172,0.04931036,0.100067654,0.154982791,0.099503188,0.093384846,0.013993247,0.018901751,0.041702894,0.018547157,0.011370822,0.110134175,0.0,0.143395524,0.0,0.151414173,0.021226502,0.049139791,0.076401322,0.135640903,0.024615619,0.014012358,0.046581881,0.120997589,0.064190434,0.111681212,0.0252693,0.03588139,0.104736208,0.046999232,0.019808594,0.101990097,0.016019957,0.093813181,0.026835691,0.086157502,0.009859703,0.033296219,0.026465376,0.117361247,0.025746866,0.020876151,0.041822272,0.160872688,0.171824638,0.060406879,0.011586629,0.047757473,0.087646045,0.015600318,0.0,0.010939298,0.030255476,0.078196049,0.044678741,0.041661002,0.085091153,0.079232324,0.076971662,0.050274442,0.026114508,0.141721145,0.02357284,0.064364078,0.066977783,0.081065919,0.057920576,0.253947823,0.030326275,0.021327353,0.104507367,0.02920962,0.064675749,0.065763945,0.037795394,0.026677105,0.0559533,0.066584547,0.149838383,0.071068888,0.038955892,0.061064307,0.238868509,0.10210591,0.057816167,0.09190597,0.006758464,0.006072138,0.127308909,0.021038512,0.017770596,0.029554862,0.034422963,0.029906169,0.108183728,0.223633668,0.039705236,0.070644938,0.072394912,0.12588618,0.073431813,0.077724599,0.005587545,0.053884439,0.024563959,0.057778979,0.192766917,0.067451486,0.173448501,0.0,0.096694919,0.076791671,0.076075485,0.044312181,0.156424341,0.171429906,0.0,0.020818872,0.062082947,0.146178155,0.024641247,0.012653565,0.078762707,0.13707192,0.059922682,0.051802741,0.143931094,0.028420724,0.025008936,0.098302848,0.049418994,0.053802487,0.093873561,0.02328537,0.127585158,0.044057131,0.007516517,0.047525766,0.010981858,0.010039894,0.080747059,0.021958822,0.101831776,0.029784839,0.072122618,0.050340436,0.04944097,0.103356186,0.053892008,0.03492891,0.142538224,0.108619696,0.008843726,0.083537256,0.019007466,0.074225409,0.183250395,0.131484879,0.045236996,0.0,0.038302823,0.073666699,0.033527475,0.079338525,0.081439977,0.026662015,0.006097005,0.100379956,0.043892097,0.109755674,0.058599942,0.069479757,0.085233007,0.053460551,0.06929452,0.122208091,0.012542375,0.066383024,0.037894845,0.021561415,0.027320856,0.060359181,0.054959317,0.041450453,0.13998208,0.011317898,0.042002566,0.012709331,0.046637544,0.130290904,0.05800138,0.025179178,0.0,0.082475411,0.05271917,0.091134452,0.059801403,0.007058626,0.029048089,0.076490678,0.0,0.043168763,0.026026406,0.011363508,0.043045942,0.007157526,0.267753377,0.196267755,0.093367723,0.100807923,0.047898827,0.071184721,0.087767643,0.106194617,0.139634411,0.184014453,0.036177057,0.05837308,0.267701662,0.093367723,0.092948793,0.027469924,0.021951904,0.064806913,0.086470378,0.033007266,0.135029856,0.015159706,0.059067021,0.045470757,0.038894579,0.0,0.05289235,0.028363203,0.072825279,0.052058877,0.019763707,0.025904641,0.131190433,0.114790042,0.075567131,0.030842666,0.09047883,0.107577534,0.064867575,0.103871404,0.029495954,0.056690821,0.044241936,0.09376333,0.043832988,0.041028183,0.110182726,0.0,0.117994019,0.130200124,0.123687134,0.048450921,0.133898743,0.026766644,0.0,0.066621085,0.049039681,0.222132498,0.035554996,0.0,0.031221915,0.019934187,0.039986574,0.021546531,0.043084893,0.130846833,0.0,0.071482421,0.02154496,0.044945123,0.043225203,0.058384823,0.02584838,0.026710788,0.022470715,0.015764902,0.121876033,0.135733218,0.085818761,0.035649249,0.011727514,0.143328443,0.030777863,0.026615593,0.078164241,0.164558565,0.034845668,0.045179902,0.033745202,0.015846096,0.088982596,0.011171624,0.082345601,0.023805745,0.030694361,0.051728948,0.026738937,0.024198404,0.091178768,0.037887894,0.055358452,0.230246928,0.008939091,0.081387594,0.081230024,0.323637245,0.007186838,0.013672625,0.105612027,0.016235909,0.121774611,0.03111966,0.02580175,0.087856073,0.047889939,0.021273561,0.104797702,0.066296239,0.022988989,0.075212058,0.059660386,0.267106722,0.13689554,0.0,0.247843179,0.045454306,0.0,0.0,0.130924914,0.057076739,0.011233267,0.047257274,0.058827383,0.184150125,0.123607578,0.014552313,0.096297398,0.076044136,0.030309247,0.108110205,0.010060255,0.099669602,0.037186151,0.056553503,0.080536751,0.066751989,0.026044866,0.092137107,0.214952566,0.054679411,0.129313138,0.077507549,0.139526439,0.034190793,0.046595951,0.0,0.080079022,0.016230842,0.15192798,0.15266209,0.112003932,0.03456382,0.022918858,0.044244253,0.127097968,0.0,0.011817852,0.036281701,0.124618061,0.083822437,0.05616476,0.058970075,0.094830216,0.226084177,0.07457713,0.142055011,0.149062064,0.152527644,0.030429846,0.055297776,0.054594531,0.052411676,0.047089304,0.102398197,0.093845664,0.079052286,0.055160326,0.097863571,0.129340955,0.043996354,0.106217878,0.015718858,0.021096732,0.022506125,0.118314903,0.125583323,0.015390879,0.09712024,0.044751804,0.0345978,0.082499046,0.0,0.035294406,0.052266868,0.080501443,0.1412293,0.040585593,0.130069181,0.100540036,0.027387523,0.051956477,0.010979782,0.039138761,0.151954004,0.008574487,0.052174319,0.150442215,0.215728288,0.173751022,0.03357108,0.177212413,0.098383632,0.154616614,0.196572047,0.030101427,0.021673936,0.061488083,0.032867137,0.088364662,0.0,0.035724069,0.013890902,0.052799022,0.09229222,0.115118638,0.028378929,0.035108732,0.174187994,0.041357113,0.020610288,0.0,0.122992956,0.063302674,0.070678631,0.030417024,0.148910161,0.01578895,0.187416266,0.055615757,0.048646173,0.0,0.014639563,0.105099347,0.028715402,0.04042006,0.083986263,0.075228873,0.072474272,0.021905319,0.05529173,0.038049213,0.0438948,0.151321932,0.122725386,0.058275104,0.094422403,0.119913753,0.034783374,0.0,0.035717774,0.128466007,0.025456246,0.044808762,0.022776641,0.061344855,0.238579765,0.005666384,0.134487886,0.02045255,0.031089367,0.124482575,0.0,0.025239329,0.027211198,0.048310673,0.0,0.024164336,0.0,0.021257124,0.065749633,0.064776303,0.043078428,0.100641176,0.153490728,0.046576823,0.0,0.030133592,0.058457925,0.025037414,0.025681604,0.156701315,0.088962349,0.143216309,0.20192757,0.124050391,0.114852339,0.065551931,0.146050812,0.1385204,0.024380523,0.098320351,0.059068474,0.156898705,0.084140646,0.039791206,0.090156718,0.121496273,0.059994175,0.064310516,0.212767095,0.050298544,0.128258986,0.081060928,0.0,0.015434464,0.047063689,0.013224491,0.0,0.115655502,0.024021065,0.033962371,0.063754145,0.267339659,0.215072945,0.0,0.02542192,0.119948864,0.053252515,0.04563487,0.313541543,0.047570047,0.023855381,0.045692023,0.040090887,0.049749638,0.011001175,0.0,0.02418438,0.066670606,0.069760029,0.052349262,0.027200767,0.069263905,0.186650368,0.035179934,0.027046875,0.046181741,0.145952717,0.0,0.096841885,0.045856934,0.078057026,0.018959784,0.050136086,0.0742834,0.089381866,0.088634567,0.099972466,0.052525131,0.032559591,0.120631213,0.024526806,0.063019289,0.0,0.036821494,0.033243813,0.05811924,0.055312618,0.007039648,0.060090767,0.0,0.109939432,0.0,0.010459399,0.100681984,0.016572696,0.070263971,0.097464425,0.14504086,0.05844549,0.0,0.050289178,0.106264528,0.150961966,0.024761046,0.003591414,0.0,0.0,0.097077051,0.100746785,0.057147256,0.096732533,0.035262656,0.083343628,0.089509222,0.079790099,0.143199389,0.026710788,0.036967784,0.0,0.061323488,0.06987064,0.099731744,0.118363749,0.0,0.094141186,0.037692295,0.042124032,0.065381597,0.020835893,0.07886623,0.0,0.160052329,0.043853769,0.083043068,0.055945372,0.081780186,0.055312384,0.061299601,0.04574024,0.023303069,0.090337797,0.039999537,0.066519424,0.059678319,0.041015006,0.023629875,0.041976732,0.157182948,0.096492692,0.0,0.023489402,0.160588464,0.035959521,0.024795057,0.030855031,0.020194535,0.090410295,0.04494821,0.038348445,0.141929473,0.04466528,0.011490085,0.075672596,0.006698103,0.014615718,0.019034783,0.013651105,0.060998134,0.132314096,0.048197901,0.038063173,0.009768132,0.02046897,0.118188689,0.097612596,0.178055216,0.067399162,0.097031198,0.018851756,0.0,0.077168705,0.044899636,0.011054747,0.059490504,0.08700498,0.047978201,0.037307618,0.0,0.017794028,0.066868428,0.033218416,0.136563316,0.018125015,0.037581431,0.173192865,0.049380234,0.0,0.020530851,0.021457551,0.0,0.055225368,0.048213839,0.038956596,0.030152986,0.069727079,0.056922987,0.069980785,0.034541588,0.0,0.04497714,0.010972719,0.014015003,0.032504504,0.025132415,0.012040955,0.129368491,0.045236996,0.014298622,0.075511074,0.0,0.054595405,0.0,0.154065962,0.009993163,0.084934509,0.01148374,0.041193522,0.16493563,0.059013051,0.059525627,0.053552399,0.036882977,0.203588239,0.044470849,0.070814401,0.063825112,0.075167462,0.020835848,0.025145838,0.085098856,0.038704546,0.03812554,0.122814466,0.075092011,0.022259937,0.032132105,0.026578464,0.01082531,0.017027915,0.079199274,0.099912754,0.058371696,0.099343484,0.055703431,0.063483863,0.0,0.122320725,0.062988082,0.022445019,0.038493141,0.023937034,0.058064391,0.010956581,0.008067116,0.087774037,0.132603297,0.014686484,0.028123753,0.021725581,0.046432792,0.028474903,0.165700218,0.128458176,0.038267861,0.02156804,0.131460394,0.074877667,0.121838154,0.06665054,0.134709764,0.029011725,0.016032699,0.047261392,0.109379022,0.058604732,0.055425341,0.036213591,0.047486615,0.126021818,0.054976522,0.0,0.030331567,0.118091992,0.037051812,0.057537445,0.028061488,0.061986186,0.019475371,0.042307304,0.112956552,0.029517792,0.073078549,0.062291551,0.065491357,0.014860557,0.056664709,0.113832939,0.022460575,0.030616733,0.033392905,0.04459498,0.046872134,0.071786706,0.103912541,0.025484041,0.026632476,0.094279524,0.032311584,0.093840198,0.140668056,0.066305026,0.019079308,0.024174597,0.088889913,0.032096024,0.066863337,0.036464158,0.135471737,0.057194086,0.127127013,0.1328021,0.069080314,0.018843242,0.071992202,0.052133441,0.126024084,0.145335007,0.088574755,0.063870008,0.063704181,0.08288617,0.129148687,0.070301658,0.0,0.057526565,0.100369729,0.159923438,0.110672104,0.168447861,0.185913021,0.143938721,0.156168446,0.015883951,0.039885362,0.0,0.081599833,0.030807134,0.107110465,0.067644586,0.035857676,0.063710075,0.127416049,0.0,0.067584358,0.057125581,0.091526478,0.0,0.072053007,0.184271924,0.0,0.038518959,0.06904552,0.029764629,0.103248816,0.00749864,0.14586127,0.131569883,0.042649853,0.052923474,0.107508339,0.041785884,0.020714738,0.033910827,0.035642187,0.087703106,0.021393893,0.126492074,0.116474658,0.066002079,0.040363971,0.113329224,0.101773845,0.081620573,0.081299369,0.033059299,0.030481663,0.089503609,0.058062665,0.019870463,0.026127057,0.021708103,0.027767045,0.027212419,0.024680092,0.031892144,0.03833243,0.0965817,0.0,0.0097782,0.0,0.157200063,0.016105023,0.069419362,0.146740745,0.049938496,0.029072283,0.072267645,0.100436145,0.170318251,0.087453208,0.006062712,0.020505252,0.085860034,0.079230482,0.159162446,0.023869126,0.067431883,0.21471985,0.045564412,0.020979394,0.075967092,0.064719441,0.029981513,0.05553914,0.015022332,0.066450399,0.216601163,0.072139167,0.022420996,0.070676281,0.069701022,0.077011493,0.032600958,0.074254285,0.181114059,0.016608334,0.104659766,0.133211023,0.030259174,0.083432299,0.018805505,0.136008489,0.02504491,0.0582501,0.048899701,0.093835595,0.088331849,0.0,0.027102628,0.061225298,0.083342202,0.093593225,0.101754942,0.167923755,0.084694653,0.014452774,0.170685888,0.044969294,0.009600586,0.083321663,0.161756055,0.1055789,0.250008736,0.043149943,0.039643601,0.129903926,0.027069736,0.054583442,0.084382084,0.079203863,0.023143199,0.048107159,0.039169904,0.014021376,0.044788872,0.114170018,0.066815522,0.016775365,0.049957145,0.016985198,0.037833211,0.036104434,0.035413843,0.06725426,0.032621941,0.075481864,0.095917719,0.015751294,0.026928324,0.245136905,0.070733741,0.039374545,0.032498972,0.026473267,0.026840766,0.061175535,0.026921951,0.111347923,0.036338895,0.079895432,0.079930344,0.058335906,0.01310911,0.14022623,0.078723713,0.079200387,0.073324855,0.071963037,0.244163174,0.087782193,0.048134189,0.305724969,0.09138128,0.029190711,0.080372556,0.011985289,0.083783437,0.053775381,0.068962051,0.071357962,0.033365743,0.067884624,0.042925965,0.011000735,0.023031127,0.121977653,0.055199283,0.041091215,0.030436087,0.06495073,0.045488814,0.021308724,0.099049679,0.050043246,0.035426061,0.188965879,0.076191354,0.170558096,0.088988939,0.0,0.0,0.219914554,0.11858387,0.058043379,0.122040464,0.024048716,0.04193537,0.072816495,0.035904485,0.051651503,0.076162818,0.027691308,0.04670302,0.041930938,0.0,0.048834717,0.022841841,0.020777214,0.093786169,0.108947031,0.045327376,0.093309811,0.026882496,0.018052793,0.0,0.136384322,0.069411836,0.077048493,0.128611924,0.083201696,0.045857055,0.11245226,0.017942517,0.226744199,0.026875077,0.139495548,0.075578048,0.081214552,0.138175481,0.096513676,0.038018966,0.02605898,0.078559463,0.065618346,0.126139002,0.138452448,0.0,0.030664334,0.093067785,0.005675194,0.07435487,0.103453599,0.052190155,0.010662263,0.112968748,0.10711317,0.041974545,0.039268205,0.035655991,0.06018748,0.052068722,0.121852987,0.061735873,0.0,0.007456464,0.088459496,0.089466421,0.16741508,0.046364789,0.063531895,0.014937838,0.018009769,0.016097309,0.050061008,0.052393366,0.09742857,0.081418801,0.038147426,0.02596979,0.015248338,0.08336707,0.033213888,0.018925644,0.064748814,0.121496273,0.037840894,0.070444556,0.050382246,0.010641608,0.05786369,0.0,0.165350432,0.113053302,0.079555138,0.141847977,0.035634451,0.026669833,0.081088481,0.027892415,0.012294203,0.052012483,0.0,0.026891006,0.136543704,0.029439793,0.081772054,0.080664702,0.02298735,0.089931111,0.05470525,0.070201806,0.093607933,0.030351816,0.06087929,0.18516682,0.125478425,0.018559094,0.0,0.047028693,0.026342897,0.03443923,0.005521567,0.027987562,0.067409268,0.037462127,0.098613411,0.03320771,0.028436636,0.097555725,0.079345519,0.009938784,0.031421979,0.087808521,0.028534583,0.047662684,0.010930195,0.09314922,0.042443319,0.04127448,0.152677702,0.089537252,0.04771769,0.092959451,0.069006936,0.063459792,0.021795357,0.047987076,0.03014565,0.059444518,0.064141622,0.037946799,0.067806182,0.140829653,0.067838225,0.034598891,0.128615187,0.032245757,0.267339659,0.007073035,0.020872204,0.036100589,0.129820371,0.08486204,0.174389257,0.0607686,0.061521569,0.028522089,0.010701801,0.115401142,0.039083816,0.022127237,0.037474799,0.02273288,0.013117547,0.062585755,0.057117184,0.158790733,0.079398454,0.044985646,0.0,0.084112804,0.051457663,0.025841822,0.0,0.067195414,0.023544619,0.029056831,0.020781144,0.043986578,0.07433121,0.070841281,0.0,0.055164938,0.10121065,0.078354554,0.033694227,0.0,0.122965811,0.047876203,0.009448862,0.088026614,0.042313078,0.024859869,0.042449883,0.036558726,0.105158282,0.022918812,0.057850699,0.08125948,0.041169697,0.006778869,0.047450712,0.145253944,0.044222497,0.080803421,0.048937612,0.008032868,0.019157444,0.062032774,0.129133491,0.026514812,0.039006737,0.035220955,0.055418261,0.0,0.064402907,0.020560102,0.142412955,0.082574393,0.087468656,0.135906494,0.020100543,0.016029548,0.035240292,0.131545005,0.075896411,0.056522558,0.0,0.048298704,0.122443776,0.102959345,0.006732389,0.085757338,0.159587755,0.008013458,0.014271592,0.081772054,0.092915543,0.139892043,0.045232223,0.060067062,0.194576935,0.015113426,0.011009897,0.132846758,0.148412909,0.0,0.095946376,0.047282735,0.0,0.103561308,0.008561176,0.168452861,0.0,0.016110716,0.160371305,0.077328827,0.083513874,0.104205322,0.009596051,0.052157514,0.073942531,0.01620764,0.162306339,0.073790004,0.128707428,0.015833933,0.119153896,0.034306863,0.152436318,0.080038295,0.073377993,0.049828008,0.019036024,0.071976647,0.148072602,0.082556008,0.08315126,0.015151435,0.061196379,0.122415631,0.03401083,0.077945963,0.251114535,0.173469718,0.023578675,0.079365542,0.026659058,0.023024502,0.066443294,0.052545408,0.038109707,0.0,0.0,0.06524927,0.148675787,0.053746315,0.034886739,0.064109274,0.008646528,0.029547979,0.028548583,0.024008733,0.065703142,0.024144227,0.103659792,0.069211765,0.040440709,0.024800623,0.072616027,0.074710165,0.128187372,0.110045184,0.0,0.064867738,0.063763137,0.053918218,0.130130499,0.0,0.048076217,0.08946922,0.036538413,0.080164468,0.008313629,0.230389434,0.0675028,0.059355717,0.028720832,0.096069291,0.119262481,0.06084803,0.073174546,0.070886876,0.0,0.132028116,0.025624044,0.029431935,0.083926694,0.039982468,0.046660286,0.085419332,0.035163317,0.083776121,0.04972193,0.159195426,0.093437228,0.069066197,0.105018002,0.056521229,0.09969679,0.040182749,0.087134714,0.035035139,0.079457285,0.150626333,0.044644617,0.033095808,0.032087477,0.024399944,0.148397009,0.053856727,0.07946888,0.054938563,0.007486838,0.139405824,0.042266539,0.093763866,0.027691544,0.052058877,0.172959058,0.170828047,0.050500713,0.0,0.168046416,0.081088593,0.070617466,0.050281492,0.133753866,0.081455379,0.029461464,0.101847127,0.026234991,0.01527601,0.105509616,0.059901045,0.079752411,0.065489529,0.110082155,0.089535602,0.160701642,0.037857561,0.166793159,0.041364935,0.123092484,0.026297031,0.107224173,0.021894973,0.036665173,0.160185608,0.0,0.036196486,0.012637846,0.041616357,0.010080792,0.098844291,0.137644954,0.089799825,0.069459722,0.025200149,0.037964731,0.120256303,0.024504201,0.034980994,0.186910605,0.0,0.090174377,0.137340909,0.078554948,0.026835691,0.115683076,0.04440264,0.020984423,0.0,0.059851197,0.054628903,0.091155163,0.047504439,0.168421008,0.016271661,0.020470576,0.026844186,0.02039417,0.181702355,0.119075479,0.039301403,0.094714208,0.025349355,0.082476188,0.00737822,0.041414828,0.111681212,0.13973885,0.073309965,0.088352351,0.074392992,0.105674592,0.026855684,0.009095747,0.128449579,0.053605948,0.035071955,0.04126117,0.0792367,0.155914104,0.062469866,0.123727659,0.058572263,0.068186803,0.119247864,0.051980667,0.075543678,0.010014308,0.076539909,0.132288896,0.078389501,0.103187661,0.070025696,0.069600588,0.053399539,0.048191066,0.024310931,0.171341198,0.011207422,0.033871687,0.091131261,0.040161883,0.067896957,0.018842851,0.093409739,0.035192926,0.141639229,0.084895314,0.045220091,0.054154252,0.047685207,0.087244942,0.069328283,0.213788983,0.021223197,0.023383182,0.041886317,0.042067869,0.037834548,0.214396632,0.020601542,0.072006662,0.02118987,0.02685779,0.010691082,0.123028674,0.074065937,0.036501185,0.014244729,0.121900785,0.009796094,0.029831146,0.174373447,0.043823122,0.087567787,0.027370814,0.168604314,0.027804204,0.055113596,0.104678138,0.0,0.108249522,0.082678239,0.096778863,0.129503664,0.063273547,0.141191067,0.088553998,0.091357303,0.044940161,0.065318118,0.129441977,0.113854468,0.074623672,0.138004065,0.116855192,0.023724475,0.138961241,0.036541979,0.078405146,0.012118359,0.011259035,0.044184016,0.039263694,0.132726034,0.109325071,0.031312479,0.031395831,0.034551507,0.077078963,0.031401634,0.044878428,0.0,0.117150348,0.0655764,0.033239125,0.038569182,0.058353501,0.087334125,0.16588815,0.035703488,0.086957199,0.038270946,0.040747616,0.039956751,0.078906336,0.051550615,0.0,0.087993901,0.040439161,0.031445152,0.045949933,0.049218499,0.057821105,0.125664151,0.04295882,0.107152044,0.013523837,0.105836765,0.119279404,0.177969055,0.114031481,0.0,0.056913819,0.024422434,0.06278314,0.067829083,0.099038102,0.040149309,0.049837799,0.045169646,0.092593652,0.012344551,0.071775164,0.0,0.122128201,0.18433167,0.008559416,0.012057789,0.056885263,0.148520605,0.051449648,0.049058599,0.042419588,0.030222732,0.146144813,0.020323118,0.024949113,0.081067307,0.026321792,0.099396395,0.015923898,0.049963882,0.074478384,0.078404327,0.089603145,0.112802719,0.092218288,0.030485136,0.050047465,0.069916994,0.293048379,0.026302004,0.040800688,0.058327908,0.0,0.077823282,0.010387683,0.153465955,0.026184983,0.143256515,0.063324606,0.026497757,0.02949114,0.163760524,0.017906203,0.011252718,0.008749518,0.094081729,0.072778438,0.043893446,0.115679302,0.041799167,0.046774318,0.032890347,0.096496792,0.020962606,0.11264364,0.14574596,0.168514737,0.138895605,0.117195348,0.099061255,0.114797434,0.0,0.07043637,0.119535605,0.079418753,0.167494193,0.065346821,0.058222587,0.121615007,0.01991076,0.03362345,0.083968636,0.102772236,0.076855628,0.088204994,0.0,0.070992494,0.06808387,0.098306217,0.022493399,0.102929093,0.065579315,0.020312604,0.0,0.070167934,0.042476445,0.086129035,0.015794211,0.075985352,0.04224163,0.123532514,0.030619053,0.0,0.012019598,0.119271136,0.045076978,0.022899739,0.059027151,0.037725174,0.0,0.109780112,0.025971792,0.02994846,0.091427887,0.06259818,0.058132207,0.119066863,0.003592093,0.053945046,0.017782033,0.234345616,0.058369013,0.052891202,0.096397813,0.120663214,0.0,0.108198392,0.202387387,0.073673697,0.149366403,0.026981264,0.082882475,0.161571797,0.105903322,0.036698564,0.090331655,0.068929478,0.214004545,0.026338733,0.020974105,0.104232541,0.038781892,0.06178729,0.084079477,0.037610496,0.186296103,0.041967613,0.132815802,0.016828712,0.072707309,0.091392132,0.070228698,0.072804407,0.136051058,0.128711271,0.055159959,0.140206849,0.037903586,0.0,0.072338526,0.05518512,0.118081664,0.129274071,0.061426289,0.100277478,0.0,0.014423645,0.07804584,0.015648384,0.07617829,0.021657301,0.052810244,0.119596939,0.098784586,0.091686939,0.022889828,0.162450872,0.028592968,0.072877673,0.020552693,0.067723308,0.164648458,0.06442287,0.126500085,0.125120258,0.081918557,0.178329981,0.133493205,0.0,0.114778465,0.021788889,0.014756014,0.104654725,0.173736289,0.0,0.0,0.146655006,0.115496216,0.018481707,0.07872111,0.13057987,0.058544215,0.079930344,0.067098169,0.054312176,0.165359325,0.048479695,0.100213353,0.094581098,0.128760294,0.11960388,0.092667032,0.019510678,0.057917007,0.065976009,0.279650277,0.027610867,0.030607757,0.075591785,0.029689961,0.079010526,0.069268825,0.109283423,0.140015944,0.046358964,0.184545287,0.071833423,0.239530025,0.042903378,0.076272929,0.1420804,0.0,0.1784187,0.096100432,0.034007573,0.104210426,0.0,0.023038155,0.053470662,0.009110086,0.090663534,0.091577922,0.119636353,0.175435278,0.123222078,0.084950573,0.066176944,0.0379456,0.015684078,0.134323555,0.113980892,0.054333001,0.068337879,0.078020807,0.031241476,0.053620148,0.011190025,0.075154189,0.042067625,0.053222716,0.183397827,0.063157164,0.0,0.086038118,0.100527952,0.051791671,0.148353512,0.049878516,0.0,0.048085022,0.082460079,0.014857747,0.053946745,0.087390335,0.026020287,0.04258349,0.313934693,0.125250986,0.042968607,0.027323943,0.122509775,0.006773451,0.017464427,0.034790615,0.046799702,0.0,0.020710606,0.018810044,0.036426823,0.082988383,0.028334038,0.092753767,0.099432046,0.067552435,0.06965725,0.013119104,0.006320842,0.025573744,0.0,0.0,0.073884594,0.087589175,0.055249787,0.052769434,0.012275118,0.054792647,0.097062093,0.048255647,0.062287818,0.014241321,0.027705102,0.038179738,0.153989327,0.136863372,0.071479984,0.075665767,0.032167198,0.10947895,0.012299525,0.079419801,0.132105843,0.035915541,0.099630851,0.281300211,0.03964273,0.036322846,0.008540823,0.070390053,0.102214447,0.168091997,0.040173186,0.022791301,0.019229854,0.060978568,0.036007962,0.03012626,0.174471667,0.023592684,0.022863556,0.114377142,0.010618776,0.013140426,0.168100696,0.036432936,0.0,0.066882664,0.028276692,0.030683106,0.04935691,0.01328459,0.034527402,0.030205578,0.015492081,0.0,0.022888471,0.02425475,0.106915719,0.030329279,0.0,0.043756539,0.080578893,0.020526251,0.020661048,0.056307919,0.062688433,0.080226072,0.017772986,0.091380052,0.152751673,0.150727772,0.0,0.171772109,0.065288988,0.099512729,0.026532188,0.083290021,0.0,0.057048102,0.135860131,0.094410673,0.09097735,0.145013434,0.159518279,0.063209707,0.064606757,0.020334777,0.029938936,0.056989027,0.082826206,0.175393386,0.074046871,0.011251793,0.025581232,0.010579468,0.036634668,0.057781415,0.260040407,0.139391292,0.03813275,0.023710661,0.099180226,0.081787178,0.127903741,0.0,0.172086213,0.028796724,0.142013291,0.0,0.014067174,0.117114354,0.116778835,0.08284187,0.115329787,0.026470587,0.055784831,0.049079463,0.0760611,0.045948045,0.124763406,0.0,0.132546993,0.091578701,0.023070588,0.053956419,0.021606087,0.089873267,0.026507096,0.028373995,0.032435523,0.076673407,0.070182238,0.180090411,0.014387462,0.252155886,0.020929396,0.0,0.014853619,0.034039542,0.064178182,0.062041531,0.075865756,0.105841179,0.034506514,0.017352667,0.032174409,0.093296061,0.02838397,0.039911033,0.160044589,0.0,0.054542505,0.010978804,0.042612828,0.051596351,0.055180797,0.0,0.014007727,0.022490839,0.021376678,0.139444875,0.022495495,0.05544858,0.070554078,0.065884096,0.025387558,0.026316724,0.020918489,0.0,0.033895032,0.041022765,0.092878183,0.029067775,0.057992904,0.028921492,0.04543117,0.070178316,0.037771295,0.075698157,0.093574769,0.123405255,0.017934042,0.029418033,0.035912897,0.038807601,0.017772062,0.137196951,0.029769107,0.031995886,0.054725828,0.300078353,0.074717347,0.029611916,0.087129095,0.041515796,0.106628515,0.0,0.029429602,0.126639402,0.166776273,0.102393277,0.174462585,0.010622102,0.07599649,0.0869468,0.042950697,0.073131911,0.08494673,0.0,0.026795874,0.054715771,0.093393523,0.0,0.0,0.052400475,0.096925504,0.060468922,0.089305571,0.025529117,0.011089224,0.152170799,0.0,0.105090817,0.091207161,0.041759701,0.044497478,0.061175535,0.0,0.032657896,0.063029339,0.113581951,0.015077408,0.089454322,0.031158308,0.014998688,0.043562851,0.020831693,0.096662969,0.03999003,0.086116086,0.038206735,0.077611332,0.069578418,0.025233003,0.117723097,0.0,0.064274939,0.038289031,0.026849263,0.009354173,0.012204712,0.024286028,0.097816206,0.095651539,0.082239384,0.041737624,0.044483108,0.00559729,0.065051711,0.040481173,0.014447639,0.036291254,0.125780608,0.016721179,0.143105952,0.083930246,0.057104603,0.014848655,0.022929688,0.024871616,0.01941956,0.119778027,0.017456177,0.119661905,0.110586928,0.176269152,0.04466123,0.038556468,0.034037991,0.118004487,0.095930954,0.085791732,0.115523835,0.075934861,0.020483751,0.116248965,0.096604361,0.0,0.02470108,0.009867915,0.125431986,0.087530252,0.033826055,0.10954449,0.04742967,0.022512133,0.058924378,0.038586582,0.025356532,0.024243799,0.142594879,0.035354361,0.069545461,0.038001328,0.037625107,0.026033836,0.069075897,0.039928237,0.027111488,0.135369952,0.063424403,0.056616236,0.113238888,0.03234077,0.0,0.183275872,0.044899912,0.07229836,0.071666638,0.045038921,0.033942792,0.151817729,0.089120941,0.063454375,0.021474597,0.014556069,0.061084423,0.152150971,0.045950668,0.02521782,0.184096112,0.06144156,0.054191792,0.085954716,0.014614728,0.030284659,0.077682589,0.01567399,0.064052266,0.017819491,0.117486329,0.025740842,0.135142318,0.054150291,0.223309091,0.03653732,0.056406081,0.055338105,0.053513977,0.089399444,0.017902817,0.027605646,0.01123525,0.089248129,0.077290355,0.050096661,0.014624135,0.04275079,0.020978072,0.030402657,0.024591034,0.061043068,0.025827578,0.160261305,0.0,0.04035886,0.058849939,0.046085421,0.160619486,0.074743226,0.0894533,0.0,0.05494116,0.02904146,0.104835967,0.171348934,0.011390654,0.079739853,0.061059672,0.148643089,0.123186843,0.024655594,0.037746432,0.027025266,0.053773114,0.228353164,0.093671176,0.08944169,0.137270472,0.084753606,0.0,0.021469174,0.013150445,0.159062948,0.038623716,0.0,0.111865695,0.060065869,0.042993634,0.097599775,0.135852194,0.167504237,0.112379351,0.023138823,0.0,0.070801636,0.036016611,0.04457004,0.029775731,0.213478694,0.123849384,0.038886823,0.055512274,0.05707763,0.030495077,0.0,0.048960915,0.031485704,0.071662195,0.067815921,0.028756673,0.008849431,0.202948268,0.078454358,0.107816091,0.035465802,0.049635605,0.114348523,0.042195096,0.117578079,0.045240103,0.072839052,0.120932251,0.023433422,0.077168705,0.079064574,0.008079833,0.037758036,0.171654513,0.014733108,0.0,0.060802383,0.022004053,0.052143322,0.019416374,0.134298156,0.057193256,0.0,0.175151361,0.033155576,0.125156,0.010956306,0.166159652,0.137924102,0.111469959,0.09405464,0.16240296,0.030461721,0.235341126,0.024362196,0.065170902,0.030668818,0.065722924,0.14504086,0.039347842,0.079968115,0.051997608,0.014968132,0.044281997,0.083830905,0.038486905,0.024821278,0.009402696,0.0,0.01459303,0.0,0.032941482,0.0,0.010386567,0.047579697,0.017631222,0.010684957,0.201765292,0.061350284,0.098402239,0.056306994,0.0,0.046892427,0.024954731,0.079261353,0.035325003,0.077930971,0.056318568,0.046898544,0.061095899,0.056306024,0.085911519,0.049666358,0.059324821,0.061133888,0.027817961,0.074070351,0.155687405,0.049626219,0.021121347,0.0,0.059067021,0.079675335,0.0,0.129241042,0.0,0.093676604,0.133687996,0.010424177,0.106523384,0.052160388,0.038835464,0.014303066,0.038526684,0.157718931,0.150539043,0.050505213,0.026160105,0.033861654,0.067733845,0.039146163,0.110513428,0.076554385,0.121419594,0.031332632,0.084679095,0.054109186,0.09224886,0.029066785,0.037339898,0.169458887,0.049666763,0.019106758,0.039636104,0.040089313,0.093840193,0.012076957,0.122081667,0.116910445,0.144274551,0.049419707,0.093296553,0.076717379,0.048511068,0.112693192,0.037615546,0.026409147,0.061744052,0.048304782,0.034705807,0.0,0.0,0.016132205,0.025882559,0.136402598,0.045683383,0.047353168,0.053858987,0.031549979,0.089255373,0.039041114,0.011396037,0.098540307,0.130411797,0.03509937,0.284224541,0.033913749,0.121539272,0.224269298,0.06052101,0.0,0.112131275,0.04656414,0.045091342,0.089624277,0.011613156,0.046372661,0.16145695,0.050052711,0.0,0.008583918,0.080226072,0.030545722,0.022944688,0.138923761,0.057258817,0.009077217,0.116891138,0.062241994,0.011333911,0.040042881,0.016173165,0.0,0.032074998,0.106583703,0.148536185,0.032153714,0.029643872,0.122493968,0.0,0.036506915,0.029739652,0.09870238,0.113123006,0.041733666,0.0,0.129206196,0.055384948,0.040931994,0.05370465,0.299530629,0.0,0.162191037,0.021063528,0.129216604,0.015465765,0.091627467,0.110289757,0.15579704,0.027280495,0.112071014,0.072782102,0.171444454,0.020904887,0.02547263,0.021555692,0.125976163,0.080721764,0.113728834,0.0,0.08441738,0.092933158,0.065569288,0.112778767,0.050148322,0.046183676,0.147217192,0.05219943,0.03026518,0.114469755,0.032604886,0.051616858,0.118673527,0.0,0.045784687,0.05903503,0.045977618,0.020946828,0.142661865,0.118286387,0.0,0.051882003,0.056206622,0.008751398,0.033996111,0.019799238,0.055659189,0.090931104,0.080486221,0.106717322,0.133421019,0.095078893,0.032150627,0.063286094,0.043158104,0.088166215,0.098799937,0.030867981,0.039918581,0.015120568,0.0,0.019238671,0.038050764,0.027041096,0.124699691,0.039287423,0.053792758,0.141176075,0.0,0.081737302,0.067533904,0.09566912,0.0,0.22103705,0.0,0.020845392,0.084953662,0.047294706,0.175539766,0.007539885,0.020813453,0.029417303,0.10178199,0.039262153,0.021754595,0.025078117,0.047124068,0.04281828,0.056077341,0.073410642,0.025874934,0.088291127,0.0,0.104371086,0.062136785,0.139930125,0.08029289,0.0,0.047078339,0.125798231,0.049689828,0.049278643,0.061013491,0.042007527,0.016205646,0.037880729,0.070731517,0.076498396,0.030435601,0.035328539,0.014637395,0.034857707,0.162119533,0.124739062,0.07786478,0.09200271,0.089948119,0.091037229,0.0,0.10885123,0.142195014,0.030631225,0.059797172,0.0,0.123812157,0.138660307,0.045442396,0.024647467,0.115686024,0.055654536,0.297424743,0.121821828,0.104672114,0.114450757,0.066624286,0.0,0.042705388,0.113173172,0.025850623,0.089014099,0.017158459,0.013058345,0.088278814,0.097232874,0.117232927,0.064347565,0.039145429,0.061095976,0.022557789,0.023314389,0.068231673,0.03135221,0.119558153,0.305264825,0.037594397,0.058736238,0.121438886,0.130900158,0.136710131,0.038192036,0.04458772,0.077901576,0.031316108,0.011844058,0.063583911,0.035820019,0.047910156,0.0,0.036114404,0.078914647,0.06972729,0.04969885,0.021267169,0.024608674,0.038537981,0.165035146,0.027089826,0.031166435,0.031043803,0.141831427,0.168259451,0.022756451,0.073849696,0.035650779,0.044714995,0.045272429,0.09608226,0.021517566,0.128260071,0.089411048,0.035840212,0.069281708,0.028862957,0.058763973,0.086293322,0.044014888,0.035833435,0.01948183,0.023619935,0.029164278,0.080756828,0.024326578,0.071925626,0.008017245,0.084463753,0.067823104,0.0,0.032884127,0.017506543,0.021856851,0.022603838,0.030088502,0.045062219,0.11344683,0.104143397,0.087780702,0.121873881,0.0,0.049589259,0.176933493,0.030388183,0.008763128,0.103683012,0.141697997,0.012725138,0.067257683,0.028639386,0.064896679,0.090060741,0.071018789,0.145839766,0.040514888,0.048621862,0.096265377,0.098413825,0.041009558,0.01611834,0.019490421,0.072095416,0.143118865,0.032957049,0.13750615,0.029832699,0.026288547,0.0,0.051572555,0.064606878,0.152556491,0.0,0.032589486,0.051482762,0.039529574,0.087480308,0.052282677,0.14125601,0.072381223,0.153282667,0.033735736,0.030489311,0.064123807,0.123772093,0.036190683,0.016955625,0.0,0.12676414,0.071388493,0.093620227,0.102638435,0.036729896,0.046679027,0.050744935,0.110011687,0.099147047,0.07104407,0.05630601,0.224850832,0.058164228,0.09914376,0.092883309,0.110268903,0.06087929,0.036093981,0.060185494,0.060185494,0.037923591,0.023533498,0.088248679,0.170286046,0.119384984,0.115145802,0.033889856,0.0,0.122819787,0.018600515,0.121285843,0.031225013,0.038026496,0.046161862,0.089326677,0.011631211,0.093462623,0.080034782,0.075037671,0.074209668,0.010934025,0.028225853,0.030572402,0.058461026,0.0,0.135083344,0.0,0.222858466,0.0634319,0.044455084,0.053245569,0.056155764,0.033410165,0.073652769,0.103691909,0.0,0.043992138,0.062589297,0.055968342,0.093638018,0.124026934,0.024625736,0.13711365,0.017935792,0.015891457,0.204280754,0.041459372,0.030183371,0.025949003,0.0,0.098864176,0.06446883,0.048240928,0.106760383,0.097766473,0.045628497,0.073222209,0.097212998,0.143344479,0.140888464,0.114571006,0.167371926,0.128307691,0.0,0.059440998,0.087243604,0.029933264,0.104010753,0.058027764,0.026343715,0.105091664,0.112664944,0.127740015,0.159442933,0.03106937,0.183354585,0.04083467,0.045054813,0.136674035,0.03389839,0.020955763,0.017633471,0.056476427,0.058778429,0.028413443,0.044319101,0.026609813,0.158947217,0.048289771,0.047880884,0.035810387,0.0,0.139922439,0.034678781,0.128036069,0.023477413,0.0,0.16076514,0.100117939,0.082433257,0.063272773,0.0,0.061048127,0.02740216,0.062331643,0.070691105,0.136856178,0.044215795,0.033990657,0.121767168,0.027169816,0.081500543,0.019585531,0.047248393,0.096362017,0.103652052,0.110108566,0.05028647,0.074919567,0.124137242,0.007582533,0.045387996,0.025805706,0.090143906,0.03694032,0.042673451,0.108360852,0.0,0.080669843,0.097216576,0.0,0.094851844,0.102999154,0.06075476,0.072507467,0.079663441,0.077486687,0.062414139,0.038313974,0.092672678,0.007226532,0.131836711,0.076179549,0.020850388,0.031790174,0.101867911,0.023557678,0.242083443,0.120741638,0.066168292,0.013290868,0.0,0.079149445,0.129860583,0.018878167,0.078743805,0.159855844,0.054207549,0.0,0.045261336,0.254630746,0.0,0.037598636,0.035976809,0.069686501,0.019982858,0.0,0.013038075,0.026941678,0.0,0.027871135,0.087452117,0.070385933,0.153146326,0.161912574,0.009890655,0.10331031,0.11245226,0.028385607,0.123572515,0.070819614,0.04006567,0.030089171,0.070662917,0.023771773,0.098655965,0.026591024,0.113604487,0.089515698,0.036134504,0.090123641,0.011135837,0.023104767,0.126845728,0.0,0.072817026,0.0,0.111652253,0.025938267,0.047386238,0.00704434,0.070899006,0.081582021,0.118157664,0.0,0.055718399,0.043458854,0.058461026,0.021607186,0.107355914,0.021599298,0.008659972,0.094752537,0.013595722,0.098958842,0.128099312,0.04704746,0.005665312,0.123903191,0.113759721,0.104350123,0.060480359,0.047549094,0.047218002,0.023074472,0.074035365,0.060874678,0.094646702,0.054189065,0.16486926,0.078071853,0.055430785,0.088858409,0.036409618,0.008786665,0.039305628,0.105409495,0.042203138,0.032940022,0.037908749,0.118105517,0.0,0.037523149,0.007244635,0.067917171,0.058470282,0.043866567,0.013233076,0.10023287,0.167018335,0.088347953,0.151391113,0.087645926,0.029751978,0.02430102,0.024828296,0.017819505,0.030421197,0.132292244,0.159983523,0.067152194,0.010429544,0.031466218,0.030158689,0.118956749,0.06775127,0.097413734,0.061974853,0.026547707,0.076490264,0.034484812,0.128192414,0.110440439,0.115982139,0.045061095,0.051788905,0.077492893,0.094143857,0.05544452,0.159885004,0.0,0.042620887,0.120684607,0.113356563,0.04930501,0.114938715,0.0,0.137082779,0.113423999,0.01381016,0.019425549,0.07239271,0.037657459,0.023892238,0.034672316,0.102487825,0.067455296,0.097275539,0.095526508,0.104670688,0.040421607,0.083924253,0.172564249,0.083942567,0.017073182,0.279650277,0.011537439,0.056987731,0.064160115,0.0139858,0.042219953,0.01770073,0.102410818,0.005553045,0.125085172,0.017551276,0.043900398,0.093685838,0.147905594,0.072360203,0.0,0.121709653,0.084896979,0.104609971,0.081272315,0.048072785,0.141928373,0.098015889,0.087635835,0.090027556,0.066182294,0.04239889,0.184808627,0.115211251,0.0295482,0.14313853,0.029703991,0.011886946,0.044033364,0.299738981,0.099689837,0.113508894,0.043301792,0.183666607,0.026992588,0.095648158,0.078378587,0.071415882,0.077909339,0.055344027,0.05382738,0.021032156,0.24051168,0.093530571,0.150567513,0.041082375,0.078563333,0.077032981,0.021529824,0.046020687,0.121988749,0.118114653,0.070191589,0.029511051,0.029774711,0.075664878,0.144309477,0.020701414,0.044893127,0.074674387,0.007999506,0.09096147,0.075534025,0.124243256,0.013173474,0.15537968,0.0,0.024542601,0.054151798,0.086065145,0.085299728,0.0,0.033984229,0.056218371,0.252019149,0.019480391,0.055024445,0.034402948,0.0,0.0,0.032903434,0.056658892,0.16091281,0.065691881,0.0,0.009990442,0.098640592,0.022061503,0.117232711,0.099675598,0.0,0.026365956,0.079327559,0.034376924,0.027735197,0.109819987,0.076562109,0.0,0.123280308,0.054775045,0.165806866,0.019621652,0.037515445,0.0,0.050458688,0.039867841,0.065986538,0.125178121,0.012531938,0.079089643,0.063758802,0.126452383,0.122552762,0.014108959,0.01619216,0.135986797,0.0,0.066034594,0.102900839,0.026348997,0.116246247,0.121744297,0.005543818,0.01438965,0.138205661,0.015876287,0.046150653,0.010865916,0.178928452,0.13562303,0.14794938,0.23659521,0.118117896,0.095944263,0.148770339,0.067282681,0.027501384,0.111440661,0.041942318,0.032594398,0.078981428,0.014542953,0.170940574,0.04023134,0.039905111,0.140734003,0.084583664,0.016027681,0.023369776,0.0,0.130527569,0.059728023,0.085407568,0.09284476,0.045459546,0.040371605,0.040834648,0.0,0.048018161,0.054374854,0.054180044,0.175038703,0.00978282,0.0,0.016094145,0.02957281,0.08266746,0.052094476,0.083129106,0.080249973,0.035586859,0.0,0.014076503,0.034133984,0.0,0.013571008,0.095766751,0.041643181,0.06697384,0.064060518,0.137088198,0.152793675,0.059647144,0.090182684,0.120126301,0.035965286,0.042108175,0.115117203,0.076695199,0.06591962,0.072449393,0.045555975,0.012508892,0.069858811,0.031269817,0.0,0.107493292,0.075449827,0.022977902,0.028842119,0.038135648,0.02600908,0.067885092,0.0,0.098555228,0.12177541,0.10545978,0.109317621,0.0,0.03513543,0.121982284,0.048645015,0.087847281,0.028977202,0.0,0.099374679,0.158424516,0.035911275,0.037656474,0.04407309,0.026064791,0.0,0.026234055,0.033516036,0.045168123,0.024109582,0.014019393,0.045269896,0.288891801,0.072528603,0.037091602,0.054462797,0.036594126,0.094052753,0.03070363,0.070410959,0.013496466,0.142990896,0.073528561,0.0,0.104720151],\"xaxis\":\"x\",\"yaxis\":\"y\",\"type\":\"histogram\"}],                        {\"template\":{\"data\":{\"histogram2dcontour\":[{\"type\":\"histogram2dcontour\",\"colorbar\":{\"outlinewidth\":0,\"ticks\":\"\"},\"colorscale\":[[0.0,\"#0d0887\"],[0.1111111111111111,\"#46039f\"],[0.2222222222222222,\"#7201a8\"],[0.3333333333333333,\"#9c179e\"],[0.4444444444444444,\"#bd3786\"],[0.5555555555555556,\"#d8576b\"],[0.6666666666666666,\"#ed7953\"],[0.7777777777777778,\"#fb9f3a\"],[0.8888888888888888,\"#fdca26\"],[1.0,\"#f0f921\"]]}],\"choropleth\":[{\"type\":\"choropleth\",\"colorbar\":{\"outlinewidth\":0,\"ticks\":\"\"}}],\"histogram2d\":[{\"type\":\"histogram2d\",\"colorbar\":{\"outlinewidth\":0,\"ticks\":\"\"},\"colorscale\":[[0.0,\"#0d0887\"],[0.1111111111111111,\"#46039f\"],[0.2222222222222222,\"#7201a8\"],[0.3333333333333333,\"#9c179e\"],[0.4444444444444444,\"#bd3786\"],[0.5555555555555556,\"#d8576b\"],[0.6666666666666666,\"#ed7953\"],[0.7777777777777778,\"#fb9f3a\"],[0.8888888888888888,\"#fdca26\"],[1.0,\"#f0f921\"]]}],\"heatmap\":[{\"type\":\"heatmap\",\"colorbar\":{\"outlinewidth\":0,\"ticks\":\"\"},\"colorscale\":[[0.0,\"#0d0887\"],[0.1111111111111111,\"#46039f\"],[0.2222222222222222,\"#7201a8\"],[0.3333333333333333,\"#9c179e\"],[0.4444444444444444,\"#bd3786\"],[0.5555555555555556,\"#d8576b\"],[0.6666666666666666,\"#ed7953\"],[0.7777777777777778,\"#fb9f3a\"],[0.8888888888888888,\"#fdca26\"],[1.0,\"#f0f921\"]]}],\"heatmapgl\":[{\"type\":\"heatmapgl\",\"colorbar\":{\"outlinewidth\":0,\"ticks\":\"\"},\"colorscale\":[[0.0,\"#0d0887\"],[0.1111111111111111,\"#46039f\"],[0.2222222222222222,\"#7201a8\"],[0.3333333333333333,\"#9c179e\"],[0.4444444444444444,\"#bd3786\"],[0.5555555555555556,\"#d8576b\"],[0.6666666666666666,\"#ed7953\"],[0.7777777777777778,\"#fb9f3a\"],[0.8888888888888888,\"#fdca26\"],[1.0,\"#f0f921\"]]}],\"contourcarpet\":[{\"type\":\"contourcarpet\",\"colorbar\":{\"outlinewidth\":0,\"ticks\":\"\"}}],\"contour\":[{\"type\":\"contour\",\"colorbar\":{\"outlinewidth\":0,\"ticks\":\"\"},\"colorscale\":[[0.0,\"#0d0887\"],[0.1111111111111111,\"#46039f\"],[0.2222222222222222,\"#7201a8\"],[0.3333333333333333,\"#9c179e\"],[0.4444444444444444,\"#bd3786\"],[0.5555555555555556,\"#d8576b\"],[0.6666666666666666,\"#ed7953\"],[0.7777777777777778,\"#fb9f3a\"],[0.8888888888888888,\"#fdca26\"],[1.0,\"#f0f921\"]]}],\"surface\":[{\"type\":\"surface\",\"colorbar\":{\"outlinewidth\":0,\"ticks\":\"\"},\"colorscale\":[[0.0,\"#0d0887\"],[0.1111111111111111,\"#46039f\"],[0.2222222222222222,\"#7201a8\"],[0.3333333333333333,\"#9c179e\"],[0.4444444444444444,\"#bd3786\"],[0.5555555555555556,\"#d8576b\"],[0.6666666666666666,\"#ed7953\"],[0.7777777777777778,\"#fb9f3a\"],[0.8888888888888888,\"#fdca26\"],[1.0,\"#f0f921\"]]}],\"mesh3d\":[{\"type\":\"mesh3d\",\"colorbar\":{\"outlinewidth\":0,\"ticks\":\"\"}}],\"scatter\":[{\"fillpattern\":{\"fillmode\":\"overlay\",\"size\":10,\"solidity\":0.2},\"type\":\"scatter\"}],\"parcoords\":[{\"type\":\"parcoords\",\"line\":{\"colorbar\":{\"outlinewidth\":0,\"ticks\":\"\"}}}],\"scatterpolargl\":[{\"type\":\"scatterpolargl\",\"marker\":{\"colorbar\":{\"outlinewidth\":0,\"ticks\":\"\"}}}],\"bar\":[{\"error_x\":{\"color\":\"#2a3f5f\"},\"error_y\":{\"color\":\"#2a3f5f\"},\"marker\":{\"line\":{\"color\":\"#E5ECF6\",\"width\":0.5},\"pattern\":{\"fillmode\":\"overlay\",\"size\":10,\"solidity\":0.2}},\"type\":\"bar\"}],\"scattergeo\":[{\"type\":\"scattergeo\",\"marker\":{\"colorbar\":{\"outlinewidth\":0,\"ticks\":\"\"}}}],\"scatterpolar\":[{\"type\":\"scatterpolar\",\"marker\":{\"colorbar\":{\"outlinewidth\":0,\"ticks\":\"\"}}}],\"histogram\":[{\"marker\":{\"pattern\":{\"fillmode\":\"overlay\",\"size\":10,\"solidity\":0.2}},\"type\":\"histogram\"}],\"scattergl\":[{\"type\":\"scattergl\",\"marker\":{\"colorbar\":{\"outlinewidth\":0,\"ticks\":\"\"}}}],\"scatter3d\":[{\"type\":\"scatter3d\",\"line\":{\"colorbar\":{\"outlinewidth\":0,\"ticks\":\"\"}},\"marker\":{\"colorbar\":{\"outlinewidth\":0,\"ticks\":\"\"}}}],\"scattermapbox\":[{\"type\":\"scattermapbox\",\"marker\":{\"colorbar\":{\"outlinewidth\":0,\"ticks\":\"\"}}}],\"scatterternary\":[{\"type\":\"scatterternary\",\"marker\":{\"colorbar\":{\"outlinewidth\":0,\"ticks\":\"\"}}}],\"scattercarpet\":[{\"type\":\"scattercarpet\",\"marker\":{\"colorbar\":{\"outlinewidth\":0,\"ticks\":\"\"}}}],\"carpet\":[{\"aaxis\":{\"endlinecolor\":\"#2a3f5f\",\"gridcolor\":\"white\",\"linecolor\":\"white\",\"minorgridcolor\":\"white\",\"startlinecolor\":\"#2a3f5f\"},\"baxis\":{\"endlinecolor\":\"#2a3f5f\",\"gridcolor\":\"white\",\"linecolor\":\"white\",\"minorgridcolor\":\"white\",\"startlinecolor\":\"#2a3f5f\"},\"type\":\"carpet\"}],\"table\":[{\"cells\":{\"fill\":{\"color\":\"#EBF0F8\"},\"line\":{\"color\":\"white\"}},\"header\":{\"fill\":{\"color\":\"#C8D4E3\"},\"line\":{\"color\":\"white\"}},\"type\":\"table\"}],\"barpolar\":[{\"marker\":{\"line\":{\"color\":\"#E5ECF6\",\"width\":0.5},\"pattern\":{\"fillmode\":\"overlay\",\"size\":10,\"solidity\":0.2}},\"type\":\"barpolar\"}],\"pie\":[{\"automargin\":true,\"type\":\"pie\"}]},\"layout\":{\"autotypenumbers\":\"strict\",\"colorway\":[\"#636efa\",\"#EF553B\",\"#00cc96\",\"#ab63fa\",\"#FFA15A\",\"#19d3f3\",\"#FF6692\",\"#B6E880\",\"#FF97FF\",\"#FECB52\"],\"font\":{\"color\":\"#2a3f5f\"},\"hovermode\":\"closest\",\"hoverlabel\":{\"align\":\"left\"},\"paper_bgcolor\":\"white\",\"plot_bgcolor\":\"#E5ECF6\",\"polar\":{\"bgcolor\":\"#E5ECF6\",\"angularaxis\":{\"gridcolor\":\"white\",\"linecolor\":\"white\",\"ticks\":\"\"},\"radialaxis\":{\"gridcolor\":\"white\",\"linecolor\":\"white\",\"ticks\":\"\"}},\"ternary\":{\"bgcolor\":\"#E5ECF6\",\"aaxis\":{\"gridcolor\":\"white\",\"linecolor\":\"white\",\"ticks\":\"\"},\"baxis\":{\"gridcolor\":\"white\",\"linecolor\":\"white\",\"ticks\":\"\"},\"caxis\":{\"gridcolor\":\"white\",\"linecolor\":\"white\",\"ticks\":\"\"}},\"coloraxis\":{\"colorbar\":{\"outlinewidth\":0,\"ticks\":\"\"}},\"colorscale\":{\"sequential\":[[0.0,\"#0d0887\"],[0.1111111111111111,\"#46039f\"],[0.2222222222222222,\"#7201a8\"],[0.3333333333333333,\"#9c179e\"],[0.4444444444444444,\"#bd3786\"],[0.5555555555555556,\"#d8576b\"],[0.6666666666666666,\"#ed7953\"],[0.7777777777777778,\"#fb9f3a\"],[0.8888888888888888,\"#fdca26\"],[1.0,\"#f0f921\"]],\"sequentialminus\":[[0.0,\"#0d0887\"],[0.1111111111111111,\"#46039f\"],[0.2222222222222222,\"#7201a8\"],[0.3333333333333333,\"#9c179e\"],[0.4444444444444444,\"#bd3786\"],[0.5555555555555556,\"#d8576b\"],[0.6666666666666666,\"#ed7953\"],[0.7777777777777778,\"#fb9f3a\"],[0.8888888888888888,\"#fdca26\"],[1.0,\"#f0f921\"]],\"diverging\":[[0,\"#8e0152\"],[0.1,\"#c51b7d\"],[0.2,\"#de77ae\"],[0.3,\"#f1b6da\"],[0.4,\"#fde0ef\"],[0.5,\"#f7f7f7\"],[0.6,\"#e6f5d0\"],[0.7,\"#b8e186\"],[0.8,\"#7fbc41\"],[0.9,\"#4d9221\"],[1,\"#276419\"]]},\"xaxis\":{\"gridcolor\":\"white\",\"linecolor\":\"white\",\"ticks\":\"\",\"title\":{\"standoff\":15},\"zerolinecolor\":\"white\",\"automargin\":true,\"zerolinewidth\":2},\"yaxis\":{\"gridcolor\":\"white\",\"linecolor\":\"white\",\"ticks\":\"\",\"title\":{\"standoff\":15},\"zerolinecolor\":\"white\",\"automargin\":true,\"zerolinewidth\":2},\"scene\":{\"xaxis\":{\"backgroundcolor\":\"#E5ECF6\",\"gridcolor\":\"white\",\"linecolor\":\"white\",\"showbackground\":true,\"ticks\":\"\",\"zerolinecolor\":\"white\",\"gridwidth\":2},\"yaxis\":{\"backgroundcolor\":\"#E5ECF6\",\"gridcolor\":\"white\",\"linecolor\":\"white\",\"showbackground\":true,\"ticks\":\"\",\"zerolinecolor\":\"white\",\"gridwidth\":2},\"zaxis\":{\"backgroundcolor\":\"#E5ECF6\",\"gridcolor\":\"white\",\"linecolor\":\"white\",\"showbackground\":true,\"ticks\":\"\",\"zerolinecolor\":\"white\",\"gridwidth\":2}},\"shapedefaults\":{\"line\":{\"color\":\"#2a3f5f\"}},\"annotationdefaults\":{\"arrowcolor\":\"#2a3f5f\",\"arrowhead\":0,\"arrowwidth\":1},\"geo\":{\"bgcolor\":\"white\",\"landcolor\":\"#E5ECF6\",\"subunitcolor\":\"white\",\"showland\":true,\"showlakes\":true,\"lakecolor\":\"white\"},\"title\":{\"x\":0.05},\"mapbox\":{\"style\":\"light\"}}},\"xaxis\":{\"anchor\":\"y\",\"domain\":[0.0,1.0],\"title\":{\"text\":\"x\"}},\"yaxis\":{\"anchor\":\"x\",\"domain\":[0.0,1.0],\"title\":{\"text\":\"count\"}},\"legend\":{\"tracegroupgap\":0},\"title\":{\"text\":\"Fig-5\"},\"barmode\":\"relative\"},                        {\"responsive\": true}                    ).then(function(){\n",
              "                            \n",
              "var gd = document.getElementById('a0fb9ba3-0bc3-4426-bd38-aa2c42c88a82');\n",
              "var x = new MutationObserver(function (mutations, observer) {{\n",
              "        var display = window.getComputedStyle(gd).display;\n",
              "        if (!display || display === 'none') {{\n",
              "            console.log([gd, 'removed!']);\n",
              "            Plotly.purge(gd);\n",
              "            observer.disconnect();\n",
              "        }}\n",
              "}});\n",
              "\n",
              "// Listen for the removal of the full notebook cells\n",
              "var notebookContainer = gd.closest('#notebook-container');\n",
              "if (notebookContainer) {{\n",
              "    x.observe(notebookContainer, {childList: true});\n",
              "}}\n",
              "\n",
              "// Listen for the clearing of the current output cell\n",
              "var outputEl = gd.closest('.output');\n",
              "if (outputEl) {{\n",
              "    x.observe(outputEl, {childList: true});\n",
              "}}\n",
              "\n",
              "                        })                };                            </script>        </div>\n",
              "</body>\n",
              "</html>"
            ]
          },
          "metadata": {}
        }
      ]
    },
    {
      "cell_type": "markdown",
      "source": [
        "* From the above visualization we see that the Item weight is Normally distributed\n",
        "* There is no Outliers in the Item Weight feature\n"
      ],
      "metadata": {
        "id": "-sZhHv9F7oBC"
      }
    },
    {
      "cell_type": "markdown",
      "source": [
        "# Bivariate Analysis"
      ],
      "metadata": {
        "id": "MXTJ101x8DCd"
      }
    },
    {
      "cell_type": "code",
      "source": [],
      "metadata": {
        "id": "ZGaXEyX08Cln"
      },
      "execution_count": null,
      "outputs": []
    },
    {
      "cell_type": "code",
      "source": [],
      "metadata": {
        "id": "f_P0mzMI8Cf9"
      },
      "execution_count": null,
      "outputs": []
    },
    {
      "cell_type": "code",
      "source": [],
      "metadata": {
        "id": "H5Mxiqd08CXD"
      },
      "execution_count": null,
      "outputs": []
    },
    {
      "cell_type": "markdown",
      "metadata": {
        "id": "MdpEbWJPDenj"
      },
      "source": [
        "# Data Cleaning"
      ]
    },
    {
      "cell_type": "code",
      "execution_count": 8,
      "metadata": {
        "colab": {
          "base_uri": "https://localhost:8080/"
        },
        "id": "9OArCZhmDenk",
        "outputId": "50e5913b-e704-4de4-ccc8-d3dd1865349b"
      },
      "outputs": [
        {
          "output_type": "execute_result",
          "data": {
            "text/plain": [
              "Item_Identifier                  0\n",
              "Item_Weight                   2439\n",
              "Item_Fat_Content                 0\n",
              "Item_Visibility                  0\n",
              "Item_Type                        0\n",
              "Item_MRP                         0\n",
              "Outlet_Identifier                0\n",
              "Outlet_Establishment_Year        0\n",
              "Outlet_Size                   4016\n",
              "Outlet_Location_Type             0\n",
              "Outlet_Type                      0\n",
              "Item_Outlet_Sales             5681\n",
              "source                           0\n",
              "Unnamed: 11                  14204\n",
              "Unnamed: 12                  14204\n",
              "Unnamed: 13                  14204\n",
              "Unnamed: 14                  14204\n",
              "Unnamed: 15                  14204\n",
              "Unnamed: 16                  14204\n",
              "Unnamed: 17                  14203\n",
              "dtype: int64"
            ]
          },
          "metadata": {},
          "execution_count": 8
        }
      ],
      "source": [
        "#Check missing values:\n",
        "data.apply(lambda x: sum(x.isnull()))"
      ]
    },
    {
      "cell_type": "markdown",
      "metadata": {
        "id": "FyrJwuh3Denl"
      },
      "source": [
        "### Filling missing values"
      ]
    },
    {
      "cell_type": "code",
      "execution_count": 9,
      "metadata": {
        "id": "jbnSWTW1Denm"
      },
      "outputs": [],
      "source": [
        "data.Item_Outlet_Sales = data.Item_Outlet_Sales.fillna(data.Item_Outlet_Sales.mean())"
      ]
    },
    {
      "cell_type": "code",
      "execution_count": 10,
      "metadata": {
        "id": "307WuWD5Denn"
      },
      "outputs": [],
      "source": [
        "data.Item_Weight = data.Item_Weight.fillna(data.Item_Weight.mean())"
      ]
    },
    {
      "cell_type": "code",
      "execution_count": 11,
      "metadata": {
        "colab": {
          "base_uri": "https://localhost:8080/"
        },
        "id": "kYLWZvxTDeno",
        "outputId": "fcb49273-334a-4b58-c06e-7ca4e38e173c"
      },
      "outputs": [
        {
          "output_type": "execute_result",
          "data": {
            "text/plain": [
              "Medium    4655\n",
              "Small     3980\n",
              "High      1553\n",
              "Name: Outlet_Size, dtype: int64"
            ]
          },
          "metadata": {},
          "execution_count": 11
        }
      ],
      "source": [
        "data['Outlet_Size'].value_counts()"
      ]
    },
    {
      "cell_type": "code",
      "execution_count": 12,
      "metadata": {
        "id": "jlOHzA4vDenp"
      },
      "outputs": [],
      "source": [
        "data.Outlet_Size = data.Outlet_Size.fillna('Medium')"
      ]
    },
    {
      "cell_type": "code",
      "execution_count": 13,
      "metadata": {
        "colab": {
          "base_uri": "https://localhost:8080/"
        },
        "id": "BgCET2iGDenq",
        "outputId": "cb905588-8799-423d-92d9-a30d9e436817"
      },
      "outputs": [
        {
          "output_type": "execute_result",
          "data": {
            "text/plain": [
              "Item_Identifier                  0\n",
              "Item_Weight                      0\n",
              "Item_Fat_Content                 0\n",
              "Item_Visibility                  0\n",
              "Item_Type                        0\n",
              "Item_MRP                         0\n",
              "Outlet_Identifier                0\n",
              "Outlet_Establishment_Year        0\n",
              "Outlet_Size                      0\n",
              "Outlet_Location_Type             0\n",
              "Outlet_Type                      0\n",
              "Item_Outlet_Sales                0\n",
              "source                           0\n",
              "Unnamed: 11                  14204\n",
              "Unnamed: 12                  14204\n",
              "Unnamed: 13                  14204\n",
              "Unnamed: 14                  14204\n",
              "Unnamed: 15                  14204\n",
              "Unnamed: 16                  14204\n",
              "Unnamed: 17                  14203\n",
              "dtype: int64"
            ]
          },
          "metadata": {},
          "execution_count": 13
        }
      ],
      "source": [
        "data.apply(lambda x: sum(x.isnull()))"
      ]
    },
    {
      "cell_type": "code",
      "execution_count": 14,
      "metadata": {
        "colab": {
          "base_uri": "https://localhost:8080/"
        },
        "id": "F7lS6LXDDenr",
        "outputId": "4a0f90d5-fdeb-47a7-f971-5b317707bcb4"
      },
      "outputs": [
        {
          "output_type": "stream",
          "name": "stdout",
          "text": [
            "<class 'pandas.core.frame.DataFrame'>\n",
            "RangeIndex: 14204 entries, 0 to 14203\n",
            "Data columns (total 20 columns):\n",
            " #   Column                     Non-Null Count  Dtype  \n",
            "---  ------                     --------------  -----  \n",
            " 0   Item_Identifier            14204 non-null  object \n",
            " 1   Item_Weight                14204 non-null  float64\n",
            " 2   Item_Fat_Content           14204 non-null  object \n",
            " 3   Item_Visibility            14204 non-null  float64\n",
            " 4   Item_Type                  14204 non-null  object \n",
            " 5   Item_MRP                   14204 non-null  float64\n",
            " 6   Outlet_Identifier          14204 non-null  object \n",
            " 7   Outlet_Establishment_Year  14204 non-null  int64  \n",
            " 8   Outlet_Size                14204 non-null  object \n",
            " 9   Outlet_Location_Type       14204 non-null  object \n",
            " 10  Outlet_Type                14204 non-null  object \n",
            " 11  Item_Outlet_Sales          14204 non-null  float64\n",
            " 12  source                     14204 non-null  object \n",
            " 13  Unnamed: 11                0 non-null      float64\n",
            " 14  Unnamed: 12                0 non-null      float64\n",
            " 15  Unnamed: 13                0 non-null      float64\n",
            " 16  Unnamed: 14                0 non-null      float64\n",
            " 17  Unnamed: 15                0 non-null      float64\n",
            " 18  Unnamed: 16                0 non-null      float64\n",
            " 19  Unnamed: 17                1 non-null      object \n",
            "dtypes: float64(10), int64(1), object(9)\n",
            "memory usage: 2.2+ MB\n"
          ]
        }
      ],
      "source": [
        "data.info()"
      ]
    },
    {
      "cell_type": "code",
      "execution_count": 15,
      "metadata": {
        "colab": {
          "base_uri": "https://localhost:8080/"
        },
        "id": "S6_3fo0UDens",
        "outputId": "bf7d24d8-144d-4edc-9c06-4dfac4081885"
      },
      "outputs": [
        {
          "output_type": "execute_result",
          "data": {
            "text/plain": [
              "Food              10201\n",
              "Non-Consumable     2686\n",
              "Drinks             1317\n",
              "Name: Item_Type_Combined, dtype: int64"
            ]
          },
          "metadata": {},
          "execution_count": 15
        }
      ],
      "source": [
        "#Item type combine:\n",
        "data['Item_Identifier'].value_counts()\n",
        "data['Item_Type_Combined'] = data['Item_Identifier'].apply(lambda x: x[0:2])\n",
        "data['Item_Type_Combined'] = data['Item_Type_Combined'].map({'FD':'Food',\n",
        "                                                             'NC':'Non-Consumable',\n",
        "                                                             'DR':'Drinks'})\n",
        "data['Item_Type_Combined'].value_counts()"
      ]
    },
    {
      "cell_type": "markdown",
      "metadata": {
        "id": "HwiCv8xvDent"
      },
      "source": [
        "### Numerical and One-Hot Coding of Categorical variables"
      ]
    },
    {
      "cell_type": "code",
      "execution_count": 16,
      "metadata": {
        "id": "ybRhx20JDenu"
      },
      "outputs": [],
      "source": [
        "#Import library:\n",
        "from sklearn.preprocessing import LabelEncoder, OneHotEncoder\n",
        "le = LabelEncoder()\n",
        "#New variable for outlet\n",
        "data['Outlet'] = le.fit_transform(data['Outlet_Identifier'])\n",
        "var_mod = ['Item_Fat_Content','Outlet_Location_Type','Outlet_Size','Item_Type_Combined','Outlet_Type','Outlet']\n",
        "le = LabelEncoder()\n",
        "for i in var_mod:\n",
        "    data[i] = le.fit_transform(data[i])"
      ]
    },
    {
      "cell_type": "code",
      "execution_count": 17,
      "metadata": {
        "id": "UJFhGxS_Denw"
      },
      "outputs": [],
      "source": [
        "#One Hot Coding:\n",
        "data = pd.get_dummies(data, columns=['Item_Fat_Content','Outlet_Location_Type','Outlet_Size','Outlet_Type','Item_Type_Combined','Outlet'])"
      ]
    },
    {
      "cell_type": "code",
      "execution_count": 18,
      "metadata": {
        "colab": {
          "base_uri": "https://localhost:8080/",
          "height": 334
        },
        "id": "RvS7Y7aJDenx",
        "outputId": "3bc22e76-2a86-40bb-c1c3-f99239a5c47f"
      },
      "outputs": [
        {
          "output_type": "execute_result",
          "data": {
            "text/plain": [
              "  Item_Identifier  Item_Weight  Item_Visibility              Item_Type  \\\n",
              "0           FDA15         9.30         0.016047                  Dairy   \n",
              "1           DRC01         5.92         0.019278            Soft Drinks   \n",
              "2           FDN15        17.50         0.016760                   Meat   \n",
              "3           FDX07        19.20         0.000000  Fruits and Vegetables   \n",
              "4           NCD19         8.93         0.000000              Household   \n",
              "\n",
              "   Item_MRP Outlet_Identifier  Outlet_Establishment_Year  Item_Outlet_Sales  \\\n",
              "0  249.8092            OUT049                       1999          3735.1380   \n",
              "1   48.2692            OUT018                       2009           443.4228   \n",
              "2  141.6180            OUT049                       1999          2097.2700   \n",
              "3  182.0950            OUT010                       1998           732.3800   \n",
              "4   53.8614            OUT013                       1987           994.7052   \n",
              "\n",
              "  source  Unnamed: 11  ...  Outlet_0  Outlet_1  Outlet_2  Outlet_3  Outlet_4  \\\n",
              "0  train          NaN  ...         0         0         0         0         0   \n",
              "1  train          NaN  ...         0         0         0         1         0   \n",
              "2  train          NaN  ...         0         0         0         0         0   \n",
              "3  train          NaN  ...         1         0         0         0         0   \n",
              "4  train          NaN  ...         0         1         0         0         0   \n",
              "\n",
              "  Outlet_5  Outlet_6  Outlet_7  Outlet_8  Outlet_9  \n",
              "0        0         0         0         0         1  \n",
              "1        0         0         0         0         0  \n",
              "2        0         0         0         0         1  \n",
              "3        0         0         0         0         0  \n",
              "4        0         0         0         0         0  \n",
              "\n",
              "[5 rows x 44 columns]"
            ],
            "text/html": [
              "\n",
              "  <div id=\"df-b441368e-bd04-4ba8-882d-b79c83d0504f\">\n",
              "    <div class=\"colab-df-container\">\n",
              "      <div>\n",
              "<style scoped>\n",
              "    .dataframe tbody tr th:only-of-type {\n",
              "        vertical-align: middle;\n",
              "    }\n",
              "\n",
              "    .dataframe tbody tr th {\n",
              "        vertical-align: top;\n",
              "    }\n",
              "\n",
              "    .dataframe thead th {\n",
              "        text-align: right;\n",
              "    }\n",
              "</style>\n",
              "<table border=\"1\" class=\"dataframe\">\n",
              "  <thead>\n",
              "    <tr style=\"text-align: right;\">\n",
              "      <th></th>\n",
              "      <th>Item_Identifier</th>\n",
              "      <th>Item_Weight</th>\n",
              "      <th>Item_Visibility</th>\n",
              "      <th>Item_Type</th>\n",
              "      <th>Item_MRP</th>\n",
              "      <th>Outlet_Identifier</th>\n",
              "      <th>Outlet_Establishment_Year</th>\n",
              "      <th>Item_Outlet_Sales</th>\n",
              "      <th>source</th>\n",
              "      <th>Unnamed: 11</th>\n",
              "      <th>...</th>\n",
              "      <th>Outlet_0</th>\n",
              "      <th>Outlet_1</th>\n",
              "      <th>Outlet_2</th>\n",
              "      <th>Outlet_3</th>\n",
              "      <th>Outlet_4</th>\n",
              "      <th>Outlet_5</th>\n",
              "      <th>Outlet_6</th>\n",
              "      <th>Outlet_7</th>\n",
              "      <th>Outlet_8</th>\n",
              "      <th>Outlet_9</th>\n",
              "    </tr>\n",
              "  </thead>\n",
              "  <tbody>\n",
              "    <tr>\n",
              "      <th>0</th>\n",
              "      <td>FDA15</td>\n",
              "      <td>9.30</td>\n",
              "      <td>0.016047</td>\n",
              "      <td>Dairy</td>\n",
              "      <td>249.8092</td>\n",
              "      <td>OUT049</td>\n",
              "      <td>1999</td>\n",
              "      <td>3735.1380</td>\n",
              "      <td>train</td>\n",
              "      <td>NaN</td>\n",
              "      <td>...</td>\n",
              "      <td>0</td>\n",
              "      <td>0</td>\n",
              "      <td>0</td>\n",
              "      <td>0</td>\n",
              "      <td>0</td>\n",
              "      <td>0</td>\n",
              "      <td>0</td>\n",
              "      <td>0</td>\n",
              "      <td>0</td>\n",
              "      <td>1</td>\n",
              "    </tr>\n",
              "    <tr>\n",
              "      <th>1</th>\n",
              "      <td>DRC01</td>\n",
              "      <td>5.92</td>\n",
              "      <td>0.019278</td>\n",
              "      <td>Soft Drinks</td>\n",
              "      <td>48.2692</td>\n",
              "      <td>OUT018</td>\n",
              "      <td>2009</td>\n",
              "      <td>443.4228</td>\n",
              "      <td>train</td>\n",
              "      <td>NaN</td>\n",
              "      <td>...</td>\n",
              "      <td>0</td>\n",
              "      <td>0</td>\n",
              "      <td>0</td>\n",
              "      <td>1</td>\n",
              "      <td>0</td>\n",
              "      <td>0</td>\n",
              "      <td>0</td>\n",
              "      <td>0</td>\n",
              "      <td>0</td>\n",
              "      <td>0</td>\n",
              "    </tr>\n",
              "    <tr>\n",
              "      <th>2</th>\n",
              "      <td>FDN15</td>\n",
              "      <td>17.50</td>\n",
              "      <td>0.016760</td>\n",
              "      <td>Meat</td>\n",
              "      <td>141.6180</td>\n",
              "      <td>OUT049</td>\n",
              "      <td>1999</td>\n",
              "      <td>2097.2700</td>\n",
              "      <td>train</td>\n",
              "      <td>NaN</td>\n",
              "      <td>...</td>\n",
              "      <td>0</td>\n",
              "      <td>0</td>\n",
              "      <td>0</td>\n",
              "      <td>0</td>\n",
              "      <td>0</td>\n",
              "      <td>0</td>\n",
              "      <td>0</td>\n",
              "      <td>0</td>\n",
              "      <td>0</td>\n",
              "      <td>1</td>\n",
              "    </tr>\n",
              "    <tr>\n",
              "      <th>3</th>\n",
              "      <td>FDX07</td>\n",
              "      <td>19.20</td>\n",
              "      <td>0.000000</td>\n",
              "      <td>Fruits and Vegetables</td>\n",
              "      <td>182.0950</td>\n",
              "      <td>OUT010</td>\n",
              "      <td>1998</td>\n",
              "      <td>732.3800</td>\n",
              "      <td>train</td>\n",
              "      <td>NaN</td>\n",
              "      <td>...</td>\n",
              "      <td>1</td>\n",
              "      <td>0</td>\n",
              "      <td>0</td>\n",
              "      <td>0</td>\n",
              "      <td>0</td>\n",
              "      <td>0</td>\n",
              "      <td>0</td>\n",
              "      <td>0</td>\n",
              "      <td>0</td>\n",
              "      <td>0</td>\n",
              "    </tr>\n",
              "    <tr>\n",
              "      <th>4</th>\n",
              "      <td>NCD19</td>\n",
              "      <td>8.93</td>\n",
              "      <td>0.000000</td>\n",
              "      <td>Household</td>\n",
              "      <td>53.8614</td>\n",
              "      <td>OUT013</td>\n",
              "      <td>1987</td>\n",
              "      <td>994.7052</td>\n",
              "      <td>train</td>\n",
              "      <td>NaN</td>\n",
              "      <td>...</td>\n",
              "      <td>0</td>\n",
              "      <td>1</td>\n",
              "      <td>0</td>\n",
              "      <td>0</td>\n",
              "      <td>0</td>\n",
              "      <td>0</td>\n",
              "      <td>0</td>\n",
              "      <td>0</td>\n",
              "      <td>0</td>\n",
              "      <td>0</td>\n",
              "    </tr>\n",
              "  </tbody>\n",
              "</table>\n",
              "<p>5 rows × 44 columns</p>\n",
              "</div>\n",
              "      <button class=\"colab-df-convert\" onclick=\"convertToInteractive('df-b441368e-bd04-4ba8-882d-b79c83d0504f')\"\n",
              "              title=\"Convert this dataframe to an interactive table.\"\n",
              "              style=\"display:none;\">\n",
              "        \n",
              "  <svg xmlns=\"http://www.w3.org/2000/svg\" height=\"24px\"viewBox=\"0 0 24 24\"\n",
              "       width=\"24px\">\n",
              "    <path d=\"M0 0h24v24H0V0z\" fill=\"none\"/>\n",
              "    <path d=\"M18.56 5.44l.94 2.06.94-2.06 2.06-.94-2.06-.94-.94-2.06-.94 2.06-2.06.94zm-11 1L8.5 8.5l.94-2.06 2.06-.94-2.06-.94L8.5 2.5l-.94 2.06-2.06.94zm10 10l.94 2.06.94-2.06 2.06-.94-2.06-.94-.94-2.06-.94 2.06-2.06.94z\"/><path d=\"M17.41 7.96l-1.37-1.37c-.4-.4-.92-.59-1.43-.59-.52 0-1.04.2-1.43.59L10.3 9.45l-7.72 7.72c-.78.78-.78 2.05 0 2.83L4 21.41c.39.39.9.59 1.41.59.51 0 1.02-.2 1.41-.59l7.78-7.78 2.81-2.81c.8-.78.8-2.07 0-2.86zM5.41 20L4 18.59l7.72-7.72 1.47 1.35L5.41 20z\"/>\n",
              "  </svg>\n",
              "      </button>\n",
              "      \n",
              "  <style>\n",
              "    .colab-df-container {\n",
              "      display:flex;\n",
              "      flex-wrap:wrap;\n",
              "      gap: 12px;\n",
              "    }\n",
              "\n",
              "    .colab-df-convert {\n",
              "      background-color: #E8F0FE;\n",
              "      border: none;\n",
              "      border-radius: 50%;\n",
              "      cursor: pointer;\n",
              "      display: none;\n",
              "      fill: #1967D2;\n",
              "      height: 32px;\n",
              "      padding: 0 0 0 0;\n",
              "      width: 32px;\n",
              "    }\n",
              "\n",
              "    .colab-df-convert:hover {\n",
              "      background-color: #E2EBFA;\n",
              "      box-shadow: 0px 1px 2px rgba(60, 64, 67, 0.3), 0px 1px 3px 1px rgba(60, 64, 67, 0.15);\n",
              "      fill: #174EA6;\n",
              "    }\n",
              "\n",
              "    [theme=dark] .colab-df-convert {\n",
              "      background-color: #3B4455;\n",
              "      fill: #D2E3FC;\n",
              "    }\n",
              "\n",
              "    [theme=dark] .colab-df-convert:hover {\n",
              "      background-color: #434B5C;\n",
              "      box-shadow: 0px 1px 3px 1px rgba(0, 0, 0, 0.15);\n",
              "      filter: drop-shadow(0px 1px 2px rgba(0, 0, 0, 0.3));\n",
              "      fill: #FFFFFF;\n",
              "    }\n",
              "  </style>\n",
              "\n",
              "      <script>\n",
              "        const buttonEl =\n",
              "          document.querySelector('#df-b441368e-bd04-4ba8-882d-b79c83d0504f button.colab-df-convert');\n",
              "        buttonEl.style.display =\n",
              "          google.colab.kernel.accessAllowed ? 'block' : 'none';\n",
              "\n",
              "        async function convertToInteractive(key) {\n",
              "          const element = document.querySelector('#df-b441368e-bd04-4ba8-882d-b79c83d0504f');\n",
              "          const dataTable =\n",
              "            await google.colab.kernel.invokeFunction('convertToInteractive',\n",
              "                                                     [key], {});\n",
              "          if (!dataTable) return;\n",
              "\n",
              "          const docLinkHtml = 'Like what you see? Visit the ' +\n",
              "            '<a target=\"_blank\" href=https://colab.research.google.com/notebooks/data_table.ipynb>data table notebook</a>'\n",
              "            + ' to learn more about interactive tables.';\n",
              "          element.innerHTML = '';\n",
              "          dataTable['output_type'] = 'display_data';\n",
              "          await google.colab.output.renderOutput(dataTable, element);\n",
              "          const docLink = document.createElement('div');\n",
              "          docLink.innerHTML = docLinkHtml;\n",
              "          element.appendChild(docLink);\n",
              "        }\n",
              "      </script>\n",
              "    </div>\n",
              "  </div>\n",
              "  "
            ]
          },
          "metadata": {},
          "execution_count": 18
        }
      ],
      "source": [
        "data.head()"
      ]
    },
    {
      "cell_type": "code",
      "execution_count": 19,
      "metadata": {
        "colab": {
          "base_uri": "https://localhost:8080/"
        },
        "id": "RTjPR1jYDenz",
        "outputId": "c980e5d4-94ab-4538-a01d-fe5e4dd81246"
      },
      "outputs": [
        {
          "output_type": "execute_result",
          "data": {
            "text/plain": [
              "Item_Identifier               object\n",
              "Item_Weight                  float64\n",
              "Item_Visibility              float64\n",
              "Item_Type                     object\n",
              "Item_MRP                     float64\n",
              "Outlet_Identifier             object\n",
              "Outlet_Establishment_Year      int64\n",
              "Item_Outlet_Sales            float64\n",
              "source                        object\n",
              "Unnamed: 11                  float64\n",
              "Unnamed: 12                  float64\n",
              "Unnamed: 13                  float64\n",
              "Unnamed: 14                  float64\n",
              "Unnamed: 15                  float64\n",
              "Unnamed: 16                  float64\n",
              "Unnamed: 17                   object\n",
              "Item_Fat_Content_0             uint8\n",
              "Item_Fat_Content_1             uint8\n",
              "Item_Fat_Content_2             uint8\n",
              "Item_Fat_Content_3             uint8\n",
              "Item_Fat_Content_4             uint8\n",
              "Outlet_Location_Type_0         uint8\n",
              "Outlet_Location_Type_1         uint8\n",
              "Outlet_Location_Type_2         uint8\n",
              "Outlet_Size_0                  uint8\n",
              "Outlet_Size_1                  uint8\n",
              "Outlet_Size_2                  uint8\n",
              "Outlet_Type_0                  uint8\n",
              "Outlet_Type_1                  uint8\n",
              "Outlet_Type_2                  uint8\n",
              "Outlet_Type_3                  uint8\n",
              "Item_Type_Combined_0           uint8\n",
              "Item_Type_Combined_1           uint8\n",
              "Item_Type_Combined_2           uint8\n",
              "Outlet_0                       uint8\n",
              "Outlet_1                       uint8\n",
              "Outlet_2                       uint8\n",
              "Outlet_3                       uint8\n",
              "Outlet_4                       uint8\n",
              "Outlet_5                       uint8\n",
              "Outlet_6                       uint8\n",
              "Outlet_7                       uint8\n",
              "Outlet_8                       uint8\n",
              "Outlet_9                       uint8\n",
              "dtype: object"
            ]
          },
          "metadata": {},
          "execution_count": 19
        }
      ],
      "source": [
        "data.dtypes"
      ]
    },
    {
      "cell_type": "markdown",
      "metadata": {
        "id": "FHbZhRAaDen0"
      },
      "source": [
        "### Exporting Data"
      ]
    },
    {
      "cell_type": "code",
      "execution_count": 20,
      "metadata": {
        "id": "KScqF6WaDen2"
      },
      "outputs": [],
      "source": [
        "import warnings\n",
        "warnings.filterwarnings('ignore')\n",
        "#Drop the columns which have been converted to different types:\n",
        "data.drop(['Item_Type','Outlet_Establishment_Year','Unnamed: 11','Unnamed: 12','Unnamed: 13','Unnamed: 14','Unnamed: 15','Unnamed: 16','Unnamed: 17'],axis=1,inplace=True)\n",
        "\n",
        "#Divide into test and train:\n",
        "train = data.loc[data['source']==\"train\"]\n",
        "test = data.loc[data['source']==\"test\"]\n",
        "\n",
        "#Drop unnecessary columns:\n",
        "test.drop(['Item_Outlet_Sales','source'],axis=1,inplace=True)\n",
        "train.drop(['source'],axis=1,inplace=True)\n",
        "\n",
        "#Export files as modified versions:\n",
        "train.to_csv(\"train_modified.csv\",index=False)\n",
        "test.to_csv(\"test_modified.csv\",index=False)"
      ]
    },
    {
      "cell_type": "markdown",
      "metadata": {
        "id": "vgMPZzkXDen4"
      },
      "source": [
        "# Model Building"
      ]
    },
    {
      "cell_type": "code",
      "execution_count": 21,
      "metadata": {
        "id": "ePAl8OEyDen5"
      },
      "outputs": [],
      "source": [
        "# Reading modified data\n",
        "train2 = pd.read_csv(\"train_modified.csv\")\n",
        "test2 = pd.read_csv(\"test_modified.csv\")"
      ]
    },
    {
      "cell_type": "code",
      "execution_count": 22,
      "metadata": {
        "colab": {
          "base_uri": "https://localhost:8080/",
          "height": 299
        },
        "id": "wfEpDUcjDen5",
        "outputId": "ac38ffff-e76f-4ca6-c473-75fccd49d9d2"
      },
      "outputs": [
        {
          "output_type": "execute_result",
          "data": {
            "text/plain": [
              "  Item_Identifier  Item_Weight  Item_Visibility  Item_MRP Outlet_Identifier  \\\n",
              "0           FDA15         9.30         0.016047  249.8092            OUT049   \n",
              "1           DRC01         5.92         0.019278   48.2692            OUT018   \n",
              "2           FDN15        17.50         0.016760  141.6180            OUT049   \n",
              "3           FDX07        19.20         0.000000  182.0950            OUT010   \n",
              "4           NCD19         8.93         0.000000   53.8614            OUT013   \n",
              "\n",
              "   Item_Outlet_Sales  Item_Fat_Content_0  Item_Fat_Content_1  \\\n",
              "0          3735.1380                   0                   1   \n",
              "1           443.4228                   0                   0   \n",
              "2          2097.2700                   0                   1   \n",
              "3           732.3800                   0                   0   \n",
              "4           994.7052                   0                   1   \n",
              "\n",
              "   Item_Fat_Content_2  Item_Fat_Content_3  ...  Outlet_0  Outlet_1  Outlet_2  \\\n",
              "0                   0                   0  ...         0         0         0   \n",
              "1                   1                   0  ...         0         0         0   \n",
              "2                   0                   0  ...         0         0         0   \n",
              "3                   1                   0  ...         1         0         0   \n",
              "4                   0                   0  ...         0         1         0   \n",
              "\n",
              "   Outlet_3  Outlet_4  Outlet_5  Outlet_6  Outlet_7  Outlet_8  Outlet_9  \n",
              "0         0         0         0         0         0         0         1  \n",
              "1         1         0         0         0         0         0         0  \n",
              "2         0         0         0         0         0         0         1  \n",
              "3         0         0         0         0         0         0         0  \n",
              "4         0         0         0         0         0         0         0  \n",
              "\n",
              "[5 rows x 34 columns]"
            ],
            "text/html": [
              "\n",
              "  <div id=\"df-e26dce63-6b92-4e96-8d61-34cad5b99013\">\n",
              "    <div class=\"colab-df-container\">\n",
              "      <div>\n",
              "<style scoped>\n",
              "    .dataframe tbody tr th:only-of-type {\n",
              "        vertical-align: middle;\n",
              "    }\n",
              "\n",
              "    .dataframe tbody tr th {\n",
              "        vertical-align: top;\n",
              "    }\n",
              "\n",
              "    .dataframe thead th {\n",
              "        text-align: right;\n",
              "    }\n",
              "</style>\n",
              "<table border=\"1\" class=\"dataframe\">\n",
              "  <thead>\n",
              "    <tr style=\"text-align: right;\">\n",
              "      <th></th>\n",
              "      <th>Item_Identifier</th>\n",
              "      <th>Item_Weight</th>\n",
              "      <th>Item_Visibility</th>\n",
              "      <th>Item_MRP</th>\n",
              "      <th>Outlet_Identifier</th>\n",
              "      <th>Item_Outlet_Sales</th>\n",
              "      <th>Item_Fat_Content_0</th>\n",
              "      <th>Item_Fat_Content_1</th>\n",
              "      <th>Item_Fat_Content_2</th>\n",
              "      <th>Item_Fat_Content_3</th>\n",
              "      <th>...</th>\n",
              "      <th>Outlet_0</th>\n",
              "      <th>Outlet_1</th>\n",
              "      <th>Outlet_2</th>\n",
              "      <th>Outlet_3</th>\n",
              "      <th>Outlet_4</th>\n",
              "      <th>Outlet_5</th>\n",
              "      <th>Outlet_6</th>\n",
              "      <th>Outlet_7</th>\n",
              "      <th>Outlet_8</th>\n",
              "      <th>Outlet_9</th>\n",
              "    </tr>\n",
              "  </thead>\n",
              "  <tbody>\n",
              "    <tr>\n",
              "      <th>0</th>\n",
              "      <td>FDA15</td>\n",
              "      <td>9.30</td>\n",
              "      <td>0.016047</td>\n",
              "      <td>249.8092</td>\n",
              "      <td>OUT049</td>\n",
              "      <td>3735.1380</td>\n",
              "      <td>0</td>\n",
              "      <td>1</td>\n",
              "      <td>0</td>\n",
              "      <td>0</td>\n",
              "      <td>...</td>\n",
              "      <td>0</td>\n",
              "      <td>0</td>\n",
              "      <td>0</td>\n",
              "      <td>0</td>\n",
              "      <td>0</td>\n",
              "      <td>0</td>\n",
              "      <td>0</td>\n",
              "      <td>0</td>\n",
              "      <td>0</td>\n",
              "      <td>1</td>\n",
              "    </tr>\n",
              "    <tr>\n",
              "      <th>1</th>\n",
              "      <td>DRC01</td>\n",
              "      <td>5.92</td>\n",
              "      <td>0.019278</td>\n",
              "      <td>48.2692</td>\n",
              "      <td>OUT018</td>\n",
              "      <td>443.4228</td>\n",
              "      <td>0</td>\n",
              "      <td>0</td>\n",
              "      <td>1</td>\n",
              "      <td>0</td>\n",
              "      <td>...</td>\n",
              "      <td>0</td>\n",
              "      <td>0</td>\n",
              "      <td>0</td>\n",
              "      <td>1</td>\n",
              "      <td>0</td>\n",
              "      <td>0</td>\n",
              "      <td>0</td>\n",
              "      <td>0</td>\n",
              "      <td>0</td>\n",
              "      <td>0</td>\n",
              "    </tr>\n",
              "    <tr>\n",
              "      <th>2</th>\n",
              "      <td>FDN15</td>\n",
              "      <td>17.50</td>\n",
              "      <td>0.016760</td>\n",
              "      <td>141.6180</td>\n",
              "      <td>OUT049</td>\n",
              "      <td>2097.2700</td>\n",
              "      <td>0</td>\n",
              "      <td>1</td>\n",
              "      <td>0</td>\n",
              "      <td>0</td>\n",
              "      <td>...</td>\n",
              "      <td>0</td>\n",
              "      <td>0</td>\n",
              "      <td>0</td>\n",
              "      <td>0</td>\n",
              "      <td>0</td>\n",
              "      <td>0</td>\n",
              "      <td>0</td>\n",
              "      <td>0</td>\n",
              "      <td>0</td>\n",
              "      <td>1</td>\n",
              "    </tr>\n",
              "    <tr>\n",
              "      <th>3</th>\n",
              "      <td>FDX07</td>\n",
              "      <td>19.20</td>\n",
              "      <td>0.000000</td>\n",
              "      <td>182.0950</td>\n",
              "      <td>OUT010</td>\n",
              "      <td>732.3800</td>\n",
              "      <td>0</td>\n",
              "      <td>0</td>\n",
              "      <td>1</td>\n",
              "      <td>0</td>\n",
              "      <td>...</td>\n",
              "      <td>1</td>\n",
              "      <td>0</td>\n",
              "      <td>0</td>\n",
              "      <td>0</td>\n",
              "      <td>0</td>\n",
              "      <td>0</td>\n",
              "      <td>0</td>\n",
              "      <td>0</td>\n",
              "      <td>0</td>\n",
              "      <td>0</td>\n",
              "    </tr>\n",
              "    <tr>\n",
              "      <th>4</th>\n",
              "      <td>NCD19</td>\n",
              "      <td>8.93</td>\n",
              "      <td>0.000000</td>\n",
              "      <td>53.8614</td>\n",
              "      <td>OUT013</td>\n",
              "      <td>994.7052</td>\n",
              "      <td>0</td>\n",
              "      <td>1</td>\n",
              "      <td>0</td>\n",
              "      <td>0</td>\n",
              "      <td>...</td>\n",
              "      <td>0</td>\n",
              "      <td>1</td>\n",
              "      <td>0</td>\n",
              "      <td>0</td>\n",
              "      <td>0</td>\n",
              "      <td>0</td>\n",
              "      <td>0</td>\n",
              "      <td>0</td>\n",
              "      <td>0</td>\n",
              "      <td>0</td>\n",
              "    </tr>\n",
              "  </tbody>\n",
              "</table>\n",
              "<p>5 rows × 34 columns</p>\n",
              "</div>\n",
              "      <button class=\"colab-df-convert\" onclick=\"convertToInteractive('df-e26dce63-6b92-4e96-8d61-34cad5b99013')\"\n",
              "              title=\"Convert this dataframe to an interactive table.\"\n",
              "              style=\"display:none;\">\n",
              "        \n",
              "  <svg xmlns=\"http://www.w3.org/2000/svg\" height=\"24px\"viewBox=\"0 0 24 24\"\n",
              "       width=\"24px\">\n",
              "    <path d=\"M0 0h24v24H0V0z\" fill=\"none\"/>\n",
              "    <path d=\"M18.56 5.44l.94 2.06.94-2.06 2.06-.94-2.06-.94-.94-2.06-.94 2.06-2.06.94zm-11 1L8.5 8.5l.94-2.06 2.06-.94-2.06-.94L8.5 2.5l-.94 2.06-2.06.94zm10 10l.94 2.06.94-2.06 2.06-.94-2.06-.94-.94-2.06-.94 2.06-2.06.94z\"/><path d=\"M17.41 7.96l-1.37-1.37c-.4-.4-.92-.59-1.43-.59-.52 0-1.04.2-1.43.59L10.3 9.45l-7.72 7.72c-.78.78-.78 2.05 0 2.83L4 21.41c.39.39.9.59 1.41.59.51 0 1.02-.2 1.41-.59l7.78-7.78 2.81-2.81c.8-.78.8-2.07 0-2.86zM5.41 20L4 18.59l7.72-7.72 1.47 1.35L5.41 20z\"/>\n",
              "  </svg>\n",
              "      </button>\n",
              "      \n",
              "  <style>\n",
              "    .colab-df-container {\n",
              "      display:flex;\n",
              "      flex-wrap:wrap;\n",
              "      gap: 12px;\n",
              "    }\n",
              "\n",
              "    .colab-df-convert {\n",
              "      background-color: #E8F0FE;\n",
              "      border: none;\n",
              "      border-radius: 50%;\n",
              "      cursor: pointer;\n",
              "      display: none;\n",
              "      fill: #1967D2;\n",
              "      height: 32px;\n",
              "      padding: 0 0 0 0;\n",
              "      width: 32px;\n",
              "    }\n",
              "\n",
              "    .colab-df-convert:hover {\n",
              "      background-color: #E2EBFA;\n",
              "      box-shadow: 0px 1px 2px rgba(60, 64, 67, 0.3), 0px 1px 3px 1px rgba(60, 64, 67, 0.15);\n",
              "      fill: #174EA6;\n",
              "    }\n",
              "\n",
              "    [theme=dark] .colab-df-convert {\n",
              "      background-color: #3B4455;\n",
              "      fill: #D2E3FC;\n",
              "    }\n",
              "\n",
              "    [theme=dark] .colab-df-convert:hover {\n",
              "      background-color: #434B5C;\n",
              "      box-shadow: 0px 1px 3px 1px rgba(0, 0, 0, 0.15);\n",
              "      filter: drop-shadow(0px 1px 2px rgba(0, 0, 0, 0.3));\n",
              "      fill: #FFFFFF;\n",
              "    }\n",
              "  </style>\n",
              "\n",
              "      <script>\n",
              "        const buttonEl =\n",
              "          document.querySelector('#df-e26dce63-6b92-4e96-8d61-34cad5b99013 button.colab-df-convert');\n",
              "        buttonEl.style.display =\n",
              "          google.colab.kernel.accessAllowed ? 'block' : 'none';\n",
              "\n",
              "        async function convertToInteractive(key) {\n",
              "          const element = document.querySelector('#df-e26dce63-6b92-4e96-8d61-34cad5b99013');\n",
              "          const dataTable =\n",
              "            await google.colab.kernel.invokeFunction('convertToInteractive',\n",
              "                                                     [key], {});\n",
              "          if (!dataTable) return;\n",
              "\n",
              "          const docLinkHtml = 'Like what you see? Visit the ' +\n",
              "            '<a target=\"_blank\" href=https://colab.research.google.com/notebooks/data_table.ipynb>data table notebook</a>'\n",
              "            + ' to learn more about interactive tables.';\n",
              "          element.innerHTML = '';\n",
              "          dataTable['output_type'] = 'display_data';\n",
              "          await google.colab.output.renderOutput(dataTable, element);\n",
              "          const docLink = document.createElement('div');\n",
              "          docLink.innerHTML = docLinkHtml;\n",
              "          element.appendChild(docLink);\n",
              "        }\n",
              "      </script>\n",
              "    </div>\n",
              "  </div>\n",
              "  "
            ]
          },
          "metadata": {},
          "execution_count": 22
        }
      ],
      "source": [
        "train2.head()"
      ]
    },
    {
      "cell_type": "code",
      "execution_count": 23,
      "metadata": {
        "id": "5_otVW0bDen6"
      },
      "outputs": [],
      "source": [
        "X_train = train2.drop(['Item_Outlet_Sales', 'Outlet_Identifier','Item_Identifier'], axis=1)\n",
        "y_train = train2.Item_Outlet_Sales"
      ]
    },
    {
      "cell_type": "code",
      "execution_count": 24,
      "metadata": {
        "id": "wAFRV0a8Den7"
      },
      "outputs": [],
      "source": [
        "X_test = test2.drop(['Outlet_Identifier','Item_Identifier'], axis=1)"
      ]
    },
    {
      "cell_type": "code",
      "execution_count": 25,
      "metadata": {
        "colab": {
          "base_uri": "https://localhost:8080/",
          "height": 299
        },
        "id": "ZP1307GFDen8",
        "outputId": "fdc44cd6-76d1-415c-d8c0-006d86474b70"
      },
      "outputs": [
        {
          "output_type": "execute_result",
          "data": {
            "text/plain": [
              "   Item_Weight  Item_Visibility  Item_MRP  Item_Fat_Content_0  \\\n",
              "0         9.30         0.016047  249.8092                   0   \n",
              "1         5.92         0.019278   48.2692                   0   \n",
              "2        17.50         0.016760  141.6180                   0   \n",
              "3        19.20         0.000000  182.0950                   0   \n",
              "4         8.93         0.000000   53.8614                   0   \n",
              "\n",
              "   Item_Fat_Content_1  Item_Fat_Content_2  Item_Fat_Content_3  \\\n",
              "0                   1                   0                   0   \n",
              "1                   0                   1                   0   \n",
              "2                   1                   0                   0   \n",
              "3                   0                   1                   0   \n",
              "4                   1                   0                   0   \n",
              "\n",
              "   Item_Fat_Content_4  Outlet_Location_Type_0  Outlet_Location_Type_1  ...  \\\n",
              "0                   0                       1                       0  ...   \n",
              "1                   0                       0                       0  ...   \n",
              "2                   0                       1                       0  ...   \n",
              "3                   0                       0                       0  ...   \n",
              "4                   0                       0                       0  ...   \n",
              "\n",
              "   Outlet_0  Outlet_1  Outlet_2  Outlet_3  Outlet_4  Outlet_5  Outlet_6  \\\n",
              "0         0         0         0         0         0         0         0   \n",
              "1         0         0         0         1         0         0         0   \n",
              "2         0         0         0         0         0         0         0   \n",
              "3         1         0         0         0         0         0         0   \n",
              "4         0         1         0         0         0         0         0   \n",
              "\n",
              "   Outlet_7  Outlet_8  Outlet_9  \n",
              "0         0         0         1  \n",
              "1         0         0         0  \n",
              "2         0         0         1  \n",
              "3         0         0         0  \n",
              "4         0         0         0  \n",
              "\n",
              "[5 rows x 31 columns]"
            ],
            "text/html": [
              "\n",
              "  <div id=\"df-0156ff17-ddba-4ce7-872a-ec1879907167\">\n",
              "    <div class=\"colab-df-container\">\n",
              "      <div>\n",
              "<style scoped>\n",
              "    .dataframe tbody tr th:only-of-type {\n",
              "        vertical-align: middle;\n",
              "    }\n",
              "\n",
              "    .dataframe tbody tr th {\n",
              "        vertical-align: top;\n",
              "    }\n",
              "\n",
              "    .dataframe thead th {\n",
              "        text-align: right;\n",
              "    }\n",
              "</style>\n",
              "<table border=\"1\" class=\"dataframe\">\n",
              "  <thead>\n",
              "    <tr style=\"text-align: right;\">\n",
              "      <th></th>\n",
              "      <th>Item_Weight</th>\n",
              "      <th>Item_Visibility</th>\n",
              "      <th>Item_MRP</th>\n",
              "      <th>Item_Fat_Content_0</th>\n",
              "      <th>Item_Fat_Content_1</th>\n",
              "      <th>Item_Fat_Content_2</th>\n",
              "      <th>Item_Fat_Content_3</th>\n",
              "      <th>Item_Fat_Content_4</th>\n",
              "      <th>Outlet_Location_Type_0</th>\n",
              "      <th>Outlet_Location_Type_1</th>\n",
              "      <th>...</th>\n",
              "      <th>Outlet_0</th>\n",
              "      <th>Outlet_1</th>\n",
              "      <th>Outlet_2</th>\n",
              "      <th>Outlet_3</th>\n",
              "      <th>Outlet_4</th>\n",
              "      <th>Outlet_5</th>\n",
              "      <th>Outlet_6</th>\n",
              "      <th>Outlet_7</th>\n",
              "      <th>Outlet_8</th>\n",
              "      <th>Outlet_9</th>\n",
              "    </tr>\n",
              "  </thead>\n",
              "  <tbody>\n",
              "    <tr>\n",
              "      <th>0</th>\n",
              "      <td>9.30</td>\n",
              "      <td>0.016047</td>\n",
              "      <td>249.8092</td>\n",
              "      <td>0</td>\n",
              "      <td>1</td>\n",
              "      <td>0</td>\n",
              "      <td>0</td>\n",
              "      <td>0</td>\n",
              "      <td>1</td>\n",
              "      <td>0</td>\n",
              "      <td>...</td>\n",
              "      <td>0</td>\n",
              "      <td>0</td>\n",
              "      <td>0</td>\n",
              "      <td>0</td>\n",
              "      <td>0</td>\n",
              "      <td>0</td>\n",
              "      <td>0</td>\n",
              "      <td>0</td>\n",
              "      <td>0</td>\n",
              "      <td>1</td>\n",
              "    </tr>\n",
              "    <tr>\n",
              "      <th>1</th>\n",
              "      <td>5.92</td>\n",
              "      <td>0.019278</td>\n",
              "      <td>48.2692</td>\n",
              "      <td>0</td>\n",
              "      <td>0</td>\n",
              "      <td>1</td>\n",
              "      <td>0</td>\n",
              "      <td>0</td>\n",
              "      <td>0</td>\n",
              "      <td>0</td>\n",
              "      <td>...</td>\n",
              "      <td>0</td>\n",
              "      <td>0</td>\n",
              "      <td>0</td>\n",
              "      <td>1</td>\n",
              "      <td>0</td>\n",
              "      <td>0</td>\n",
              "      <td>0</td>\n",
              "      <td>0</td>\n",
              "      <td>0</td>\n",
              "      <td>0</td>\n",
              "    </tr>\n",
              "    <tr>\n",
              "      <th>2</th>\n",
              "      <td>17.50</td>\n",
              "      <td>0.016760</td>\n",
              "      <td>141.6180</td>\n",
              "      <td>0</td>\n",
              "      <td>1</td>\n",
              "      <td>0</td>\n",
              "      <td>0</td>\n",
              "      <td>0</td>\n",
              "      <td>1</td>\n",
              "      <td>0</td>\n",
              "      <td>...</td>\n",
              "      <td>0</td>\n",
              "      <td>0</td>\n",
              "      <td>0</td>\n",
              "      <td>0</td>\n",
              "      <td>0</td>\n",
              "      <td>0</td>\n",
              "      <td>0</td>\n",
              "      <td>0</td>\n",
              "      <td>0</td>\n",
              "      <td>1</td>\n",
              "    </tr>\n",
              "    <tr>\n",
              "      <th>3</th>\n",
              "      <td>19.20</td>\n",
              "      <td>0.000000</td>\n",
              "      <td>182.0950</td>\n",
              "      <td>0</td>\n",
              "      <td>0</td>\n",
              "      <td>1</td>\n",
              "      <td>0</td>\n",
              "      <td>0</td>\n",
              "      <td>0</td>\n",
              "      <td>0</td>\n",
              "      <td>...</td>\n",
              "      <td>1</td>\n",
              "      <td>0</td>\n",
              "      <td>0</td>\n",
              "      <td>0</td>\n",
              "      <td>0</td>\n",
              "      <td>0</td>\n",
              "      <td>0</td>\n",
              "      <td>0</td>\n",
              "      <td>0</td>\n",
              "      <td>0</td>\n",
              "    </tr>\n",
              "    <tr>\n",
              "      <th>4</th>\n",
              "      <td>8.93</td>\n",
              "      <td>0.000000</td>\n",
              "      <td>53.8614</td>\n",
              "      <td>0</td>\n",
              "      <td>1</td>\n",
              "      <td>0</td>\n",
              "      <td>0</td>\n",
              "      <td>0</td>\n",
              "      <td>0</td>\n",
              "      <td>0</td>\n",
              "      <td>...</td>\n",
              "      <td>0</td>\n",
              "      <td>1</td>\n",
              "      <td>0</td>\n",
              "      <td>0</td>\n",
              "      <td>0</td>\n",
              "      <td>0</td>\n",
              "      <td>0</td>\n",
              "      <td>0</td>\n",
              "      <td>0</td>\n",
              "      <td>0</td>\n",
              "    </tr>\n",
              "  </tbody>\n",
              "</table>\n",
              "<p>5 rows × 31 columns</p>\n",
              "</div>\n",
              "      <button class=\"colab-df-convert\" onclick=\"convertToInteractive('df-0156ff17-ddba-4ce7-872a-ec1879907167')\"\n",
              "              title=\"Convert this dataframe to an interactive table.\"\n",
              "              style=\"display:none;\">\n",
              "        \n",
              "  <svg xmlns=\"http://www.w3.org/2000/svg\" height=\"24px\"viewBox=\"0 0 24 24\"\n",
              "       width=\"24px\">\n",
              "    <path d=\"M0 0h24v24H0V0z\" fill=\"none\"/>\n",
              "    <path d=\"M18.56 5.44l.94 2.06.94-2.06 2.06-.94-2.06-.94-.94-2.06-.94 2.06-2.06.94zm-11 1L8.5 8.5l.94-2.06 2.06-.94-2.06-.94L8.5 2.5l-.94 2.06-2.06.94zm10 10l.94 2.06.94-2.06 2.06-.94-2.06-.94-.94-2.06-.94 2.06-2.06.94z\"/><path d=\"M17.41 7.96l-1.37-1.37c-.4-.4-.92-.59-1.43-.59-.52 0-1.04.2-1.43.59L10.3 9.45l-7.72 7.72c-.78.78-.78 2.05 0 2.83L4 21.41c.39.39.9.59 1.41.59.51 0 1.02-.2 1.41-.59l7.78-7.78 2.81-2.81c.8-.78.8-2.07 0-2.86zM5.41 20L4 18.59l7.72-7.72 1.47 1.35L5.41 20z\"/>\n",
              "  </svg>\n",
              "      </button>\n",
              "      \n",
              "  <style>\n",
              "    .colab-df-container {\n",
              "      display:flex;\n",
              "      flex-wrap:wrap;\n",
              "      gap: 12px;\n",
              "    }\n",
              "\n",
              "    .colab-df-convert {\n",
              "      background-color: #E8F0FE;\n",
              "      border: none;\n",
              "      border-radius: 50%;\n",
              "      cursor: pointer;\n",
              "      display: none;\n",
              "      fill: #1967D2;\n",
              "      height: 32px;\n",
              "      padding: 0 0 0 0;\n",
              "      width: 32px;\n",
              "    }\n",
              "\n",
              "    .colab-df-convert:hover {\n",
              "      background-color: #E2EBFA;\n",
              "      box-shadow: 0px 1px 2px rgba(60, 64, 67, 0.3), 0px 1px 3px 1px rgba(60, 64, 67, 0.15);\n",
              "      fill: #174EA6;\n",
              "    }\n",
              "\n",
              "    [theme=dark] .colab-df-convert {\n",
              "      background-color: #3B4455;\n",
              "      fill: #D2E3FC;\n",
              "    }\n",
              "\n",
              "    [theme=dark] .colab-df-convert:hover {\n",
              "      background-color: #434B5C;\n",
              "      box-shadow: 0px 1px 3px 1px rgba(0, 0, 0, 0.15);\n",
              "      filter: drop-shadow(0px 1px 2px rgba(0, 0, 0, 0.3));\n",
              "      fill: #FFFFFF;\n",
              "    }\n",
              "  </style>\n",
              "\n",
              "      <script>\n",
              "        const buttonEl =\n",
              "          document.querySelector('#df-0156ff17-ddba-4ce7-872a-ec1879907167 button.colab-df-convert');\n",
              "        buttonEl.style.display =\n",
              "          google.colab.kernel.accessAllowed ? 'block' : 'none';\n",
              "\n",
              "        async function convertToInteractive(key) {\n",
              "          const element = document.querySelector('#df-0156ff17-ddba-4ce7-872a-ec1879907167');\n",
              "          const dataTable =\n",
              "            await google.colab.kernel.invokeFunction('convertToInteractive',\n",
              "                                                     [key], {});\n",
              "          if (!dataTable) return;\n",
              "\n",
              "          const docLinkHtml = 'Like what you see? Visit the ' +\n",
              "            '<a target=\"_blank\" href=https://colab.research.google.com/notebooks/data_table.ipynb>data table notebook</a>'\n",
              "            + ' to learn more about interactive tables.';\n",
              "          element.innerHTML = '';\n",
              "          dataTable['output_type'] = 'display_data';\n",
              "          await google.colab.output.renderOutput(dataTable, element);\n",
              "          const docLink = document.createElement('div');\n",
              "          docLink.innerHTML = docLinkHtml;\n",
              "          element.appendChild(docLink);\n",
              "        }\n",
              "      </script>\n",
              "    </div>\n",
              "  </div>\n",
              "  "
            ]
          },
          "metadata": {},
          "execution_count": 25
        }
      ],
      "source": [
        "X_train.head()"
      ]
    },
    {
      "cell_type": "code",
      "execution_count": 26,
      "metadata": {
        "colab": {
          "base_uri": "https://localhost:8080/"
        },
        "id": "XzElZbXrDen8",
        "outputId": "baaeaa81-3593-4b36-8913-c42df154397f"
      },
      "outputs": [
        {
          "output_type": "execute_result",
          "data": {
            "text/plain": [
              "0    3735.1380\n",
              "1     443.4228\n",
              "2    2097.2700\n",
              "3     732.3800\n",
              "4     994.7052\n",
              "Name: Item_Outlet_Sales, dtype: float64"
            ]
          },
          "metadata": {},
          "execution_count": 26
        }
      ],
      "source": [
        "y_train.head()"
      ]
    },
    {
      "cell_type": "markdown",
      "metadata": {
        "id": "FK-cD41iDen9"
      },
      "source": [
        "## Linear Regression Model:"
      ]
    },
    {
      "cell_type": "code",
      "execution_count": 27,
      "metadata": {
        "colab": {
          "base_uri": "https://localhost:8080/",
          "height": 75
        },
        "id": "J-Ktrp0kDen-",
        "outputId": "6496f4f7-dc8b-4ece-bb60-51ac103c52f3"
      },
      "outputs": [
        {
          "output_type": "execute_result",
          "data": {
            "text/plain": [
              "LinearRegression()"
            ],
            "text/html": [
              "<style>#sk-container-id-1 {color: black;background-color: white;}#sk-container-id-1 pre{padding: 0;}#sk-container-id-1 div.sk-toggleable {background-color: white;}#sk-container-id-1 label.sk-toggleable__label {cursor: pointer;display: block;width: 100%;margin-bottom: 0;padding: 0.3em;box-sizing: border-box;text-align: center;}#sk-container-id-1 label.sk-toggleable__label-arrow:before {content: \"▸\";float: left;margin-right: 0.25em;color: #696969;}#sk-container-id-1 label.sk-toggleable__label-arrow:hover:before {color: black;}#sk-container-id-1 div.sk-estimator:hover label.sk-toggleable__label-arrow:before {color: black;}#sk-container-id-1 div.sk-toggleable__content {max-height: 0;max-width: 0;overflow: hidden;text-align: left;background-color: #f0f8ff;}#sk-container-id-1 div.sk-toggleable__content pre {margin: 0.2em;color: black;border-radius: 0.25em;background-color: #f0f8ff;}#sk-container-id-1 input.sk-toggleable__control:checked~div.sk-toggleable__content {max-height: 200px;max-width: 100%;overflow: auto;}#sk-container-id-1 input.sk-toggleable__control:checked~label.sk-toggleable__label-arrow:before {content: \"▾\";}#sk-container-id-1 div.sk-estimator input.sk-toggleable__control:checked~label.sk-toggleable__label {background-color: #d4ebff;}#sk-container-id-1 div.sk-label input.sk-toggleable__control:checked~label.sk-toggleable__label {background-color: #d4ebff;}#sk-container-id-1 input.sk-hidden--visually {border: 0;clip: rect(1px 1px 1px 1px);clip: rect(1px, 1px, 1px, 1px);height: 1px;margin: -1px;overflow: hidden;padding: 0;position: absolute;width: 1px;}#sk-container-id-1 div.sk-estimator {font-family: monospace;background-color: #f0f8ff;border: 1px dotted black;border-radius: 0.25em;box-sizing: border-box;margin-bottom: 0.5em;}#sk-container-id-1 div.sk-estimator:hover {background-color: #d4ebff;}#sk-container-id-1 div.sk-parallel-item::after {content: \"\";width: 100%;border-bottom: 1px solid gray;flex-grow: 1;}#sk-container-id-1 div.sk-label:hover label.sk-toggleable__label {background-color: #d4ebff;}#sk-container-id-1 div.sk-serial::before {content: \"\";position: absolute;border-left: 1px solid gray;box-sizing: border-box;top: 0;bottom: 0;left: 50%;z-index: 0;}#sk-container-id-1 div.sk-serial {display: flex;flex-direction: column;align-items: center;background-color: white;padding-right: 0.2em;padding-left: 0.2em;position: relative;}#sk-container-id-1 div.sk-item {position: relative;z-index: 1;}#sk-container-id-1 div.sk-parallel {display: flex;align-items: stretch;justify-content: center;background-color: white;position: relative;}#sk-container-id-1 div.sk-item::before, #sk-container-id-1 div.sk-parallel-item::before {content: \"\";position: absolute;border-left: 1px solid gray;box-sizing: border-box;top: 0;bottom: 0;left: 50%;z-index: -1;}#sk-container-id-1 div.sk-parallel-item {display: flex;flex-direction: column;z-index: 1;position: relative;background-color: white;}#sk-container-id-1 div.sk-parallel-item:first-child::after {align-self: flex-end;width: 50%;}#sk-container-id-1 div.sk-parallel-item:last-child::after {align-self: flex-start;width: 50%;}#sk-container-id-1 div.sk-parallel-item:only-child::after {width: 0;}#sk-container-id-1 div.sk-dashed-wrapped {border: 1px dashed gray;margin: 0 0.4em 0.5em 0.4em;box-sizing: border-box;padding-bottom: 0.4em;background-color: white;}#sk-container-id-1 div.sk-label label {font-family: monospace;font-weight: bold;display: inline-block;line-height: 1.2em;}#sk-container-id-1 div.sk-label-container {text-align: center;}#sk-container-id-1 div.sk-container {/* jupyter's `normalize.less` sets `[hidden] { display: none; }` but bootstrap.min.css set `[hidden] { display: none !important; }` so we also need the `!important` here to be able to override the default hidden behavior on the sphinx rendered scikit-learn.org. See: https://github.com/scikit-learn/scikit-learn/issues/21755 */display: inline-block !important;position: relative;}#sk-container-id-1 div.sk-text-repr-fallback {display: none;}</style><div id=\"sk-container-id-1\" class=\"sk-top-container\"><div class=\"sk-text-repr-fallback\"><pre>LinearRegression()</pre><b>In a Jupyter environment, please rerun this cell to show the HTML representation or trust the notebook. <br />On GitHub, the HTML representation is unable to render, please try loading this page with nbviewer.org.</b></div><div class=\"sk-container\" hidden><div class=\"sk-item\"><div class=\"sk-estimator sk-toggleable\"><input class=\"sk-toggleable__control sk-hidden--visually\" id=\"sk-estimator-id-1\" type=\"checkbox\" checked><label for=\"sk-estimator-id-1\" class=\"sk-toggleable__label sk-toggleable__label-arrow\">LinearRegression</label><div class=\"sk-toggleable__content\"><pre>LinearRegression()</pre></div></div></div></div></div>"
            ]
          },
          "metadata": {},
          "execution_count": 27
        }
      ],
      "source": [
        "# Fitting Multiple Linear Regression to the training set\n",
        "from sklearn.linear_model import  LinearRegression\n",
        "regressor = LinearRegression()\n",
        "regressor.fit(X_train, y_train)"
      ]
    },
    {
      "cell_type": "code",
      "execution_count": 28,
      "metadata": {
        "id": "LOd6HYOBDen_"
      },
      "outputs": [],
      "source": [
        "# Predicting the test set results\n",
        "y_pred = regressor.predict(X_test)"
      ]
    },
    {
      "cell_type": "code",
      "execution_count": 29,
      "metadata": {
        "colab": {
          "base_uri": "https://localhost:8080/"
        },
        "id": "iB7PyuvkDen_",
        "outputId": "68faa684-17d2-4fef-d3e6-8cf76f027dae"
      },
      "outputs": [
        {
          "output_type": "execute_result",
          "data": {
            "text/plain": [
              "array([1848.53604783, 1472.81670435, 1875.65285894, ..., 1809.18796433,\n",
              "       3565.6645235 , 1267.46171871])"
            ]
          },
          "metadata": {},
          "execution_count": 29
        }
      ],
      "source": [
        "y_pred"
      ]
    },
    {
      "cell_type": "code",
      "execution_count": 30,
      "metadata": {
        "id": "ws-VTmm9DeoA"
      },
      "outputs": [],
      "source": [
        "import warnings\n",
        "warnings.filterwarnings('ignore')\n",
        "# Measuring Accuracy\n",
        "from sklearn.metrics import accuracy_score, r2_score, mean_squared_error\n",
        "from sklearn.model_selection import cross_val_score\n",
        "from sklearn.model_selection import train_test_split\n"
      ]
    },
    {
      "cell_type": "code",
      "execution_count": 31,
      "metadata": {
        "colab": {
          "base_uri": "https://localhost:8080/"
        },
        "id": "Lu5lheU2DeoB",
        "outputId": "95d675c6-3c43-485a-ed63-cafa7435c79c"
      },
      "outputs": [
        {
          "output_type": "execute_result",
          "data": {
            "text/plain": [
              "56.36"
            ]
          },
          "metadata": {},
          "execution_count": 31
        }
      ],
      "source": [
        "lr_accuracy = round(regressor.score(X_train,y_train) * 100,2)\n",
        "lr_accuracy"
      ]
    },
    {
      "cell_type": "code",
      "execution_count": 32,
      "metadata": {
        "colab": {
          "base_uri": "https://localhost:8080/"
        },
        "id": "Z9vL_gb5DeoC",
        "outputId": "fbaf3282-c03b-46de-9d87-71c541bb83e0"
      },
      "outputs": [
        {
          "output_type": "execute_result",
          "data": {
            "text/plain": [
              "0.5635892777270479"
            ]
          },
          "metadata": {},
          "execution_count": 32
        }
      ],
      "source": [
        "r2_score(y_train, regressor.predict(X_train))"
      ]
    },
    {
      "cell_type": "code",
      "execution_count": 33,
      "metadata": {
        "id": "0jyBLGzpDeoC"
      },
      "outputs": [],
      "source": [
        "import warnings\n",
        "warnings.filterwarnings('ignore')\n",
        "#Perform cross-validation:\n",
        "cv_score = cross_val_score(regressor, X_train, y_train, cv=5, scoring='neg_mean_squared_error')\n",
        "import sklearn.metrics as metrics"
      ]
    },
    {
      "cell_type": "code",
      "execution_count": 34,
      "metadata": {
        "colab": {
          "base_uri": "https://localhost:8080/"
        },
        "id": "o0I2N0JODeoE",
        "outputId": "54a7ee1d-5d9b-438b-9fbc-4ba93df340b1"
      },
      "outputs": [
        {
          "output_type": "stream",
          "name": "stdout",
          "text": [
            "[1150.93927648 1118.68414103 1112.89657923 1126.30724065 1140.59735737]\n"
          ]
        }
      ],
      "source": [
        "print(np.sqrt(np.abs(cv_score)))"
      ]
    },
    {
      "cell_type": "code",
      "execution_count": 35,
      "metadata": {
        "colab": {
          "base_uri": "https://localhost:8080/"
        },
        "id": "Ril9a7xLDeoG",
        "outputId": "58fbb0f0-975e-43bd-9256-ef44dcad3ee3"
      },
      "outputs": [
        {
          "output_type": "stream",
          "name": "stdout",
          "text": [
            "RMSE : 1127\n"
          ]
        }
      ],
      "source": [
        "print(\"RMSE : %.4g\" % np.sqrt(metrics.mean_squared_error(y_train, regressor.predict(X_train))))"
      ]
    },
    {
      "cell_type": "code",
      "execution_count": 36,
      "metadata": {
        "id": "Qe61cqxEDeoI"
      },
      "outputs": [],
      "source": [
        "submission = pd.DataFrame({\n",
        "'Item_Identifier':test2['Item_Identifier'],\n",
        "'Outlet_Identifier':test2['Outlet_Identifier'],\n",
        "'Item_Outlet_Sales': y_pred\n",
        "},columns=['Item_Identifier','Outlet_Identifier','Item_Outlet_Sales'])"
      ]
    },
    {
      "cell_type": "code",
      "execution_count": 37,
      "metadata": {
        "id": "f-5u1YrjDeoK"
      },
      "outputs": [],
      "source": [
        "submission.to_csv('submission1.csv',index=False)"
      ]
    },
    {
      "cell_type": "markdown",
      "metadata": {
        "id": "Jnv9UodiDeoR"
      },
      "source": [
        "## Random Forest Model:"
      ]
    },
    {
      "cell_type": "code",
      "execution_count": 38,
      "metadata": {
        "colab": {
          "base_uri": "https://localhost:8080/",
          "height": 75
        },
        "id": "DU4z-UlUDeoS",
        "outputId": "821c6f42-7411-41e1-811d-ec952861378b"
      },
      "outputs": [
        {
          "output_type": "execute_result",
          "data": {
            "text/plain": [
              "RandomForestRegressor(max_depth=6, min_samples_leaf=50, n_jobs=4)"
            ],
            "text/html": [
              "<style>#sk-container-id-2 {color: black;background-color: white;}#sk-container-id-2 pre{padding: 0;}#sk-container-id-2 div.sk-toggleable {background-color: white;}#sk-container-id-2 label.sk-toggleable__label {cursor: pointer;display: block;width: 100%;margin-bottom: 0;padding: 0.3em;box-sizing: border-box;text-align: center;}#sk-container-id-2 label.sk-toggleable__label-arrow:before {content: \"▸\";float: left;margin-right: 0.25em;color: #696969;}#sk-container-id-2 label.sk-toggleable__label-arrow:hover:before {color: black;}#sk-container-id-2 div.sk-estimator:hover label.sk-toggleable__label-arrow:before {color: black;}#sk-container-id-2 div.sk-toggleable__content {max-height: 0;max-width: 0;overflow: hidden;text-align: left;background-color: #f0f8ff;}#sk-container-id-2 div.sk-toggleable__content pre {margin: 0.2em;color: black;border-radius: 0.25em;background-color: #f0f8ff;}#sk-container-id-2 input.sk-toggleable__control:checked~div.sk-toggleable__content {max-height: 200px;max-width: 100%;overflow: auto;}#sk-container-id-2 input.sk-toggleable__control:checked~label.sk-toggleable__label-arrow:before {content: \"▾\";}#sk-container-id-2 div.sk-estimator input.sk-toggleable__control:checked~label.sk-toggleable__label {background-color: #d4ebff;}#sk-container-id-2 div.sk-label input.sk-toggleable__control:checked~label.sk-toggleable__label {background-color: #d4ebff;}#sk-container-id-2 input.sk-hidden--visually {border: 0;clip: rect(1px 1px 1px 1px);clip: rect(1px, 1px, 1px, 1px);height: 1px;margin: -1px;overflow: hidden;padding: 0;position: absolute;width: 1px;}#sk-container-id-2 div.sk-estimator {font-family: monospace;background-color: #f0f8ff;border: 1px dotted black;border-radius: 0.25em;box-sizing: border-box;margin-bottom: 0.5em;}#sk-container-id-2 div.sk-estimator:hover {background-color: #d4ebff;}#sk-container-id-2 div.sk-parallel-item::after {content: \"\";width: 100%;border-bottom: 1px solid gray;flex-grow: 1;}#sk-container-id-2 div.sk-label:hover label.sk-toggleable__label {background-color: #d4ebff;}#sk-container-id-2 div.sk-serial::before {content: \"\";position: absolute;border-left: 1px solid gray;box-sizing: border-box;top: 0;bottom: 0;left: 50%;z-index: 0;}#sk-container-id-2 div.sk-serial {display: flex;flex-direction: column;align-items: center;background-color: white;padding-right: 0.2em;padding-left: 0.2em;position: relative;}#sk-container-id-2 div.sk-item {position: relative;z-index: 1;}#sk-container-id-2 div.sk-parallel {display: flex;align-items: stretch;justify-content: center;background-color: white;position: relative;}#sk-container-id-2 div.sk-item::before, #sk-container-id-2 div.sk-parallel-item::before {content: \"\";position: absolute;border-left: 1px solid gray;box-sizing: border-box;top: 0;bottom: 0;left: 50%;z-index: -1;}#sk-container-id-2 div.sk-parallel-item {display: flex;flex-direction: column;z-index: 1;position: relative;background-color: white;}#sk-container-id-2 div.sk-parallel-item:first-child::after {align-self: flex-end;width: 50%;}#sk-container-id-2 div.sk-parallel-item:last-child::after {align-self: flex-start;width: 50%;}#sk-container-id-2 div.sk-parallel-item:only-child::after {width: 0;}#sk-container-id-2 div.sk-dashed-wrapped {border: 1px dashed gray;margin: 0 0.4em 0.5em 0.4em;box-sizing: border-box;padding-bottom: 0.4em;background-color: white;}#sk-container-id-2 div.sk-label label {font-family: monospace;font-weight: bold;display: inline-block;line-height: 1.2em;}#sk-container-id-2 div.sk-label-container {text-align: center;}#sk-container-id-2 div.sk-container {/* jupyter's `normalize.less` sets `[hidden] { display: none; }` but bootstrap.min.css set `[hidden] { display: none !important; }` so we also need the `!important` here to be able to override the default hidden behavior on the sphinx rendered scikit-learn.org. See: https://github.com/scikit-learn/scikit-learn/issues/21755 */display: inline-block !important;position: relative;}#sk-container-id-2 div.sk-text-repr-fallback {display: none;}</style><div id=\"sk-container-id-2\" class=\"sk-top-container\"><div class=\"sk-text-repr-fallback\"><pre>RandomForestRegressor(max_depth=6, min_samples_leaf=50, n_jobs=4)</pre><b>In a Jupyter environment, please rerun this cell to show the HTML representation or trust the notebook. <br />On GitHub, the HTML representation is unable to render, please try loading this page with nbviewer.org.</b></div><div class=\"sk-container\" hidden><div class=\"sk-item\"><div class=\"sk-estimator sk-toggleable\"><input class=\"sk-toggleable__control sk-hidden--visually\" id=\"sk-estimator-id-2\" type=\"checkbox\" checked><label for=\"sk-estimator-id-2\" class=\"sk-toggleable__label sk-toggleable__label-arrow\">RandomForestRegressor</label><div class=\"sk-toggleable__content\"><pre>RandomForestRegressor(max_depth=6, min_samples_leaf=50, n_jobs=4)</pre></div></div></div></div></div>"
            ]
          },
          "metadata": {},
          "execution_count": 38
        }
      ],
      "source": [
        "# Fitting Random Forest Regression to the dataset\n",
        "from sklearn.ensemble import RandomForestRegressor\n",
        "regressor = RandomForestRegressor(n_estimators=100,max_depth=6, min_samples_leaf=50,n_jobs=4)\n",
        "regressor.fit(X_train, y_train)"
      ]
    },
    {
      "cell_type": "code",
      "execution_count": 39,
      "metadata": {
        "colab": {
          "base_uri": "https://localhost:8080/"
        },
        "id": "twpoCTBqDeoT",
        "outputId": "f18b11e5-1210-4539-e2c1-3f272785d8d4"
      },
      "outputs": [
        {
          "output_type": "execute_result",
          "data": {
            "text/plain": [
              "array([1649.36141145, 1357.98721345,  596.78084654, ..., 1931.21617405,\n",
              "       3659.83712027, 1286.89364449])"
            ]
          },
          "metadata": {},
          "execution_count": 39
        }
      ],
      "source": [
        "# Predicting the test set results\n",
        "y_pred = regressor.predict(X_test)\n",
        "y_pred"
      ]
    },
    {
      "cell_type": "code",
      "execution_count": 40,
      "metadata": {
        "colab": {
          "base_uri": "https://localhost:8080/"
        },
        "id": "K9cVizqwDeoU",
        "outputId": "947b91ad-e7a7-484c-d3d5-abd0b7dc1710"
      },
      "outputs": [
        {
          "output_type": "execute_result",
          "data": {
            "text/plain": [
              "0.61"
            ]
          },
          "metadata": {},
          "execution_count": 40
        }
      ],
      "source": [
        "rf_accuracy = round(regressor.score(X_train,y_train),2)\n",
        "rf_accuracy"
      ]
    },
    {
      "cell_type": "code",
      "execution_count": 41,
      "metadata": {
        "colab": {
          "base_uri": "https://localhost:8080/"
        },
        "id": "4DKN5U-qDeoV",
        "outputId": "8d7e61c5-4909-4cb2-b0d2-802ca48fff54"
      },
      "outputs": [
        {
          "output_type": "execute_result",
          "data": {
            "text/plain": [
              "0.6127680745474818"
            ]
          },
          "metadata": {},
          "execution_count": 41
        }
      ],
      "source": [
        "r2_score(y_train, regressor.predict(X_train))"
      ]
    },
    {
      "cell_type": "code",
      "execution_count": 42,
      "metadata": {
        "colab": {
          "base_uri": "https://localhost:8080/"
        },
        "id": "flcMn7EDDeoW",
        "outputId": "481c3882-ef65-435d-c865-471803719d97"
      },
      "outputs": [
        {
          "output_type": "stream",
          "name": "stdout",
          "text": [
            "[1099.79014207 1077.51140562 1077.68573229 1069.23300174 1084.14166449]\n"
          ]
        }
      ],
      "source": [
        "import warnings\n",
        "warnings.filterwarnings('ignore')\n",
        "cv_score = cross_val_score(regressor, X_train, y_train, cv=5, scoring='neg_mean_squared_error')\n",
        "print(np.sqrt(np.abs(cv_score)))"
      ]
    },
    {
      "cell_type": "code",
      "execution_count": 43,
      "metadata": {
        "colab": {
          "base_uri": "https://localhost:8080/"
        },
        "id": "zjvqwOQRDeoX",
        "outputId": "2f7fa04c-392a-47a0-a0a7-0a37453bb022"
      },
      "outputs": [
        {
          "output_type": "stream",
          "name": "stdout",
          "text": [
            "RMSE : 1062\n"
          ]
        }
      ],
      "source": [
        "print(\"RMSE : %.4g\" % np.sqrt(metrics.mean_squared_error(y_train, regressor.predict(X_train))))"
      ]
    },
    {
      "cell_type": "code",
      "execution_count": 44,
      "metadata": {
        "id": "8nDWuQIYDeoY"
      },
      "outputs": [],
      "source": [
        "submission = pd.DataFrame({\n",
        "'Item_Identifier':test2['Item_Identifier'],\n",
        "'Outlet_Identifier':test2['Outlet_Identifier'],\n",
        "'Item_Outlet_Sales': y_pred\n",
        "},columns=['Item_Identifier','Outlet_Identifier','Item_Outlet_Sales'])"
      ]
    },
    {
      "cell_type": "code",
      "execution_count": 45,
      "metadata": {
        "id": "OFbo9LL4DeoY"
      },
      "outputs": [],
      "source": [
        "submission.to_csv('submission3.csv',index=False)"
      ]
    },
    {
      "cell_type": "markdown",
      "source": [
        "# XG Boost"
      ],
      "metadata": {
        "id": "ogvcB8ZgL6aC"
      }
    },
    {
      "cell_type": "code",
      "source": [
        "from sklearn.metrics import mean_absolute_error as MAE\n",
        "from xgboost import XGBRegressor\n",
        "xg= XGBRegressor()\n"
      ],
      "metadata": {
        "id": "sUyLgvy_LdCS"
      },
      "execution_count": 46,
      "outputs": []
    },
    {
      "cell_type": "code",
      "source": [
        "xg.fit(X_train, y_train)"
      ],
      "metadata": {
        "colab": {
          "base_uri": "https://localhost:8080/",
          "height": 248
        },
        "id": "Rl_ZmbnSMDo4",
        "outputId": "bacdfd82-d6e3-407b-cf55-a470cdc2407c"
      },
      "execution_count": 47,
      "outputs": [
        {
          "output_type": "execute_result",
          "data": {
            "text/plain": [
              "XGBRegressor(base_score=None, booster=None, callbacks=None,\n",
              "             colsample_bylevel=None, colsample_bynode=None,\n",
              "             colsample_bytree=None, early_stopping_rounds=None,\n",
              "             enable_categorical=False, eval_metric=None, feature_types=None,\n",
              "             gamma=None, gpu_id=None, grow_policy=None, importance_type=None,\n",
              "             interaction_constraints=None, learning_rate=None, max_bin=None,\n",
              "             max_cat_threshold=None, max_cat_to_onehot=None,\n",
              "             max_delta_step=None, max_depth=None, max_leaves=None,\n",
              "             min_child_weight=None, missing=nan, monotone_constraints=None,\n",
              "             n_estimators=100, n_jobs=None, num_parallel_tree=None,\n",
              "             predictor=None, random_state=None, ...)"
            ],
            "text/html": [
              "<style>#sk-container-id-3 {color: black;background-color: white;}#sk-container-id-3 pre{padding: 0;}#sk-container-id-3 div.sk-toggleable {background-color: white;}#sk-container-id-3 label.sk-toggleable__label {cursor: pointer;display: block;width: 100%;margin-bottom: 0;padding: 0.3em;box-sizing: border-box;text-align: center;}#sk-container-id-3 label.sk-toggleable__label-arrow:before {content: \"▸\";float: left;margin-right: 0.25em;color: #696969;}#sk-container-id-3 label.sk-toggleable__label-arrow:hover:before {color: black;}#sk-container-id-3 div.sk-estimator:hover label.sk-toggleable__label-arrow:before {color: black;}#sk-container-id-3 div.sk-toggleable__content {max-height: 0;max-width: 0;overflow: hidden;text-align: left;background-color: #f0f8ff;}#sk-container-id-3 div.sk-toggleable__content pre {margin: 0.2em;color: black;border-radius: 0.25em;background-color: #f0f8ff;}#sk-container-id-3 input.sk-toggleable__control:checked~div.sk-toggleable__content {max-height: 200px;max-width: 100%;overflow: auto;}#sk-container-id-3 input.sk-toggleable__control:checked~label.sk-toggleable__label-arrow:before {content: \"▾\";}#sk-container-id-3 div.sk-estimator input.sk-toggleable__control:checked~label.sk-toggleable__label {background-color: #d4ebff;}#sk-container-id-3 div.sk-label input.sk-toggleable__control:checked~label.sk-toggleable__label {background-color: #d4ebff;}#sk-container-id-3 input.sk-hidden--visually {border: 0;clip: rect(1px 1px 1px 1px);clip: rect(1px, 1px, 1px, 1px);height: 1px;margin: -1px;overflow: hidden;padding: 0;position: absolute;width: 1px;}#sk-container-id-3 div.sk-estimator {font-family: monospace;background-color: #f0f8ff;border: 1px dotted black;border-radius: 0.25em;box-sizing: border-box;margin-bottom: 0.5em;}#sk-container-id-3 div.sk-estimator:hover {background-color: #d4ebff;}#sk-container-id-3 div.sk-parallel-item::after {content: \"\";width: 100%;border-bottom: 1px solid gray;flex-grow: 1;}#sk-container-id-3 div.sk-label:hover label.sk-toggleable__label {background-color: #d4ebff;}#sk-container-id-3 div.sk-serial::before {content: \"\";position: absolute;border-left: 1px solid gray;box-sizing: border-box;top: 0;bottom: 0;left: 50%;z-index: 0;}#sk-container-id-3 div.sk-serial {display: flex;flex-direction: column;align-items: center;background-color: white;padding-right: 0.2em;padding-left: 0.2em;position: relative;}#sk-container-id-3 div.sk-item {position: relative;z-index: 1;}#sk-container-id-3 div.sk-parallel {display: flex;align-items: stretch;justify-content: center;background-color: white;position: relative;}#sk-container-id-3 div.sk-item::before, #sk-container-id-3 div.sk-parallel-item::before {content: \"\";position: absolute;border-left: 1px solid gray;box-sizing: border-box;top: 0;bottom: 0;left: 50%;z-index: -1;}#sk-container-id-3 div.sk-parallel-item {display: flex;flex-direction: column;z-index: 1;position: relative;background-color: white;}#sk-container-id-3 div.sk-parallel-item:first-child::after {align-self: flex-end;width: 50%;}#sk-container-id-3 div.sk-parallel-item:last-child::after {align-self: flex-start;width: 50%;}#sk-container-id-3 div.sk-parallel-item:only-child::after {width: 0;}#sk-container-id-3 div.sk-dashed-wrapped {border: 1px dashed gray;margin: 0 0.4em 0.5em 0.4em;box-sizing: border-box;padding-bottom: 0.4em;background-color: white;}#sk-container-id-3 div.sk-label label {font-family: monospace;font-weight: bold;display: inline-block;line-height: 1.2em;}#sk-container-id-3 div.sk-label-container {text-align: center;}#sk-container-id-3 div.sk-container {/* jupyter's `normalize.less` sets `[hidden] { display: none; }` but bootstrap.min.css set `[hidden] { display: none !important; }` so we also need the `!important` here to be able to override the default hidden behavior on the sphinx rendered scikit-learn.org. See: https://github.com/scikit-learn/scikit-learn/issues/21755 */display: inline-block !important;position: relative;}#sk-container-id-3 div.sk-text-repr-fallback {display: none;}</style><div id=\"sk-container-id-3\" class=\"sk-top-container\"><div class=\"sk-text-repr-fallback\"><pre>XGBRegressor(base_score=None, booster=None, callbacks=None,\n",
              "             colsample_bylevel=None, colsample_bynode=None,\n",
              "             colsample_bytree=None, early_stopping_rounds=None,\n",
              "             enable_categorical=False, eval_metric=None, feature_types=None,\n",
              "             gamma=None, gpu_id=None, grow_policy=None, importance_type=None,\n",
              "             interaction_constraints=None, learning_rate=None, max_bin=None,\n",
              "             max_cat_threshold=None, max_cat_to_onehot=None,\n",
              "             max_delta_step=None, max_depth=None, max_leaves=None,\n",
              "             min_child_weight=None, missing=nan, monotone_constraints=None,\n",
              "             n_estimators=100, n_jobs=None, num_parallel_tree=None,\n",
              "             predictor=None, random_state=None, ...)</pre><b>In a Jupyter environment, please rerun this cell to show the HTML representation or trust the notebook. <br />On GitHub, the HTML representation is unable to render, please try loading this page with nbviewer.org.</b></div><div class=\"sk-container\" hidden><div class=\"sk-item\"><div class=\"sk-estimator sk-toggleable\"><input class=\"sk-toggleable__control sk-hidden--visually\" id=\"sk-estimator-id-3\" type=\"checkbox\" checked><label for=\"sk-estimator-id-3\" class=\"sk-toggleable__label sk-toggleable__label-arrow\">XGBRegressor</label><div class=\"sk-toggleable__content\"><pre>XGBRegressor(base_score=None, booster=None, callbacks=None,\n",
              "             colsample_bylevel=None, colsample_bynode=None,\n",
              "             colsample_bytree=None, early_stopping_rounds=None,\n",
              "             enable_categorical=False, eval_metric=None, feature_types=None,\n",
              "             gamma=None, gpu_id=None, grow_policy=None, importance_type=None,\n",
              "             interaction_constraints=None, learning_rate=None, max_bin=None,\n",
              "             max_cat_threshold=None, max_cat_to_onehot=None,\n",
              "             max_delta_step=None, max_depth=None, max_leaves=None,\n",
              "             min_child_weight=None, missing=nan, monotone_constraints=None,\n",
              "             n_estimators=100, n_jobs=None, num_parallel_tree=None,\n",
              "             predictor=None, random_state=None, ...)</pre></div></div></div></div></div>"
            ]
          },
          "metadata": {},
          "execution_count": 47
        }
      ]
    },
    {
      "cell_type": "code",
      "source": [
        "Y_pred_xg= xg.predict(X_test)"
      ],
      "metadata": {
        "id": "MKPmSYLrMTME"
      },
      "execution_count": 48,
      "outputs": []
    },
    {
      "cell_type": "code",
      "source": [
        "r2_score(y_pred,Y_pred_xg)"
      ],
      "metadata": {
        "colab": {
          "base_uri": "https://localhost:8080/"
        },
        "id": "Fw2ItDvFMZSh",
        "outputId": "830979eb-b731-4de4-ab0b-6e8980f29a44"
      },
      "execution_count": 49,
      "outputs": [
        {
          "output_type": "execute_result",
          "data": {
            "text/plain": [
              "0.9016881237694585"
            ]
          },
          "metadata": {},
          "execution_count": 49
        }
      ]
    },
    {
      "cell_type": "code",
      "source": [
        "print(r2_score(y_pred,Y_pred_xg))\n",
        "print(MAE(y_pred,Y_pred_xg))\n",
        "print(np.sqrt(mean_squared_error(y_pred,Y_pred_xg)))"
      ],
      "metadata": {
        "colab": {
          "base_uri": "https://localhost:8080/"
        },
        "id": "UJibKbysNVyw",
        "outputId": "10168f1d-3f6f-4a7d-d00d-5a11ed477447"
      },
      "execution_count": 50,
      "outputs": [
        {
          "output_type": "stream",
          "name": "stdout",
          "text": [
            "0.9016881237694585\n",
            "270.39780383750593\n",
            "416.7793597552863\n"
          ]
        }
      ]
    },
    {
      "cell_type": "code",
      "source": [
        "from xgboost import XGBRegressor\n",
        "RegModel=XGBRegressor(max_depth=3, learning_rate=0.1, n_estimators=500, objective='reg:linear', booster='gbtree')\n",
        " \n",
        "#Printing all the parameters of XGBoost\n",
        "print(RegModel)\n",
        " \n",
        "#Creating the model on Training Data\n",
        "XGB=RegModel.fit(X_train,y_train)\n",
        "prediction=XGB.predict(X_test)\n",
        " \n",
        "#Measuring Goodness of fit in Training data\n",
        "from sklearn import metrics\n",
        "print('R2 Value:',metrics.r2_score(y_train, XGB.predict(X_train)))\n",
        " \n",
        "#Measuring accuracy on Testing Data\n",
        "print('Accuracy',100- (np.mean(np.abs((y_pred - prediction) / y_pred)) * 100))"
      ],
      "metadata": {
        "colab": {
          "base_uri": "https://localhost:8080/"
        },
        "id": "6_fDqBwsPZFn",
        "outputId": "e48f7ae3-5f65-47b1-f339-b9d977414ed9"
      },
      "execution_count": 51,
      "outputs": [
        {
          "output_type": "stream",
          "name": "stdout",
          "text": [
            "XGBRegressor(base_score=None, booster='gbtree', callbacks=None,\n",
            "             colsample_bylevel=None, colsample_bynode=None,\n",
            "             colsample_bytree=None, early_stopping_rounds=None,\n",
            "             enable_categorical=False, eval_metric=None, feature_types=None,\n",
            "             gamma=None, gpu_id=None, grow_policy=None, importance_type=None,\n",
            "             interaction_constraints=None, learning_rate=0.1, max_bin=None,\n",
            "             max_cat_threshold=None, max_cat_to_onehot=None,\n",
            "             max_delta_step=None, max_depth=3, max_leaves=None,\n",
            "             min_child_weight=None, missing=nan, monotone_constraints=None,\n",
            "             n_estimators=500, n_jobs=None, num_parallel_tree=None,\n",
            "             objective='reg:linear', predictor=None, ...)\n",
            "[04:55:48] WARNING: ../src/objective/regression_obj.cu:213: reg:linear is now deprecated in favor of reg:squarederror.\n",
            "R2 Value: 0.6928870406814505\n",
            "Accuracy 89.12868672113794\n"
          ]
        }
      ]
    }
  ],
  "metadata": {
    "kernelspec": {
      "display_name": "Python 3",
      "language": "python",
      "name": "python3"
    },
    "language_info": {
      "codemirror_mode": {
        "name": "ipython",
        "version": 3
      },
      "file_extension": ".py",
      "mimetype": "text/x-python",
      "name": "python",
      "nbconvert_exporter": "python",
      "pygments_lexer": "ipython3",
      "version": "3.6.4"
    },
    "colab": {
      "provenance": []
    }
  },
  "nbformat": 4,
  "nbformat_minor": 0
}