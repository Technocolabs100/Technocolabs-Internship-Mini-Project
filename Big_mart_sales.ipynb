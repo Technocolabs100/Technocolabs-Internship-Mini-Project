{
 "cells": [
  {
   "cell_type": "code",
   "execution_count": 1,
   "id": "27733f0a-6219-4110-bbd8-5cd0e42e03c4",
   "metadata": {},
   "outputs": [],
   "source": [
    "import os\n",
    "import pandas as pd\n",
    "import numpy as np\n",
    "import matplotlib.pyplot as plt\n",
    "import seaborn as sns\n",
    "from scipy import stats"
   ]
  },
  {
   "cell_type": "code",
   "execution_count": 2,
   "id": "a224bede-6d83-441b-acbd-f46bd9be9a12",
   "metadata": {},
   "outputs": [],
   "source": [
    "train = pd.read_csv(\"D:\\TECHNOLABS\\9961_14084_bundle_archive\\Train.csv\")"
   ]
  },
  {
   "cell_type": "code",
   "execution_count": 3,
   "id": "03eeba8a-c16a-4caa-9837-0c9e4f432cd5",
   "metadata": {},
   "outputs": [
    {
     "data": {
      "text/html": [
       "<div>\n",
       "<style scoped>\n",
       "    .dataframe tbody tr th:only-of-type {\n",
       "        vertical-align: middle;\n",
       "    }\n",
       "\n",
       "    .dataframe tbody tr th {\n",
       "        vertical-align: top;\n",
       "    }\n",
       "\n",
       "    .dataframe thead th {\n",
       "        text-align: right;\n",
       "    }\n",
       "</style>\n",
       "<table border=\"1\" class=\"dataframe\">\n",
       "  <thead>\n",
       "    <tr style=\"text-align: right;\">\n",
       "      <th></th>\n",
       "      <th>Item_Identifier</th>\n",
       "      <th>Item_Weight</th>\n",
       "      <th>Item_Fat_Content</th>\n",
       "      <th>Item_Visibility</th>\n",
       "      <th>Item_Type</th>\n",
       "      <th>Item_MRP</th>\n",
       "      <th>Outlet_Identifier</th>\n",
       "      <th>Outlet_Establishment_Year</th>\n",
       "      <th>Outlet_Size</th>\n",
       "      <th>Outlet_Location_Type</th>\n",
       "      <th>Outlet_Type</th>\n",
       "      <th>Item_Outlet_Sales</th>\n",
       "    </tr>\n",
       "  </thead>\n",
       "  <tbody>\n",
       "    <tr>\n",
       "      <th>0</th>\n",
       "      <td>FDA15</td>\n",
       "      <td>9.30</td>\n",
       "      <td>Low Fat</td>\n",
       "      <td>0.016047</td>\n",
       "      <td>Dairy</td>\n",
       "      <td>249.8092</td>\n",
       "      <td>OUT049</td>\n",
       "      <td>1999</td>\n",
       "      <td>Medium</td>\n",
       "      <td>Tier 1</td>\n",
       "      <td>Supermarket Type1</td>\n",
       "      <td>3735.1380</td>\n",
       "    </tr>\n",
       "    <tr>\n",
       "      <th>1</th>\n",
       "      <td>DRC01</td>\n",
       "      <td>5.92</td>\n",
       "      <td>Regular</td>\n",
       "      <td>0.019278</td>\n",
       "      <td>Soft Drinks</td>\n",
       "      <td>48.2692</td>\n",
       "      <td>OUT018</td>\n",
       "      <td>2009</td>\n",
       "      <td>Medium</td>\n",
       "      <td>Tier 3</td>\n",
       "      <td>Supermarket Type2</td>\n",
       "      <td>443.4228</td>\n",
       "    </tr>\n",
       "    <tr>\n",
       "      <th>2</th>\n",
       "      <td>FDN15</td>\n",
       "      <td>17.50</td>\n",
       "      <td>Low Fat</td>\n",
       "      <td>0.016760</td>\n",
       "      <td>Meat</td>\n",
       "      <td>141.6180</td>\n",
       "      <td>OUT049</td>\n",
       "      <td>1999</td>\n",
       "      <td>Medium</td>\n",
       "      <td>Tier 1</td>\n",
       "      <td>Supermarket Type1</td>\n",
       "      <td>2097.2700</td>\n",
       "    </tr>\n",
       "    <tr>\n",
       "      <th>3</th>\n",
       "      <td>FDX07</td>\n",
       "      <td>19.20</td>\n",
       "      <td>Regular</td>\n",
       "      <td>0.000000</td>\n",
       "      <td>Fruits and Vegetables</td>\n",
       "      <td>182.0950</td>\n",
       "      <td>OUT010</td>\n",
       "      <td>1998</td>\n",
       "      <td>NaN</td>\n",
       "      <td>Tier 3</td>\n",
       "      <td>Grocery Store</td>\n",
       "      <td>732.3800</td>\n",
       "    </tr>\n",
       "    <tr>\n",
       "      <th>4</th>\n",
       "      <td>NCD19</td>\n",
       "      <td>8.93</td>\n",
       "      <td>Low Fat</td>\n",
       "      <td>0.000000</td>\n",
       "      <td>Household</td>\n",
       "      <td>53.8614</td>\n",
       "      <td>OUT013</td>\n",
       "      <td>1987</td>\n",
       "      <td>High</td>\n",
       "      <td>Tier 3</td>\n",
       "      <td>Supermarket Type1</td>\n",
       "      <td>994.7052</td>\n",
       "    </tr>\n",
       "  </tbody>\n",
       "</table>\n",
       "</div>"
      ],
      "text/plain": [
       "  Item_Identifier  Item_Weight Item_Fat_Content  Item_Visibility  \\\n",
       "0           FDA15         9.30          Low Fat         0.016047   \n",
       "1           DRC01         5.92          Regular         0.019278   \n",
       "2           FDN15        17.50          Low Fat         0.016760   \n",
       "3           FDX07        19.20          Regular         0.000000   \n",
       "4           NCD19         8.93          Low Fat         0.000000   \n",
       "\n",
       "               Item_Type  Item_MRP Outlet_Identifier  \\\n",
       "0                  Dairy  249.8092            OUT049   \n",
       "1            Soft Drinks   48.2692            OUT018   \n",
       "2                   Meat  141.6180            OUT049   \n",
       "3  Fruits and Vegetables  182.0950            OUT010   \n",
       "4              Household   53.8614            OUT013   \n",
       "\n",
       "   Outlet_Establishment_Year Outlet_Size Outlet_Location_Type  \\\n",
       "0                       1999      Medium               Tier 1   \n",
       "1                       2009      Medium               Tier 3   \n",
       "2                       1999      Medium               Tier 1   \n",
       "3                       1998         NaN               Tier 3   \n",
       "4                       1987        High               Tier 3   \n",
       "\n",
       "         Outlet_Type  Item_Outlet_Sales  \n",
       "0  Supermarket Type1          3735.1380  \n",
       "1  Supermarket Type2           443.4228  \n",
       "2  Supermarket Type1          2097.2700  \n",
       "3      Grocery Store           732.3800  \n",
       "4  Supermarket Type1           994.7052  "
      ]
     },
     "execution_count": 3,
     "metadata": {},
     "output_type": "execute_result"
    }
   ],
   "source": [
    "train.head()"
   ]
  },
  {
   "cell_type": "code",
   "execution_count": 4,
   "id": "12f5fa8b-8957-45af-a361-79638afca9c8",
   "metadata": {},
   "outputs": [
    {
     "data": {
      "text/plain": [
       "(8523, 12)"
      ]
     },
     "execution_count": 4,
     "metadata": {},
     "output_type": "execute_result"
    }
   ],
   "source": [
    "train.shape"
   ]
  },
  {
   "cell_type": "code",
   "execution_count": 5,
   "id": "a6c394f4-eafb-4c5c-8ce1-83307605777c",
   "metadata": {},
   "outputs": [
    {
     "name": "stdout",
     "output_type": "stream",
     "text": [
      "<class 'pandas.core.frame.DataFrame'>\n",
      "RangeIndex: 8523 entries, 0 to 8522\n",
      "Data columns (total 12 columns):\n",
      " #   Column                     Non-Null Count  Dtype  \n",
      "---  ------                     --------------  -----  \n",
      " 0   Item_Identifier            8523 non-null   object \n",
      " 1   Item_Weight                7060 non-null   float64\n",
      " 2   Item_Fat_Content           8523 non-null   object \n",
      " 3   Item_Visibility            8523 non-null   float64\n",
      " 4   Item_Type                  8523 non-null   object \n",
      " 5   Item_MRP                   8523 non-null   float64\n",
      " 6   Outlet_Identifier          8523 non-null   object \n",
      " 7   Outlet_Establishment_Year  8523 non-null   int64  \n",
      " 8   Outlet_Size                6113 non-null   object \n",
      " 9   Outlet_Location_Type       8523 non-null   object \n",
      " 10  Outlet_Type                8523 non-null   object \n",
      " 11  Item_Outlet_Sales          8523 non-null   float64\n",
      "dtypes: float64(4), int64(1), object(7)\n",
      "memory usage: 799.2+ KB\n"
     ]
    }
   ],
   "source": [
    "train.info()"
   ]
  },
  {
   "cell_type": "code",
   "execution_count": 6,
   "id": "cfea8f9c-dc87-4423-b7fe-eac7d3bc1bfa",
   "metadata": {},
   "outputs": [
    {
     "data": {
      "text/plain": [
       "Item_Identifier              False\n",
       "Item_Weight                   True\n",
       "Item_Fat_Content             False\n",
       "Item_Visibility              False\n",
       "Item_Type                    False\n",
       "Item_MRP                     False\n",
       "Outlet_Identifier            False\n",
       "Outlet_Establishment_Year    False\n",
       "Outlet_Size                   True\n",
       "Outlet_Location_Type         False\n",
       "Outlet_Type                  False\n",
       "Item_Outlet_Sales            False\n",
       "dtype: bool"
      ]
     },
     "execution_count": 6,
     "metadata": {},
     "output_type": "execute_result"
    }
   ],
   "source": [
    "train.isna().any()"
   ]
  },
  {
   "cell_type": "code",
   "execution_count": 7,
   "id": "6945d6d0-f129-460b-bcc3-1828abf5e597",
   "metadata": {},
   "outputs": [],
   "source": [
    "#2 columns, Item_Weight and Outlet_Size have missing values."
   ]
  },
  {
   "cell_type": "code",
   "execution_count": 8,
   "id": "82286564-09bc-4479-9d8a-d85316fdec61",
   "metadata": {},
   "outputs": [
    {
     "data": {
      "text/html": [
       "<div>\n",
       "<style scoped>\n",
       "    .dataframe tbody tr th:only-of-type {\n",
       "        vertical-align: middle;\n",
       "    }\n",
       "\n",
       "    .dataframe tbody tr th {\n",
       "        vertical-align: top;\n",
       "    }\n",
       "\n",
       "    .dataframe thead th {\n",
       "        text-align: right;\n",
       "    }\n",
       "</style>\n",
       "<table border=\"1\" class=\"dataframe\">\n",
       "  <thead>\n",
       "    <tr style=\"text-align: right;\">\n",
       "      <th></th>\n",
       "      <th>Item_Weight</th>\n",
       "      <th>Item_Visibility</th>\n",
       "      <th>Item_MRP</th>\n",
       "      <th>Outlet_Establishment_Year</th>\n",
       "      <th>Item_Outlet_Sales</th>\n",
       "    </tr>\n",
       "  </thead>\n",
       "  <tbody>\n",
       "    <tr>\n",
       "      <th>count</th>\n",
       "      <td>7060.000000</td>\n",
       "      <td>8523.000000</td>\n",
       "      <td>8523.000000</td>\n",
       "      <td>8523.000000</td>\n",
       "      <td>8523.000000</td>\n",
       "    </tr>\n",
       "    <tr>\n",
       "      <th>mean</th>\n",
       "      <td>12.857645</td>\n",
       "      <td>0.066132</td>\n",
       "      <td>140.992782</td>\n",
       "      <td>1997.831867</td>\n",
       "      <td>2181.288914</td>\n",
       "    </tr>\n",
       "    <tr>\n",
       "      <th>std</th>\n",
       "      <td>4.643456</td>\n",
       "      <td>0.051598</td>\n",
       "      <td>62.275067</td>\n",
       "      <td>8.371760</td>\n",
       "      <td>1706.499616</td>\n",
       "    </tr>\n",
       "    <tr>\n",
       "      <th>min</th>\n",
       "      <td>4.555000</td>\n",
       "      <td>0.000000</td>\n",
       "      <td>31.290000</td>\n",
       "      <td>1985.000000</td>\n",
       "      <td>33.290000</td>\n",
       "    </tr>\n",
       "    <tr>\n",
       "      <th>25%</th>\n",
       "      <td>8.773750</td>\n",
       "      <td>0.026989</td>\n",
       "      <td>93.826500</td>\n",
       "      <td>1987.000000</td>\n",
       "      <td>834.247400</td>\n",
       "    </tr>\n",
       "    <tr>\n",
       "      <th>50%</th>\n",
       "      <td>12.600000</td>\n",
       "      <td>0.053931</td>\n",
       "      <td>143.012800</td>\n",
       "      <td>1999.000000</td>\n",
       "      <td>1794.331000</td>\n",
       "    </tr>\n",
       "    <tr>\n",
       "      <th>75%</th>\n",
       "      <td>16.850000</td>\n",
       "      <td>0.094585</td>\n",
       "      <td>185.643700</td>\n",
       "      <td>2004.000000</td>\n",
       "      <td>3101.296400</td>\n",
       "    </tr>\n",
       "    <tr>\n",
       "      <th>max</th>\n",
       "      <td>21.350000</td>\n",
       "      <td>0.328391</td>\n",
       "      <td>266.888400</td>\n",
       "      <td>2009.000000</td>\n",
       "      <td>13086.964800</td>\n",
       "    </tr>\n",
       "  </tbody>\n",
       "</table>\n",
       "</div>"
      ],
      "text/plain": [
       "       Item_Weight  Item_Visibility     Item_MRP  Outlet_Establishment_Year  \\\n",
       "count  7060.000000      8523.000000  8523.000000                8523.000000   \n",
       "mean     12.857645         0.066132   140.992782                1997.831867   \n",
       "std       4.643456         0.051598    62.275067                   8.371760   \n",
       "min       4.555000         0.000000    31.290000                1985.000000   \n",
       "25%       8.773750         0.026989    93.826500                1987.000000   \n",
       "50%      12.600000         0.053931   143.012800                1999.000000   \n",
       "75%      16.850000         0.094585   185.643700                2004.000000   \n",
       "max      21.350000         0.328391   266.888400                2009.000000   \n",
       "\n",
       "       Item_Outlet_Sales  \n",
       "count        8523.000000  \n",
       "mean         2181.288914  \n",
       "std          1706.499616  \n",
       "min            33.290000  \n",
       "25%           834.247400  \n",
       "50%          1794.331000  \n",
       "75%          3101.296400  \n",
       "max         13086.964800  "
      ]
     },
     "execution_count": 8,
     "metadata": {},
     "output_type": "execute_result"
    }
   ],
   "source": [
    "train.describe()"
   ]
  },
  {
   "cell_type": "code",
   "execution_count": 9,
   "id": "e458ec9c-7fce-43ba-8d7b-49218988a809",
   "metadata": {},
   "outputs": [],
   "source": [
    "#Visualizing the distribution of the variables"
   ]
  },
  {
   "cell_type": "code",
   "execution_count": 10,
   "id": "d8e4d1ca-0ed4-4511-a5f1-b1db1a458d4e",
   "metadata": {},
   "outputs": [
    {
     "data": {
      "image/png": "[encoded data removed]",
      "text/plain": [
       "<Figure size 432x288 with 1 Axes>"
      ]
     },
     "metadata": {
      "needs_background": "light"
     },
     "output_type": "display_data"
    }
   ],
   "source": [
    "# Item_Weight\n",
    "plt.hist(train['Item_Weight'])\n",
    "plt.show()"
   ]
  },
  {
   "cell_type": "code",
   "execution_count": 11,
   "id": "3768993f-56d9-4fa7-96c5-c1aeea829a09",
   "metadata": {},
   "outputs": [
    {
     "data": {
      "image/png": "[encoded data removed]",
      "text/plain": [
       "<Figure size 432x288 with 1 Axes>"
      ]
     },
     "metadata": {
      "needs_background": "light"
     },
     "output_type": "display_data"
    }
   ],
   "source": [
    "# Item_Fat_Content\n",
    "train['Item_Fat_Content'].value_counts().plot(kind='barh')\n",
    "plt.show()\n",
    "\n",
    "# The values in this column have to be cleaned. \"reg\" refers to Regular, \"low fat\" & \"LF\" refer to Low Fat."
   ]
  },
  {
   "cell_type": "code",
   "execution_count": 12,
   "id": "dcbda771-3f1d-4735-a857-af8265a6d9e0",
   "metadata": {},
   "outputs": [
    {
     "data": {
      "image/png": "[encoded data removed]",
      "text/plain": [
       "<Figure size 432x288 with 1 Axes>"
      ]
     },
     "metadata": {
      "needs_background": "light"
     },
     "output_type": "display_data"
    }
   ],
   "source": [
    "# Item_Visibility\n",
    "plt.hist(train['Item_Visibility'])\n",
    "plt.show()"
   ]
  },
  {
   "cell_type": "code",
   "execution_count": 13,
   "id": "c648b0d6-0cdf-4909-b437-6d2da0c2faaf",
   "metadata": {},
   "outputs": [
    {
     "data": {
      "image/png": "[encoded data removed]",
      "text/plain": [
       "<Figure size 432x288 with 1 Axes>"
      ]
     },
     "metadata": {
      "needs_background": "light"
     },
     "output_type": "display_data"
    }
   ],
   "source": [
    "# Item_Type\n",
    "train['Item_Type'].value_counts().plot(kind='barh')\n",
    "plt.show()"
   ]
  },
  {
   "cell_type": "code",
   "execution_count": 14,
   "id": "cbca8aad-7735-4a72-a212-5053861d0289",
   "metadata": {},
   "outputs": [
    {
     "data": {
      "image/png": "[encoded data removed]",
      "text/plain": [
       "<Figure size 432x288 with 1 Axes>"
      ]
     },
     "metadata": {
      "needs_background": "light"
     },
     "output_type": "display_data"
    }
   ],
   "source": [
    "# Item_MRP\n",
    "plt.hist(train['Item_MRP'])\n",
    "plt.show()"
   ]
  },
  {
   "cell_type": "code",
   "execution_count": 15,
   "id": "3439bc97-6df4-44b6-ae2d-d54bd7505eb5",
   "metadata": {},
   "outputs": [
    {
     "data": {
      "image/png": "[encoded data removed]",
      "text/plain": [
       "<Figure size 432x288 with 1 Axes>"
      ]
     },
     "metadata": {
      "needs_background": "light"
     },
     "output_type": "display_data"
    }
   ],
   "source": [
    "# Outlet_Identifier\n",
    "train['Outlet_Identifier'].value_counts().plot(kind='barh')\n",
    "plt.show()"
   ]
  },
  {
   "cell_type": "code",
   "execution_count": 16,
   "id": "d033adfe-8d8e-4647-9b4c-39f0e103e0c3",
   "metadata": {},
   "outputs": [
    {
     "data": {
      "text/plain": [
       "<AxesSubplot:>"
      ]
     },
     "execution_count": 16,
     "metadata": {},
     "output_type": "execute_result"
    },
    {
     "data": {
      "image/png": "[encoded data removed]",
      "text/plain": [
       "<Figure size 432x288 with 1 Axes>"
      ]
     },
     "metadata": {
      "needs_background": "light"
     },
     "output_type": "display_data"
    }
   ],
   "source": [
    "# Outlet_Establishment_Year\n",
    "train['Outlet_Establishment_Year'].value_counts().plot(kind='barh')"
   ]
  },
  {
   "cell_type": "code",
   "execution_count": 17,
   "id": "cca56cfe-0c8a-4792-aa48-029ab3fa1c7c",
   "metadata": {},
   "outputs": [
    {
     "data": {
      "text/plain": [
       "<AxesSubplot:>"
      ]
     },
     "execution_count": 17,
     "metadata": {},
     "output_type": "execute_result"
    },
    {
     "data": {
      "image/png": "[encoded data removed]",
      "text/plain": [
       "<Figure size 432x288 with 1 Axes>"
      ]
     },
     "metadata": {
      "needs_background": "light"
     },
     "output_type": "display_data"
    }
   ],
   "source": [
    "# Outlet_Size\n",
    "train['Outlet_Size'].value_counts().plot(kind='barh')"
   ]
  },
  {
   "cell_type": "code",
   "execution_count": 19,
   "id": "5ce7945e-3556-43cd-b833-23dea2169d4d",
   "metadata": {},
   "outputs": [
    {
     "data": {
      "text/plain": [
       "<AxesSubplot:>"
      ]
     },
     "execution_count": 19,
     "metadata": {},
     "output_type": "execute_result"
    },
    {
     "data": {
      "image/png": "[encoded data removed]",
      "text/plain": [
       "<Figure size 432x288 with 1 Axes>"
      ]
     },
     "metadata": {
      "needs_background": "light"
     },
     "output_type": "display_data"
    }
   ],
   "source": [
    "# Outlet_Location_Type\n",
    "train['Outlet_Location_Type'].value_counts().plot(kind='barh')"
   ]
  },
  {
   "cell_type": "code",
   "execution_count": 20,
   "id": "173badff-3525-432b-82b0-b98fca631a6c",
   "metadata": {},
   "outputs": [
    {
     "data": {
      "text/plain": [
       "<AxesSubplot:>"
      ]
     },
     "execution_count": 20,
     "metadata": {},
     "output_type": "execute_result"
    },
    {
     "data": {
      "image/png": "[encoded data removed]",
      "text/plain": [
       "<Figure size 432x288 with 1 Axes>"
      ]
     },
     "metadata": {
      "needs_background": "light"
     },
     "output_type": "display_data"
    }
   ],
   "source": [
    "# Outlet_Type\n",
    "train['Outlet_Type'].value_counts().plot(kind='barh')"
   ]
  },
  {
   "cell_type": "code",
   "execution_count": 21,
   "id": "f8d209af-9a02-4b4c-b49f-b09962ebcc8c",
   "metadata": {},
   "outputs": [
    {
     "data": {
      "image/png": "[encoded data removed]",
      "text/plain": [
       "<Figure size 432x288 with 1 Axes>"
      ]
     },
     "metadata": {
      "needs_background": "light"
     },
     "output_type": "display_data"
    }
   ],
   "source": [
    "# Item_Outlet_Sales\n",
    "plt.hist(train['Item_Outlet_Sales'])\n",
    "plt.show()"
   ]
  },
  {
   "cell_type": "code",
   "execution_count": 22,
   "id": "261d54b8-e3cc-47ca-be80-b86a1ff46fb7",
   "metadata": {},
   "outputs": [],
   "source": [
    "#Missing Values and Data Cleaning\n",
    "#There are 3 columns to be cleaned: Item_Weight, Item_Fat_Content, and Outlet_Size."
   ]
  },
  {
   "cell_type": "code",
   "execution_count": 23,
   "id": "36fdeee0-dc28-4f6f-b8aa-906b32f75139",
   "metadata": {},
   "outputs": [],
   "source": [
    "#Item_Fat_Content"
   ]
  },
  {
   "cell_type": "code",
   "execution_count": 24,
   "id": "ded960eb-30e8-483e-8a6b-799f49882951",
   "metadata": {},
   "outputs": [
    {
     "data": {
      "text/plain": [
       "array(['Low Fat', 'Regular', 'low fat', 'LF', 'reg'], dtype=object)"
      ]
     },
     "execution_count": 24,
     "metadata": {},
     "output_type": "execute_result"
    }
   ],
   "source": [
    "# Item_Fat_Content\n",
    "\n",
    "train['Item_Fat_Content'].unique()"
   ]
  },
  {
   "cell_type": "code",
   "execution_count": 25,
   "id": "5fbc1f4c-e107-4d8d-bb58-5724486e37a0",
   "metadata": {},
   "outputs": [
    {
     "name": "stdout",
     "output_type": "stream",
     "text": [
      "0       Low Fat\n",
      "1       Regular\n",
      "2       Low Fat\n",
      "3       Regular\n",
      "4       Low Fat\n",
      "         ...   \n",
      "8518    Low Fat\n",
      "8519    Regular\n",
      "8520    Low Fat\n",
      "8521    Regular\n",
      "8522    Low Fat\n",
      "Name: Item_Fat_Content, Length: 8523, dtype: object\n"
     ]
    }
   ],
   "source": [
    "# Creating a Pandas Series object with NA values to fill.\n",
    "Fat_Content = train['Item_Fat_Content']\n",
    "print(Fat_Content)"
   ]
  },
  {
   "cell_type": "code",
   "execution_count": 26,
   "id": "aa4d159b-e292-47cf-96a8-754ebe2c840f",
   "metadata": {},
   "outputs": [
    {
     "name": "stderr",
     "output_type": "stream",
     "text": [
      "C:\\Users\\Asus\\AppData\\Local\\Temp\\ipykernel_11664\\2997178701.py:10: SettingWithCopyWarning: \n",
      "A value is trying to be set on a copy of a slice from a DataFrame\n",
      "\n",
      "See the caveats in the documentation: https://pandas.pydata.org/pandas-docs/stable/user_guide/indexing.html#returning-a-view-versus-a-copy\n",
      "  Fat_Content[i] = Fat_Content[i]\n",
      "C:\\Users\\Asus\\AppData\\Local\\Temp\\ipykernel_11664\\2997178701.py:6: SettingWithCopyWarning: \n",
      "A value is trying to be set on a copy of a slice from a DataFrame\n",
      "\n",
      "See the caveats in the documentation: https://pandas.pydata.org/pandas-docs/stable/user_guide/indexing.html#returning-a-view-versus-a-copy\n",
      "  Fat_Content[i] = 'Low Fat'\n",
      "C:\\Users\\Asus\\AppData\\Local\\Temp\\ipykernel_11664\\2997178701.py:4: SettingWithCopyWarning: \n",
      "A value is trying to be set on a copy of a slice from a DataFrame\n",
      "\n",
      "See the caveats in the documentation: https://pandas.pydata.org/pandas-docs/stable/user_guide/indexing.html#returning-a-view-versus-a-copy\n",
      "  Fat_Content[i] = 'Low Fat'\n",
      "C:\\Users\\Asus\\AppData\\Local\\Temp\\ipykernel_11664\\2997178701.py:8: SettingWithCopyWarning: \n",
      "A value is trying to be set on a copy of a slice from a DataFrame\n",
      "\n",
      "See the caveats in the documentation: https://pandas.pydata.org/pandas-docs/stable/user_guide/indexing.html#returning-a-view-versus-a-copy\n",
      "  Fat_Content[i] = 'Regular'\n"
     ]
    }
   ],
   "source": [
    "# Filling up the NA values in the Pandas Series object and assigning it back to the Data Frame.\n",
    "for i in range(0,len(Fat_Content)):\n",
    "    if Fat_Content[i] == 'LF':\n",
    "        Fat_Content[i] = 'Low Fat'\n",
    "    elif Fat_Content[i] == 'low fat':\n",
    "        Fat_Content[i] = 'Low Fat'\n",
    "    elif Fat_Content[i] == 'reg':\n",
    "        Fat_Content[i] = 'Regular'\n",
    "    else:\n",
    "        Fat_Content[i] = Fat_Content[i]"
   ]
  },
  {
   "cell_type": "code",
   "execution_count": 27,
   "id": "902a4fde-0613-442b-b24a-35c704bc684f",
   "metadata": {},
   "outputs": [
    {
     "data": {
      "text/plain": [
       "array(['Low Fat', 'Regular'], dtype=object)"
      ]
     },
     "execution_count": 27,
     "metadata": {},
     "output_type": "execute_result"
    }
   ],
   "source": [
    "Fat_Content.unique()"
   ]
  },
  {
   "cell_type": "code",
   "execution_count": 28,
   "id": "e3451351-56ea-4f68-97ab-f8862f1ceaf6",
   "metadata": {},
   "outputs": [
    {
     "name": "stdout",
     "output_type": "stream",
     "text": [
      "['Low Fat' 'Regular']\n"
     ]
    }
   ],
   "source": [
    "train['Item_Fat_Content'] = Fat_Content\n",
    "print(train['Item_Fat_Content'].unique())\n",
    "\n",
    "# The Item_Fat_Content column in train DF only contains valid values."
   ]
  },
  {
   "cell_type": "code",
   "execution_count": 29,
   "id": "e59f5da7-3fa9-4d0f-b3b3-1694684a6f50",
   "metadata": {},
   "outputs": [],
   "source": [
    "#Item_Weight"
   ]
  },
  {
   "cell_type": "code",
   "execution_count": 30,
   "id": "eb36c098-e271-41da-baab-c59efd731c5e",
   "metadata": {},
   "outputs": [
    {
     "data": {
      "text/html": [
       "<div>\n",
       "<style scoped>\n",
       "    .dataframe tbody tr th:only-of-type {\n",
       "        vertical-align: middle;\n",
       "    }\n",
       "\n",
       "    .dataframe tbody tr th {\n",
       "        vertical-align: top;\n",
       "    }\n",
       "\n",
       "    .dataframe thead th {\n",
       "        text-align: right;\n",
       "    }\n",
       "</style>\n",
       "<table border=\"1\" class=\"dataframe\">\n",
       "  <thead>\n",
       "    <tr style=\"text-align: right;\">\n",
       "      <th></th>\n",
       "      <th>Item_Identifier</th>\n",
       "      <th>Item_Weight</th>\n",
       "    </tr>\n",
       "  </thead>\n",
       "  <tbody>\n",
       "    <tr>\n",
       "      <th>0</th>\n",
       "      <td>FDA15</td>\n",
       "      <td>9.300</td>\n",
       "    </tr>\n",
       "    <tr>\n",
       "      <th>1</th>\n",
       "      <td>DRC01</td>\n",
       "      <td>5.920</td>\n",
       "    </tr>\n",
       "    <tr>\n",
       "      <th>2</th>\n",
       "      <td>FDN15</td>\n",
       "      <td>17.500</td>\n",
       "    </tr>\n",
       "    <tr>\n",
       "      <th>3</th>\n",
       "      <td>FDX07</td>\n",
       "      <td>19.200</td>\n",
       "    </tr>\n",
       "    <tr>\n",
       "      <th>4</th>\n",
       "      <td>NCD19</td>\n",
       "      <td>8.930</td>\n",
       "    </tr>\n",
       "    <tr>\n",
       "      <th>...</th>\n",
       "      <td>...</td>\n",
       "      <td>...</td>\n",
       "    </tr>\n",
       "    <tr>\n",
       "      <th>8518</th>\n",
       "      <td>FDF22</td>\n",
       "      <td>6.865</td>\n",
       "    </tr>\n",
       "    <tr>\n",
       "      <th>8519</th>\n",
       "      <td>FDS36</td>\n",
       "      <td>8.380</td>\n",
       "    </tr>\n",
       "    <tr>\n",
       "      <th>8520</th>\n",
       "      <td>NCJ29</td>\n",
       "      <td>10.600</td>\n",
       "    </tr>\n",
       "    <tr>\n",
       "      <th>8521</th>\n",
       "      <td>FDN46</td>\n",
       "      <td>7.210</td>\n",
       "    </tr>\n",
       "    <tr>\n",
       "      <th>8522</th>\n",
       "      <td>DRG01</td>\n",
       "      <td>14.800</td>\n",
       "    </tr>\n",
       "  </tbody>\n",
       "</table>\n",
       "<p>7060 rows × 2 columns</p>\n",
       "</div>"
      ],
      "text/plain": [
       "     Item_Identifier  Item_Weight\n",
       "0              FDA15        9.300\n",
       "1              DRC01        5.920\n",
       "2              FDN15       17.500\n",
       "3              FDX07       19.200\n",
       "4              NCD19        8.930\n",
       "...              ...          ...\n",
       "8518           FDF22        6.865\n",
       "8519           FDS36        8.380\n",
       "8520           NCJ29       10.600\n",
       "8521           FDN46        7.210\n",
       "8522           DRG01       14.800\n",
       "\n",
       "[7060 rows x 2 columns]"
      ]
     },
     "execution_count": 30,
     "metadata": {},
     "output_type": "execute_result"
    }
   ],
   "source": [
    "train[train.Item_Weight.isnull() == False].loc[:,['Item_Identifier', 'Item_Weight']]\n",
    "# Removing NA rows and selecting the 2 columns. Making sure only NA rows in Item_Weight column are dropped."
   ]
  },
  {
   "cell_type": "code",
   "execution_count": 31,
   "id": "3c8dbb0e-baf8-4e04-a8d7-9acc3870859a",
   "metadata": {},
   "outputs": [],
   "source": [
    "mapping = dict(train[train.Item_Weight.isnull() == False].loc[:,['Item_Identifier', 'Item_Weight']].values)\n",
    "# Creating a dictionary for mapping"
   ]
  },
  {
   "cell_type": "code",
   "execution_count": 32,
   "id": "43c90224-b9fa-4257-96ea-9fb7529530f7",
   "metadata": {},
   "outputs": [],
   "source": [
    "train['Item_Weight'] = train['Item_Weight'].fillna(train['Item_Identifier'].map(mapping))\n",
    "# Replacing NA values with values from the mapping dictionary"
   ]
  },
  {
   "cell_type": "code",
   "execution_count": 33,
   "id": "94da7083-ea5b-403e-9e70-7e7a9eb384de",
   "metadata": {},
   "outputs": [
    {
     "data": {
      "text/html": [
       "<div>\n",
       "<style scoped>\n",
       "    .dataframe tbody tr th:only-of-type {\n",
       "        vertical-align: middle;\n",
       "    }\n",
       "\n",
       "    .dataframe tbody tr th {\n",
       "        vertical-align: top;\n",
       "    }\n",
       "\n",
       "    .dataframe thead th {\n",
       "        text-align: right;\n",
       "    }\n",
       "</style>\n",
       "<table border=\"1\" class=\"dataframe\">\n",
       "  <thead>\n",
       "    <tr style=\"text-align: right;\">\n",
       "      <th></th>\n",
       "      <th>Item_Identifier</th>\n",
       "      <th>Item_Weight</th>\n",
       "      <th>Item_Fat_Content</th>\n",
       "      <th>Item_Visibility</th>\n",
       "      <th>Item_Type</th>\n",
       "      <th>Item_MRP</th>\n",
       "      <th>Outlet_Identifier</th>\n",
       "      <th>Outlet_Establishment_Year</th>\n",
       "      <th>Outlet_Size</th>\n",
       "      <th>Outlet_Location_Type</th>\n",
       "      <th>Outlet_Type</th>\n",
       "      <th>Item_Outlet_Sales</th>\n",
       "    </tr>\n",
       "  </thead>\n",
       "  <tbody>\n",
       "    <tr>\n",
       "      <th>927</th>\n",
       "      <td>FDN52</td>\n",
       "      <td>NaN</td>\n",
       "      <td>Regular</td>\n",
       "      <td>0.130933</td>\n",
       "      <td>Frozen Foods</td>\n",
       "      <td>86.9198</td>\n",
       "      <td>OUT027</td>\n",
       "      <td>1985</td>\n",
       "      <td>Medium</td>\n",
       "      <td>Tier 3</td>\n",
       "      <td>Supermarket Type3</td>\n",
       "      <td>1569.9564</td>\n",
       "    </tr>\n",
       "    <tr>\n",
       "      <th>1922</th>\n",
       "      <td>FDK57</td>\n",
       "      <td>NaN</td>\n",
       "      <td>Low Fat</td>\n",
       "      <td>0.079904</td>\n",
       "      <td>Snack Foods</td>\n",
       "      <td>120.0440</td>\n",
       "      <td>OUT027</td>\n",
       "      <td>1985</td>\n",
       "      <td>Medium</td>\n",
       "      <td>Tier 3</td>\n",
       "      <td>Supermarket Type3</td>\n",
       "      <td>4434.2280</td>\n",
       "    </tr>\n",
       "    <tr>\n",
       "      <th>4187</th>\n",
       "      <td>FDE52</td>\n",
       "      <td>NaN</td>\n",
       "      <td>Regular</td>\n",
       "      <td>0.029742</td>\n",
       "      <td>Dairy</td>\n",
       "      <td>88.9514</td>\n",
       "      <td>OUT027</td>\n",
       "      <td>1985</td>\n",
       "      <td>Medium</td>\n",
       "      <td>Tier 3</td>\n",
       "      <td>Supermarket Type3</td>\n",
       "      <td>3453.5046</td>\n",
       "    </tr>\n",
       "    <tr>\n",
       "      <th>5022</th>\n",
       "      <td>FDQ60</td>\n",
       "      <td>NaN</td>\n",
       "      <td>Regular</td>\n",
       "      <td>0.191501</td>\n",
       "      <td>Baking Goods</td>\n",
       "      <td>121.2098</td>\n",
       "      <td>OUT019</td>\n",
       "      <td>1985</td>\n",
       "      <td>Small</td>\n",
       "      <td>Tier 1</td>\n",
       "      <td>Grocery Store</td>\n",
       "      <td>120.5098</td>\n",
       "    </tr>\n",
       "  </tbody>\n",
       "</table>\n",
       "</div>"
      ],
      "text/plain": [
       "     Item_Identifier  Item_Weight Item_Fat_Content  Item_Visibility  \\\n",
       "927            FDN52          NaN          Regular         0.130933   \n",
       "1922           FDK57          NaN          Low Fat         0.079904   \n",
       "4187           FDE52          NaN          Regular         0.029742   \n",
       "5022           FDQ60          NaN          Regular         0.191501   \n",
       "\n",
       "         Item_Type  Item_MRP Outlet_Identifier  Outlet_Establishment_Year  \\\n",
       "927   Frozen Foods   86.9198            OUT027                       1985   \n",
       "1922   Snack Foods  120.0440            OUT027                       1985   \n",
       "4187         Dairy   88.9514            OUT027                       1985   \n",
       "5022  Baking Goods  121.2098            OUT019                       1985   \n",
       "\n",
       "     Outlet_Size Outlet_Location_Type        Outlet_Type  Item_Outlet_Sales  \n",
       "927       Medium               Tier 3  Supermarket Type3          1569.9564  \n",
       "1922      Medium               Tier 3  Supermarket Type3          4434.2280  \n",
       "4187      Medium               Tier 3  Supermarket Type3          3453.5046  \n",
       "5022       Small               Tier 1      Grocery Store           120.5098  "
      ]
     },
     "execution_count": 33,
     "metadata": {},
     "output_type": "execute_result"
    }
   ],
   "source": [
    "train[train.Item_Weight.isna() == True]\n",
    "# Rows which do not have any other non-NA rows with the same product."
   ]
  },
  {
   "cell_type": "code",
   "execution_count": 34,
   "id": "07ec6423-afbc-4707-bd06-e20850300afa",
   "metadata": {},
   "outputs": [],
   "source": [
    "# Filling the missing values with median Item_Weight.\n",
    "med_wt = np.nanmedian(train['Item_Weight'])\n",
    "\n",
    "train['Item_Weight'] = train['Item_Weight'].fillna(med_wt)"
   ]
  },
  {
   "cell_type": "code",
   "execution_count": 35,
   "id": "83b8bcba-3040-4bd2-bd73-a86f521131ca",
   "metadata": {},
   "outputs": [
    {
     "data": {
      "text/plain": [
       "0"
      ]
     },
     "execution_count": 35,
     "metadata": {},
     "output_type": "execute_result"
    }
   ],
   "source": [
    "train.Item_Weight.isna().sum()\n",
    "# No more missing values in Item_Weight."
   ]
  },
  {
   "cell_type": "code",
   "execution_count": 36,
   "id": "28f9e1f2-3477-4169-b125-8a51a7d8a44c",
   "metadata": {},
   "outputs": [],
   "source": [
    "#Outlet_Size"
   ]
  },
  {
   "cell_type": "code",
   "execution_count": 37,
   "id": "715c890c-152c-41b5-b556-37bee978803f",
   "metadata": {},
   "outputs": [
    {
     "data": {
      "text/plain": [
       "2410"
      ]
     },
     "execution_count": 37,
     "metadata": {},
     "output_type": "execute_result"
    }
   ],
   "source": [
    "train.Outlet_Size.isna().sum()"
   ]
  },
  {
   "cell_type": "code",
   "execution_count": 38,
   "id": "5039e63c-ae02-440c-b757-4bd276529376",
   "metadata": {},
   "outputs": [
    {
     "data": {
      "text/plain": [
       "array(['OUT010', 'OUT045', 'OUT017'], dtype=object)"
      ]
     },
     "execution_count": 38,
     "metadata": {},
     "output_type": "execute_result"
    }
   ],
   "source": [
    "# Identifying unique Outlets with missing Outlet Sizes\n",
    "train[train.Outlet_Size.isnull() == True].Outlet_Identifier.unique()"
   ]
  },
  {
   "cell_type": "code",
   "execution_count": 39,
   "id": "010d6865-96cc-4a2b-ba9e-e5f8d428b424",
   "metadata": {},
   "outputs": [],
   "source": [
    "# Going through the data, OUT017 and OUT045 have Outlet Locations as Tier 2 and Outlet Types as Supermarket Type 1.\n",
    "# Most other outlets with similar Location and Supermarket Types have Outlet Size as Small.\n",
    "# Using that, Outlet Size for OUT017 and OUT045 will be filled as 'Small'.\n",
    "\n",
    "# OUT010 has Outlet Type as Grocery. Grocery Stores type have Outlet Size Small in the data.\n",
    "# Using that, Outlet Size for OUT101 will be filled as Small.\n",
    "\n",
    "# All 3 unique outlets with missing Outlet Sizes will be filled as Small."
   ]
  },
  {
   "cell_type": "code",
   "execution_count": 40,
   "id": "bc2d49e7-405b-441b-b81e-2f44959c8e96",
   "metadata": {},
   "outputs": [],
   "source": [
    "train['Outlet_Size'] = train['Outlet_Size'].fillna(\"Small\")"
   ]
  },
  {
   "cell_type": "code",
   "execution_count": 41,
   "id": "6bd5394d-9562-48b8-bb92-af9cd32099ac",
   "metadata": {},
   "outputs": [
    {
     "data": {
      "text/plain": [
       "0"
      ]
     },
     "execution_count": 41,
     "metadata": {},
     "output_type": "execute_result"
    }
   ],
   "source": [
    "train.Outlet_Size.isna().sum()\n",
    "# No more missing values in Outlet_Size."
   ]
  },
  {
   "cell_type": "code",
   "execution_count": 42,
   "id": "c6d6dc90-c729-4e9a-8248-7d85643806af",
   "metadata": {},
   "outputs": [],
   "source": [
    "#Data Pre-Processing"
   ]
  },
  {
   "cell_type": "code",
   "execution_count": 43,
   "id": "6e8b85a1-0d73-4b92-9216-d7674909c0a2",
   "metadata": {},
   "outputs": [],
   "source": [
    "#Item_Identifier and Outlet_Identifier\n",
    "\n",
    "# Item_Indicator and Outlet_Indicator are unique ID numbers of Products and Outlets. To convert it to numeric, the\n",
    "# respective frequencies of every product/outlet are added to the train data. For ex, if OUT010 has 600 counts in the\n",
    "# entire data frame, 600 will be input to every cell that has the value OUT010 in the Outlet_Indicator column.\n",
    "\n",
    "col = ['Item_Identifier', 'Outlet_Identifier']\n",
    "\n",
    "for i in col:\n",
    "    x = dict(train[i].value_counts())\n",
    "    train[i] = train[i].map(x)"
   ]
  },
  {
   "cell_type": "code",
   "execution_count": 44,
   "id": "62259c29-1bca-46c1-a93c-1c9cf9eea380",
   "metadata": {},
   "outputs": [
    {
     "data": {
      "text/html": [
       "<div>\n",
       "<style scoped>\n",
       "    .dataframe tbody tr th:only-of-type {\n",
       "        vertical-align: middle;\n",
       "    }\n",
       "\n",
       "    .dataframe tbody tr th {\n",
       "        vertical-align: top;\n",
       "    }\n",
       "\n",
       "    .dataframe thead th {\n",
       "        text-align: right;\n",
       "    }\n",
       "</style>\n",
       "<table border=\"1\" class=\"dataframe\">\n",
       "  <thead>\n",
       "    <tr style=\"text-align: right;\">\n",
       "      <th></th>\n",
       "      <th>Item_Identifier</th>\n",
       "      <th>Item_Weight</th>\n",
       "      <th>Item_Fat_Content</th>\n",
       "      <th>Item_Visibility</th>\n",
       "      <th>Item_Type</th>\n",
       "      <th>Item_MRP</th>\n",
       "      <th>Outlet_Identifier</th>\n",
       "      <th>Outlet_Establishment_Year</th>\n",
       "      <th>Outlet_Size</th>\n",
       "      <th>Outlet_Location_Type</th>\n",
       "      <th>Outlet_Type</th>\n",
       "      <th>Item_Outlet_Sales</th>\n",
       "    </tr>\n",
       "  </thead>\n",
       "  <tbody>\n",
       "    <tr>\n",
       "      <th>0</th>\n",
       "      <td>8</td>\n",
       "      <td>9.30</td>\n",
       "      <td>Low Fat</td>\n",
       "      <td>0.016047</td>\n",
       "      <td>Dairy</td>\n",
       "      <td>249.8092</td>\n",
       "      <td>930</td>\n",
       "      <td>1999</td>\n",
       "      <td>Medium</td>\n",
       "      <td>Tier 1</td>\n",
       "      <td>Supermarket Type1</td>\n",
       "      <td>3735.1380</td>\n",
       "    </tr>\n",
       "    <tr>\n",
       "      <th>1</th>\n",
       "      <td>6</td>\n",
       "      <td>5.92</td>\n",
       "      <td>Regular</td>\n",
       "      <td>0.019278</td>\n",
       "      <td>Soft Drinks</td>\n",
       "      <td>48.2692</td>\n",
       "      <td>928</td>\n",
       "      <td>2009</td>\n",
       "      <td>Medium</td>\n",
       "      <td>Tier 3</td>\n",
       "      <td>Supermarket Type2</td>\n",
       "      <td>443.4228</td>\n",
       "    </tr>\n",
       "    <tr>\n",
       "      <th>2</th>\n",
       "      <td>7</td>\n",
       "      <td>17.50</td>\n",
       "      <td>Low Fat</td>\n",
       "      <td>0.016760</td>\n",
       "      <td>Meat</td>\n",
       "      <td>141.6180</td>\n",
       "      <td>930</td>\n",
       "      <td>1999</td>\n",
       "      <td>Medium</td>\n",
       "      <td>Tier 1</td>\n",
       "      <td>Supermarket Type1</td>\n",
       "      <td>2097.2700</td>\n",
       "    </tr>\n",
       "    <tr>\n",
       "      <th>3</th>\n",
       "      <td>6</td>\n",
       "      <td>19.20</td>\n",
       "      <td>Regular</td>\n",
       "      <td>0.000000</td>\n",
       "      <td>Fruits and Vegetables</td>\n",
       "      <td>182.0950</td>\n",
       "      <td>555</td>\n",
       "      <td>1998</td>\n",
       "      <td>Small</td>\n",
       "      <td>Tier 3</td>\n",
       "      <td>Grocery Store</td>\n",
       "      <td>732.3800</td>\n",
       "    </tr>\n",
       "    <tr>\n",
       "      <th>4</th>\n",
       "      <td>6</td>\n",
       "      <td>8.93</td>\n",
       "      <td>Low Fat</td>\n",
       "      <td>0.000000</td>\n",
       "      <td>Household</td>\n",
       "      <td>53.8614</td>\n",
       "      <td>932</td>\n",
       "      <td>1987</td>\n",
       "      <td>High</td>\n",
       "      <td>Tier 3</td>\n",
       "      <td>Supermarket Type1</td>\n",
       "      <td>994.7052</td>\n",
       "    </tr>\n",
       "  </tbody>\n",
       "</table>\n",
       "</div>"
      ],
      "text/plain": [
       "   Item_Identifier  Item_Weight Item_Fat_Content  Item_Visibility  \\\n",
       "0                8         9.30          Low Fat         0.016047   \n",
       "1                6         5.92          Regular         0.019278   \n",
       "2                7        17.50          Low Fat         0.016760   \n",
       "3                6        19.20          Regular         0.000000   \n",
       "4                6         8.93          Low Fat         0.000000   \n",
       "\n",
       "               Item_Type  Item_MRP  Outlet_Identifier  \\\n",
       "0                  Dairy  249.8092                930   \n",
       "1            Soft Drinks   48.2692                928   \n",
       "2                   Meat  141.6180                930   \n",
       "3  Fruits and Vegetables  182.0950                555   \n",
       "4              Household   53.8614                932   \n",
       "\n",
       "   Outlet_Establishment_Year Outlet_Size Outlet_Location_Type  \\\n",
       "0                       1999      Medium               Tier 1   \n",
       "1                       2009      Medium               Tier 3   \n",
       "2                       1999      Medium               Tier 1   \n",
       "3                       1998       Small               Tier 3   \n",
       "4                       1987        High               Tier 3   \n",
       "\n",
       "         Outlet_Type  Item_Outlet_Sales  \n",
       "0  Supermarket Type1          3735.1380  \n",
       "1  Supermarket Type2           443.4228  \n",
       "2  Supermarket Type1          2097.2700  \n",
       "3      Grocery Store           732.3800  \n",
       "4  Supermarket Type1           994.7052  "
      ]
     },
     "execution_count": 44,
     "metadata": {},
     "output_type": "execute_result"
    }
   ],
   "source": [
    "train.head()"
   ]
  },
  {
   "cell_type": "code",
   "execution_count": 45,
   "id": "b8dbba4c-1f12-49c7-8dd1-52bd6b5f83f3",
   "metadata": {},
   "outputs": [
    {
     "data": {
      "text/html": [
       "<div>\n",
       "<style scoped>\n",
       "    .dataframe tbody tr th:only-of-type {\n",
       "        vertical-align: middle;\n",
       "    }\n",
       "\n",
       "    .dataframe tbody tr th {\n",
       "        vertical-align: top;\n",
       "    }\n",
       "\n",
       "    .dataframe thead th {\n",
       "        text-align: right;\n",
       "    }\n",
       "</style>\n",
       "<table border=\"1\" class=\"dataframe\">\n",
       "  <thead>\n",
       "    <tr style=\"text-align: right;\">\n",
       "      <th></th>\n",
       "      <th>Item_Identifier</th>\n",
       "      <th>Item_Weight</th>\n",
       "      <th>Item_Fat_Content</th>\n",
       "      <th>Item_Visibility</th>\n",
       "      <th>Item_Type</th>\n",
       "      <th>Item_MRP</th>\n",
       "      <th>Outlet_Identifier</th>\n",
       "      <th>Outlet_Establishment_Year</th>\n",
       "      <th>Outlet_Size</th>\n",
       "      <th>Outlet_Location_Type</th>\n",
       "      <th>Outlet_Type</th>\n",
       "      <th>Item_Outlet_Sales</th>\n",
       "    </tr>\n",
       "  </thead>\n",
       "  <tbody>\n",
       "    <tr>\n",
       "      <th>0</th>\n",
       "      <td>8</td>\n",
       "      <td>9.30</td>\n",
       "      <td>0</td>\n",
       "      <td>0.016047</td>\n",
       "      <td>4</td>\n",
       "      <td>249.8092</td>\n",
       "      <td>930</td>\n",
       "      <td>1999</td>\n",
       "      <td>Medium</td>\n",
       "      <td>Tier 1</td>\n",
       "      <td>Supermarket Type1</td>\n",
       "      <td>3735.1380</td>\n",
       "    </tr>\n",
       "    <tr>\n",
       "      <th>1</th>\n",
       "      <td>6</td>\n",
       "      <td>5.92</td>\n",
       "      <td>1</td>\n",
       "      <td>0.019278</td>\n",
       "      <td>14</td>\n",
       "      <td>48.2692</td>\n",
       "      <td>928</td>\n",
       "      <td>2009</td>\n",
       "      <td>Medium</td>\n",
       "      <td>Tier 3</td>\n",
       "      <td>Supermarket Type2</td>\n",
       "      <td>443.4228</td>\n",
       "    </tr>\n",
       "    <tr>\n",
       "      <th>2</th>\n",
       "      <td>7</td>\n",
       "      <td>17.50</td>\n",
       "      <td>0</td>\n",
       "      <td>0.016760</td>\n",
       "      <td>10</td>\n",
       "      <td>141.6180</td>\n",
       "      <td>930</td>\n",
       "      <td>1999</td>\n",
       "      <td>Medium</td>\n",
       "      <td>Tier 1</td>\n",
       "      <td>Supermarket Type1</td>\n",
       "      <td>2097.2700</td>\n",
       "    </tr>\n",
       "    <tr>\n",
       "      <th>3</th>\n",
       "      <td>6</td>\n",
       "      <td>19.20</td>\n",
       "      <td>1</td>\n",
       "      <td>0.000000</td>\n",
       "      <td>6</td>\n",
       "      <td>182.0950</td>\n",
       "      <td>555</td>\n",
       "      <td>1998</td>\n",
       "      <td>Small</td>\n",
       "      <td>Tier 3</td>\n",
       "      <td>Grocery Store</td>\n",
       "      <td>732.3800</td>\n",
       "    </tr>\n",
       "    <tr>\n",
       "      <th>4</th>\n",
       "      <td>6</td>\n",
       "      <td>8.93</td>\n",
       "      <td>0</td>\n",
       "      <td>0.000000</td>\n",
       "      <td>9</td>\n",
       "      <td>53.8614</td>\n",
       "      <td>932</td>\n",
       "      <td>1987</td>\n",
       "      <td>High</td>\n",
       "      <td>Tier 3</td>\n",
       "      <td>Supermarket Type1</td>\n",
       "      <td>994.7052</td>\n",
       "    </tr>\n",
       "  </tbody>\n",
       "</table>\n",
       "</div>"
      ],
      "text/plain": [
       "   Item_Identifier  Item_Weight  Item_Fat_Content  Item_Visibility  Item_Type  \\\n",
       "0                8         9.30                 0         0.016047          4   \n",
       "1                6         5.92                 1         0.019278         14   \n",
       "2                7        17.50                 0         0.016760         10   \n",
       "3                6        19.20                 1         0.000000          6   \n",
       "4                6         8.93                 0         0.000000          9   \n",
       "\n",
       "   Item_MRP  Outlet_Identifier  Outlet_Establishment_Year Outlet_Size  \\\n",
       "0  249.8092                930                       1999      Medium   \n",
       "1   48.2692                928                       2009      Medium   \n",
       "2  141.6180                930                       1999      Medium   \n",
       "3  182.0950                555                       1998       Small   \n",
       "4   53.8614                932                       1987        High   \n",
       "\n",
       "  Outlet_Location_Type        Outlet_Type  Item_Outlet_Sales  \n",
       "0               Tier 1  Supermarket Type1          3735.1380  \n",
       "1               Tier 3  Supermarket Type2           443.4228  \n",
       "2               Tier 1  Supermarket Type1          2097.2700  \n",
       "3               Tier 3      Grocery Store           732.3800  \n",
       "4               Tier 3  Supermarket Type1           994.7052  "
      ]
     },
     "execution_count": 45,
     "metadata": {},
     "output_type": "execute_result"
    }
   ],
   "source": [
    "# Item_Fat_Content and Item_Type\n",
    "\n",
    "# These 2 categorical variables are nominal.\n",
    "# Using label encoding, the variables will be converted into numeric.\n",
    "\n",
    "from sklearn import preprocessing\n",
    "le1 = preprocessing.LabelEncoder()\n",
    "train['Item_Fat_Content'] = le1.fit_transform(train['Item_Fat_Content'])\n",
    "\n",
    "le2 = preprocessing.LabelEncoder()\n",
    "train['Item_Type'] = le2.fit_transform(train['Item_Type'])\n",
    "\n",
    "train.head()"
   ]
  },
  {
   "cell_type": "code",
   "execution_count": 46,
   "id": "e5cccde4-ac76-4af4-89c2-c2544bb0eda1",
   "metadata": {},
   "outputs": [
    {
     "data": {
      "text/html": [
       "<div>\n",
       "<style scoped>\n",
       "    .dataframe tbody tr th:only-of-type {\n",
       "        vertical-align: middle;\n",
       "    }\n",
       "\n",
       "    .dataframe tbody tr th {\n",
       "        vertical-align: top;\n",
       "    }\n",
       "\n",
       "    .dataframe thead th {\n",
       "        text-align: right;\n",
       "    }\n",
       "</style>\n",
       "<table border=\"1\" class=\"dataframe\">\n",
       "  <thead>\n",
       "    <tr style=\"text-align: right;\">\n",
       "      <th></th>\n",
       "      <th>Item_Identifier</th>\n",
       "      <th>Item_Weight</th>\n",
       "      <th>Item_Fat_Content</th>\n",
       "      <th>Item_Visibility</th>\n",
       "      <th>Item_Type</th>\n",
       "      <th>Item_MRP</th>\n",
       "      <th>Outlet_Identifier</th>\n",
       "      <th>Outlet_Establishment_Year</th>\n",
       "      <th>Outlet_Size</th>\n",
       "      <th>Outlet_Location_Type</th>\n",
       "      <th>Outlet_Type</th>\n",
       "      <th>Item_Outlet_Sales</th>\n",
       "    </tr>\n",
       "  </thead>\n",
       "  <tbody>\n",
       "    <tr>\n",
       "      <th>0</th>\n",
       "      <td>8</td>\n",
       "      <td>9.30</td>\n",
       "      <td>0</td>\n",
       "      <td>0.016047</td>\n",
       "      <td>4</td>\n",
       "      <td>249.8092</td>\n",
       "      <td>930</td>\n",
       "      <td>1999</td>\n",
       "      <td>2</td>\n",
       "      <td>3</td>\n",
       "      <td>4</td>\n",
       "      <td>3735.1380</td>\n",
       "    </tr>\n",
       "    <tr>\n",
       "      <th>1</th>\n",
       "      <td>6</td>\n",
       "      <td>5.92</td>\n",
       "      <td>1</td>\n",
       "      <td>0.019278</td>\n",
       "      <td>14</td>\n",
       "      <td>48.2692</td>\n",
       "      <td>928</td>\n",
       "      <td>2009</td>\n",
       "      <td>2</td>\n",
       "      <td>1</td>\n",
       "      <td>3</td>\n",
       "      <td>443.4228</td>\n",
       "    </tr>\n",
       "    <tr>\n",
       "      <th>2</th>\n",
       "      <td>7</td>\n",
       "      <td>17.50</td>\n",
       "      <td>0</td>\n",
       "      <td>0.016760</td>\n",
       "      <td>10</td>\n",
       "      <td>141.6180</td>\n",
       "      <td>930</td>\n",
       "      <td>1999</td>\n",
       "      <td>2</td>\n",
       "      <td>3</td>\n",
       "      <td>4</td>\n",
       "      <td>2097.2700</td>\n",
       "    </tr>\n",
       "    <tr>\n",
       "      <th>3</th>\n",
       "      <td>6</td>\n",
       "      <td>19.20</td>\n",
       "      <td>1</td>\n",
       "      <td>0.000000</td>\n",
       "      <td>6</td>\n",
       "      <td>182.0950</td>\n",
       "      <td>555</td>\n",
       "      <td>1998</td>\n",
       "      <td>1</td>\n",
       "      <td>1</td>\n",
       "      <td>1</td>\n",
       "      <td>732.3800</td>\n",
       "    </tr>\n",
       "    <tr>\n",
       "      <th>4</th>\n",
       "      <td>6</td>\n",
       "      <td>8.93</td>\n",
       "      <td>0</td>\n",
       "      <td>0.000000</td>\n",
       "      <td>9</td>\n",
       "      <td>53.8614</td>\n",
       "      <td>932</td>\n",
       "      <td>1987</td>\n",
       "      <td>3</td>\n",
       "      <td>1</td>\n",
       "      <td>4</td>\n",
       "      <td>994.7052</td>\n",
       "    </tr>\n",
       "  </tbody>\n",
       "</table>\n",
       "</div>"
      ],
      "text/plain": [
       "   Item_Identifier  Item_Weight  Item_Fat_Content  Item_Visibility  Item_Type  \\\n",
       "0                8         9.30                 0         0.016047          4   \n",
       "1                6         5.92                 1         0.019278         14   \n",
       "2                7        17.50                 0         0.016760         10   \n",
       "3                6        19.20                 1         0.000000          6   \n",
       "4                6         8.93                 0         0.000000          9   \n",
       "\n",
       "   Item_MRP  Outlet_Identifier  Outlet_Establishment_Year  Outlet_Size  \\\n",
       "0  249.8092                930                       1999            2   \n",
       "1   48.2692                928                       2009            2   \n",
       "2  141.6180                930                       1999            2   \n",
       "3  182.0950                555                       1998            1   \n",
       "4   53.8614                932                       1987            3   \n",
       "\n",
       "   Outlet_Location_Type  Outlet_Type  Item_Outlet_Sales  \n",
       "0                     3            4          3735.1380  \n",
       "1                     1            3           443.4228  \n",
       "2                     3            4          2097.2700  \n",
       "3                     1            1           732.3800  \n",
       "4                     1            4           994.7052  "
      ]
     },
     "execution_count": 46,
     "metadata": {},
     "output_type": "execute_result"
    }
   ],
   "source": [
    "# Outlet_Size, Outlet_Location_Type and Outlet_Type\n",
    "\n",
    "# These 3 are ordinal categorical variables as each value has a specific order (Small < Medium < High, etc.).\n",
    "# The respective values in each column will be replaced by an integer.\n",
    "\n",
    "# Outlet_Size -- Small = 1, Medium = 2, High = 3.\n",
    "\n",
    "train['Outlet_Size'] = train['Outlet_Size'].replace(\"Small\", 1)\n",
    "train['Outlet_Size'] = train['Outlet_Size'].replace(\"Medium\", 2)\n",
    "train['Outlet_Size'] = train['Outlet_Size'].replace(\"High\", 3)\n",
    "\n",
    "#Outlet_Location_Type -- Tier1 = 3, Tier2 = 2, Tier3 = 1 (Tier1 has more points than Tier3)\n",
    "train['Outlet_Location_Type'] = train['Outlet_Location_Type'].replace(\"Tier 1\", 3)\n",
    "train['Outlet_Location_Type'] = train['Outlet_Location_Type'].replace(\"Tier 2\", 2)\n",
    "train['Outlet_Location_Type'] = train['Outlet_Location_Type'].replace(\"Tier 3\", 1)\n",
    "\n",
    "# Outlet_Type -- Grocery Store = 1, Supermarket Type3 = 2, Supermarket Type2 = 3, Supermarket Type1 = 4.\n",
    "train['Outlet_Type'] = train['Outlet_Type'].replace(\"Grocery Store\", 1)\n",
    "train['Outlet_Type'] = train['Outlet_Type'].replace(\"Supermarket Type3\", 2)\n",
    "train['Outlet_Type'] = train['Outlet_Type'].replace(\"Supermarket Type2\", 3)\n",
    "train['Outlet_Type'] = train['Outlet_Type'].replace(\"Supermarket Type1\", 4)\n",
    "\n",
    "train.head()"
   ]
  },
  {
   "cell_type": "code",
   "execution_count": 47,
   "id": "d517dfdc-65ac-4482-8123-301c399b3847",
   "metadata": {},
   "outputs": [
    {
     "name": "stdout",
     "output_type": "stream",
     "text": [
      "<class 'pandas.core.frame.DataFrame'>\n",
      "RangeIndex: 8523 entries, 0 to 8522\n",
      "Data columns (total 12 columns):\n",
      " #   Column                     Non-Null Count  Dtype  \n",
      "---  ------                     --------------  -----  \n",
      " 0   Item_Identifier            8523 non-null   int64  \n",
      " 1   Item_Weight                8523 non-null   float64\n",
      " 2   Item_Fat_Content           8523 non-null   int32  \n",
      " 3   Item_Visibility            8523 non-null   float64\n",
      " 4   Item_Type                  8523 non-null   int32  \n",
      " 5   Item_MRP                   8523 non-null   float64\n",
      " 6   Outlet_Identifier          8523 non-null   int64  \n",
      " 7   Outlet_Establishment_Year  8523 non-null   int64  \n",
      " 8   Outlet_Size                8523 non-null   int64  \n",
      " 9   Outlet_Location_Type       8523 non-null   int64  \n",
      " 10  Outlet_Type                8523 non-null   int64  \n",
      " 11  Item_Outlet_Sales          8523 non-null   float64\n",
      "dtypes: float64(4), int32(2), int64(6)\n",
      "memory usage: 732.6 KB\n"
     ]
    }
   ],
   "source": [
    "train.info()"
   ]
  },
  {
   "cell_type": "code",
   "execution_count": 48,
   "id": "2ee7ce68-bda9-431b-99d8-1b4175304b25",
   "metadata": {},
   "outputs": [],
   "source": [
    "#all are numerical now\n",
    "#Multi-Collinearity Check amongst Predictor Variables"
   ]
  },
  {
   "cell_type": "code",
   "execution_count": 49,
   "id": "e4353fd5-744d-47f2-86a0-c2cc9b75b160",
   "metadata": {},
   "outputs": [
    {
     "data": {
      "text/plain": [
       "<AxesSubplot:>"
      ]
     },
     "execution_count": 49,
     "metadata": {},
     "output_type": "execute_result"
    },
    {
     "data": {
      "image/png": "[encoded data removed]",
      "text/plain": [
       "<Figure size 720x360 with 2 Axes>"
      ]
     },
     "metadata": {
      "needs_background": "light"
     },
     "output_type": "display_data"
    }
   ],
   "source": [
    "plt.figure(figsize = (10,5))\n",
    "sns.heatmap(train.corr(), annot=True)"
   ]
  },
  {
   "cell_type": "code",
   "execution_count": 50,
   "id": "b647ebc4-93e9-40cd-be65-8def5537cfa6",
   "metadata": {},
   "outputs": [
    {
     "data": {
      "text/html": [
       "<div>\n",
       "<style scoped>\n",
       "    .dataframe tbody tr th:only-of-type {\n",
       "        vertical-align: middle;\n",
       "    }\n",
       "\n",
       "    .dataframe tbody tr th {\n",
       "        vertical-align: top;\n",
       "    }\n",
       "\n",
       "    .dataframe thead th {\n",
       "        text-align: right;\n",
       "    }\n",
       "</style>\n",
       "<table border=\"1\" class=\"dataframe\">\n",
       "  <thead>\n",
       "    <tr style=\"text-align: right;\">\n",
       "      <th></th>\n",
       "      <th>Item_Identifier</th>\n",
       "      <th>Item_Weight</th>\n",
       "      <th>Item_Fat_Content</th>\n",
       "      <th>Item_Visibility</th>\n",
       "      <th>Item_Type</th>\n",
       "      <th>Item_MRP</th>\n",
       "      <th>Outlet_Identifier</th>\n",
       "      <th>Outlet_Establishment_Year</th>\n",
       "      <th>Outlet_Location_Type</th>\n",
       "      <th>Item_Outlet_Sales</th>\n",
       "    </tr>\n",
       "  </thead>\n",
       "  <tbody>\n",
       "    <tr>\n",
       "      <th>0</th>\n",
       "      <td>8</td>\n",
       "      <td>9.30</td>\n",
       "      <td>0</td>\n",
       "      <td>0.016047</td>\n",
       "      <td>4</td>\n",
       "      <td>249.8092</td>\n",
       "      <td>930</td>\n",
       "      <td>1999</td>\n",
       "      <td>3</td>\n",
       "      <td>3735.1380</td>\n",
       "    </tr>\n",
       "    <tr>\n",
       "      <th>1</th>\n",
       "      <td>6</td>\n",
       "      <td>5.92</td>\n",
       "      <td>1</td>\n",
       "      <td>0.019278</td>\n",
       "      <td>14</td>\n",
       "      <td>48.2692</td>\n",
       "      <td>928</td>\n",
       "      <td>2009</td>\n",
       "      <td>1</td>\n",
       "      <td>443.4228</td>\n",
       "    </tr>\n",
       "    <tr>\n",
       "      <th>2</th>\n",
       "      <td>7</td>\n",
       "      <td>17.50</td>\n",
       "      <td>0</td>\n",
       "      <td>0.016760</td>\n",
       "      <td>10</td>\n",
       "      <td>141.6180</td>\n",
       "      <td>930</td>\n",
       "      <td>1999</td>\n",
       "      <td>3</td>\n",
       "      <td>2097.2700</td>\n",
       "    </tr>\n",
       "    <tr>\n",
       "      <th>3</th>\n",
       "      <td>6</td>\n",
       "      <td>19.20</td>\n",
       "      <td>1</td>\n",
       "      <td>0.000000</td>\n",
       "      <td>6</td>\n",
       "      <td>182.0950</td>\n",
       "      <td>555</td>\n",
       "      <td>1998</td>\n",
       "      <td>1</td>\n",
       "      <td>732.3800</td>\n",
       "    </tr>\n",
       "    <tr>\n",
       "      <th>4</th>\n",
       "      <td>6</td>\n",
       "      <td>8.93</td>\n",
       "      <td>0</td>\n",
       "      <td>0.000000</td>\n",
       "      <td>9</td>\n",
       "      <td>53.8614</td>\n",
       "      <td>932</td>\n",
       "      <td>1987</td>\n",
       "      <td>1</td>\n",
       "      <td>994.7052</td>\n",
       "    </tr>\n",
       "  </tbody>\n",
       "</table>\n",
       "</div>"
      ],
      "text/plain": [
       "   Item_Identifier  Item_Weight  Item_Fat_Content  Item_Visibility  Item_Type  \\\n",
       "0                8         9.30                 0         0.016047          4   \n",
       "1                6         5.92                 1         0.019278         14   \n",
       "2                7        17.50                 0         0.016760         10   \n",
       "3                6        19.20                 1         0.000000          6   \n",
       "4                6         8.93                 0         0.000000          9   \n",
       "\n",
       "   Item_MRP  Outlet_Identifier  Outlet_Establishment_Year  \\\n",
       "0  249.8092                930                       1999   \n",
       "1   48.2692                928                       2009   \n",
       "2  141.6180                930                       1999   \n",
       "3  182.0950                555                       1998   \n",
       "4   53.8614                932                       1987   \n",
       "\n",
       "   Outlet_Location_Type  Item_Outlet_Sales  \n",
       "0                     3          3735.1380  \n",
       "1                     1           443.4228  \n",
       "2                     3          2097.2700  \n",
       "3                     1           732.3800  \n",
       "4                     1           994.7052  "
      ]
     },
     "execution_count": 50,
     "metadata": {},
     "output_type": "execute_result"
    }
   ],
   "source": [
    "train_clean = train.drop(['Outlet_Size','Outlet_Type'], axis=1)\n",
    "train_clean.head()"
   ]
  },
  {
   "cell_type": "code",
   "execution_count": 51,
   "id": "1bd116ff-32e5-46b9-89be-14a505ea6909",
   "metadata": {},
   "outputs": [
    {
     "data": {
      "text/plain": [
       "<AxesSubplot:>"
      ]
     },
     "execution_count": 51,
     "metadata": {},
     "output_type": "execute_result"
    },
    {
     "data": {
      "image/png": "[encoded data removed]",
      "text/plain": [
       "<Figure size 720x360 with 2 Axes>"
      ]
     },
     "metadata": {
      "needs_background": "light"
     },
     "output_type": "display_data"
    }
   ],
   "source": [
    "plt.figure(figsize = (10,5))\n",
    "sns.heatmap(train_clean.corr(), annot=True)"
   ]
  },
  {
   "cell_type": "code",
   "execution_count": 52,
   "id": "37e1ff11-8e47-4d18-a98a-2068f3d3065f",
   "metadata": {},
   "outputs": [
    {
     "name": "stdout",
     "output_type": "stream",
     "text": [
      "(8523, 10)\n"
     ]
    }
   ],
   "source": [
    "print(train_clean.shape)"
   ]
  },
  {
   "cell_type": "code",
   "execution_count": 53,
   "id": "21f78bbc-6184-454f-b72a-4e7dd34254df",
   "metadata": {},
   "outputs": [],
   "source": [
    "#Splitting Train data into 80% training data and 20% validation data."
   ]
  },
  {
   "cell_type": "code",
   "execution_count": 54,
   "id": "78cf61eb-8f55-452c-a3e5-83b512a8c386",
   "metadata": {},
   "outputs": [],
   "source": [
    "from sklearn.model_selection import train_test_split\n",
    "\n",
    "X_train, X_test, y_train, y_test = train_test_split(train_clean[train_clean.columns[0:9]], train_clean[train_clean.columns[9]], test_size=0.2)"
   ]
  },
  {
   "cell_type": "code",
   "execution_count": 55,
   "id": "32976042-6832-4728-9721-93971f9038e0",
   "metadata": {},
   "outputs": [
    {
     "name": "stdout",
     "output_type": "stream",
     "text": [
      "(6818, 9)\n",
      "(6818,)\n",
      "(1705, 9)\n",
      "(1705,)\n"
     ]
    },
    {
     "data": {
      "text/plain": [
       "7991    2833.6448\n",
       "6316    3448.8440\n",
       "3609     209.7270\n",
       "4850    3585.3330\n",
       "4770     253.0040\n",
       "Name: Item_Outlet_Sales, dtype: float64"
      ]
     },
     "execution_count": 55,
     "metadata": {},
     "output_type": "execute_result"
    }
   ],
   "source": [
    "print(X_train.shape)\n",
    "print(y_train.shape)\n",
    "print(X_test.shape)\n",
    "print(y_test.shape)\n",
    "\n",
    "y_test.head()"
   ]
  },
  {
   "cell_type": "code",
   "execution_count": 56,
   "id": "53e16b3d-cb7b-4f17-be0f-55b1c5025e34",
   "metadata": {},
   "outputs": [],
   "source": [
    "#Building the Linear Regression Model"
   ]
  },
  {
   "cell_type": "code",
   "execution_count": 57,
   "id": "b5502001-8494-4f5a-89d2-f73ab1aeb27e",
   "metadata": {},
   "outputs": [],
   "source": [
    "from sklearn.linear_model import LinearRegression\n",
    "lm = LinearRegression() \n",
    "lm.fit(X_train, y_train) \n",
    "pred = lm.predict(X_test) "
   ]
  },
  {
   "cell_type": "code",
   "execution_count": 58,
   "id": "889e6ce0-29b9-417c-af28-d9db2a427783",
   "metadata": {},
   "outputs": [
    {
     "data": {
      "text/plain": [
       "0.5088633962778865"
      ]
     },
     "execution_count": 58,
     "metadata": {},
     "output_type": "execute_result"
    }
   ],
   "source": [
    "# R-squared value of the model\n",
    "from sklearn.metrics import r2_score\n",
    "r2_score(y_test, pred)"
   ]
  },
  {
   "cell_type": "code",
   "execution_count": 59,
   "id": "96eeeba0-f2fc-466c-a02b-2646bfca1723",
   "metadata": {},
   "outputs": [],
   "source": [
    "import statsmodels.regression.linear_model as sm"
   ]
  },
  {
   "cell_type": "code",
   "execution_count": 60,
   "id": "1acf66ba-aba5-476d-bed2-39026f662a4b",
   "metadata": {},
   "outputs": [
    {
     "data": {
      "text/html": [
       "<table class=\"simpletable\">\n",
       "<caption>OLS Regression Results</caption>\n",
       "<tr>\n",
       "  <th>Dep. Variable:</th>    <td>Item_Outlet_Sales</td> <th>  R-squared (uncentered):</th>      <td>   0.812</td> \n",
       "</tr>\n",
       "<tr>\n",
       "  <th>Model:</th>                   <td>OLS</td>        <th>  Adj. R-squared (uncentered):</th> <td>   0.811</td> \n",
       "</tr>\n",
       "<tr>\n",
       "  <th>Method:</th>             <td>Least Squares</td>   <th>  F-statistic:       </th>          <td>   3262.</td> \n",
       "</tr>\n",
       "<tr>\n",
       "  <th>Date:</th>             <td>Sat, 08 Apr 2023</td>  <th>  Prob (F-statistic):</th>           <td>  0.00</td>  \n",
       "</tr>\n",
       "<tr>\n",
       "  <th>Time:</th>                 <td>15:31:08</td>      <th>  Log-Likelihood:    </th>          <td> -58022.</td> \n",
       "</tr>\n",
       "<tr>\n",
       "  <th>No. Observations:</th>      <td>  6818</td>       <th>  AIC:               </th>          <td>1.161e+05</td>\n",
       "</tr>\n",
       "<tr>\n",
       "  <th>Df Residuals:</th>          <td>  6809</td>       <th>  BIC:               </th>          <td>1.161e+05</td>\n",
       "</tr>\n",
       "<tr>\n",
       "  <th>Df Model:</th>              <td>     9</td>       <th>                     </th>              <td> </td>    \n",
       "</tr>\n",
       "<tr>\n",
       "  <th>Covariance Type:</th>      <td>nonrobust</td>     <th>                     </th>              <td> </td>    \n",
       "</tr>\n",
       "</table>\n",
       "<table class=\"simpletable\">\n",
       "<tr>\n",
       "              <td></td>                 <th>coef</th>     <th>std err</th>      <th>t</th>      <th>P>|t|</th>  <th>[0.025</th>    <th>0.975]</th>  \n",
       "</tr>\n",
       "<tr>\n",
       "  <th>Item_Identifier</th>           <td>    3.9425</td> <td>   10.162</td> <td>    0.388</td> <td> 0.698</td> <td>  -15.978</td> <td>   23.863</td>\n",
       "</tr>\n",
       "<tr>\n",
       "  <th>Item_Weight</th>               <td>    1.9358</td> <td>    3.140</td> <td>    0.616</td> <td> 0.538</td> <td>   -4.220</td> <td>    8.091</td>\n",
       "</tr>\n",
       "<tr>\n",
       "  <th>Item_Fat_Content</th>          <td>   34.1821</td> <td>   30.876</td> <td>    1.107</td> <td> 0.268</td> <td>  -26.345</td> <td>   94.709</td>\n",
       "</tr>\n",
       "<tr>\n",
       "  <th>Item_Visibility</th>           <td> -294.7904</td> <td>  297.441</td> <td>   -0.991</td> <td> 0.322</td> <td> -877.868</td> <td>  288.287</td>\n",
       "</tr>\n",
       "<tr>\n",
       "  <th>Item_Type</th>                 <td>   -1.0864</td> <td>    3.516</td> <td>   -0.309</td> <td> 0.757</td> <td>   -7.980</td> <td>    5.807</td>\n",
       "</tr>\n",
       "<tr>\n",
       "  <th>Item_MRP</th>                  <td>   15.6382</td> <td>    0.234</td> <td>   66.722</td> <td> 0.000</td> <td>   15.179</td> <td>   16.098</td>\n",
       "</tr>\n",
       "<tr>\n",
       "  <th>Outlet_Identifier</th>         <td>    5.4516</td> <td>    0.119</td> <td>   46.004</td> <td> 0.000</td> <td>    5.219</td> <td>    5.684</td>\n",
       "</tr>\n",
       "<tr>\n",
       "  <th>Outlet_Establishment_Year</th> <td>   -2.3199</td> <td>    0.074</td> <td>  -31.499</td> <td> 0.000</td> <td>   -2.464</td> <td>   -2.176</td>\n",
       "</tr>\n",
       "<tr>\n",
       "  <th>Outlet_Location_Type</th>      <td> -118.4705</td> <td>   17.919</td> <td>   -6.611</td> <td> 0.000</td> <td> -153.597</td> <td>  -83.344</td>\n",
       "</tr>\n",
       "</table>\n",
       "<table class=\"simpletable\">\n",
       "<tr>\n",
       "  <th>Omnibus:</th>       <td>1080.711</td> <th>  Durbin-Watson:     </th> <td>   2.008</td>\n",
       "</tr>\n",
       "<tr>\n",
       "  <th>Prob(Omnibus):</th>  <td> 0.000</td>  <th>  Jarque-Bera (JB):  </th> <td>2897.861</td>\n",
       "</tr>\n",
       "<tr>\n",
       "  <th>Skew:</th>           <td> 0.864</td>  <th>  Prob(JB):          </th> <td>    0.00</td>\n",
       "</tr>\n",
       "<tr>\n",
       "  <th>Kurtosis:</th>       <td> 5.686</td>  <th>  Cond. No.          </th> <td>4.47e+04</td>\n",
       "</tr>\n",
       "</table><br/><br/>Notes:<br/>[1] R² is computed without centering (uncentered) since the model does not contain a constant.<br/>[2] Standard Errors assume that the covariance matrix of the errors is correctly specified.<br/>[3] The condition number is large, 4.47e+04. This might indicate that there are<br/>strong multicollinearity or other numerical problems."
      ],
      "text/plain": [
       "<class 'statsmodels.iolib.summary.Summary'>\n",
       "\"\"\"\n",
       "                                 OLS Regression Results                                \n",
       "=======================================================================================\n",
       "Dep. Variable:      Item_Outlet_Sales   R-squared (uncentered):                   0.812\n",
       "Model:                            OLS   Adj. R-squared (uncentered):              0.811\n",
       "Method:                 Least Squares   F-statistic:                              3262.\n",
       "Date:                Sat, 08 Apr 2023   Prob (F-statistic):                        0.00\n",
       "Time:                        15:31:08   Log-Likelihood:                         -58022.\n",
       "No. Observations:                6818   AIC:                                  1.161e+05\n",
       "Df Residuals:                    6809   BIC:                                  1.161e+05\n",
       "Df Model:                           9                                                  \n",
       "Covariance Type:            nonrobust                                                  \n",
       "=============================================================================================\n",
       "                                coef    std err          t      P>|t|      [0.025      0.975]\n",
       "---------------------------------------------------------------------------------------------\n",
       "Item_Identifier               3.9425     10.162      0.388      0.698     -15.978      23.863\n",
       "Item_Weight                   1.9358      3.140      0.616      0.538      -4.220       8.091\n",
       "Item_Fat_Content             34.1821     30.876      1.107      0.268     -26.345      94.709\n",
       "Item_Visibility            -294.7904    297.441     -0.991      0.322    -877.868     288.287\n",
       "Item_Type                    -1.0864      3.516     -0.309      0.757      -7.980       5.807\n",
       "Item_MRP                     15.6382      0.234     66.722      0.000      15.179      16.098\n",
       "Outlet_Identifier             5.4516      0.119     46.004      0.000       5.219       5.684\n",
       "Outlet_Establishment_Year    -2.3199      0.074    -31.499      0.000      -2.464      -2.176\n",
       "Outlet_Location_Type       -118.4705     17.919     -6.611      0.000    -153.597     -83.344\n",
       "==============================================================================\n",
       "Omnibus:                     1080.711   Durbin-Watson:                   2.008\n",
       "Prob(Omnibus):                  0.000   Jarque-Bera (JB):             2897.861\n",
       "Skew:                           0.864   Prob(JB):                         0.00\n",
       "Kurtosis:                       5.686   Cond. No.                     4.47e+04\n",
       "==============================================================================\n",
       "\n",
       "Notes:\n",
       "[1] R² is computed without centering (uncentered) since the model does not contain a constant.\n",
       "[2] Standard Errors assume that the covariance matrix of the errors is correctly specified.\n",
       "[3] The condition number is large, 4.47e+04. This might indicate that there are\n",
       "strong multicollinearity or other numerical problems.\n",
       "\"\"\""
      ]
     },
     "execution_count": 60,
     "metadata": {},
     "output_type": "execute_result"
    }
   ],
   "source": [
    "X_opt = X_train\n",
    "ols = sm.OLS(endog = y_train, exog = X_opt).fit()\n",
    "ols.summary()"
   ]
  },
  {
   "cell_type": "code",
   "execution_count": 61,
   "id": "a7803a51-309c-459c-bd3d-c3200c0184d0",
   "metadata": {},
   "outputs": [
    {
     "data": {
      "text/html": [
       "<table class=\"simpletable\">\n",
       "<caption>OLS Regression Results</caption>\n",
       "<tr>\n",
       "  <th>Dep. Variable:</th>    <td>Item_Outlet_Sales</td> <th>  R-squared (uncentered):</th>      <td>   0.812</td> \n",
       "</tr>\n",
       "<tr>\n",
       "  <th>Model:</th>                   <td>OLS</td>        <th>  Adj. R-squared (uncentered):</th> <td>   0.812</td> \n",
       "</tr>\n",
       "<tr>\n",
       "  <th>Method:</th>             <td>Least Squares</td>   <th>  F-statistic:       </th>          <td>   3670.</td> \n",
       "</tr>\n",
       "<tr>\n",
       "  <th>Date:</th>             <td>Sat, 08 Apr 2023</td>  <th>  Prob (F-statistic):</th>           <td>  0.00</td>  \n",
       "</tr>\n",
       "<tr>\n",
       "  <th>Time:</th>                 <td>15:31:20</td>      <th>  Log-Likelihood:    </th>          <td> -58022.</td> \n",
       "</tr>\n",
       "<tr>\n",
       "  <th>No. Observations:</th>      <td>  6818</td>       <th>  AIC:               </th>          <td>1.161e+05</td>\n",
       "</tr>\n",
       "<tr>\n",
       "  <th>Df Residuals:</th>          <td>  6810</td>       <th>  BIC:               </th>          <td>1.161e+05</td>\n",
       "</tr>\n",
       "<tr>\n",
       "  <th>Df Model:</th>              <td>     8</td>       <th>                     </th>              <td> </td>    \n",
       "</tr>\n",
       "<tr>\n",
       "  <th>Covariance Type:</th>      <td>nonrobust</td>     <th>                     </th>              <td> </td>    \n",
       "</tr>\n",
       "</table>\n",
       "<table class=\"simpletable\">\n",
       "<tr>\n",
       "              <td></td>                 <th>coef</th>     <th>std err</th>      <th>t</th>      <th>P>|t|</th>  <th>[0.025</th>    <th>0.975]</th>  \n",
       "</tr>\n",
       "<tr>\n",
       "  <th>Item_Identifier</th>           <td>    3.9631</td> <td>   10.161</td> <td>    0.390</td> <td> 0.697</td> <td>  -15.956</td> <td>   23.882</td>\n",
       "</tr>\n",
       "<tr>\n",
       "  <th>Item_Weight</th>               <td>    1.9090</td> <td>    3.139</td> <td>    0.608</td> <td> 0.543</td> <td>   -4.244</td> <td>    8.062</td>\n",
       "</tr>\n",
       "<tr>\n",
       "  <th>Item_Fat_Content</th>          <td>   35.5022</td> <td>   30.577</td> <td>    1.161</td> <td> 0.246</td> <td>  -24.439</td> <td>   95.443</td>\n",
       "</tr>\n",
       "<tr>\n",
       "  <th>Item_Visibility</th>           <td> -292.7882</td> <td>  297.351</td> <td>   -0.985</td> <td> 0.325</td> <td> -875.689</td> <td>  290.112</td>\n",
       "</tr>\n",
       "<tr>\n",
       "  <th>Item_MRP</th>                  <td>   15.6360</td> <td>    0.234</td> <td>   66.747</td> <td> 0.000</td> <td>   15.177</td> <td>   16.095</td>\n",
       "</tr>\n",
       "<tr>\n",
       "  <th>Outlet_Identifier</th>         <td>    5.4516</td> <td>    0.118</td> <td>   46.007</td> <td> 0.000</td> <td>    5.219</td> <td>    5.684</td>\n",
       "</tr>\n",
       "<tr>\n",
       "  <th>Outlet_Establishment_Year</th> <td>   -2.3240</td> <td>    0.072</td> <td>  -32.059</td> <td> 0.000</td> <td>   -2.466</td> <td>   -2.182</td>\n",
       "</tr>\n",
       "<tr>\n",
       "  <th>Outlet_Location_Type</th>      <td> -118.4279</td> <td>   17.917</td> <td>   -6.610</td> <td> 0.000</td> <td> -153.551</td> <td>  -83.304</td>\n",
       "</tr>\n",
       "</table>\n",
       "<table class=\"simpletable\">\n",
       "<tr>\n",
       "  <th>Omnibus:</th>       <td>1080.671</td> <th>  Durbin-Watson:     </th> <td>   2.008</td>\n",
       "</tr>\n",
       "<tr>\n",
       "  <th>Prob(Omnibus):</th>  <td> 0.000</td>  <th>  Jarque-Bera (JB):  </th> <td>2897.313</td>\n",
       "</tr>\n",
       "<tr>\n",
       "  <th>Skew:</th>           <td> 0.864</td>  <th>  Prob(JB):          </th> <td>    0.00</td>\n",
       "</tr>\n",
       "<tr>\n",
       "  <th>Kurtosis:</th>       <td> 5.686</td>  <th>  Cond. No.          </th> <td>4.47e+04</td>\n",
       "</tr>\n",
       "</table><br/><br/>Notes:<br/>[1] R² is computed without centering (uncentered) since the model does not contain a constant.<br/>[2] Standard Errors assume that the covariance matrix of the errors is correctly specified.<br/>[3] The condition number is large, 4.47e+04. This might indicate that there are<br/>strong multicollinearity or other numerical problems."
      ],
      "text/plain": [
       "<class 'statsmodels.iolib.summary.Summary'>\n",
       "\"\"\"\n",
       "                                 OLS Regression Results                                \n",
       "=======================================================================================\n",
       "Dep. Variable:      Item_Outlet_Sales   R-squared (uncentered):                   0.812\n",
       "Model:                            OLS   Adj. R-squared (uncentered):              0.812\n",
       "Method:                 Least Squares   F-statistic:                              3670.\n",
       "Date:                Sat, 08 Apr 2023   Prob (F-statistic):                        0.00\n",
       "Time:                        15:31:20   Log-Likelihood:                         -58022.\n",
       "No. Observations:                6818   AIC:                                  1.161e+05\n",
       "Df Residuals:                    6810   BIC:                                  1.161e+05\n",
       "Df Model:                           8                                                  \n",
       "Covariance Type:            nonrobust                                                  \n",
       "=============================================================================================\n",
       "                                coef    std err          t      P>|t|      [0.025      0.975]\n",
       "---------------------------------------------------------------------------------------------\n",
       "Item_Identifier               3.9631     10.161      0.390      0.697     -15.956      23.882\n",
       "Item_Weight                   1.9090      3.139      0.608      0.543      -4.244       8.062\n",
       "Item_Fat_Content             35.5022     30.577      1.161      0.246     -24.439      95.443\n",
       "Item_Visibility            -292.7882    297.351     -0.985      0.325    -875.689     290.112\n",
       "Item_MRP                     15.6360      0.234     66.747      0.000      15.177      16.095\n",
       "Outlet_Identifier             5.4516      0.118     46.007      0.000       5.219       5.684\n",
       "Outlet_Establishment_Year    -2.3240      0.072    -32.059      0.000      -2.466      -2.182\n",
       "Outlet_Location_Type       -118.4279     17.917     -6.610      0.000    -153.551     -83.304\n",
       "==============================================================================\n",
       "Omnibus:                     1080.671   Durbin-Watson:                   2.008\n",
       "Prob(Omnibus):                  0.000   Jarque-Bera (JB):             2897.313\n",
       "Skew:                           0.864   Prob(JB):                         0.00\n",
       "Kurtosis:                       5.686   Cond. No.                     4.47e+04\n",
       "==============================================================================\n",
       "\n",
       "Notes:\n",
       "[1] R² is computed without centering (uncentered) since the model does not contain a constant.\n",
       "[2] Standard Errors assume that the covariance matrix of the errors is correctly specified.\n",
       "[3] The condition number is large, 4.47e+04. This might indicate that there are\n",
       "strong multicollinearity or other numerical problems.\n",
       "\"\"\""
      ]
     },
     "execution_count": 61,
     "metadata": {},
     "output_type": "execute_result"
    }
   ],
   "source": [
    "# Removing Item_Type with highest p-value:\n",
    "X_opt = X_train.drop(['Item_Type'],axis=1)\n",
    "ols2 = sm.OLS(endog = y_train, exog = X_opt).fit()\n",
    "ols2.summary()"
   ]
  },
  {
   "cell_type": "code",
   "execution_count": 62,
   "id": "8e6e85b1-2b9e-4ea2-b832-01bc4a760c49",
   "metadata": {},
   "outputs": [
    {
     "data": {
      "text/html": [
       "<table class=\"simpletable\">\n",
       "<caption>OLS Regression Results</caption>\n",
       "<tr>\n",
       "  <th>Dep. Variable:</th>    <td>Item_Outlet_Sales</td> <th>  R-squared (uncentered):</th>      <td>   0.812</td> \n",
       "</tr>\n",
       "<tr>\n",
       "  <th>Model:</th>                   <td>OLS</td>        <th>  Adj. R-squared (uncentered):</th> <td>   0.812</td> \n",
       "</tr>\n",
       "<tr>\n",
       "  <th>Method:</th>             <td>Least Squares</td>   <th>  F-statistic:       </th>          <td>   4195.</td> \n",
       "</tr>\n",
       "<tr>\n",
       "  <th>Date:</th>             <td>Sat, 08 Apr 2023</td>  <th>  Prob (F-statistic):</th>           <td>  0.00</td>  \n",
       "</tr>\n",
       "<tr>\n",
       "  <th>Time:</th>                 <td>15:31:29</td>      <th>  Log-Likelihood:    </th>          <td> -58022.</td> \n",
       "</tr>\n",
       "<tr>\n",
       "  <th>No. Observations:</th>      <td>  6818</td>       <th>  AIC:               </th>          <td>1.161e+05</td>\n",
       "</tr>\n",
       "<tr>\n",
       "  <th>Df Residuals:</th>          <td>  6811</td>       <th>  BIC:               </th>          <td>1.161e+05</td>\n",
       "</tr>\n",
       "<tr>\n",
       "  <th>Df Model:</th>              <td>     7</td>       <th>                     </th>              <td> </td>    \n",
       "</tr>\n",
       "<tr>\n",
       "  <th>Covariance Type:</th>      <td>nonrobust</td>     <th>                     </th>              <td> </td>    \n",
       "</tr>\n",
       "</table>\n",
       "<table class=\"simpletable\">\n",
       "<tr>\n",
       "              <td></td>                 <th>coef</th>     <th>std err</th>      <th>t</th>      <th>P>|t|</th>  <th>[0.025</th>    <th>0.975]</th>  \n",
       "</tr>\n",
       "<tr>\n",
       "  <th>Item_Weight</th>               <td>    1.9637</td> <td>    3.135</td> <td>    0.626</td> <td> 0.531</td> <td>   -4.183</td> <td>    8.110</td>\n",
       "</tr>\n",
       "<tr>\n",
       "  <th>Item_Fat_Content</th>          <td>   35.4831</td> <td>   30.575</td> <td>    1.161</td> <td> 0.246</td> <td>  -24.454</td> <td>   95.420</td>\n",
       "</tr>\n",
       "<tr>\n",
       "  <th>Item_Visibility</th>           <td> -289.9436</td> <td>  297.243</td> <td>   -0.975</td> <td> 0.329</td> <td> -872.633</td> <td>  292.745</td>\n",
       "</tr>\n",
       "<tr>\n",
       "  <th>Item_MRP</th>                  <td>   15.6369</td> <td>    0.234</td> <td>   66.757</td> <td> 0.000</td> <td>   15.178</td> <td>   16.096</td>\n",
       "</tr>\n",
       "<tr>\n",
       "  <th>Outlet_Identifier</th>         <td>    5.4493</td> <td>    0.118</td> <td>   46.050</td> <td> 0.000</td> <td>    5.217</td> <td>    5.681</td>\n",
       "</tr>\n",
       "<tr>\n",
       "  <th>Outlet_Establishment_Year</th> <td>   -2.3116</td> <td>    0.065</td> <td>  -35.425</td> <td> 0.000</td> <td>   -2.440</td> <td>   -2.184</td>\n",
       "</tr>\n",
       "<tr>\n",
       "  <th>Outlet_Location_Type</th>      <td> -118.5329</td> <td>   17.914</td> <td>   -6.617</td> <td> 0.000</td> <td> -153.650</td> <td>  -83.415</td>\n",
       "</tr>\n",
       "</table>\n",
       "<table class=\"simpletable\">\n",
       "<tr>\n",
       "  <th>Omnibus:</th>       <td>1081.119</td> <th>  Durbin-Watson:     </th> <td>   2.008</td>\n",
       "</tr>\n",
       "<tr>\n",
       "  <th>Prob(Omnibus):</th>  <td> 0.000</td>  <th>  Jarque-Bera (JB):  </th> <td>2899.819</td>\n",
       "</tr>\n",
       "<tr>\n",
       "  <th>Skew:</th>           <td> 0.864</td>  <th>  Prob(JB):          </th> <td>    0.00</td>\n",
       "</tr>\n",
       "<tr>\n",
       "  <th>Kurtosis:</th>       <td> 5.687</td>  <th>  Cond. No.          </th> <td>4.47e+04</td>\n",
       "</tr>\n",
       "</table><br/><br/>Notes:<br/>[1] R² is computed without centering (uncentered) since the model does not contain a constant.<br/>[2] Standard Errors assume that the covariance matrix of the errors is correctly specified.<br/>[3] The condition number is large, 4.47e+04. This might indicate that there are<br/>strong multicollinearity or other numerical problems."
      ],
      "text/plain": [
       "<class 'statsmodels.iolib.summary.Summary'>\n",
       "\"\"\"\n",
       "                                 OLS Regression Results                                \n",
       "=======================================================================================\n",
       "Dep. Variable:      Item_Outlet_Sales   R-squared (uncentered):                   0.812\n",
       "Model:                            OLS   Adj. R-squared (uncentered):              0.812\n",
       "Method:                 Least Squares   F-statistic:                              4195.\n",
       "Date:                Sat, 08 Apr 2023   Prob (F-statistic):                        0.00\n",
       "Time:                        15:31:29   Log-Likelihood:                         -58022.\n",
       "No. Observations:                6818   AIC:                                  1.161e+05\n",
       "Df Residuals:                    6811   BIC:                                  1.161e+05\n",
       "Df Model:                           7                                                  \n",
       "Covariance Type:            nonrobust                                                  \n",
       "=============================================================================================\n",
       "                                coef    std err          t      P>|t|      [0.025      0.975]\n",
       "---------------------------------------------------------------------------------------------\n",
       "Item_Weight                   1.9637      3.135      0.626      0.531      -4.183       8.110\n",
       "Item_Fat_Content             35.4831     30.575      1.161      0.246     -24.454      95.420\n",
       "Item_Visibility            -289.9436    297.243     -0.975      0.329    -872.633     292.745\n",
       "Item_MRP                     15.6369      0.234     66.757      0.000      15.178      16.096\n",
       "Outlet_Identifier             5.4493      0.118     46.050      0.000       5.217       5.681\n",
       "Outlet_Establishment_Year    -2.3116      0.065    -35.425      0.000      -2.440      -2.184\n",
       "Outlet_Location_Type       -118.5329     17.914     -6.617      0.000    -153.650     -83.415\n",
       "==============================================================================\n",
       "Omnibus:                     1081.119   Durbin-Watson:                   2.008\n",
       "Prob(Omnibus):                  0.000   Jarque-Bera (JB):             2899.819\n",
       "Skew:                           0.864   Prob(JB):                         0.00\n",
       "Kurtosis:                       5.687   Cond. No.                     4.47e+04\n",
       "==============================================================================\n",
       "\n",
       "Notes:\n",
       "[1] R² is computed without centering (uncentered) since the model does not contain a constant.\n",
       "[2] Standard Errors assume that the covariance matrix of the errors is correctly specified.\n",
       "[3] The condition number is large, 4.47e+04. This might indicate that there are\n",
       "strong multicollinearity or other numerical problems.\n",
       "\"\"\""
      ]
     },
     "execution_count": 62,
     "metadata": {},
     "output_type": "execute_result"
    }
   ],
   "source": [
    "# Removing Item_Type & Item_Identifier with highest p-value:\n",
    "X_opt = X_train.drop(['Item_Type', 'Item_Identifier'],axis=1)\n",
    "ols3 = sm.OLS(endog = y_train, exog = X_opt).fit()\n",
    "ols3.summary()"
   ]
  },
  {
   "cell_type": "code",
   "execution_count": 63,
   "id": "0293279b-e62d-4970-876a-30766619b00d",
   "metadata": {},
   "outputs": [
    {
     "data": {
      "text/html": [
       "<table class=\"simpletable\">\n",
       "<caption>OLS Regression Results</caption>\n",
       "<tr>\n",
       "  <th>Dep. Variable:</th>    <td>Item_Outlet_Sales</td> <th>  R-squared (uncentered):</th>      <td>   0.812</td> \n",
       "</tr>\n",
       "<tr>\n",
       "  <th>Model:</th>                   <td>OLS</td>        <th>  Adj. R-squared (uncentered):</th> <td>   0.812</td> \n",
       "</tr>\n",
       "<tr>\n",
       "  <th>Method:</th>             <td>Least Squares</td>   <th>  F-statistic:       </th>          <td>   4895.</td> \n",
       "</tr>\n",
       "<tr>\n",
       "  <th>Date:</th>             <td>Sat, 08 Apr 2023</td>  <th>  Prob (F-statistic):</th>           <td>  0.00</td>  \n",
       "</tr>\n",
       "<tr>\n",
       "  <th>Time:</th>                 <td>15:31:40</td>      <th>  Log-Likelihood:    </th>          <td> -58022.</td> \n",
       "</tr>\n",
       "<tr>\n",
       "  <th>No. Observations:</th>      <td>  6818</td>       <th>  AIC:               </th>          <td>1.161e+05</td>\n",
       "</tr>\n",
       "<tr>\n",
       "  <th>Df Residuals:</th>          <td>  6812</td>       <th>  BIC:               </th>          <td>1.161e+05</td>\n",
       "</tr>\n",
       "<tr>\n",
       "  <th>Df Model:</th>              <td>     6</td>       <th>                     </th>              <td> </td>    \n",
       "</tr>\n",
       "<tr>\n",
       "  <th>Covariance Type:</th>      <td>nonrobust</td>     <th>                     </th>              <td> </td>    \n",
       "</tr>\n",
       "</table>\n",
       "<table class=\"simpletable\">\n",
       "<tr>\n",
       "              <td></td>                 <th>coef</th>     <th>std err</th>      <th>t</th>      <th>P>|t|</th>  <th>[0.025</th>    <th>0.975]</th>  \n",
       "</tr>\n",
       "<tr>\n",
       "  <th>Item_Fat_Content</th>          <td>   35.1750</td> <td>   30.570</td> <td>    1.151</td> <td> 0.250</td> <td>  -24.752</td> <td>   95.102</td>\n",
       "</tr>\n",
       "<tr>\n",
       "  <th>Item_Visibility</th>           <td> -291.9157</td> <td>  297.213</td> <td>   -0.982</td> <td> 0.326</td> <td> -874.546</td> <td>  290.715</td>\n",
       "</tr>\n",
       "<tr>\n",
       "  <th>Item_MRP</th>                  <td>   15.6404</td> <td>    0.234</td> <td>   66.795</td> <td> 0.000</td> <td>   15.181</td> <td>   16.099</td>\n",
       "</tr>\n",
       "<tr>\n",
       "  <th>Outlet_Identifier</th>         <td>    5.4487</td> <td>    0.118</td> <td>   46.048</td> <td> 0.000</td> <td>    5.217</td> <td>    5.681</td>\n",
       "</tr>\n",
       "<tr>\n",
       "  <th>Outlet_Establishment_Year</th> <td>   -2.2988</td> <td>    0.062</td> <td>  -37.110</td> <td> 0.000</td> <td>   -2.420</td> <td>   -2.177</td>\n",
       "</tr>\n",
       "<tr>\n",
       "  <th>Outlet_Location_Type</th>      <td> -118.6205</td> <td>   17.913</td> <td>   -6.622</td> <td> 0.000</td> <td> -153.735</td> <td>  -83.506</td>\n",
       "</tr>\n",
       "</table>\n",
       "<table class=\"simpletable\">\n",
       "<tr>\n",
       "  <th>Omnibus:</th>       <td>1082.541</td> <th>  Durbin-Watson:     </th> <td>   2.009</td>\n",
       "</tr>\n",
       "<tr>\n",
       "  <th>Prob(Omnibus):</th>  <td> 0.000</td>  <th>  Jarque-Bera (JB):  </th> <td>2908.877</td>\n",
       "</tr>\n",
       "<tr>\n",
       "  <th>Skew:</th>           <td> 0.864</td>  <th>  Prob(JB):          </th> <td>    0.00</td>\n",
       "</tr>\n",
       "<tr>\n",
       "  <th>Kurtosis:</th>       <td> 5.693</td>  <th>  Cond. No.          </th> <td>4.47e+04</td>\n",
       "</tr>\n",
       "</table><br/><br/>Notes:<br/>[1] R² is computed without centering (uncentered) since the model does not contain a constant.<br/>[2] Standard Errors assume that the covariance matrix of the errors is correctly specified.<br/>[3] The condition number is large, 4.47e+04. This might indicate that there are<br/>strong multicollinearity or other numerical problems."
      ],
      "text/plain": [
       "<class 'statsmodels.iolib.summary.Summary'>\n",
       "\"\"\"\n",
       "                                 OLS Regression Results                                \n",
       "=======================================================================================\n",
       "Dep. Variable:      Item_Outlet_Sales   R-squared (uncentered):                   0.812\n",
       "Model:                            OLS   Adj. R-squared (uncentered):              0.812\n",
       "Method:                 Least Squares   F-statistic:                              4895.\n",
       "Date:                Sat, 08 Apr 2023   Prob (F-statistic):                        0.00\n",
       "Time:                        15:31:40   Log-Likelihood:                         -58022.\n",
       "No. Observations:                6818   AIC:                                  1.161e+05\n",
       "Df Residuals:                    6812   BIC:                                  1.161e+05\n",
       "Df Model:                           6                                                  \n",
       "Covariance Type:            nonrobust                                                  \n",
       "=============================================================================================\n",
       "                                coef    std err          t      P>|t|      [0.025      0.975]\n",
       "---------------------------------------------------------------------------------------------\n",
       "Item_Fat_Content             35.1750     30.570      1.151      0.250     -24.752      95.102\n",
       "Item_Visibility            -291.9157    297.213     -0.982      0.326    -874.546     290.715\n",
       "Item_MRP                     15.6404      0.234     66.795      0.000      15.181      16.099\n",
       "Outlet_Identifier             5.4487      0.118     46.048      0.000       5.217       5.681\n",
       "Outlet_Establishment_Year    -2.2988      0.062    -37.110      0.000      -2.420      -2.177\n",
       "Outlet_Location_Type       -118.6205     17.913     -6.622      0.000    -153.735     -83.506\n",
       "==============================================================================\n",
       "Omnibus:                     1082.541   Durbin-Watson:                   2.009\n",
       "Prob(Omnibus):                  0.000   Jarque-Bera (JB):             2908.877\n",
       "Skew:                           0.864   Prob(JB):                         0.00\n",
       "Kurtosis:                       5.693   Cond. No.                     4.47e+04\n",
       "==============================================================================\n",
       "\n",
       "Notes:\n",
       "[1] R² is computed without centering (uncentered) since the model does not contain a constant.\n",
       "[2] Standard Errors assume that the covariance matrix of the errors is correctly specified.\n",
       "[3] The condition number is large, 4.47e+04. This might indicate that there are\n",
       "strong multicollinearity or other numerical problems.\n",
       "\"\"\""
      ]
     },
     "execution_count": 63,
     "metadata": {},
     "output_type": "execute_result"
    }
   ],
   "source": [
    "# Removing Item_Type, Item_Identifier, and Item_Weight with highest p-value:\n",
    "X_opt = X_train.drop(['Item_Type', 'Item_Identifier', 'Item_Weight'],axis=1)\n",
    "ols4 = sm.OLS(endog = y_train, exog = X_opt).fit()\n",
    "ols4.summary()"
   ]
  },
  {
   "cell_type": "code",
   "execution_count": 64,
   "id": "bf408283-bc4b-46f0-be27-3d07da443cb9",
   "metadata": {},
   "outputs": [
    {
     "data": {
      "text/html": [
       "<table class=\"simpletable\">\n",
       "<caption>OLS Regression Results</caption>\n",
       "<tr>\n",
       "  <th>Dep. Variable:</th>    <td>Item_Outlet_Sales</td> <th>  R-squared (uncentered):</th>      <td>   0.812</td> \n",
       "</tr>\n",
       "<tr>\n",
       "  <th>Model:</th>                   <td>OLS</td>        <th>  Adj. R-squared (uncentered):</th> <td>   0.812</td> \n",
       "</tr>\n",
       "<tr>\n",
       "  <th>Method:</th>             <td>Least Squares</td>   <th>  F-statistic:       </th>          <td>   5874.</td> \n",
       "</tr>\n",
       "<tr>\n",
       "  <th>Date:</th>             <td>Sat, 08 Apr 2023</td>  <th>  Prob (F-statistic):</th>           <td>  0.00</td>  \n",
       "</tr>\n",
       "<tr>\n",
       "  <th>Time:</th>                 <td>15:31:49</td>      <th>  Log-Likelihood:    </th>          <td> -58022.</td> \n",
       "</tr>\n",
       "<tr>\n",
       "  <th>No. Observations:</th>      <td>  6818</td>       <th>  AIC:               </th>          <td>1.161e+05</td>\n",
       "</tr>\n",
       "<tr>\n",
       "  <th>Df Residuals:</th>          <td>  6813</td>       <th>  BIC:               </th>          <td>1.161e+05</td>\n",
       "</tr>\n",
       "<tr>\n",
       "  <th>Df Model:</th>              <td>     5</td>       <th>                     </th>              <td> </td>    \n",
       "</tr>\n",
       "<tr>\n",
       "  <th>Covariance Type:</th>      <td>nonrobust</td>     <th>                     </th>              <td> </td>    \n",
       "</tr>\n",
       "</table>\n",
       "<table class=\"simpletable\">\n",
       "<tr>\n",
       "              <td></td>                 <th>coef</th>     <th>std err</th>      <th>t</th>      <th>P>|t|</th>  <th>[0.025</th>    <th>0.975]</th>  \n",
       "</tr>\n",
       "<tr>\n",
       "  <th>Item_Fat_Content</th>          <td>   33.3731</td> <td>   30.515</td> <td>    1.094</td> <td> 0.274</td> <td>  -26.445</td> <td>   93.191</td>\n",
       "</tr>\n",
       "<tr>\n",
       "  <th>Item_MRP</th>                  <td>   15.6396</td> <td>    0.234</td> <td>   66.792</td> <td> 0.000</td> <td>   15.181</td> <td>   16.099</td>\n",
       "</tr>\n",
       "<tr>\n",
       "  <th>Outlet_Identifier</th>         <td>    5.4816</td> <td>    0.113</td> <td>   48.304</td> <td> 0.000</td> <td>    5.259</td> <td>    5.704</td>\n",
       "</tr>\n",
       "<tr>\n",
       "  <th>Outlet_Establishment_Year</th> <td>   -2.3224</td> <td>    0.057</td> <td>  -40.660</td> <td> 0.000</td> <td>   -2.434</td> <td>   -2.210</td>\n",
       "</tr>\n",
       "<tr>\n",
       "  <th>Outlet_Location_Type</th>      <td> -118.8855</td> <td>   17.911</td> <td>   -6.638</td> <td> 0.000</td> <td> -153.996</td> <td>  -83.775</td>\n",
       "</tr>\n",
       "</table>\n",
       "<table class=\"simpletable\">\n",
       "<tr>\n",
       "  <th>Omnibus:</th>       <td>1083.832</td> <th>  Durbin-Watson:     </th> <td>   2.009</td>\n",
       "</tr>\n",
       "<tr>\n",
       "  <th>Prob(Omnibus):</th>  <td> 0.000</td>  <th>  Jarque-Bera (JB):  </th> <td>2915.372</td>\n",
       "</tr>\n",
       "<tr>\n",
       "  <th>Skew:</th>           <td> 0.865</td>  <th>  Prob(JB):          </th> <td>    0.00</td>\n",
       "</tr>\n",
       "<tr>\n",
       "  <th>Kurtosis:</th>       <td> 5.696</td>  <th>  Cond. No.          </th> <td>4.59e+03</td>\n",
       "</tr>\n",
       "</table><br/><br/>Notes:<br/>[1] R² is computed without centering (uncentered) since the model does not contain a constant.<br/>[2] Standard Errors assume that the covariance matrix of the errors is correctly specified.<br/>[3] The condition number is large, 4.59e+03. This might indicate that there are<br/>strong multicollinearity or other numerical problems."
      ],
      "text/plain": [
       "<class 'statsmodels.iolib.summary.Summary'>\n",
       "\"\"\"\n",
       "                                 OLS Regression Results                                \n",
       "=======================================================================================\n",
       "Dep. Variable:      Item_Outlet_Sales   R-squared (uncentered):                   0.812\n",
       "Model:                            OLS   Adj. R-squared (uncentered):              0.812\n",
       "Method:                 Least Squares   F-statistic:                              5874.\n",
       "Date:                Sat, 08 Apr 2023   Prob (F-statistic):                        0.00\n",
       "Time:                        15:31:49   Log-Likelihood:                         -58022.\n",
       "No. Observations:                6818   AIC:                                  1.161e+05\n",
       "Df Residuals:                    6813   BIC:                                  1.161e+05\n",
       "Df Model:                           5                                                  \n",
       "Covariance Type:            nonrobust                                                  \n",
       "=============================================================================================\n",
       "                                coef    std err          t      P>|t|      [0.025      0.975]\n",
       "---------------------------------------------------------------------------------------------\n",
       "Item_Fat_Content             33.3731     30.515      1.094      0.274     -26.445      93.191\n",
       "Item_MRP                     15.6396      0.234     66.792      0.000      15.181      16.099\n",
       "Outlet_Identifier             5.4816      0.113     48.304      0.000       5.259       5.704\n",
       "Outlet_Establishment_Year    -2.3224      0.057    -40.660      0.000      -2.434      -2.210\n",
       "Outlet_Location_Type       -118.8855     17.911     -6.638      0.000    -153.996     -83.775\n",
       "==============================================================================\n",
       "Omnibus:                     1083.832   Durbin-Watson:                   2.009\n",
       "Prob(Omnibus):                  0.000   Jarque-Bera (JB):             2915.372\n",
       "Skew:                           0.865   Prob(JB):                         0.00\n",
       "Kurtosis:                       5.696   Cond. No.                     4.59e+03\n",
       "==============================================================================\n",
       "\n",
       "Notes:\n",
       "[1] R² is computed without centering (uncentered) since the model does not contain a constant.\n",
       "[2] Standard Errors assume that the covariance matrix of the errors is correctly specified.\n",
       "[3] The condition number is large, 4.59e+03. This might indicate that there are\n",
       "strong multicollinearity or other numerical problems.\n",
       "\"\"\""
      ]
     },
     "execution_count": 64,
     "metadata": {},
     "output_type": "execute_result"
    }
   ],
   "source": [
    "# Removing Item_Type, Item_Identifier, Item_Weight, Item_Visibility with highest p-value:\n",
    "X_opt = X_train.drop(['Item_Type', 'Item_Identifier', 'Item_Weight', 'Item_Visibility'],axis=1)\n",
    "ols5 = sm.OLS(endog = y_train, exog = X_opt).fit()\n",
    "ols5.summary()"
   ]
  },
  {
   "cell_type": "code",
   "execution_count": 65,
   "id": "eef06526-b662-463f-8b79-35fb03821fa3",
   "metadata": {},
   "outputs": [
    {
     "data": {
      "text/html": [
       "<table class=\"simpletable\">\n",
       "<caption>OLS Regression Results</caption>\n",
       "<tr>\n",
       "  <th>Dep. Variable:</th>    <td>Item_Outlet_Sales</td> <th>  R-squared (uncentered):</th>      <td>   0.812</td> \n",
       "</tr>\n",
       "<tr>\n",
       "  <th>Model:</th>                   <td>OLS</td>        <th>  Adj. R-squared (uncentered):</th> <td>   0.812</td> \n",
       "</tr>\n",
       "<tr>\n",
       "  <th>Method:</th>             <td>Least Squares</td>   <th>  F-statistic:       </th>          <td>   7342.</td> \n",
       "</tr>\n",
       "<tr>\n",
       "  <th>Date:</th>             <td>Sat, 08 Apr 2023</td>  <th>  Prob (F-statistic):</th>           <td>  0.00</td>  \n",
       "</tr>\n",
       "<tr>\n",
       "  <th>Time:</th>                 <td>15:32:01</td>      <th>  Log-Likelihood:    </th>          <td> -58023.</td> \n",
       "</tr>\n",
       "<tr>\n",
       "  <th>No. Observations:</th>      <td>  6818</td>       <th>  AIC:               </th>          <td>1.161e+05</td>\n",
       "</tr>\n",
       "<tr>\n",
       "  <th>Df Residuals:</th>          <td>  6814</td>       <th>  BIC:               </th>          <td>1.161e+05</td>\n",
       "</tr>\n",
       "<tr>\n",
       "  <th>Df Model:</th>              <td>     4</td>       <th>                     </th>              <td> </td>    \n",
       "</tr>\n",
       "<tr>\n",
       "  <th>Covariance Type:</th>      <td>nonrobust</td>     <th>                     </th>              <td> </td>    \n",
       "</tr>\n",
       "</table>\n",
       "<table class=\"simpletable\">\n",
       "<tr>\n",
       "              <td></td>                 <th>coef</th>     <th>std err</th>      <th>t</th>      <th>P>|t|</th>  <th>[0.025</th>    <th>0.975]</th>  \n",
       "</tr>\n",
       "<tr>\n",
       "  <th>Item_MRP</th>                  <td>   15.6405</td> <td>    0.234</td> <td>   66.796</td> <td> 0.000</td> <td>   15.182</td> <td>   16.100</td>\n",
       "</tr>\n",
       "<tr>\n",
       "  <th>Outlet_Identifier</th>         <td>    5.4811</td> <td>    0.113</td> <td>   48.299</td> <td> 0.000</td> <td>    5.259</td> <td>    5.704</td>\n",
       "</tr>\n",
       "<tr>\n",
       "  <th>Outlet_Establishment_Year</th> <td>   -2.3163</td> <td>    0.057</td> <td>  -40.743</td> <td> 0.000</td> <td>   -2.428</td> <td>   -2.205</td>\n",
       "</tr>\n",
       "<tr>\n",
       "  <th>Outlet_Location_Type</th>      <td> -118.8648</td> <td>   17.911</td> <td>   -6.636</td> <td> 0.000</td> <td> -153.976</td> <td>  -83.754</td>\n",
       "</tr>\n",
       "</table>\n",
       "<table class=\"simpletable\">\n",
       "<tr>\n",
       "  <th>Omnibus:</th>       <td>1080.874</td> <th>  Durbin-Watson:     </th> <td>   2.008</td>\n",
       "</tr>\n",
       "<tr>\n",
       "  <th>Prob(Omnibus):</th>  <td> 0.000</td>  <th>  Jarque-Bera (JB):  </th> <td>2901.825</td>\n",
       "</tr>\n",
       "<tr>\n",
       "  <th>Skew:</th>           <td> 0.863</td>  <th>  Prob(JB):          </th> <td>    0.00</td>\n",
       "</tr>\n",
       "<tr>\n",
       "  <th>Kurtosis:</th>       <td> 5.689</td>  <th>  Cond. No.          </th> <td>2.69e+03</td>\n",
       "</tr>\n",
       "</table><br/><br/>Notes:<br/>[1] R² is computed without centering (uncentered) since the model does not contain a constant.<br/>[2] Standard Errors assume that the covariance matrix of the errors is correctly specified.<br/>[3] The condition number is large, 2.69e+03. This might indicate that there are<br/>strong multicollinearity or other numerical problems."
      ],
      "text/plain": [
       "<class 'statsmodels.iolib.summary.Summary'>\n",
       "\"\"\"\n",
       "                                 OLS Regression Results                                \n",
       "=======================================================================================\n",
       "Dep. Variable:      Item_Outlet_Sales   R-squared (uncentered):                   0.812\n",
       "Model:                            OLS   Adj. R-squared (uncentered):              0.812\n",
       "Method:                 Least Squares   F-statistic:                              7342.\n",
       "Date:                Sat, 08 Apr 2023   Prob (F-statistic):                        0.00\n",
       "Time:                        15:32:01   Log-Likelihood:                         -58023.\n",
       "No. Observations:                6818   AIC:                                  1.161e+05\n",
       "Df Residuals:                    6814   BIC:                                  1.161e+05\n",
       "Df Model:                           4                                                  \n",
       "Covariance Type:            nonrobust                                                  \n",
       "=============================================================================================\n",
       "                                coef    std err          t      P>|t|      [0.025      0.975]\n",
       "---------------------------------------------------------------------------------------------\n",
       "Item_MRP                     15.6405      0.234     66.796      0.000      15.182      16.100\n",
       "Outlet_Identifier             5.4811      0.113     48.299      0.000       5.259       5.704\n",
       "Outlet_Establishment_Year    -2.3163      0.057    -40.743      0.000      -2.428      -2.205\n",
       "Outlet_Location_Type       -118.8648     17.911     -6.636      0.000    -153.976     -83.754\n",
       "==============================================================================\n",
       "Omnibus:                     1080.874   Durbin-Watson:                   2.008\n",
       "Prob(Omnibus):                  0.000   Jarque-Bera (JB):             2901.825\n",
       "Skew:                           0.863   Prob(JB):                         0.00\n",
       "Kurtosis:                       5.689   Cond. No.                     2.69e+03\n",
       "==============================================================================\n",
       "\n",
       "Notes:\n",
       "[1] R² is computed without centering (uncentered) since the model does not contain a constant.\n",
       "[2] Standard Errors assume that the covariance matrix of the errors is correctly specified.\n",
       "[3] The condition number is large, 2.69e+03. This might indicate that there are\n",
       "strong multicollinearity or other numerical problems.\n",
       "\"\"\""
      ]
     },
     "execution_count": 65,
     "metadata": {},
     "output_type": "execute_result"
    }
   ],
   "source": [
    "# Removing Item_Type, Item_Identifier, Item_Weight, Item_Visibility, Item_Fat_Content with highest p-value:\n",
    "X_opt = X_train.drop(['Item_Type', 'Item_Identifier', 'Item_Weight', 'Item_Visibility', 'Item_Fat_Content'],axis=1)\n",
    "ols6 = sm.OLS(endog = y_train, exog = X_opt).fit()\n",
    "ols6.summary()"
   ]
  },
  {
   "cell_type": "code",
   "execution_count": 66,
   "id": "8acefc4b-d499-435e-b1a4-ba70ceb3f114",
   "metadata": {},
   "outputs": [],
   "source": [
    "X_opt = X_test.drop(['Item_Type', 'Item_Identifier', 'Item_Weight', 'Item_Visibility', 'Item_Fat_Content'],axis=1)\n",
    "y_pred = ols6.predict(X_opt)"
   ]
  },
  {
   "cell_type": "code",
   "execution_count": 68,
   "id": "7cbcab89-8d84-4eb5-9e73-6dbf5e114378",
   "metadata": {},
   "outputs": [],
   "source": [
    "#Calculating RMSE"
   ]
  },
  {
   "cell_type": "code",
   "execution_count": 67,
   "id": "924b4f57-af23-4426-ab45-220bf931cbd9",
   "metadata": {},
   "outputs": [
    {
     "data": {
      "text/plain": [
       "1227.593684765857"
      ]
     },
     "execution_count": 67,
     "metadata": {},
     "output_type": "execute_result"
    }
   ],
   "source": [
    "from sklearn.metrics import mean_squared_error\n",
    "from math import sqrt\n",
    "sqrt(mean_squared_error(y_test, y_pred))"
   ]
  },
  {
   "cell_type": "code",
   "execution_count": 69,
   "id": "2e11db14-bf46-4eef-ad09-b38abcecca81",
   "metadata": {},
   "outputs": [
    {
     "name": "stdout",
     "output_type": "stream",
     "text": [
      "2181.2889135750324\n"
     ]
    }
   ],
   "source": [
    "import statistics\n",
    "print(statistics.mean(train.Item_Outlet_Sales))"
   ]
  },
  {
   "cell_type": "code",
   "execution_count": 70,
   "id": "ca6267d6-3e6a-4631-93a5-b61e4059222b",
   "metadata": {},
   "outputs": [],
   "source": [
    "#The mean value of Item_Outlet_Sales was about 2181.29."
   ]
  },
  {
   "cell_type": "code",
   "execution_count": null,
   "id": "28e09372-ec9c-44b7-bc59-76cb7c6451b3",
   "metadata": {},
   "outputs": [],
   "source": []
  }
 ],
 "metadata": {
  "kernelspec": {
   "display_name": "Python 3 (ipykernel)",
   "language": "python",
   "name": "python3"
  },
  "language_info": {
   "codemirror_mode": {
    "name": "ipython",
    "version": 3
   },
   "file_extension": ".py",
   "mimetype": "text/x-python",
   "name": "python",
   "nbconvert_exporter": "python",
   "pygments_lexer": "ipython3",
   "version": "3.9.12"
  }
 },
 "nbformat": 4,
 "nbformat_minor": 5
}
